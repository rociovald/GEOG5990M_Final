{
  "cells": [
    {
      "cell_type": "markdown",
      "metadata": {
        "id": "view-in-github",
        "colab_type": "text"
      },
      "source": [
        "<a href=\"https://colab.research.google.com/github/rociovald/GEOG5990M_Final/blob/main/Accidents%20Antofagasta%2000.ipynb\" target=\"_parent\"><img src=\"https://colab.research.google.com/assets/colab-badge.svg\" alt=\"Open In Colab\"/></a>"
      ]
    },
    {
      "cell_type": "markdown",
      "source": [
        "# GEOG5990M Final Assignment\n",
        "\n",
        "Student ID number: 201773481"
      ],
      "metadata": {
        "id": "d-QKK8r0ffg7"
      },
      "id": "d-QKK8r0ffg7"
    },
    {
      "cell_type": "markdown",
      "source": [
        "## **Import required packages and libraries**"
      ],
      "metadata": {
        "id": "CZ9pWuGexnIG"
      },
      "id": "CZ9pWuGexnIG"
    },
    {
      "cell_type": "code",
      "source": [
        "##  The following packages are installed  #ESTO LO SAQUÉ EL ASSIGNMNET 1\n",
        "!pip install contextily  # This installs the contextily library.  It is helpful for displaying geographic data on maps.\n",
        "!pip install geoplot     # This installs the geoplot library. It is useful for working with geospatial data, in maps and data visualisation.\n",
        "!pip install git+https://github.com/pmdscully/geo_northarrow.git   # This installs the geo_northarrow library which connects to a GitHub repository containing north arrows.\n",
        "!pip install folium\n",
        "!pip install h3\n",
        "!pip install geoplot\n"
      ],
      "metadata": {
        "colab": {
          "base_uri": "https://localhost:8080/"
        },
        "id": "XqGHNAENR3Gn",
        "outputId": "29f4870c-c8e9-44d5-aeaf-bd38b5c25052"
      },
      "id": "XqGHNAENR3Gn",
      "execution_count": 306,
      "outputs": [
        {
          "output_type": "stream",
          "name": "stdout",
          "text": [
            "Requirement already satisfied: contextily in /usr/local/lib/python3.11/dist-packages (1.6.2)\n",
            "Requirement already satisfied: geopy in /usr/local/lib/python3.11/dist-packages (from contextily) (2.4.1)\n",
            "Requirement already satisfied: matplotlib in /usr/local/lib/python3.11/dist-packages (from contextily) (3.10.0)\n",
            "Requirement already satisfied: mercantile in /usr/local/lib/python3.11/dist-packages (from contextily) (1.2.1)\n",
            "Requirement already satisfied: pillow in /usr/local/lib/python3.11/dist-packages (from contextily) (11.2.1)\n",
            "Requirement already satisfied: rasterio in /usr/local/lib/python3.11/dist-packages (from contextily) (1.4.3)\n",
            "Requirement already satisfied: requests in /usr/local/lib/python3.11/dist-packages (from contextily) (2.32.3)\n",
            "Requirement already satisfied: joblib in /usr/local/lib/python3.11/dist-packages (from contextily) (1.5.0)\n",
            "Requirement already satisfied: xyzservices in /usr/local/lib/python3.11/dist-packages (from contextily) (2025.4.0)\n",
            "Requirement already satisfied: geographiclib<3,>=1.52 in /usr/local/lib/python3.11/dist-packages (from geopy->contextily) (2.0)\n",
            "Requirement already satisfied: contourpy>=1.0.1 in /usr/local/lib/python3.11/dist-packages (from matplotlib->contextily) (1.3.2)\n",
            "Requirement already satisfied: cycler>=0.10 in /usr/local/lib/python3.11/dist-packages (from matplotlib->contextily) (0.12.1)\n",
            "Requirement already satisfied: fonttools>=4.22.0 in /usr/local/lib/python3.11/dist-packages (from matplotlib->contextily) (4.58.0)\n",
            "Requirement already satisfied: kiwisolver>=1.3.1 in /usr/local/lib/python3.11/dist-packages (from matplotlib->contextily) (1.4.8)\n",
            "Requirement already satisfied: numpy>=1.23 in /usr/local/lib/python3.11/dist-packages (from matplotlib->contextily) (2.0.2)\n",
            "Requirement already satisfied: packaging>=20.0 in /usr/local/lib/python3.11/dist-packages (from matplotlib->contextily) (24.2)\n",
            "Requirement already satisfied: pyparsing>=2.3.1 in /usr/local/lib/python3.11/dist-packages (from matplotlib->contextily) (3.2.3)\n",
            "Requirement already satisfied: python-dateutil>=2.7 in /usr/local/lib/python3.11/dist-packages (from matplotlib->contextily) (2.9.0.post0)\n",
            "Requirement already satisfied: click>=3.0 in /usr/local/lib/python3.11/dist-packages (from mercantile->contextily) (8.2.0)\n",
            "Requirement already satisfied: affine in /usr/local/lib/python3.11/dist-packages (from rasterio->contextily) (2.4.0)\n",
            "Requirement already satisfied: attrs in /usr/local/lib/python3.11/dist-packages (from rasterio->contextily) (25.3.0)\n",
            "Requirement already satisfied: certifi in /usr/local/lib/python3.11/dist-packages (from rasterio->contextily) (2025.4.26)\n",
            "Requirement already satisfied: cligj>=0.5 in /usr/local/lib/python3.11/dist-packages (from rasterio->contextily) (0.7.2)\n",
            "Requirement already satisfied: click-plugins in /usr/local/lib/python3.11/dist-packages (from rasterio->contextily) (1.1.1)\n",
            "Requirement already satisfied: charset-normalizer<4,>=2 in /usr/local/lib/python3.11/dist-packages (from requests->contextily) (3.4.2)\n",
            "Requirement already satisfied: idna<4,>=2.5 in /usr/local/lib/python3.11/dist-packages (from requests->contextily) (3.10)\n",
            "Requirement already satisfied: urllib3<3,>=1.21.1 in /usr/local/lib/python3.11/dist-packages (from requests->contextily) (2.4.0)\n",
            "Requirement already satisfied: six>=1.5 in /usr/local/lib/python3.11/dist-packages (from python-dateutil>=2.7->matplotlib->contextily) (1.17.0)\n",
            "Requirement already satisfied: geoplot in /usr/local/lib/python3.11/dist-packages (0.5.1)\n",
            "Requirement already satisfied: matplotlib>=3.1.2 in /usr/local/lib/python3.11/dist-packages (from geoplot) (3.10.0)\n",
            "Requirement already satisfied: seaborn in /usr/local/lib/python3.11/dist-packages (from geoplot) (0.13.2)\n",
            "Requirement already satisfied: pandas in /usr/local/lib/python3.11/dist-packages (from geoplot) (2.2.2)\n",
            "Requirement already satisfied: geopandas>=0.9.0 in /usr/local/lib/python3.11/dist-packages (from geoplot) (1.0.1)\n",
            "Requirement already satisfied: cartopy in /usr/local/lib/python3.11/dist-packages (from geoplot) (0.24.1)\n",
            "Requirement already satisfied: mapclassify>=2.1 in /usr/local/lib/python3.11/dist-packages (from geoplot) (2.8.1)\n",
            "Requirement already satisfied: contextily>=1.0.0 in /usr/local/lib/python3.11/dist-packages (from geoplot) (1.6.2)\n",
            "Requirement already satisfied: geopy in /usr/local/lib/python3.11/dist-packages (from contextily>=1.0.0->geoplot) (2.4.1)\n",
            "Requirement already satisfied: mercantile in /usr/local/lib/python3.11/dist-packages (from contextily>=1.0.0->geoplot) (1.2.1)\n",
            "Requirement already satisfied: pillow in /usr/local/lib/python3.11/dist-packages (from contextily>=1.0.0->geoplot) (11.2.1)\n",
            "Requirement already satisfied: rasterio in /usr/local/lib/python3.11/dist-packages (from contextily>=1.0.0->geoplot) (1.4.3)\n",
            "Requirement already satisfied: requests in /usr/local/lib/python3.11/dist-packages (from contextily>=1.0.0->geoplot) (2.32.3)\n",
            "Requirement already satisfied: joblib in /usr/local/lib/python3.11/dist-packages (from contextily>=1.0.0->geoplot) (1.5.0)\n",
            "Requirement already satisfied: xyzservices in /usr/local/lib/python3.11/dist-packages (from contextily>=1.0.0->geoplot) (2025.4.0)\n",
            "Requirement already satisfied: numpy>=1.22 in /usr/local/lib/python3.11/dist-packages (from geopandas>=0.9.0->geoplot) (2.0.2)\n",
            "Requirement already satisfied: pyogrio>=0.7.2 in /usr/local/lib/python3.11/dist-packages (from geopandas>=0.9.0->geoplot) (0.11.0)\n",
            "Requirement already satisfied: packaging in /usr/local/lib/python3.11/dist-packages (from geopandas>=0.9.0->geoplot) (24.2)\n",
            "Requirement already satisfied: pyproj>=3.3.0 in /usr/local/lib/python3.11/dist-packages (from geopandas>=0.9.0->geoplot) (3.7.1)\n",
            "Requirement already satisfied: shapely>=2.0.0 in /usr/local/lib/python3.11/dist-packages (from geopandas>=0.9.0->geoplot) (2.1.0)\n",
            "Requirement already satisfied: networkx>=2.7 in /usr/local/lib/python3.11/dist-packages (from mapclassify>=2.1->geoplot) (3.4.2)\n",
            "Requirement already satisfied: scikit-learn>=1.0 in /usr/local/lib/python3.11/dist-packages (from mapclassify>=2.1->geoplot) (1.6.1)\n",
            "Requirement already satisfied: scipy>=1.8 in /usr/local/lib/python3.11/dist-packages (from mapclassify>=2.1->geoplot) (1.15.3)\n",
            "Requirement already satisfied: contourpy>=1.0.1 in /usr/local/lib/python3.11/dist-packages (from matplotlib>=3.1.2->geoplot) (1.3.2)\n",
            "Requirement already satisfied: cycler>=0.10 in /usr/local/lib/python3.11/dist-packages (from matplotlib>=3.1.2->geoplot) (0.12.1)\n",
            "Requirement already satisfied: fonttools>=4.22.0 in /usr/local/lib/python3.11/dist-packages (from matplotlib>=3.1.2->geoplot) (4.58.0)\n",
            "Requirement already satisfied: kiwisolver>=1.3.1 in /usr/local/lib/python3.11/dist-packages (from matplotlib>=3.1.2->geoplot) (1.4.8)\n",
            "Requirement already satisfied: pyparsing>=2.3.1 in /usr/local/lib/python3.11/dist-packages (from matplotlib>=3.1.2->geoplot) (3.2.3)\n",
            "Requirement already satisfied: python-dateutil>=2.7 in /usr/local/lib/python3.11/dist-packages (from matplotlib>=3.1.2->geoplot) (2.9.0.post0)\n",
            "Requirement already satisfied: pytz>=2020.1 in /usr/local/lib/python3.11/dist-packages (from pandas->geoplot) (2025.2)\n",
            "Requirement already satisfied: tzdata>=2022.7 in /usr/local/lib/python3.11/dist-packages (from pandas->geoplot) (2025.2)\n",
            "Requirement already satisfied: pyshp>=2.3 in /usr/local/lib/python3.11/dist-packages (from cartopy->geoplot) (2.3.1)\n",
            "Requirement already satisfied: certifi in /usr/local/lib/python3.11/dist-packages (from pyogrio>=0.7.2->geopandas>=0.9.0->geoplot) (2025.4.26)\n",
            "Requirement already satisfied: six>=1.5 in /usr/local/lib/python3.11/dist-packages (from python-dateutil>=2.7->matplotlib>=3.1.2->geoplot) (1.17.0)\n",
            "Requirement already satisfied: threadpoolctl>=3.1.0 in /usr/local/lib/python3.11/dist-packages (from scikit-learn>=1.0->mapclassify>=2.1->geoplot) (3.6.0)\n",
            "Requirement already satisfied: geographiclib<3,>=1.52 in /usr/local/lib/python3.11/dist-packages (from geopy->contextily>=1.0.0->geoplot) (2.0)\n",
            "Requirement already satisfied: click>=3.0 in /usr/local/lib/python3.11/dist-packages (from mercantile->contextily>=1.0.0->geoplot) (8.2.0)\n",
            "Requirement already satisfied: affine in /usr/local/lib/python3.11/dist-packages (from rasterio->contextily>=1.0.0->geoplot) (2.4.0)\n",
            "Requirement already satisfied: attrs in /usr/local/lib/python3.11/dist-packages (from rasterio->contextily>=1.0.0->geoplot) (25.3.0)\n",
            "Requirement already satisfied: cligj>=0.5 in /usr/local/lib/python3.11/dist-packages (from rasterio->contextily>=1.0.0->geoplot) (0.7.2)\n",
            "Requirement already satisfied: click-plugins in /usr/local/lib/python3.11/dist-packages (from rasterio->contextily>=1.0.0->geoplot) (1.1.1)\n",
            "Requirement already satisfied: charset-normalizer<4,>=2 in /usr/local/lib/python3.11/dist-packages (from requests->contextily>=1.0.0->geoplot) (3.4.2)\n",
            "Requirement already satisfied: idna<4,>=2.5 in /usr/local/lib/python3.11/dist-packages (from requests->contextily>=1.0.0->geoplot) (3.10)\n",
            "Requirement already satisfied: urllib3<3,>=1.21.1 in /usr/local/lib/python3.11/dist-packages (from requests->contextily>=1.0.0->geoplot) (2.4.0)\n",
            "Collecting git+https://github.com/pmdscully/geo_northarrow.git\n",
            "  Cloning https://github.com/pmdscully/geo_northarrow.git to /tmp/pip-req-build-7guikaej\n",
            "  Running command git clone --filter=blob:none --quiet https://github.com/pmdscully/geo_northarrow.git /tmp/pip-req-build-7guikaej\n",
            "  Resolved https://github.com/pmdscully/geo_northarrow.git to commit 963bdd271707a3bcaa47b2d83d92b88ae0b10950\n",
            "  Installing build dependencies ... \u001b[?25l\u001b[?25hdone\n",
            "  Getting requirements to build wheel ... \u001b[?25l\u001b[?25hdone\n",
            "  Preparing metadata (pyproject.toml) ... \u001b[?25l\u001b[?25hdone\n",
            "Requirement already satisfied: shapely in /usr/local/lib/python3.11/dist-packages (from geo_northarrow==0.2.0a0) (2.1.0)\n",
            "Requirement already satisfied: pandas in /usr/local/lib/python3.11/dist-packages (from geo_northarrow==0.2.0a0) (2.2.2)\n",
            "Requirement already satisfied: numpy in /usr/local/lib/python3.11/dist-packages (from geo_northarrow==0.2.0a0) (2.0.2)\n",
            "Requirement already satisfied: matplotlib in /usr/local/lib/python3.11/dist-packages (from geo_northarrow==0.2.0a0) (3.10.0)\n",
            "Requirement already satisfied: geopandas in /usr/local/lib/python3.11/dist-packages (from geo_northarrow==0.2.0a0) (1.0.1)\n",
            "Requirement already satisfied: pyogrio>=0.7.2 in /usr/local/lib/python3.11/dist-packages (from geopandas->geo_northarrow==0.2.0a0) (0.11.0)\n",
            "Requirement already satisfied: packaging in /usr/local/lib/python3.11/dist-packages (from geopandas->geo_northarrow==0.2.0a0) (24.2)\n",
            "Requirement already satisfied: pyproj>=3.3.0 in /usr/local/lib/python3.11/dist-packages (from geopandas->geo_northarrow==0.2.0a0) (3.7.1)\n",
            "Requirement already satisfied: python-dateutil>=2.8.2 in /usr/local/lib/python3.11/dist-packages (from pandas->geo_northarrow==0.2.0a0) (2.9.0.post0)\n",
            "Requirement already satisfied: pytz>=2020.1 in /usr/local/lib/python3.11/dist-packages (from pandas->geo_northarrow==0.2.0a0) (2025.2)\n",
            "Requirement already satisfied: tzdata>=2022.7 in /usr/local/lib/python3.11/dist-packages (from pandas->geo_northarrow==0.2.0a0) (2025.2)\n",
            "Requirement already satisfied: contourpy>=1.0.1 in /usr/local/lib/python3.11/dist-packages (from matplotlib->geo_northarrow==0.2.0a0) (1.3.2)\n",
            "Requirement already satisfied: cycler>=0.10 in /usr/local/lib/python3.11/dist-packages (from matplotlib->geo_northarrow==0.2.0a0) (0.12.1)\n",
            "Requirement already satisfied: fonttools>=4.22.0 in /usr/local/lib/python3.11/dist-packages (from matplotlib->geo_northarrow==0.2.0a0) (4.58.0)\n",
            "Requirement already satisfied: kiwisolver>=1.3.1 in /usr/local/lib/python3.11/dist-packages (from matplotlib->geo_northarrow==0.2.0a0) (1.4.8)\n",
            "Requirement already satisfied: pillow>=8 in /usr/local/lib/python3.11/dist-packages (from matplotlib->geo_northarrow==0.2.0a0) (11.2.1)\n",
            "Requirement already satisfied: pyparsing>=2.3.1 in /usr/local/lib/python3.11/dist-packages (from matplotlib->geo_northarrow==0.2.0a0) (3.2.3)\n",
            "Requirement already satisfied: certifi in /usr/local/lib/python3.11/dist-packages (from pyogrio>=0.7.2->geopandas->geo_northarrow==0.2.0a0) (2025.4.26)\n",
            "Requirement already satisfied: six>=1.5 in /usr/local/lib/python3.11/dist-packages (from python-dateutil>=2.8.2->pandas->geo_northarrow==0.2.0a0) (1.17.0)\n",
            "Requirement already satisfied: folium in /usr/local/lib/python3.11/dist-packages (0.19.5)\n",
            "Requirement already satisfied: branca>=0.6.0 in /usr/local/lib/python3.11/dist-packages (from folium) (0.8.1)\n",
            "Requirement already satisfied: jinja2>=2.9 in /usr/local/lib/python3.11/dist-packages (from folium) (3.1.6)\n",
            "Requirement already satisfied: numpy in /usr/local/lib/python3.11/dist-packages (from folium) (2.0.2)\n",
            "Requirement already satisfied: requests in /usr/local/lib/python3.11/dist-packages (from folium) (2.32.3)\n",
            "Requirement already satisfied: xyzservices in /usr/local/lib/python3.11/dist-packages (from folium) (2025.4.0)\n",
            "Requirement already satisfied: MarkupSafe>=2.0 in /usr/local/lib/python3.11/dist-packages (from jinja2>=2.9->folium) (3.0.2)\n",
            "Requirement already satisfied: charset-normalizer<4,>=2 in /usr/local/lib/python3.11/dist-packages (from requests->folium) (3.4.2)\n",
            "Requirement already satisfied: idna<4,>=2.5 in /usr/local/lib/python3.11/dist-packages (from requests->folium) (3.10)\n",
            "Requirement already satisfied: urllib3<3,>=1.21.1 in /usr/local/lib/python3.11/dist-packages (from requests->folium) (2.4.0)\n",
            "Requirement already satisfied: certifi>=2017.4.17 in /usr/local/lib/python3.11/dist-packages (from requests->folium) (2025.4.26)\n",
            "Requirement already satisfied: h3 in /usr/local/lib/python3.11/dist-packages (4.2.2)\n",
            "Requirement already satisfied: geoplot in /usr/local/lib/python3.11/dist-packages (0.5.1)\n",
            "Requirement already satisfied: matplotlib>=3.1.2 in /usr/local/lib/python3.11/dist-packages (from geoplot) (3.10.0)\n",
            "Requirement already satisfied: seaborn in /usr/local/lib/python3.11/dist-packages (from geoplot) (0.13.2)\n",
            "Requirement already satisfied: pandas in /usr/local/lib/python3.11/dist-packages (from geoplot) (2.2.2)\n",
            "Requirement already satisfied: geopandas>=0.9.0 in /usr/local/lib/python3.11/dist-packages (from geoplot) (1.0.1)\n",
            "Requirement already satisfied: cartopy in /usr/local/lib/python3.11/dist-packages (from geoplot) (0.24.1)\n",
            "Requirement already satisfied: mapclassify>=2.1 in /usr/local/lib/python3.11/dist-packages (from geoplot) (2.8.1)\n",
            "Requirement already satisfied: contextily>=1.0.0 in /usr/local/lib/python3.11/dist-packages (from geoplot) (1.6.2)\n",
            "Requirement already satisfied: geopy in /usr/local/lib/python3.11/dist-packages (from contextily>=1.0.0->geoplot) (2.4.1)\n",
            "Requirement already satisfied: mercantile in /usr/local/lib/python3.11/dist-packages (from contextily>=1.0.0->geoplot) (1.2.1)\n",
            "Requirement already satisfied: pillow in /usr/local/lib/python3.11/dist-packages (from contextily>=1.0.0->geoplot) (11.2.1)\n",
            "Requirement already satisfied: rasterio in /usr/local/lib/python3.11/dist-packages (from contextily>=1.0.0->geoplot) (1.4.3)\n",
            "Requirement already satisfied: requests in /usr/local/lib/python3.11/dist-packages (from contextily>=1.0.0->geoplot) (2.32.3)\n",
            "Requirement already satisfied: joblib in /usr/local/lib/python3.11/dist-packages (from contextily>=1.0.0->geoplot) (1.5.0)\n",
            "Requirement already satisfied: xyzservices in /usr/local/lib/python3.11/dist-packages (from contextily>=1.0.0->geoplot) (2025.4.0)\n",
            "Requirement already satisfied: numpy>=1.22 in /usr/local/lib/python3.11/dist-packages (from geopandas>=0.9.0->geoplot) (2.0.2)\n",
            "Requirement already satisfied: pyogrio>=0.7.2 in /usr/local/lib/python3.11/dist-packages (from geopandas>=0.9.0->geoplot) (0.11.0)\n",
            "Requirement already satisfied: packaging in /usr/local/lib/python3.11/dist-packages (from geopandas>=0.9.0->geoplot) (24.2)\n",
            "Requirement already satisfied: pyproj>=3.3.0 in /usr/local/lib/python3.11/dist-packages (from geopandas>=0.9.0->geoplot) (3.7.1)\n",
            "Requirement already satisfied: shapely>=2.0.0 in /usr/local/lib/python3.11/dist-packages (from geopandas>=0.9.0->geoplot) (2.1.0)\n",
            "Requirement already satisfied: networkx>=2.7 in /usr/local/lib/python3.11/dist-packages (from mapclassify>=2.1->geoplot) (3.4.2)\n",
            "Requirement already satisfied: scikit-learn>=1.0 in /usr/local/lib/python3.11/dist-packages (from mapclassify>=2.1->geoplot) (1.6.1)\n",
            "Requirement already satisfied: scipy>=1.8 in /usr/local/lib/python3.11/dist-packages (from mapclassify>=2.1->geoplot) (1.15.3)\n",
            "Requirement already satisfied: contourpy>=1.0.1 in /usr/local/lib/python3.11/dist-packages (from matplotlib>=3.1.2->geoplot) (1.3.2)\n",
            "Requirement already satisfied: cycler>=0.10 in /usr/local/lib/python3.11/dist-packages (from matplotlib>=3.1.2->geoplot) (0.12.1)\n",
            "Requirement already satisfied: fonttools>=4.22.0 in /usr/local/lib/python3.11/dist-packages (from matplotlib>=3.1.2->geoplot) (4.58.0)\n",
            "Requirement already satisfied: kiwisolver>=1.3.1 in /usr/local/lib/python3.11/dist-packages (from matplotlib>=3.1.2->geoplot) (1.4.8)\n",
            "Requirement already satisfied: pyparsing>=2.3.1 in /usr/local/lib/python3.11/dist-packages (from matplotlib>=3.1.2->geoplot) (3.2.3)\n",
            "Requirement already satisfied: python-dateutil>=2.7 in /usr/local/lib/python3.11/dist-packages (from matplotlib>=3.1.2->geoplot) (2.9.0.post0)\n",
            "Requirement already satisfied: pytz>=2020.1 in /usr/local/lib/python3.11/dist-packages (from pandas->geoplot) (2025.2)\n",
            "Requirement already satisfied: tzdata>=2022.7 in /usr/local/lib/python3.11/dist-packages (from pandas->geoplot) (2025.2)\n",
            "Requirement already satisfied: pyshp>=2.3 in /usr/local/lib/python3.11/dist-packages (from cartopy->geoplot) (2.3.1)\n",
            "Requirement already satisfied: certifi in /usr/local/lib/python3.11/dist-packages (from pyogrio>=0.7.2->geopandas>=0.9.0->geoplot) (2025.4.26)\n",
            "Requirement already satisfied: six>=1.5 in /usr/local/lib/python3.11/dist-packages (from python-dateutil>=2.7->matplotlib>=3.1.2->geoplot) (1.17.0)\n",
            "Requirement already satisfied: threadpoolctl>=3.1.0 in /usr/local/lib/python3.11/dist-packages (from scikit-learn>=1.0->mapclassify>=2.1->geoplot) (3.6.0)\n",
            "Requirement already satisfied: geographiclib<3,>=1.52 in /usr/local/lib/python3.11/dist-packages (from geopy->contextily>=1.0.0->geoplot) (2.0)\n",
            "Requirement already satisfied: click>=3.0 in /usr/local/lib/python3.11/dist-packages (from mercantile->contextily>=1.0.0->geoplot) (8.2.0)\n",
            "Requirement already satisfied: affine in /usr/local/lib/python3.11/dist-packages (from rasterio->contextily>=1.0.0->geoplot) (2.4.0)\n",
            "Requirement already satisfied: attrs in /usr/local/lib/python3.11/dist-packages (from rasterio->contextily>=1.0.0->geoplot) (25.3.0)\n",
            "Requirement already satisfied: cligj>=0.5 in /usr/local/lib/python3.11/dist-packages (from rasterio->contextily>=1.0.0->geoplot) (0.7.2)\n",
            "Requirement already satisfied: click-plugins in /usr/local/lib/python3.11/dist-packages (from rasterio->contextily>=1.0.0->geoplot) (1.1.1)\n",
            "Requirement already satisfied: charset-normalizer<4,>=2 in /usr/local/lib/python3.11/dist-packages (from requests->contextily>=1.0.0->geoplot) (3.4.2)\n",
            "Requirement already satisfied: idna<4,>=2.5 in /usr/local/lib/python3.11/dist-packages (from requests->contextily>=1.0.0->geoplot) (3.10)\n",
            "Requirement already satisfied: urllib3<3,>=1.21.1 in /usr/local/lib/python3.11/dist-packages (from requests->contextily>=1.0.0->geoplot) (2.4.0)\n"
          ]
        }
      ]
    },
    {
      "cell_type": "code",
      "execution_count": 307,
      "id": "34bb7ec5",
      "metadata": {
        "id": "34bb7ec5"
      },
      "outputs": [],
      "source": [
        "import os\n",
        "import numpy as np\n",
        "import pandas as pd\n",
        "import geopandas as gpd\n",
        "import matplotlib.pyplot as plt\n",
        "import seaborn as sns\n",
        "from sklearn.cluster import KMeans\n",
        "import warnings\n",
        "\n",
        "sns.set_style(\"darkgrid\")\n",
        "warnings.filterwarnings(\"ignore\")\n",
        "\n",
        "\n",
        "## Now the libraries are called up\n",
        "\n",
        "import pyproj\n",
        "import contextily as ctx\n",
        "\n",
        "\n",
        "import geoplot as gplt\n",
        "import geoplot.crs as gcrs\n",
        "from geo_northarrow import add_north_arrow\n",
        "\n",
        "from matplotlib import colors  # is used to extract a subset of a colourmap as a new colourmap in matplotlib (in visualisation)\n",
        "\n",
        "import h3\n",
        "from shapely.geometry import Point, Polygon\n",
        "import folium"
      ]
    },
    {
      "cell_type": "code",
      "source": [
        "#from google.colab import drive\n",
        "#drive.mount('/content/drive')"
      ],
      "metadata": {
        "id": "4pJXImfSQ6vd"
      },
      "execution_count": 308,
      "outputs": [],
      "id": "4pJXImfSQ6vd"
    },
    {
      "cell_type": "markdown",
      "source": [
        "## **Choose data**"
      ],
      "metadata": {
        "id": "L68yPRZDJEy1"
      },
      "id": "L68yPRZDJEy1"
    },
    {
      "cell_type": "code",
      "source": [
        "## Read in the spatial dataframe\n",
        "\n",
        "# Read 3 geojson:\n",
        "\n",
        "gdfs_2019 = gpd.read_file('https://github.com/rociovald/GEOG5990M_Final/raw/refs/heads/main/Data/Siniestros_transito_Antofa2019.geojson')\n",
        "gdfs_2020 = gpd.read_file('https://github.com/rociovald/GEOG5990M_Final/raw/refs/heads/main/Data/Siniestros_transito_Antofa2020.geojson')\n",
        "gdfs_2021 = gpd.read_file('https://github.com/rociovald/GEOG5990M_Final/raw/refs/heads/main/Data/Siniestros_transito_Antofa2021.geojson')\n",
        "gdfs_2022 = gpd.read_file('https://github.com/rociovald/GEOG5990M_Final/raw/refs/heads/main/Data/Siniestros_transito_Antofa2022.geojson')\n",
        "\n",
        "\n",
        "#gdfs_2019 = gpd.read_file('https://github.com/rociovald/GEOG5990M_Final/raw/refs/heads/main/Data/accidents_2019.geojson')\n",
        "#gdfs_2020 = gpd.read_file('https://github.com/rociovald/GEOG5990M_Final/raw/refs/heads/main/Data/accidents_2020.geojson')\n",
        "#gdfs_2021 = gpd.read_file('https://github.com/rociovald/GEOG5990M_Final/raw/refs/heads/main/Data/accidents_2021.geojson')\n",
        "#gdfs_2022 = gpd.read_file('https://github.com/rociovald/GEOG5990M_Final/raw/refs/heads/main/Data/accidents_2022.geojson')\n",
        "\n"
      ],
      "metadata": {
        "colab": {
          "base_uri": "https://localhost:8080/"
        },
        "id": "SDYP8E-3SIDE",
        "outputId": "963142bb-20fb-4d80-cbb7-0c0ae42f6d32"
      },
      "id": "SDYP8E-3SIDE",
      "execution_count": 309,
      "outputs": [
        {
          "output_type": "stream",
          "name": "stderr",
          "text": [
            "WARNING:pyogrio._io:Skipping field Hora: unsupported OGR type: 10\n",
            "WARNING:pyogrio._io:Skipping field Hora: unsupported OGR type: 10\n",
            "WARNING:pyogrio._io:Skipping field Hora_1: unsupported OGR type: 10\n"
          ]
        }
      ]
    },
    {
      "cell_type": "markdown",
      "source": [
        "**Information on geojson**"
      ],
      "metadata": {
        "id": "vyyiUj3bxwzF"
      },
      "id": "vyyiUj3bxwzF"
    },
    {
      "cell_type": "markdown",
      "source": [
        "gdfs_2019: Corresponde a los accidentes de transito durante 2019 registrados en la region de Antofagasta, Chile <a href=\"#ref1\">[1]</a>\n",
        "\n",
        "gdfs_2020: Corresponde a los accidentes de transito durante 2020 registrados en la region de Antofagasta, Chile <a href=\"#ref2\">[2]</a>\n",
        "\n",
        "gdfs_2021: Corresponde a los accidentes de transito durante 2021 registrados en la region de Antofagasta, Chile <a href=\"#ref3\">[3]</a>\n",
        "\n",
        "\n",
        "gdfs_2022: Corresponde a los accidentes de transito durante 2022 registrados en la region de Antofagasta, Chile <a href=\"#ref4\">[4]</a>"
      ],
      "metadata": {
        "id": "R7m0-CiyyKyO"
      },
      "id": "R7m0-CiyyKyO"
    },
    {
      "cell_type": "markdown",
      "source": [
        "## Contexto (QUIZAS DEJARLO EN EL README)\n",
        "\n",
        "La Organización Mundial de la Salud, en su informe más reciente sobre traumatismos causados por el tránsito (2023), indica que cada año se producen en todo el mundo aproximadamente 1,19 millones de muertes por accidentes de tránsito. https://www.who.int/es/news-room/fact-sheets/detail/road-traffic-injuries\n",
        "\n",
        "En Chile, se registran en promedio alrededor de 1.500 muertes anuales por siniestros viales, una cifra que se ha mantenido relativamente estable en los últimos años, aunque con una leve disminución de 12% durante 2023 (CONASET, 2023). La mayoría de estos siniestros tienen como causa principal el factor humano, destacando la imprudencia del conductor y la imprudencia del peatón como las razones más frecuentes de accidentes con resultado fatal.\n",
        "\n",
        "https://www.conaset.cl/programa/observatorio-datos-estadistica/#:~:text=Observatorio%20de%20Seguridad%20Vial,-El%20Observatorio%20de&text=Durante%20el%20a%C3%B1o%202024%20se,fallecidos%20informados%20el%20a%C3%B1o%202023.\n",
        "\n",
        "\n",
        "En particular, en la región de Antoafgasta la cantidad de accidentes de trasnito ha ido en aumento, aunque se encuentra por debajo del pormedio nacional en numero de fallecidos y lesionados. La mayoria de los siniestros ocurren en el area urbana. Sin embargo más de la mitad de los decensos ocurren en contextos de ruralidad. fuente: chrome-extension://efaidnbmnnnibpcajpcglclefindmkaj/https://www.conaset.cl/wp-content/uploads/2023/06/Antofagasta-2022.pdf\n",
        "\n",
        "La región de Antofasgata cuenta con una superficie de 126.049,1 km² y una población de 444,276 habitantes de acuerdo al Censo 2024. Administrativamente está compuesta por 3 provincias (Antofagasta, El Loa y Tocopilla), las que están divididas en 9 comunas (Antofagasta, Calama, Tocopilla, Mejillones, María Elena, Taltal, Sierra Gorda, San Pedro de Atacama y Ollagüe). Su capital regional es la ciudad de Antofagasta."
      ],
      "metadata": {
        "id": "f0krqlZPELnq"
      },
      "id": "f0krqlZPELnq"
    },
    {
      "cell_type": "markdown",
      "source": [
        "# **Data-preprocessing and data exploration**"
      ],
      "metadata": {
        "id": "jmN0YcL1yV-1"
      },
      "id": "jmN0YcL1yV-1"
    },
    {
      "cell_type": "markdown",
      "source": [
        "Lo primero que se debe hacer es explorar el contenido de la tabla de atributos en cada uno de los geojson, para de este modo conocer los datos que tenemos."
      ],
      "metadata": {
        "id": "mBT34Qq7K1sl"
      },
      "id": "mBT34Qq7K1sl"
    },
    {
      "cell_type": "markdown",
      "source": [
        "**Accidentes de transito aÑo 2019**"
      ],
      "metadata": {
        "id": "0orxZumsANPD"
      },
      "id": "0orxZumsANPD"
    },
    {
      "cell_type": "code",
      "source": [
        "gdfs_2019.sample(2) # '.sample()' se usa par seleccionar filas al azar, nos sirve para visualizar su contenido."
      ],
      "metadata": {
        "colab": {
          "base_uri": "https://localhost:8080/",
          "height": 231
        },
        "id": "x0OgcH37x0nr",
        "outputId": "cb430eee-ecb8-48af-ba86-73194fd52389"
      },
      "id": "x0OgcH37x0nr",
      "execution_count": 310,
      "outputs": [
        {
          "output_type": "execute_result",
          "data": {
            "text/plain": [
              "       FID   Ano  Idaccident  Codregion              Region       Comuna  \\\n",
              "1605  1606  2019     1166112          2  REGION ANTOFAGASTA  ANTOFAGASTA   \n",
              "2044  2045  2019     1219945          2  REGION ANTOFAGASTA    TOCOPILLA   \n",
              "\n",
              "        Zona           Calle1 Calle2 Numero  ...  Estado_Cal  Cód_Condi  \\\n",
              "1605  URBANA  AGUAS CALIENTES           389  ...       BUENO          1   \n",
              "2044  URBANA         RAMADITA          4700  ...     REGULAR          1   \n",
              "\n",
              "      Condición Cód_Est_1  Estado_Atm  Fallecidos Graves  Menos_Grav Leves  \\\n",
              "1605       SECO         1   DESPEJADO           0      0           0     1   \n",
              "2044       SECO         1   DESPEJADO           0      0           0     0   \n",
              "\n",
              "                         geometry  \n",
              "1605   POINT (-70.38403 -23.5321)  \n",
              "2044  POINT (-70.18647 -22.06257)  \n",
              "\n",
              "[2 rows x 44 columns]"
            ],
            "text/html": [
              "\n",
              "  <div id=\"df-9b166eae-c087-4411-abc1-8f16601b0fef\" class=\"colab-df-container\">\n",
              "    <div>\n",
              "<style scoped>\n",
              "    .dataframe tbody tr th:only-of-type {\n",
              "        vertical-align: middle;\n",
              "    }\n",
              "\n",
              "    .dataframe tbody tr th {\n",
              "        vertical-align: top;\n",
              "    }\n",
              "\n",
              "    .dataframe thead th {\n",
              "        text-align: right;\n",
              "    }\n",
              "</style>\n",
              "<table border=\"1\" class=\"dataframe\">\n",
              "  <thead>\n",
              "    <tr style=\"text-align: right;\">\n",
              "      <th></th>\n",
              "      <th>FID</th>\n",
              "      <th>Ano</th>\n",
              "      <th>Idaccident</th>\n",
              "      <th>Codregion</th>\n",
              "      <th>Region</th>\n",
              "      <th>Comuna</th>\n",
              "      <th>Zona</th>\n",
              "      <th>Calle1</th>\n",
              "      <th>Calle2</th>\n",
              "      <th>Numero</th>\n",
              "      <th>...</th>\n",
              "      <th>Estado_Cal</th>\n",
              "      <th>Cód_Condi</th>\n",
              "      <th>Condición</th>\n",
              "      <th>Cód_Est_1</th>\n",
              "      <th>Estado_Atm</th>\n",
              "      <th>Fallecidos</th>\n",
              "      <th>Graves</th>\n",
              "      <th>Menos_Grav</th>\n",
              "      <th>Leves</th>\n",
              "      <th>geometry</th>\n",
              "    </tr>\n",
              "  </thead>\n",
              "  <tbody>\n",
              "    <tr>\n",
              "      <th>1605</th>\n",
              "      <td>1606</td>\n",
              "      <td>2019</td>\n",
              "      <td>1166112</td>\n",
              "      <td>2</td>\n",
              "      <td>REGION ANTOFAGASTA</td>\n",
              "      <td>ANTOFAGASTA</td>\n",
              "      <td>URBANA</td>\n",
              "      <td>AGUAS CALIENTES</td>\n",
              "      <td></td>\n",
              "      <td>389</td>\n",
              "      <td>...</td>\n",
              "      <td>BUENO</td>\n",
              "      <td>1</td>\n",
              "      <td>SECO</td>\n",
              "      <td>1</td>\n",
              "      <td>DESPEJADO</td>\n",
              "      <td>0</td>\n",
              "      <td>0</td>\n",
              "      <td>0</td>\n",
              "      <td>1</td>\n",
              "      <td>POINT (-70.38403 -23.5321)</td>\n",
              "    </tr>\n",
              "    <tr>\n",
              "      <th>2044</th>\n",
              "      <td>2045</td>\n",
              "      <td>2019</td>\n",
              "      <td>1219945</td>\n",
              "      <td>2</td>\n",
              "      <td>REGION ANTOFAGASTA</td>\n",
              "      <td>TOCOPILLA</td>\n",
              "      <td>URBANA</td>\n",
              "      <td>RAMADITA</td>\n",
              "      <td></td>\n",
              "      <td>4700</td>\n",
              "      <td>...</td>\n",
              "      <td>REGULAR</td>\n",
              "      <td>1</td>\n",
              "      <td>SECO</td>\n",
              "      <td>1</td>\n",
              "      <td>DESPEJADO</td>\n",
              "      <td>0</td>\n",
              "      <td>0</td>\n",
              "      <td>0</td>\n",
              "      <td>0</td>\n",
              "      <td>POINT (-70.18647 -22.06257)</td>\n",
              "    </tr>\n",
              "  </tbody>\n",
              "</table>\n",
              "<p>2 rows × 44 columns</p>\n",
              "</div>\n",
              "    <div class=\"colab-df-buttons\">\n",
              "\n",
              "  <div class=\"colab-df-container\">\n",
              "    <button class=\"colab-df-convert\" onclick=\"convertToInteractive('df-9b166eae-c087-4411-abc1-8f16601b0fef')\"\n",
              "            title=\"Convert this dataframe to an interactive table.\"\n",
              "            style=\"display:none;\">\n",
              "\n",
              "  <svg xmlns=\"http://www.w3.org/2000/svg\" height=\"24px\" viewBox=\"0 -960 960 960\">\n",
              "    <path d=\"M120-120v-720h720v720H120Zm60-500h600v-160H180v160Zm220 220h160v-160H400v160Zm0 220h160v-160H400v160ZM180-400h160v-160H180v160Zm440 0h160v-160H620v160ZM180-180h160v-160H180v160Zm440 0h160v-160H620v160Z\"/>\n",
              "  </svg>\n",
              "    </button>\n",
              "\n",
              "  <style>\n",
              "    .colab-df-container {\n",
              "      display:flex;\n",
              "      gap: 12px;\n",
              "    }\n",
              "\n",
              "    .colab-df-convert {\n",
              "      background-color: #E8F0FE;\n",
              "      border: none;\n",
              "      border-radius: 50%;\n",
              "      cursor: pointer;\n",
              "      display: none;\n",
              "      fill: #1967D2;\n",
              "      height: 32px;\n",
              "      padding: 0 0 0 0;\n",
              "      width: 32px;\n",
              "    }\n",
              "\n",
              "    .colab-df-convert:hover {\n",
              "      background-color: #E2EBFA;\n",
              "      box-shadow: 0px 1px 2px rgba(60, 64, 67, 0.3), 0px 1px 3px 1px rgba(60, 64, 67, 0.15);\n",
              "      fill: #174EA6;\n",
              "    }\n",
              "\n",
              "    .colab-df-buttons div {\n",
              "      margin-bottom: 4px;\n",
              "    }\n",
              "\n",
              "    [theme=dark] .colab-df-convert {\n",
              "      background-color: #3B4455;\n",
              "      fill: #D2E3FC;\n",
              "    }\n",
              "\n",
              "    [theme=dark] .colab-df-convert:hover {\n",
              "      background-color: #434B5C;\n",
              "      box-shadow: 0px 1px 3px 1px rgba(0, 0, 0, 0.15);\n",
              "      filter: drop-shadow(0px 1px 2px rgba(0, 0, 0, 0.3));\n",
              "      fill: #FFFFFF;\n",
              "    }\n",
              "  </style>\n",
              "\n",
              "    <script>\n",
              "      const buttonEl =\n",
              "        document.querySelector('#df-9b166eae-c087-4411-abc1-8f16601b0fef button.colab-df-convert');\n",
              "      buttonEl.style.display =\n",
              "        google.colab.kernel.accessAllowed ? 'block' : 'none';\n",
              "\n",
              "      async function convertToInteractive(key) {\n",
              "        const element = document.querySelector('#df-9b166eae-c087-4411-abc1-8f16601b0fef');\n",
              "        const dataTable =\n",
              "          await google.colab.kernel.invokeFunction('convertToInteractive',\n",
              "                                                    [key], {});\n",
              "        if (!dataTable) return;\n",
              "\n",
              "        const docLinkHtml = 'Like what you see? Visit the ' +\n",
              "          '<a target=\"_blank\" href=https://colab.research.google.com/notebooks/data_table.ipynb>data table notebook</a>'\n",
              "          + ' to learn more about interactive tables.';\n",
              "        element.innerHTML = '';\n",
              "        dataTable['output_type'] = 'display_data';\n",
              "        await google.colab.output.renderOutput(dataTable, element);\n",
              "        const docLink = document.createElement('div');\n",
              "        docLink.innerHTML = docLinkHtml;\n",
              "        element.appendChild(docLink);\n",
              "      }\n",
              "    </script>\n",
              "  </div>\n",
              "\n",
              "\n",
              "    <div id=\"df-f4f72f68-6748-4dd3-a5aa-317f728eb750\">\n",
              "      <button class=\"colab-df-quickchart\" onclick=\"quickchart('df-f4f72f68-6748-4dd3-a5aa-317f728eb750')\"\n",
              "                title=\"Suggest charts\"\n",
              "                style=\"display:none;\">\n",
              "\n",
              "<svg xmlns=\"http://www.w3.org/2000/svg\" height=\"24px\"viewBox=\"0 0 24 24\"\n",
              "     width=\"24px\">\n",
              "    <g>\n",
              "        <path d=\"M19 3H5c-1.1 0-2 .9-2 2v14c0 1.1.9 2 2 2h14c1.1 0 2-.9 2-2V5c0-1.1-.9-2-2-2zM9 17H7v-7h2v7zm4 0h-2V7h2v10zm4 0h-2v-4h2v4z\"/>\n",
              "    </g>\n",
              "</svg>\n",
              "      </button>\n",
              "\n",
              "<style>\n",
              "  .colab-df-quickchart {\n",
              "      --bg-color: #E8F0FE;\n",
              "      --fill-color: #1967D2;\n",
              "      --hover-bg-color: #E2EBFA;\n",
              "      --hover-fill-color: #174EA6;\n",
              "      --disabled-fill-color: #AAA;\n",
              "      --disabled-bg-color: #DDD;\n",
              "  }\n",
              "\n",
              "  [theme=dark] .colab-df-quickchart {\n",
              "      --bg-color: #3B4455;\n",
              "      --fill-color: #D2E3FC;\n",
              "      --hover-bg-color: #434B5C;\n",
              "      --hover-fill-color: #FFFFFF;\n",
              "      --disabled-bg-color: #3B4455;\n",
              "      --disabled-fill-color: #666;\n",
              "  }\n",
              "\n",
              "  .colab-df-quickchart {\n",
              "    background-color: var(--bg-color);\n",
              "    border: none;\n",
              "    border-radius: 50%;\n",
              "    cursor: pointer;\n",
              "    display: none;\n",
              "    fill: var(--fill-color);\n",
              "    height: 32px;\n",
              "    padding: 0;\n",
              "    width: 32px;\n",
              "  }\n",
              "\n",
              "  .colab-df-quickchart:hover {\n",
              "    background-color: var(--hover-bg-color);\n",
              "    box-shadow: 0 1px 2px rgba(60, 64, 67, 0.3), 0 1px 3px 1px rgba(60, 64, 67, 0.15);\n",
              "    fill: var(--button-hover-fill-color);\n",
              "  }\n",
              "\n",
              "  .colab-df-quickchart-complete:disabled,\n",
              "  .colab-df-quickchart-complete:disabled:hover {\n",
              "    background-color: var(--disabled-bg-color);\n",
              "    fill: var(--disabled-fill-color);\n",
              "    box-shadow: none;\n",
              "  }\n",
              "\n",
              "  .colab-df-spinner {\n",
              "    border: 2px solid var(--fill-color);\n",
              "    border-color: transparent;\n",
              "    border-bottom-color: var(--fill-color);\n",
              "    animation:\n",
              "      spin 1s steps(1) infinite;\n",
              "  }\n",
              "\n",
              "  @keyframes spin {\n",
              "    0% {\n",
              "      border-color: transparent;\n",
              "      border-bottom-color: var(--fill-color);\n",
              "      border-left-color: var(--fill-color);\n",
              "    }\n",
              "    20% {\n",
              "      border-color: transparent;\n",
              "      border-left-color: var(--fill-color);\n",
              "      border-top-color: var(--fill-color);\n",
              "    }\n",
              "    30% {\n",
              "      border-color: transparent;\n",
              "      border-left-color: var(--fill-color);\n",
              "      border-top-color: var(--fill-color);\n",
              "      border-right-color: var(--fill-color);\n",
              "    }\n",
              "    40% {\n",
              "      border-color: transparent;\n",
              "      border-right-color: var(--fill-color);\n",
              "      border-top-color: var(--fill-color);\n",
              "    }\n",
              "    60% {\n",
              "      border-color: transparent;\n",
              "      border-right-color: var(--fill-color);\n",
              "    }\n",
              "    80% {\n",
              "      border-color: transparent;\n",
              "      border-right-color: var(--fill-color);\n",
              "      border-bottom-color: var(--fill-color);\n",
              "    }\n",
              "    90% {\n",
              "      border-color: transparent;\n",
              "      border-bottom-color: var(--fill-color);\n",
              "    }\n",
              "  }\n",
              "</style>\n",
              "\n",
              "      <script>\n",
              "        async function quickchart(key) {\n",
              "          const quickchartButtonEl =\n",
              "            document.querySelector('#' + key + ' button');\n",
              "          quickchartButtonEl.disabled = true;  // To prevent multiple clicks.\n",
              "          quickchartButtonEl.classList.add('colab-df-spinner');\n",
              "          try {\n",
              "            const charts = await google.colab.kernel.invokeFunction(\n",
              "                'suggestCharts', [key], {});\n",
              "          } catch (error) {\n",
              "            console.error('Error during call to suggestCharts:', error);\n",
              "          }\n",
              "          quickchartButtonEl.classList.remove('colab-df-spinner');\n",
              "          quickchartButtonEl.classList.add('colab-df-quickchart-complete');\n",
              "        }\n",
              "        (() => {\n",
              "          let quickchartButtonEl =\n",
              "            document.querySelector('#df-f4f72f68-6748-4dd3-a5aa-317f728eb750 button');\n",
              "          quickchartButtonEl.style.display =\n",
              "            google.colab.kernel.accessAllowed ? 'block' : 'none';\n",
              "        })();\n",
              "      </script>\n",
              "    </div>\n",
              "\n",
              "    </div>\n",
              "  </div>\n"
            ],
            "application/vnd.google.colaboratory.intrinsic+json": {
              "type": "dataframe"
            }
          },
          "metadata": {},
          "execution_count": 310
        }
      ]
    },
    {
      "cell_type": "code",
      "source": [
        "gdfs_2019.info()  # ‘.info()’ is used to observe if there is null data in any variable,  by looking at the ‘Non-Null Count’ column."
      ],
      "metadata": {
        "id": "1JS6U-DpAY-k",
        "outputId": "23839d00-250c-4888-a4b4-50165746cb42",
        "colab": {
          "base_uri": "https://localhost:8080/"
        }
      },
      "id": "1JS6U-DpAY-k",
      "execution_count": 311,
      "outputs": [
        {
          "output_type": "stream",
          "name": "stdout",
          "text": [
            "<class 'geopandas.geodataframe.GeoDataFrame'>\n",
            "RangeIndex: 2494 entries, 0 to 2493\n",
            "Data columns (total 44 columns):\n",
            " #   Column      Non-Null Count  Dtype              \n",
            "---  ------      --------------  -----              \n",
            " 0   FID         2494 non-null   int32              \n",
            " 1   Ano         2494 non-null   int32              \n",
            " 2   Idaccident  2494 non-null   int32              \n",
            " 3   Codregion   2494 non-null   int32              \n",
            " 4   Region      2494 non-null   object             \n",
            " 5   Comuna      2494 non-null   object             \n",
            " 6   Zona        2494 non-null   object             \n",
            " 7   Calle1      2494 non-null   object             \n",
            " 8   Calle2      2494 non-null   object             \n",
            " 9   Numero      2494 non-null   object             \n",
            " 10  lat         2494 non-null   float64            \n",
            " 11  lng         2494 non-null   float64            \n",
            " 12  Claseaccid  2494 non-null   int32              \n",
            " 13  Fecha       2494 non-null   datetime64[ms, UTC]\n",
            " 14  Cód_Comun   2494 non-null   int32              \n",
            " 15  Cód_Tipo_   2494 non-null   int32              \n",
            " 16  Tipo_Accid  2494 non-null   object             \n",
            " 17  Cód_Tipo1   2494 non-null   int32              \n",
            " 18  Tipo__CONA  2494 non-null   object             \n",
            " 19  Cód_Zona    2494 non-null   int32              \n",
            " 20  Zona_1      2494 non-null   object             \n",
            " 21  Cód_Ubica   2494 non-null   int32              \n",
            " 22  Ubicación   2494 non-null   object             \n",
            " 23  Cód_Causa   2494 non-null   int32              \n",
            " 24  Causa__CON  2494 non-null   object             \n",
            " 25  Cód_Cau_1   2494 non-null   int32              \n",
            " 26  Causa       2494 non-null   object             \n",
            " 27  Pistas_de_  2494 non-null   int32              \n",
            " 28  Pistas_de1  2494 non-null   int32              \n",
            " 29  Cód_Calza   2494 non-null   int32              \n",
            " 30  Calzada     2494 non-null   object             \n",
            " 31  Cód__Tipo   2494 non-null   int32              \n",
            " 32  Tipo_Calza  2494 non-null   object             \n",
            " 33  Cód_Estad   2494 non-null   int32              \n",
            " 34  Estado_Cal  2494 non-null   object             \n",
            " 35  Cód_Condi   2494 non-null   int32              \n",
            " 36  Condición   2494 non-null   object             \n",
            " 37  Cód_Est_1   2494 non-null   int32              \n",
            " 38  Estado_Atm  2494 non-null   object             \n",
            " 39  Fallecidos  2494 non-null   int32              \n",
            " 40  Graves      2494 non-null   int32              \n",
            " 41  Menos_Grav  2494 non-null   int32              \n",
            " 42  Leves       2494 non-null   int32              \n",
            " 43  geometry    2494 non-null   geometry           \n",
            "dtypes: datetime64[ms, UTC](1), float64(2), geometry(1), int32(23), object(17)\n",
            "memory usage: 633.4+ KB\n"
          ]
        }
      ]
    },
    {
      "cell_type": "code",
      "source": [
        "# Se visualizan el nombre de todas las columnas, ya que en el codigo anetrior solo se puede ser una parte\n",
        "gdfs_2019.columns"
      ],
      "metadata": {
        "id": "78FogMBFMafU",
        "outputId": "69c8cc52-a444-4276-cb88-b0b302a2955f",
        "colab": {
          "base_uri": "https://localhost:8080/"
        }
      },
      "id": "78FogMBFMafU",
      "execution_count": 312,
      "outputs": [
        {
          "output_type": "execute_result",
          "data": {
            "text/plain": [
              "Index(['FID', 'Ano', 'Idaccident', 'Codregion', 'Region', 'Comuna', 'Zona',\n",
              "       'Calle1', 'Calle2', 'Numero', 'lat', 'lng', 'Claseaccid', 'Fecha',\n",
              "       'Cód_Comun', 'Cód_Tipo_', 'Tipo_Accid', 'Cód_Tipo1', 'Tipo__CONA',\n",
              "       'Cód_Zona', 'Zona_1', 'Cód_Ubica', 'Ubicación', 'Cód_Causa',\n",
              "       'Causa__CON', 'Cód_Cau_1', 'Causa', 'Pistas_de_', 'Pistas_de1',\n",
              "       'Cód_Calza', 'Calzada', 'Cód__Tipo', 'Tipo_Calza', 'Cód_Estad',\n",
              "       'Estado_Cal', 'Cód_Condi', 'Condición', 'Cód_Est_1', 'Estado_Atm',\n",
              "       'Fallecidos', 'Graves', 'Menos_Grav', 'Leves', 'geometry'],\n",
              "      dtype='object')"
            ]
          },
          "metadata": {},
          "execution_count": 312
        }
      ]
    },
    {
      "cell_type": "markdown",
      "source": [
        "**Co-pilot - description of variables**\n",
        "\n",
        "La CONASET no dispone de una descripcion de los metadatos para cada uno de los geojson sobre accidentes de transito (años 2019 al 2022). Razon por lo cual fue necesario realizar una consulta a Copilot para luego verificar su coherencia al mirar el contenido de cada columna de la tabla de atributos. El prompt fue el siguiente: ' Define cada una de las columnas que se encuentran en el csv que te adjunto, en no mas de 20 palabras'."
      ],
      "metadata": {
        "id": "HYeOqHsd-2rS"
      },
      "id": "HYeOqHsd-2rS"
    },
    {
      "cell_type": "markdown",
      "source": [
        "*Accidentes de transito del 2019*\n",
        "\n",
        "\n",
        "*   'FID': A unique ID for each accident\n",
        "*   'Ano': Year the accident occurred\n",
        "*   'Idaccident': Unique identifier of the accident\n",
        "*   'Codregion': Code of the region where the accident occurred\n",
        "*   'Region': Name of the region where the accident occurred\n",
        "*   'Comuna': Name of the commune where the accident occurred\n",
        "*   'Zona': Type of zone (urban or rural) where the accident occurred\n",
        "*   'Calle1': Name of the first street involved in the accident\n",
        "*   'Calle2': Name of the second street involved in the accident (if applicable).\n",
        "*   'Numero': Nearest address number to the accident location\n",
        "*   'lat': Latitude of the accident location\n",
        "*   'lng': Longitude of the accident location\n",
        "*   'Claseaccid': Class of the accident (collision, run-over, etc.)\n",
        "*   'Fecha': Date and time the accident occurred\n",
        "*   'Cód_Comun': Code of the commune where the accident occurred\n",
        "*   'Cód_Tipo_': Code of the type of accident\n",
        "*   'Tipo_Accid': Description of the type of accident\n",
        "*   'Cód_Tipo1': Secondary code of the type of accident\n",
        "*   'Tipo__CONA': Secondary description of the type of accident\n",
        "*   'Cód_Zona': Code of the zone where the accident occurred\n",
        "*   'Zona_1': Description of the zone (urban or rural)\n",
        "*   'Cód_Ubica': Code of the specific location of the accident\n",
        "*   'Ubicación': Description of the specific location of the accident\n",
        "*   'Cód_Causa': Code of the main cause of the accident\n",
        "*   'Causa__CON': Description of the main cause of the accident\n",
        "*   'Cód_Cau_1': Secondary code of the cause of the accident\n",
        "*   'Causa': Secondary description of the cause of the accident\n",
        "*   'Pistas_de_': Number of traffic lanes on the road\n",
        "*   'Pistas_de1': Secondary number of traffic lanes on the road\n",
        "*   'Cód_Calza': Code of the type of pavement (asphalt, concrete, etc.)\n",
        "*   'Calzada': Description of the type of pavement (asphalt, concrete, etc.)\n",
        "*   'Cód__Tipo': Code of the pavement condition (good, fair, etc.)\n",
        "*   'Tipo_Calza': Description of the type of pavement (asphalt, concrete, etc.)\n",
        "*   'Cód_Estad': Code of the pavement condition (good, fair, etc.)\n",
        "*   'Estado_Cal': Description of the pavement condition (good, fair, etc.)\n",
        "*   'Cód_Condi': Code of the weather conditions at the time of the accident\n",
        "*   'Condición': Description of the weather conditions at the time of the accident\n",
        "*   'Cód_Est_1': Code of the atmospheric state at the time of the accident\n",
        "*   'Estado_Atm': Description of the atmospheric state at the time of the accident.\n",
        "*   'Fallecidos': Number of fatalities in the accident\n",
        "*   'Graves': Number of people with serious injuries in the accident\n",
        "*   'Menos_Grav': Number of people with less serious injuries in the accident\n",
        "*   'Leves': Number of people with minor injuries in the accident\n",
        "*   'geometry': List the type of geometry, in this case POINT"
      ],
      "metadata": {
        "id": "vmuh1kFELPOS"
      },
      "id": "vmuh1kFELPOS"
    },
    {
      "cell_type": "markdown",
      "source": [
        "**Accidentes de transito año 2020**"
      ],
      "metadata": {
        "id": "0V8JT7mzHweb"
      },
      "id": "0V8JT7mzHweb"
    },
    {
      "cell_type": "code",
      "source": [
        "gdfs_2020.sample(2) # Se visualizan 2 filas al azar para ver el contenido de sus columnas."
      ],
      "metadata": {
        "colab": {
          "base_uri": "https://localhost:8080/",
          "height": 318
        },
        "id": "oHUJJauOyiAj",
        "outputId": "2f37b8dc-44e6-47e6-877d-333fcf1422a9"
      },
      "id": "oHUJJauOyiAj",
      "execution_count": 313,
      "outputs": [
        {
          "output_type": "execute_result",
          "data": {
            "text/plain": [
              "     FID  COD_REG              REGION   CUT       COMUNA      CALLE_UNO  \\\n",
              "429  430        2  REGION ANTOFAGASTA  2201       CALAMA    ARTURO PRAT   \n",
              "797  798        2  REGION ANTOFAGASTA  2101  ANTOFAGASTA  ALMTE LATORRE   \n",
              "\n",
              "     CALLE_DOS  NUMERO                                         DIR_GEOCOD  \\\n",
              "429  GUATEMALA       0  Arturo Prat & Guatemala, Calama, Antofagasta, ...   \n",
              "797     GRECIA       0  Almte. Juan José Latorre & Av. Grecia, Antofag...   \n",
              "\n",
              "           LAT  ...  Tipo_Accid  Tipo__CONA    Zona  \\\n",
              "429 -22.444325  ...    COLISION    COLISION  URBANA   \n",
              "797 -23.652126  ...    COLISION    COLISION  URBANA   \n",
              "\n",
              "                       Causa__CON  \\\n",
              "429  DESOBEDIENCIA A SEÑALIZACION   \n",
              "797     IMPRUDENCIA DEL CONDUCTOR   \n",
              "\n",
              "                                                 Causa Fallecidos Graves  \\\n",
              "429                SEÑALIZACION DESOBEDECER SEÑAL PARE          0      0   \n",
              "797  CONDUCCION NO ATENTO CONDICIONES TRANSITO MOMENTO          0      0   \n",
              "\n",
              "    Menos_Grav Leves                     geometry  \n",
              "429          0     0   POINT (-68.9328 -22.44432)  \n",
              "797          0     0  POINT (-70.40261 -23.65213)  \n",
              "\n",
              "[2 rows x 26 columns]"
            ],
            "text/html": [
              "\n",
              "  <div id=\"df-b875d750-79db-4ddc-8b73-2fec5f8eb78e\" class=\"colab-df-container\">\n",
              "    <div>\n",
              "<style scoped>\n",
              "    .dataframe tbody tr th:only-of-type {\n",
              "        vertical-align: middle;\n",
              "    }\n",
              "\n",
              "    .dataframe tbody tr th {\n",
              "        vertical-align: top;\n",
              "    }\n",
              "\n",
              "    .dataframe thead th {\n",
              "        text-align: right;\n",
              "    }\n",
              "</style>\n",
              "<table border=\"1\" class=\"dataframe\">\n",
              "  <thead>\n",
              "    <tr style=\"text-align: right;\">\n",
              "      <th></th>\n",
              "      <th>FID</th>\n",
              "      <th>COD_REG</th>\n",
              "      <th>REGION</th>\n",
              "      <th>CUT</th>\n",
              "      <th>COMUNA</th>\n",
              "      <th>CALLE_UNO</th>\n",
              "      <th>CALLE_DOS</th>\n",
              "      <th>NUMERO</th>\n",
              "      <th>DIR_GEOCOD</th>\n",
              "      <th>LAT</th>\n",
              "      <th>...</th>\n",
              "      <th>Tipo_Accid</th>\n",
              "      <th>Tipo__CONA</th>\n",
              "      <th>Zona</th>\n",
              "      <th>Causa__CON</th>\n",
              "      <th>Causa</th>\n",
              "      <th>Fallecidos</th>\n",
              "      <th>Graves</th>\n",
              "      <th>Menos_Grav</th>\n",
              "      <th>Leves</th>\n",
              "      <th>geometry</th>\n",
              "    </tr>\n",
              "  </thead>\n",
              "  <tbody>\n",
              "    <tr>\n",
              "      <th>429</th>\n",
              "      <td>430</td>\n",
              "      <td>2</td>\n",
              "      <td>REGION ANTOFAGASTA</td>\n",
              "      <td>2201</td>\n",
              "      <td>CALAMA</td>\n",
              "      <td>ARTURO PRAT</td>\n",
              "      <td>GUATEMALA</td>\n",
              "      <td>0</td>\n",
              "      <td>Arturo Prat &amp; Guatemala, Calama, Antofagasta, ...</td>\n",
              "      <td>-22.444325</td>\n",
              "      <td>...</td>\n",
              "      <td>COLISION</td>\n",
              "      <td>COLISION</td>\n",
              "      <td>URBANA</td>\n",
              "      <td>DESOBEDIENCIA A SEÑALIZACION</td>\n",
              "      <td>SEÑALIZACION DESOBEDECER SEÑAL PARE</td>\n",
              "      <td>0</td>\n",
              "      <td>0</td>\n",
              "      <td>0</td>\n",
              "      <td>0</td>\n",
              "      <td>POINT (-68.9328 -22.44432)</td>\n",
              "    </tr>\n",
              "    <tr>\n",
              "      <th>797</th>\n",
              "      <td>798</td>\n",
              "      <td>2</td>\n",
              "      <td>REGION ANTOFAGASTA</td>\n",
              "      <td>2101</td>\n",
              "      <td>ANTOFAGASTA</td>\n",
              "      <td>ALMTE LATORRE</td>\n",
              "      <td>GRECIA</td>\n",
              "      <td>0</td>\n",
              "      <td>Almte. Juan José Latorre &amp; Av. Grecia, Antofag...</td>\n",
              "      <td>-23.652126</td>\n",
              "      <td>...</td>\n",
              "      <td>COLISION</td>\n",
              "      <td>COLISION</td>\n",
              "      <td>URBANA</td>\n",
              "      <td>IMPRUDENCIA DEL CONDUCTOR</td>\n",
              "      <td>CONDUCCION NO ATENTO CONDICIONES TRANSITO MOMENTO</td>\n",
              "      <td>0</td>\n",
              "      <td>0</td>\n",
              "      <td>0</td>\n",
              "      <td>0</td>\n",
              "      <td>POINT (-70.40261 -23.65213)</td>\n",
              "    </tr>\n",
              "  </tbody>\n",
              "</table>\n",
              "<p>2 rows × 26 columns</p>\n",
              "</div>\n",
              "    <div class=\"colab-df-buttons\">\n",
              "\n",
              "  <div class=\"colab-df-container\">\n",
              "    <button class=\"colab-df-convert\" onclick=\"convertToInteractive('df-b875d750-79db-4ddc-8b73-2fec5f8eb78e')\"\n",
              "            title=\"Convert this dataframe to an interactive table.\"\n",
              "            style=\"display:none;\">\n",
              "\n",
              "  <svg xmlns=\"http://www.w3.org/2000/svg\" height=\"24px\" viewBox=\"0 -960 960 960\">\n",
              "    <path d=\"M120-120v-720h720v720H120Zm60-500h600v-160H180v160Zm220 220h160v-160H400v160Zm0 220h160v-160H400v160ZM180-400h160v-160H180v160Zm440 0h160v-160H620v160ZM180-180h160v-160H180v160Zm440 0h160v-160H620v160Z\"/>\n",
              "  </svg>\n",
              "    </button>\n",
              "\n",
              "  <style>\n",
              "    .colab-df-container {\n",
              "      display:flex;\n",
              "      gap: 12px;\n",
              "    }\n",
              "\n",
              "    .colab-df-convert {\n",
              "      background-color: #E8F0FE;\n",
              "      border: none;\n",
              "      border-radius: 50%;\n",
              "      cursor: pointer;\n",
              "      display: none;\n",
              "      fill: #1967D2;\n",
              "      height: 32px;\n",
              "      padding: 0 0 0 0;\n",
              "      width: 32px;\n",
              "    }\n",
              "\n",
              "    .colab-df-convert:hover {\n",
              "      background-color: #E2EBFA;\n",
              "      box-shadow: 0px 1px 2px rgba(60, 64, 67, 0.3), 0px 1px 3px 1px rgba(60, 64, 67, 0.15);\n",
              "      fill: #174EA6;\n",
              "    }\n",
              "\n",
              "    .colab-df-buttons div {\n",
              "      margin-bottom: 4px;\n",
              "    }\n",
              "\n",
              "    [theme=dark] .colab-df-convert {\n",
              "      background-color: #3B4455;\n",
              "      fill: #D2E3FC;\n",
              "    }\n",
              "\n",
              "    [theme=dark] .colab-df-convert:hover {\n",
              "      background-color: #434B5C;\n",
              "      box-shadow: 0px 1px 3px 1px rgba(0, 0, 0, 0.15);\n",
              "      filter: drop-shadow(0px 1px 2px rgba(0, 0, 0, 0.3));\n",
              "      fill: #FFFFFF;\n",
              "    }\n",
              "  </style>\n",
              "\n",
              "    <script>\n",
              "      const buttonEl =\n",
              "        document.querySelector('#df-b875d750-79db-4ddc-8b73-2fec5f8eb78e button.colab-df-convert');\n",
              "      buttonEl.style.display =\n",
              "        google.colab.kernel.accessAllowed ? 'block' : 'none';\n",
              "\n",
              "      async function convertToInteractive(key) {\n",
              "        const element = document.querySelector('#df-b875d750-79db-4ddc-8b73-2fec5f8eb78e');\n",
              "        const dataTable =\n",
              "          await google.colab.kernel.invokeFunction('convertToInteractive',\n",
              "                                                    [key], {});\n",
              "        if (!dataTable) return;\n",
              "\n",
              "        const docLinkHtml = 'Like what you see? Visit the ' +\n",
              "          '<a target=\"_blank\" href=https://colab.research.google.com/notebooks/data_table.ipynb>data table notebook</a>'\n",
              "          + ' to learn more about interactive tables.';\n",
              "        element.innerHTML = '';\n",
              "        dataTable['output_type'] = 'display_data';\n",
              "        await google.colab.output.renderOutput(dataTable, element);\n",
              "        const docLink = document.createElement('div');\n",
              "        docLink.innerHTML = docLinkHtml;\n",
              "        element.appendChild(docLink);\n",
              "      }\n",
              "    </script>\n",
              "  </div>\n",
              "\n",
              "\n",
              "    <div id=\"df-75bbf485-7614-4ba3-badf-adc6bbf8fb4a\">\n",
              "      <button class=\"colab-df-quickchart\" onclick=\"quickchart('df-75bbf485-7614-4ba3-badf-adc6bbf8fb4a')\"\n",
              "                title=\"Suggest charts\"\n",
              "                style=\"display:none;\">\n",
              "\n",
              "<svg xmlns=\"http://www.w3.org/2000/svg\" height=\"24px\"viewBox=\"0 0 24 24\"\n",
              "     width=\"24px\">\n",
              "    <g>\n",
              "        <path d=\"M19 3H5c-1.1 0-2 .9-2 2v14c0 1.1.9 2 2 2h14c1.1 0 2-.9 2-2V5c0-1.1-.9-2-2-2zM9 17H7v-7h2v7zm4 0h-2V7h2v10zm4 0h-2v-4h2v4z\"/>\n",
              "    </g>\n",
              "</svg>\n",
              "      </button>\n",
              "\n",
              "<style>\n",
              "  .colab-df-quickchart {\n",
              "      --bg-color: #E8F0FE;\n",
              "      --fill-color: #1967D2;\n",
              "      --hover-bg-color: #E2EBFA;\n",
              "      --hover-fill-color: #174EA6;\n",
              "      --disabled-fill-color: #AAA;\n",
              "      --disabled-bg-color: #DDD;\n",
              "  }\n",
              "\n",
              "  [theme=dark] .colab-df-quickchart {\n",
              "      --bg-color: #3B4455;\n",
              "      --fill-color: #D2E3FC;\n",
              "      --hover-bg-color: #434B5C;\n",
              "      --hover-fill-color: #FFFFFF;\n",
              "      --disabled-bg-color: #3B4455;\n",
              "      --disabled-fill-color: #666;\n",
              "  }\n",
              "\n",
              "  .colab-df-quickchart {\n",
              "    background-color: var(--bg-color);\n",
              "    border: none;\n",
              "    border-radius: 50%;\n",
              "    cursor: pointer;\n",
              "    display: none;\n",
              "    fill: var(--fill-color);\n",
              "    height: 32px;\n",
              "    padding: 0;\n",
              "    width: 32px;\n",
              "  }\n",
              "\n",
              "  .colab-df-quickchart:hover {\n",
              "    background-color: var(--hover-bg-color);\n",
              "    box-shadow: 0 1px 2px rgba(60, 64, 67, 0.3), 0 1px 3px 1px rgba(60, 64, 67, 0.15);\n",
              "    fill: var(--button-hover-fill-color);\n",
              "  }\n",
              "\n",
              "  .colab-df-quickchart-complete:disabled,\n",
              "  .colab-df-quickchart-complete:disabled:hover {\n",
              "    background-color: var(--disabled-bg-color);\n",
              "    fill: var(--disabled-fill-color);\n",
              "    box-shadow: none;\n",
              "  }\n",
              "\n",
              "  .colab-df-spinner {\n",
              "    border: 2px solid var(--fill-color);\n",
              "    border-color: transparent;\n",
              "    border-bottom-color: var(--fill-color);\n",
              "    animation:\n",
              "      spin 1s steps(1) infinite;\n",
              "  }\n",
              "\n",
              "  @keyframes spin {\n",
              "    0% {\n",
              "      border-color: transparent;\n",
              "      border-bottom-color: var(--fill-color);\n",
              "      border-left-color: var(--fill-color);\n",
              "    }\n",
              "    20% {\n",
              "      border-color: transparent;\n",
              "      border-left-color: var(--fill-color);\n",
              "      border-top-color: var(--fill-color);\n",
              "    }\n",
              "    30% {\n",
              "      border-color: transparent;\n",
              "      border-left-color: var(--fill-color);\n",
              "      border-top-color: var(--fill-color);\n",
              "      border-right-color: var(--fill-color);\n",
              "    }\n",
              "    40% {\n",
              "      border-color: transparent;\n",
              "      border-right-color: var(--fill-color);\n",
              "      border-top-color: var(--fill-color);\n",
              "    }\n",
              "    60% {\n",
              "      border-color: transparent;\n",
              "      border-right-color: var(--fill-color);\n",
              "    }\n",
              "    80% {\n",
              "      border-color: transparent;\n",
              "      border-right-color: var(--fill-color);\n",
              "      border-bottom-color: var(--fill-color);\n",
              "    }\n",
              "    90% {\n",
              "      border-color: transparent;\n",
              "      border-bottom-color: var(--fill-color);\n",
              "    }\n",
              "  }\n",
              "</style>\n",
              "\n",
              "      <script>\n",
              "        async function quickchart(key) {\n",
              "          const quickchartButtonEl =\n",
              "            document.querySelector('#' + key + ' button');\n",
              "          quickchartButtonEl.disabled = true;  // To prevent multiple clicks.\n",
              "          quickchartButtonEl.classList.add('colab-df-spinner');\n",
              "          try {\n",
              "            const charts = await google.colab.kernel.invokeFunction(\n",
              "                'suggestCharts', [key], {});\n",
              "          } catch (error) {\n",
              "            console.error('Error during call to suggestCharts:', error);\n",
              "          }\n",
              "          quickchartButtonEl.classList.remove('colab-df-spinner');\n",
              "          quickchartButtonEl.classList.add('colab-df-quickchart-complete');\n",
              "        }\n",
              "        (() => {\n",
              "          let quickchartButtonEl =\n",
              "            document.querySelector('#df-75bbf485-7614-4ba3-badf-adc6bbf8fb4a button');\n",
              "          quickchartButtonEl.style.display =\n",
              "            google.colab.kernel.accessAllowed ? 'block' : 'none';\n",
              "        })();\n",
              "      </script>\n",
              "    </div>\n",
              "\n",
              "    </div>\n",
              "  </div>\n"
            ],
            "application/vnd.google.colaboratory.intrinsic+json": {
              "type": "dataframe"
            }
          },
          "metadata": {},
          "execution_count": 313
        }
      ]
    },
    {
      "cell_type": "code",
      "source": [
        "gdfs_2020.info()  # ‘.info()’ is used to observe if there is null data in any variable,  by looking at the ‘Non-Null Count’ column."
      ],
      "metadata": {
        "id": "-GNZ7KHxA_Y6",
        "outputId": "067c3056-7aca-4cd6-a303-df98677fa103",
        "colab": {
          "base_uri": "https://localhost:8080/"
        }
      },
      "id": "-GNZ7KHxA_Y6",
      "execution_count": 314,
      "outputs": [
        {
          "output_type": "stream",
          "name": "stdout",
          "text": [
            "<class 'geopandas.geodataframe.GeoDataFrame'>\n",
            "RangeIndex: 1951 entries, 0 to 1950\n",
            "Data columns (total 26 columns):\n",
            " #   Column      Non-Null Count  Dtype              \n",
            "---  ------      --------------  -----              \n",
            " 0   FID         1951 non-null   int32              \n",
            " 1   COD_REG     1951 non-null   int32              \n",
            " 2   REGION      1951 non-null   object             \n",
            " 3   CUT         1951 non-null   int32              \n",
            " 4   COMUNA      1951 non-null   object             \n",
            " 5   CALLE_UNO   1951 non-null   object             \n",
            " 6   CALLE_DOS   1951 non-null   object             \n",
            " 7   NUMERO      1951 non-null   int32              \n",
            " 8   DIR_GEOCOD  1951 non-null   object             \n",
            " 9   LAT         1951 non-null   float64            \n",
            " 10  LNG         1951 non-null   float64            \n",
            " 11  VAL_COM     1951 non-null   int32              \n",
            " 12  TIPO        1951 non-null   object             \n",
            " 13  Año         1951 non-null   int32              \n",
            " 14  Idaccident  1951 non-null   int32              \n",
            " 15  Fecha       1951 non-null   datetime64[ms, UTC]\n",
            " 16  Tipo_Accid  1951 non-null   object             \n",
            " 17  Tipo__CONA  1951 non-null   object             \n",
            " 18  Zona        1951 non-null   object             \n",
            " 19  Causa__CON  1951 non-null   object             \n",
            " 20  Causa       1951 non-null   object             \n",
            " 21  Fallecidos  1951 non-null   int32              \n",
            " 22  Graves      1951 non-null   int32              \n",
            " 23  Menos_Grav  1951 non-null   int32              \n",
            " 24  Leves       1951 non-null   int32              \n",
            " 25  geometry    1951 non-null   geometry           \n",
            "dtypes: datetime64[ms, UTC](1), float64(2), geometry(1), int32(11), object(11)\n",
            "memory usage: 312.6+ KB\n"
          ]
        }
      ]
    },
    {
      "cell_type": "code",
      "source": [
        "# Se visualizan el nombre de todas las columnas, ya que en el codigo anetrior solo se puede ser una parte\n",
        "gdfs_2020.columns"
      ],
      "metadata": {
        "id": "j1MqrK6aP6ag",
        "outputId": "5ef7bbeb-75bd-4db2-ea0c-e7a3793e0736",
        "colab": {
          "base_uri": "https://localhost:8080/"
        }
      },
      "id": "j1MqrK6aP6ag",
      "execution_count": 315,
      "outputs": [
        {
          "output_type": "execute_result",
          "data": {
            "text/plain": [
              "Index(['FID', 'COD_REG', 'REGION', 'CUT', 'COMUNA', 'CALLE_UNO', 'CALLE_DOS',\n",
              "       'NUMERO', 'DIR_GEOCOD', 'LAT', 'LNG', 'VAL_COM', 'TIPO', 'Año',\n",
              "       'Idaccident', 'Fecha', 'Tipo_Accid', 'Tipo__CONA', 'Zona', 'Causa__CON',\n",
              "       'Causa', 'Fallecidos', 'Graves', 'Menos_Grav', 'Leves', 'geometry'],\n",
              "      dtype='object')"
            ]
          },
          "metadata": {},
          "execution_count": 315
        }
      ]
    },
    {
      "cell_type": "markdown",
      "source": [
        "En general los datos son bastantes similares a los del ano 2019, sin embargo tienen un orden diferente."
      ],
      "metadata": {
        "id": "ugCFwrXsQDED"
      },
      "id": "ugCFwrXsQDED"
    },
    {
      "cell_type": "markdown",
      "source": [
        "*Accidentes de transito del 2020*\n",
        "\n",
        "\n",
        "*   'FID': a unique ID for each accident\n",
        "*   'COD_REG': Region code\n",
        "*   'REGION': Name of the region\n",
        "*   'CUT': Unique territorial code of the commune\n",
        "*   'COMUNA': Name of the commune\n",
        "*   'CALLE_UNO': Name of the first street involved in the accident\n",
        "*   'CALLE_DOS': Name of the second street involved in the accident\n",
        "*   'NUMERO': Address number of the accident location\n",
        "*   'DIR_GEOCOD': Geocoded address of the accident location\n",
        "*   'LAT': Latitude of the accident location\n",
        "*   'LNG': Longitude of the accident location\n",
        "*   'VAL_COM': Value of the commune\n",
        "*   'TIPO': Type of coordinate (approximate, geometric center, etc.)\n",
        "*   'Año': Year the accident occurred\n",
        "*   'Idaccident': Unique identifier of the accident\n",
        "*   'Fecha': Date and time of the accident\n",
        "*   'Tipo_Accid': Type of accident (collision, run-over, etc.)\n",
        "*   'Tipo__CONA': Type of accident (collision, run-over, etc.)\n",
        "*   'Zona': Zone where the accident occurred (urban, rural)\n",
        "*   'Causa__CON': Cause of the collision according to the analysis\n",
        "*   'Causa': Cause of the accident (recklessness, alcohol, etc.)\n",
        "*   'Fallecidos': Number of fatalities in the accident\n",
        "*   'Graves': Number of seriously injured people in the accident\n",
        "*   'Menos_Grav': Number of less seriously injured people in the accident\n",
        "*   'Leves': Number of minor injuries in the accident\n",
        "*   'geometry': List the type of geometry, in this case POINT"
      ],
      "metadata": {
        "id": "mXwXlA1dQSIX"
      },
      "id": "mXwXlA1dQSIX"
    },
    {
      "cell_type": "markdown",
      "source": [
        "**Accidentes de transito año 2021**"
      ],
      "metadata": {
        "id": "4q5OQvJBH47q"
      },
      "id": "4q5OQvJBH47q"
    },
    {
      "cell_type": "code",
      "source": [
        "gdfs_2021.sample(2) # '.sample()' se usa par seleccionar filas al azar, nos sirve para visualizar su contenido."
      ],
      "metadata": {
        "colab": {
          "base_uri": "https://localhost:8080/",
          "height": 231
        },
        "id": "BLZ1IVfuypbl",
        "outputId": "3339989e-ded2-4e0a-a93c-90a5a9cd5382"
      },
      "id": "BLZ1IVfuypbl",
      "execution_count": 316,
      "outputs": [
        {
          "output_type": "execute_result",
          "data": {
            "text/plain": [
              "       FID  FID_1  LABELID    POINT_X    POINT_Y  FID_2   COMUNAREAL  VAL_COM  \\\n",
              "1709  1710   2245  1364759 -70.378810 -23.591781    229  ANTOFAGASTA        1   \n",
              "2110  2111   1197  1343527 -70.403215 -23.664614    229  ANTOFAGASTA        1   \n",
              "\n",
              "      OBJECTID   A_O  ...  Cód_Condi Condición  Cód_Est_1 Estado_Atm  \\\n",
              "1709     26028  2021  ...          1      SECO          1  DESPEJADO   \n",
              "2110     13887  2021  ...          1      SECO          1  DESPEJADO   \n",
              "\n",
              "     Fallecidos Graves  Menos_Grav Leves Ilesos                     geometry  \n",
              "1709          0      1           0     0      1  POINT (-70.37881 -23.59178)  \n",
              "2110          0      0           0     1      1  POINT (-70.40322 -23.66461)  \n",
              "\n",
              "[2 rows x 70 columns]"
            ],
            "text/html": [
              "\n",
              "  <div id=\"df-8ac3775a-a638-439e-bcb7-cc38ff95b789\" class=\"colab-df-container\">\n",
              "    <div>\n",
              "<style scoped>\n",
              "    .dataframe tbody tr th:only-of-type {\n",
              "        vertical-align: middle;\n",
              "    }\n",
              "\n",
              "    .dataframe tbody tr th {\n",
              "        vertical-align: top;\n",
              "    }\n",
              "\n",
              "    .dataframe thead th {\n",
              "        text-align: right;\n",
              "    }\n",
              "</style>\n",
              "<table border=\"1\" class=\"dataframe\">\n",
              "  <thead>\n",
              "    <tr style=\"text-align: right;\">\n",
              "      <th></th>\n",
              "      <th>FID</th>\n",
              "      <th>FID_1</th>\n",
              "      <th>LABELID</th>\n",
              "      <th>POINT_X</th>\n",
              "      <th>POINT_Y</th>\n",
              "      <th>FID_2</th>\n",
              "      <th>COMUNAREAL</th>\n",
              "      <th>VAL_COM</th>\n",
              "      <th>OBJECTID</th>\n",
              "      <th>A_O</th>\n",
              "      <th>...</th>\n",
              "      <th>Cód_Condi</th>\n",
              "      <th>Condición</th>\n",
              "      <th>Cód_Est_1</th>\n",
              "      <th>Estado_Atm</th>\n",
              "      <th>Fallecidos</th>\n",
              "      <th>Graves</th>\n",
              "      <th>Menos_Grav</th>\n",
              "      <th>Leves</th>\n",
              "      <th>Ilesos</th>\n",
              "      <th>geometry</th>\n",
              "    </tr>\n",
              "  </thead>\n",
              "  <tbody>\n",
              "    <tr>\n",
              "      <th>1709</th>\n",
              "      <td>1710</td>\n",
              "      <td>2245</td>\n",
              "      <td>1364759</td>\n",
              "      <td>-70.378810</td>\n",
              "      <td>-23.591781</td>\n",
              "      <td>229</td>\n",
              "      <td>ANTOFAGASTA</td>\n",
              "      <td>1</td>\n",
              "      <td>26028</td>\n",
              "      <td>2021</td>\n",
              "      <td>...</td>\n",
              "      <td>1</td>\n",
              "      <td>SECO</td>\n",
              "      <td>1</td>\n",
              "      <td>DESPEJADO</td>\n",
              "      <td>0</td>\n",
              "      <td>1</td>\n",
              "      <td>0</td>\n",
              "      <td>0</td>\n",
              "      <td>1</td>\n",
              "      <td>POINT (-70.37881 -23.59178)</td>\n",
              "    </tr>\n",
              "    <tr>\n",
              "      <th>2110</th>\n",
              "      <td>2111</td>\n",
              "      <td>1197</td>\n",
              "      <td>1343527</td>\n",
              "      <td>-70.403215</td>\n",
              "      <td>-23.664614</td>\n",
              "      <td>229</td>\n",
              "      <td>ANTOFAGASTA</td>\n",
              "      <td>1</td>\n",
              "      <td>13887</td>\n",
              "      <td>2021</td>\n",
              "      <td>...</td>\n",
              "      <td>1</td>\n",
              "      <td>SECO</td>\n",
              "      <td>1</td>\n",
              "      <td>DESPEJADO</td>\n",
              "      <td>0</td>\n",
              "      <td>0</td>\n",
              "      <td>0</td>\n",
              "      <td>1</td>\n",
              "      <td>1</td>\n",
              "      <td>POINT (-70.40322 -23.66461)</td>\n",
              "    </tr>\n",
              "  </tbody>\n",
              "</table>\n",
              "<p>2 rows × 70 columns</p>\n",
              "</div>\n",
              "    <div class=\"colab-df-buttons\">\n",
              "\n",
              "  <div class=\"colab-df-container\">\n",
              "    <button class=\"colab-df-convert\" onclick=\"convertToInteractive('df-8ac3775a-a638-439e-bcb7-cc38ff95b789')\"\n",
              "            title=\"Convert this dataframe to an interactive table.\"\n",
              "            style=\"display:none;\">\n",
              "\n",
              "  <svg xmlns=\"http://www.w3.org/2000/svg\" height=\"24px\" viewBox=\"0 -960 960 960\">\n",
              "    <path d=\"M120-120v-720h720v720H120Zm60-500h600v-160H180v160Zm220 220h160v-160H400v160Zm0 220h160v-160H400v160ZM180-400h160v-160H180v160Zm440 0h160v-160H620v160ZM180-180h160v-160H180v160Zm440 0h160v-160H620v160Z\"/>\n",
              "  </svg>\n",
              "    </button>\n",
              "\n",
              "  <style>\n",
              "    .colab-df-container {\n",
              "      display:flex;\n",
              "      gap: 12px;\n",
              "    }\n",
              "\n",
              "    .colab-df-convert {\n",
              "      background-color: #E8F0FE;\n",
              "      border: none;\n",
              "      border-radius: 50%;\n",
              "      cursor: pointer;\n",
              "      display: none;\n",
              "      fill: #1967D2;\n",
              "      height: 32px;\n",
              "      padding: 0 0 0 0;\n",
              "      width: 32px;\n",
              "    }\n",
              "\n",
              "    .colab-df-convert:hover {\n",
              "      background-color: #E2EBFA;\n",
              "      box-shadow: 0px 1px 2px rgba(60, 64, 67, 0.3), 0px 1px 3px 1px rgba(60, 64, 67, 0.15);\n",
              "      fill: #174EA6;\n",
              "    }\n",
              "\n",
              "    .colab-df-buttons div {\n",
              "      margin-bottom: 4px;\n",
              "    }\n",
              "\n",
              "    [theme=dark] .colab-df-convert {\n",
              "      background-color: #3B4455;\n",
              "      fill: #D2E3FC;\n",
              "    }\n",
              "\n",
              "    [theme=dark] .colab-df-convert:hover {\n",
              "      background-color: #434B5C;\n",
              "      box-shadow: 0px 1px 3px 1px rgba(0, 0, 0, 0.15);\n",
              "      filter: drop-shadow(0px 1px 2px rgba(0, 0, 0, 0.3));\n",
              "      fill: #FFFFFF;\n",
              "    }\n",
              "  </style>\n",
              "\n",
              "    <script>\n",
              "      const buttonEl =\n",
              "        document.querySelector('#df-8ac3775a-a638-439e-bcb7-cc38ff95b789 button.colab-df-convert');\n",
              "      buttonEl.style.display =\n",
              "        google.colab.kernel.accessAllowed ? 'block' : 'none';\n",
              "\n",
              "      async function convertToInteractive(key) {\n",
              "        const element = document.querySelector('#df-8ac3775a-a638-439e-bcb7-cc38ff95b789');\n",
              "        const dataTable =\n",
              "          await google.colab.kernel.invokeFunction('convertToInteractive',\n",
              "                                                    [key], {});\n",
              "        if (!dataTable) return;\n",
              "\n",
              "        const docLinkHtml = 'Like what you see? Visit the ' +\n",
              "          '<a target=\"_blank\" href=https://colab.research.google.com/notebooks/data_table.ipynb>data table notebook</a>'\n",
              "          + ' to learn more about interactive tables.';\n",
              "        element.innerHTML = '';\n",
              "        dataTable['output_type'] = 'display_data';\n",
              "        await google.colab.output.renderOutput(dataTable, element);\n",
              "        const docLink = document.createElement('div');\n",
              "        docLink.innerHTML = docLinkHtml;\n",
              "        element.appendChild(docLink);\n",
              "      }\n",
              "    </script>\n",
              "  </div>\n",
              "\n",
              "\n",
              "    <div id=\"df-cf3bd42d-b8d7-4f05-a6e6-d1c1d1ad02f7\">\n",
              "      <button class=\"colab-df-quickchart\" onclick=\"quickchart('df-cf3bd42d-b8d7-4f05-a6e6-d1c1d1ad02f7')\"\n",
              "                title=\"Suggest charts\"\n",
              "                style=\"display:none;\">\n",
              "\n",
              "<svg xmlns=\"http://www.w3.org/2000/svg\" height=\"24px\"viewBox=\"0 0 24 24\"\n",
              "     width=\"24px\">\n",
              "    <g>\n",
              "        <path d=\"M19 3H5c-1.1 0-2 .9-2 2v14c0 1.1.9 2 2 2h14c1.1 0 2-.9 2-2V5c0-1.1-.9-2-2-2zM9 17H7v-7h2v7zm4 0h-2V7h2v10zm4 0h-2v-4h2v4z\"/>\n",
              "    </g>\n",
              "</svg>\n",
              "      </button>\n",
              "\n",
              "<style>\n",
              "  .colab-df-quickchart {\n",
              "      --bg-color: #E8F0FE;\n",
              "      --fill-color: #1967D2;\n",
              "      --hover-bg-color: #E2EBFA;\n",
              "      --hover-fill-color: #174EA6;\n",
              "      --disabled-fill-color: #AAA;\n",
              "      --disabled-bg-color: #DDD;\n",
              "  }\n",
              "\n",
              "  [theme=dark] .colab-df-quickchart {\n",
              "      --bg-color: #3B4455;\n",
              "      --fill-color: #D2E3FC;\n",
              "      --hover-bg-color: #434B5C;\n",
              "      --hover-fill-color: #FFFFFF;\n",
              "      --disabled-bg-color: #3B4455;\n",
              "      --disabled-fill-color: #666;\n",
              "  }\n",
              "\n",
              "  .colab-df-quickchart {\n",
              "    background-color: var(--bg-color);\n",
              "    border: none;\n",
              "    border-radius: 50%;\n",
              "    cursor: pointer;\n",
              "    display: none;\n",
              "    fill: var(--fill-color);\n",
              "    height: 32px;\n",
              "    padding: 0;\n",
              "    width: 32px;\n",
              "  }\n",
              "\n",
              "  .colab-df-quickchart:hover {\n",
              "    background-color: var(--hover-bg-color);\n",
              "    box-shadow: 0 1px 2px rgba(60, 64, 67, 0.3), 0 1px 3px 1px rgba(60, 64, 67, 0.15);\n",
              "    fill: var(--button-hover-fill-color);\n",
              "  }\n",
              "\n",
              "  .colab-df-quickchart-complete:disabled,\n",
              "  .colab-df-quickchart-complete:disabled:hover {\n",
              "    background-color: var(--disabled-bg-color);\n",
              "    fill: var(--disabled-fill-color);\n",
              "    box-shadow: none;\n",
              "  }\n",
              "\n",
              "  .colab-df-spinner {\n",
              "    border: 2px solid var(--fill-color);\n",
              "    border-color: transparent;\n",
              "    border-bottom-color: var(--fill-color);\n",
              "    animation:\n",
              "      spin 1s steps(1) infinite;\n",
              "  }\n",
              "\n",
              "  @keyframes spin {\n",
              "    0% {\n",
              "      border-color: transparent;\n",
              "      border-bottom-color: var(--fill-color);\n",
              "      border-left-color: var(--fill-color);\n",
              "    }\n",
              "    20% {\n",
              "      border-color: transparent;\n",
              "      border-left-color: var(--fill-color);\n",
              "      border-top-color: var(--fill-color);\n",
              "    }\n",
              "    30% {\n",
              "      border-color: transparent;\n",
              "      border-left-color: var(--fill-color);\n",
              "      border-top-color: var(--fill-color);\n",
              "      border-right-color: var(--fill-color);\n",
              "    }\n",
              "    40% {\n",
              "      border-color: transparent;\n",
              "      border-right-color: var(--fill-color);\n",
              "      border-top-color: var(--fill-color);\n",
              "    }\n",
              "    60% {\n",
              "      border-color: transparent;\n",
              "      border-right-color: var(--fill-color);\n",
              "    }\n",
              "    80% {\n",
              "      border-color: transparent;\n",
              "      border-right-color: var(--fill-color);\n",
              "      border-bottom-color: var(--fill-color);\n",
              "    }\n",
              "    90% {\n",
              "      border-color: transparent;\n",
              "      border-bottom-color: var(--fill-color);\n",
              "    }\n",
              "  }\n",
              "</style>\n",
              "\n",
              "      <script>\n",
              "        async function quickchart(key) {\n",
              "          const quickchartButtonEl =\n",
              "            document.querySelector('#' + key + ' button');\n",
              "          quickchartButtonEl.disabled = true;  // To prevent multiple clicks.\n",
              "          quickchartButtonEl.classList.add('colab-df-spinner');\n",
              "          try {\n",
              "            const charts = await google.colab.kernel.invokeFunction(\n",
              "                'suggestCharts', [key], {});\n",
              "          } catch (error) {\n",
              "            console.error('Error during call to suggestCharts:', error);\n",
              "          }\n",
              "          quickchartButtonEl.classList.remove('colab-df-spinner');\n",
              "          quickchartButtonEl.classList.add('colab-df-quickchart-complete');\n",
              "        }\n",
              "        (() => {\n",
              "          let quickchartButtonEl =\n",
              "            document.querySelector('#df-cf3bd42d-b8d7-4f05-a6e6-d1c1d1ad02f7 button');\n",
              "          quickchartButtonEl.style.display =\n",
              "            google.colab.kernel.accessAllowed ? 'block' : 'none';\n",
              "        })();\n",
              "      </script>\n",
              "    </div>\n",
              "\n",
              "    </div>\n",
              "  </div>\n"
            ],
            "application/vnd.google.colaboratory.intrinsic+json": {
              "type": "dataframe"
            }
          },
          "metadata": {},
          "execution_count": 316
        }
      ]
    },
    {
      "cell_type": "code",
      "source": [
        "gdfs_2021.info()  # ‘.info()’ is used to observe if there is null data in any variable,  by looking at the ‘Non-Null Count’ column."
      ],
      "metadata": {
        "id": "yB30hDXOBDZn",
        "outputId": "f98a8b77-0d69-438e-ad5d-57cb507fb3d0",
        "colab": {
          "base_uri": "https://localhost:8080/"
        }
      },
      "id": "yB30hDXOBDZn",
      "execution_count": 317,
      "outputs": [
        {
          "output_type": "stream",
          "name": "stdout",
          "text": [
            "<class 'geopandas.geodataframe.GeoDataFrame'>\n",
            "RangeIndex: 2416 entries, 0 to 2415\n",
            "Data columns (total 70 columns):\n",
            " #   Column      Non-Null Count  Dtype              \n",
            "---  ------      --------------  -----              \n",
            " 0   FID         2416 non-null   int32              \n",
            " 1   FID_1       2416 non-null   int32              \n",
            " 2   LABELID     2416 non-null   int32              \n",
            " 3   POINT_X     2416 non-null   float64            \n",
            " 4   POINT_Y     2416 non-null   float64            \n",
            " 5   FID_2       2416 non-null   int32              \n",
            " 6   COMUNAREAL  2416 non-null   object             \n",
            " 7   VAL_COM     2416 non-null   int32              \n",
            " 8   OBJECTID    2416 non-null   int32              \n",
            " 9   A_O         2416 non-null   int32              \n",
            " 10  IDACCIDENT  2416 non-null   int32              \n",
            " 11  REGION      2416 non-null   object             \n",
            " 12  COD_COMUN   2416 non-null   int32              \n",
            " 13  COMUNA      2416 non-null   object             \n",
            " 14  CALLE_UNO   2416 non-null   object             \n",
            " 15  CALLE_DOS   2416 non-null   object             \n",
            " 16  NUMERO      2416 non-null   int32              \n",
            " 17  DIR_GEOCOD  2416 non-null   object             \n",
            " 18  PAIS        2416 non-null   object             \n",
            " 19  TIPO        2416 non-null   object             \n",
            " 20  OBJECTID_1  2416 non-null   int32              \n",
            " 21  Año         2416 non-null   int32              \n",
            " 22  Idaccide_1  2416 non-null   int32              \n",
            " 23  Claseaccid  2416 non-null   int32              \n",
            " 24  Fecha       2416 non-null   datetime64[ms, UTC]\n",
            " 25  Hora        2416 non-null   datetime64[ms, UTC]\n",
            " 26  Cód_Regi    2416 non-null   int32              \n",
            " 27  Región      2416 non-null   object             \n",
            " 28  Cód_Comun   2416 non-null   int32              \n",
            " 29  Comuna_1    2416 non-null   object             \n",
            " 30  Cód_Tipo_   2416 non-null   int32              \n",
            " 31  Tipo_Accid  2416 non-null   object             \n",
            " 32  Cód_Tipo1   2416 non-null   int32              \n",
            " 33  Tipo__CONA  2416 non-null   object             \n",
            " 34  Cód_Zona    2416 non-null   int32              \n",
            " 35  Zona        2416 non-null   object             \n",
            " 36  Cód_Ubica   2416 non-null   int32              \n",
            " 37  Ubicación   2416 non-null   object             \n",
            " 38  Cód_Causa   2416 non-null   int32              \n",
            " 39  Causa__CON  2416 non-null   object             \n",
            " 40  Cód_Cau_1   2416 non-null   int32              \n",
            " 41  Causa       2416 non-null   object             \n",
            " 42  Cód_Calle   2416 non-null   int32              \n",
            " 43  Calle_Un_1  2416 non-null   object             \n",
            " 44  Cód_Cal_1   2416 non-null   int32              \n",
            " 45  Calle_Do_1  2416 non-null   object             \n",
            " 46  Intersecci  2416 non-null   object             \n",
            " 47  Número      2416 non-null   int32              \n",
            " 48  Ruta        2416 non-null   object             \n",
            " 49  Cód_Ruta    2416 non-null   object             \n",
            " 50  Ubicaci_1   2416 non-null   object             \n",
            " 51  Km_Vía_Fe   2416 non-null   object             \n",
            " 52  Pistas_de_  2416 non-null   int32              \n",
            " 53  Pistas_de1  2416 non-null   int32              \n",
            " 54  Cód_Calza   2416 non-null   int32              \n",
            " 55  Calzada     2416 non-null   object             \n",
            " 56  Cód__Tipo   2416 non-null   int32              \n",
            " 57  Tipo_Calza  2416 non-null   object             \n",
            " 58  Cód_Estad   2416 non-null   int32              \n",
            " 59  Estado_Cal  2416 non-null   object             \n",
            " 60  Cód_Condi   2416 non-null   int32              \n",
            " 61  Condición   2416 non-null   object             \n",
            " 62  Cód_Est_1   2416 non-null   int32              \n",
            " 63  Estado_Atm  2416 non-null   object             \n",
            " 64  Fallecidos  2416 non-null   int32              \n",
            " 65  Graves      2416 non-null   int32              \n",
            " 66  Menos_Grav  2416 non-null   int32              \n",
            " 67  Leves       2416 non-null   int32              \n",
            " 68  Ilesos      2416 non-null   int32              \n",
            " 69  geometry    2416 non-null   geometry           \n",
            "dtypes: datetime64[ms, UTC](2), float64(2), geometry(1), int32(37), object(28)\n",
            "memory usage: 972.2+ KB\n"
          ]
        }
      ]
    },
    {
      "cell_type": "code",
      "source": [
        "# Se visualizan el nombre de todas las columnas, ya que en el codigo anetrior solo se puede ser una parte.\n",
        "gdfs_2021.columns"
      ],
      "metadata": {
        "id": "SrjJpAt2aHqd",
        "outputId": "43ac0069-8487-4600-e1c6-8f6e9cd165da",
        "colab": {
          "base_uri": "https://localhost:8080/"
        }
      },
      "id": "SrjJpAt2aHqd",
      "execution_count": 318,
      "outputs": [
        {
          "output_type": "execute_result",
          "data": {
            "text/plain": [
              "Index(['FID', 'FID_1', 'LABELID', 'POINT_X', 'POINT_Y', 'FID_2', 'COMUNAREAL',\n",
              "       'VAL_COM', 'OBJECTID', 'A_O', 'IDACCIDENT', 'REGION', 'COD_COMUN',\n",
              "       'COMUNA', 'CALLE_UNO', 'CALLE_DOS', 'NUMERO', 'DIR_GEOCOD', 'PAIS',\n",
              "       'TIPO', 'OBJECTID_1', 'Año', 'Idaccide_1', 'Claseaccid', 'Fecha',\n",
              "       'Hora', 'Cód_Regi', 'Región', 'Cód_Comun', 'Comuna_1', 'Cód_Tipo_',\n",
              "       'Tipo_Accid', 'Cód_Tipo1', 'Tipo__CONA', 'Cód_Zona', 'Zona',\n",
              "       'Cód_Ubica', 'Ubicación', 'Cód_Causa', 'Causa__CON', 'Cód_Cau_1',\n",
              "       'Causa', 'Cód_Calle', 'Calle_Un_1', 'Cód_Cal_1', 'Calle_Do_1',\n",
              "       'Intersecci', 'Número', 'Ruta', 'Cód_Ruta', 'Ubicaci_1', 'Km_Vía_Fe',\n",
              "       'Pistas_de_', 'Pistas_de1', 'Cód_Calza', 'Calzada', 'Cód__Tipo',\n",
              "       'Tipo_Calza', 'Cód_Estad', 'Estado_Cal', 'Cód_Condi', 'Condición',\n",
              "       'Cód_Est_1', 'Estado_Atm', 'Fallecidos', 'Graves', 'Menos_Grav',\n",
              "       'Leves', 'Ilesos', 'geometry'],\n",
              "      dtype='object')"
            ]
          },
          "metadata": {},
          "execution_count": 318
        }
      ]
    },
    {
      "cell_type": "markdown",
      "source": [
        "Al igual que los geojson anteriores, los datos son muy similares."
      ],
      "metadata": {
        "id": "50we8zTAaoAD"
      },
      "id": "50we8zTAaoAD"
    },
    {
      "cell_type": "markdown",
      "source": [
        "*Accidentes de transito del 2021*\n",
        "\n",
        "\n",
        "*   'FID': A unique ID for each accident\n",
        "*   'FID_1': Additional unique identifier of the accident\n",
        "*   'LABELID': Label identifier of the accident\n",
        "*   'POINT_X': X point of the accident location\n",
        "*   'POINT_Y': Y point of the accident location\n",
        "*   'FID_2':Second unique identifier of the accident\n",
        "*   'COMUNAREAL': Name of the commune where the accident occurred\n",
        "*   'VAL_COM': Value of the commune where the accident occurred\n",
        "*   'OBJECTID': Unique identifier of the object on the map\n",
        "*   'A_O': Year of the accident\n",
        "*   'IDACCIDENT': Unique identifier of the accident\n",
        "*   'REGION': Name of the region where the accident occurred\n",
        "*   'COD_COMUN': Code of the commune where the accident occurred\n",
        "*   'COMUNA': Name of the commune where the accident occurred\n",
        "*   'CALLE_UNO': Name of the first street involved in the accident\n",
        "*   'CALLE_DOS': Name of the second street involved in the accident\n",
        "*   'NUMERO': Address number where the accident occurred\n",
        "*   'DIR_GEOCOD': Geocoded address of the accident\n",
        "*   'PAIS': Country where the accident occurred\n",
        "*   'TIPO': Type of accident location\n",
        "*   'OBJECTID_1': Second unique identifier of the object on the map\n",
        "*   'Año': Year of the accident\n",
        "*   'Idaccide_1': Second unique identifier of the accident\n",
        "*   'Claseaccid': Class of the accident (collision, run-over, etc.)\n",
        "*   'Fecha': Date of the accident\n",
        "*   'Hora': Time of the accident\n",
        "*   'Cód_Regi': Code of the region where the accident occurred\n",
        "*   'Región': Name of the region where the accident occurred\n",
        "*   'Cód_Comun': Code of the commune where the accident occurred\n",
        "*   'Comuna_1': Name of the commune where the accident occurred\n",
        "*   'Cód_Tipo_': Code of the type of accident (collision, run-over, etc.)\n",
        "*   'Tipo_Accid': Type of accident (collision, run-over, etc.)\n",
        "*   'Cód_Tipo1':  Additional code of the type of accident\n",
        "*   'Tipo__CONA': Type of accident (collision, run-over, etc.)\n",
        "*   'Cód_Zona': Code of the zone where the accident occurred\n",
        "*   'Zona': Zone where the accident occurred\n",
        "*   'Cód_Ubica': Code of the specific location of the accident\n",
        "*   'Ubicación': Specific location of the accident\n",
        "*   'Cód_Causa': Code of the cause of the accident\n",
        "*   'Causa__CON': Detailed description of the cause of the accident\n",
        "*   'Cód_Cau_1': Additional code of the cause of the accident\n",
        "*   'Causa': General cause of the accident\n",
        "*   'Cód_Calle': Code of the first street involved in the accident\n",
        "*   'Calle_Un_1': Detailed name of the first street involved in the accident\n",
        "*   'Cód_Cal_1': Additional code of the first street involved in the accident\n",
        "*   'Calle_Do_1': Detailed name of the second street involved in the accident\n",
        "*   'Intersecci': Intersection where the accident occurred\n",
        "*   'Número': Specific number in the address where the accident occurred\n",
        "*   'Ruta': Route or highway where the accident occurred\n",
        "*   'Cód_Ruta': Code of the route or highway where the accident occurred\n",
        "*   'Ubicaci_1': Additional description of the specific location of the accident\n",
        "*   'Km_Vía_Fe': Specific kilometer on the railway where the accident occurred\n",
        "*   'Pistas_de_': Number of lanes or tracks involved in the accident\n",
        "*   'Pistas_de1': Additional description of the lanes or tracks involved in the accident\n",
        "*   'Cód_Calza': Code of the road or surface involved in the accident\n",
        "*   'Calzada': Detailed description of the road or surface involved in the accident.\n",
        "*   'Cód__Tipo': Specific code of the type of road or surface involved in the accident\n",
        "*   'Tipo_Calza': Specific type of road or surface involved in the accident\n",
        "*   'Cód_Estad': Specific code of the state or condition of the road in the accident\n",
        "*   'Estado_Cal': State or condition of the road in the accident\n",
        "*   'Cód_Condi': Specific code of the atmospheric conditions during the accident\n",
        "*   'Condición': Atmospheric conditions during the accident\n",
        "*   'Cód_Est_1': Additional code of the atmospheric state during the accident.\n",
        "*   'Estado_Atm': Atmospheric state during the accident\n",
        "*   'Fallecidos': Total number of fatalities in the accident\n",
        "*   'Graves': Total number of serious injuries in the accident\n",
        "*   'Menos_Grav': Total number of less serious injuries in the accident\n",
        "*   'Leves': Total number of minor injuries in the accident\n",
        "*   'Ilesos': Total number of uninjured people in the accident\n",
        "*   'geometry': List the type of geometry, in this case POINT"
      ],
      "metadata": {
        "id": "FVefSgg6aJC1"
      },
      "id": "FVefSgg6aJC1"
    },
    {
      "cell_type": "markdown",
      "source": [
        "**Accidentes de transito año 2022**"
      ],
      "metadata": {
        "id": "qv8QoHIgH9L2"
      },
      "id": "qv8QoHIgH9L2"
    },
    {
      "cell_type": "code",
      "source": [
        "gdfs_2022.sample(2) # '.sample()' se usa par seleccionar filas al azar, nos sirve para visualizar su contenido."
      ],
      "metadata": {
        "colab": {
          "base_uri": "https://localhost:8080/",
          "height": 231
        },
        "id": "u4sFKpsYyvrP",
        "outputId": "d06cfe41-1549-4f41-861e-e3aaaaafe3aa"
      },
      "id": "u4sFKpsYyvrP",
      "execution_count": 319,
      "outputs": [
        {
          "output_type": "execute_result",
          "data": {
            "text/plain": [
              "     FID    POINT_X    POINT_Y  Idaccident   Año  Claseaccid  \\\n",
              "959  960 -68.925269 -22.467095     1415764  2022           1   \n",
              "67    68 -70.375872 -23.586991     1446482  2022           1   \n",
              "\n",
              "                        Fecha  Cód_Regi              Región  Cód_Comun  ...  \\\n",
              "959 2022-01-25 00:00:00+00:00         2  REGION ANTOFAGASTA       2201  ...   \n",
              "67  2022-04-22 00:00:00+00:00         2  REGION ANTOFAGASTA       2101  ...   \n",
              "\n",
              "    Cód_Condi  Condición Cód_Est_1  Estado_Atm Fallecidos  Graves Menos_Grav  \\\n",
              "959         1       SECO         1   DESPEJADO          0       0          0   \n",
              "67          1       SECO         1   DESPEJADO          0       0          0   \n",
              "\n",
              "     Leves Ilesos                     geometry  \n",
              "959      1      1   POINT (-68.92527 -22.4671)  \n",
              "67       0      2  POINT (-70.37587 -23.58699)  \n",
              "\n",
              "[2 rows x 50 columns]"
            ],
            "text/html": [
              "\n",
              "  <div id=\"df-a891ab3c-ef25-4332-97ff-35b7034ac485\" class=\"colab-df-container\">\n",
              "    <div>\n",
              "<style scoped>\n",
              "    .dataframe tbody tr th:only-of-type {\n",
              "        vertical-align: middle;\n",
              "    }\n",
              "\n",
              "    .dataframe tbody tr th {\n",
              "        vertical-align: top;\n",
              "    }\n",
              "\n",
              "    .dataframe thead th {\n",
              "        text-align: right;\n",
              "    }\n",
              "</style>\n",
              "<table border=\"1\" class=\"dataframe\">\n",
              "  <thead>\n",
              "    <tr style=\"text-align: right;\">\n",
              "      <th></th>\n",
              "      <th>FID</th>\n",
              "      <th>POINT_X</th>\n",
              "      <th>POINT_Y</th>\n",
              "      <th>Idaccident</th>\n",
              "      <th>Año</th>\n",
              "      <th>Claseaccid</th>\n",
              "      <th>Fecha</th>\n",
              "      <th>Cód_Regi</th>\n",
              "      <th>Región</th>\n",
              "      <th>Cód_Comun</th>\n",
              "      <th>...</th>\n",
              "      <th>Cód_Condi</th>\n",
              "      <th>Condición</th>\n",
              "      <th>Cód_Est_1</th>\n",
              "      <th>Estado_Atm</th>\n",
              "      <th>Fallecidos</th>\n",
              "      <th>Graves</th>\n",
              "      <th>Menos_Grav</th>\n",
              "      <th>Leves</th>\n",
              "      <th>Ilesos</th>\n",
              "      <th>geometry</th>\n",
              "    </tr>\n",
              "  </thead>\n",
              "  <tbody>\n",
              "    <tr>\n",
              "      <th>959</th>\n",
              "      <td>960</td>\n",
              "      <td>-68.925269</td>\n",
              "      <td>-22.467095</td>\n",
              "      <td>1415764</td>\n",
              "      <td>2022</td>\n",
              "      <td>1</td>\n",
              "      <td>2022-01-25 00:00:00+00:00</td>\n",
              "      <td>2</td>\n",
              "      <td>REGION ANTOFAGASTA</td>\n",
              "      <td>2201</td>\n",
              "      <td>...</td>\n",
              "      <td>1</td>\n",
              "      <td>SECO</td>\n",
              "      <td>1</td>\n",
              "      <td>DESPEJADO</td>\n",
              "      <td>0</td>\n",
              "      <td>0</td>\n",
              "      <td>0</td>\n",
              "      <td>1</td>\n",
              "      <td>1</td>\n",
              "      <td>POINT (-68.92527 -22.4671)</td>\n",
              "    </tr>\n",
              "    <tr>\n",
              "      <th>67</th>\n",
              "      <td>68</td>\n",
              "      <td>-70.375872</td>\n",
              "      <td>-23.586991</td>\n",
              "      <td>1446482</td>\n",
              "      <td>2022</td>\n",
              "      <td>1</td>\n",
              "      <td>2022-04-22 00:00:00+00:00</td>\n",
              "      <td>2</td>\n",
              "      <td>REGION ANTOFAGASTA</td>\n",
              "      <td>2101</td>\n",
              "      <td>...</td>\n",
              "      <td>1</td>\n",
              "      <td>SECO</td>\n",
              "      <td>1</td>\n",
              "      <td>DESPEJADO</td>\n",
              "      <td>0</td>\n",
              "      <td>0</td>\n",
              "      <td>0</td>\n",
              "      <td>0</td>\n",
              "      <td>2</td>\n",
              "      <td>POINT (-70.37587 -23.58699)</td>\n",
              "    </tr>\n",
              "  </tbody>\n",
              "</table>\n",
              "<p>2 rows × 50 columns</p>\n",
              "</div>\n",
              "    <div class=\"colab-df-buttons\">\n",
              "\n",
              "  <div class=\"colab-df-container\">\n",
              "    <button class=\"colab-df-convert\" onclick=\"convertToInteractive('df-a891ab3c-ef25-4332-97ff-35b7034ac485')\"\n",
              "            title=\"Convert this dataframe to an interactive table.\"\n",
              "            style=\"display:none;\">\n",
              "\n",
              "  <svg xmlns=\"http://www.w3.org/2000/svg\" height=\"24px\" viewBox=\"0 -960 960 960\">\n",
              "    <path d=\"M120-120v-720h720v720H120Zm60-500h600v-160H180v160Zm220 220h160v-160H400v160Zm0 220h160v-160H400v160ZM180-400h160v-160H180v160Zm440 0h160v-160H620v160ZM180-180h160v-160H180v160Zm440 0h160v-160H620v160Z\"/>\n",
              "  </svg>\n",
              "    </button>\n",
              "\n",
              "  <style>\n",
              "    .colab-df-container {\n",
              "      display:flex;\n",
              "      gap: 12px;\n",
              "    }\n",
              "\n",
              "    .colab-df-convert {\n",
              "      background-color: #E8F0FE;\n",
              "      border: none;\n",
              "      border-radius: 50%;\n",
              "      cursor: pointer;\n",
              "      display: none;\n",
              "      fill: #1967D2;\n",
              "      height: 32px;\n",
              "      padding: 0 0 0 0;\n",
              "      width: 32px;\n",
              "    }\n",
              "\n",
              "    .colab-df-convert:hover {\n",
              "      background-color: #E2EBFA;\n",
              "      box-shadow: 0px 1px 2px rgba(60, 64, 67, 0.3), 0px 1px 3px 1px rgba(60, 64, 67, 0.15);\n",
              "      fill: #174EA6;\n",
              "    }\n",
              "\n",
              "    .colab-df-buttons div {\n",
              "      margin-bottom: 4px;\n",
              "    }\n",
              "\n",
              "    [theme=dark] .colab-df-convert {\n",
              "      background-color: #3B4455;\n",
              "      fill: #D2E3FC;\n",
              "    }\n",
              "\n",
              "    [theme=dark] .colab-df-convert:hover {\n",
              "      background-color: #434B5C;\n",
              "      box-shadow: 0px 1px 3px 1px rgba(0, 0, 0, 0.15);\n",
              "      filter: drop-shadow(0px 1px 2px rgba(0, 0, 0, 0.3));\n",
              "      fill: #FFFFFF;\n",
              "    }\n",
              "  </style>\n",
              "\n",
              "    <script>\n",
              "      const buttonEl =\n",
              "        document.querySelector('#df-a891ab3c-ef25-4332-97ff-35b7034ac485 button.colab-df-convert');\n",
              "      buttonEl.style.display =\n",
              "        google.colab.kernel.accessAllowed ? 'block' : 'none';\n",
              "\n",
              "      async function convertToInteractive(key) {\n",
              "        const element = document.querySelector('#df-a891ab3c-ef25-4332-97ff-35b7034ac485');\n",
              "        const dataTable =\n",
              "          await google.colab.kernel.invokeFunction('convertToInteractive',\n",
              "                                                    [key], {});\n",
              "        if (!dataTable) return;\n",
              "\n",
              "        const docLinkHtml = 'Like what you see? Visit the ' +\n",
              "          '<a target=\"_blank\" href=https://colab.research.google.com/notebooks/data_table.ipynb>data table notebook</a>'\n",
              "          + ' to learn more about interactive tables.';\n",
              "        element.innerHTML = '';\n",
              "        dataTable['output_type'] = 'display_data';\n",
              "        await google.colab.output.renderOutput(dataTable, element);\n",
              "        const docLink = document.createElement('div');\n",
              "        docLink.innerHTML = docLinkHtml;\n",
              "        element.appendChild(docLink);\n",
              "      }\n",
              "    </script>\n",
              "  </div>\n",
              "\n",
              "\n",
              "    <div id=\"df-0a4b8b84-772b-48db-a135-08db114570e5\">\n",
              "      <button class=\"colab-df-quickchart\" onclick=\"quickchart('df-0a4b8b84-772b-48db-a135-08db114570e5')\"\n",
              "                title=\"Suggest charts\"\n",
              "                style=\"display:none;\">\n",
              "\n",
              "<svg xmlns=\"http://www.w3.org/2000/svg\" height=\"24px\"viewBox=\"0 0 24 24\"\n",
              "     width=\"24px\">\n",
              "    <g>\n",
              "        <path d=\"M19 3H5c-1.1 0-2 .9-2 2v14c0 1.1.9 2 2 2h14c1.1 0 2-.9 2-2V5c0-1.1-.9-2-2-2zM9 17H7v-7h2v7zm4 0h-2V7h2v10zm4 0h-2v-4h2v4z\"/>\n",
              "    </g>\n",
              "</svg>\n",
              "      </button>\n",
              "\n",
              "<style>\n",
              "  .colab-df-quickchart {\n",
              "      --bg-color: #E8F0FE;\n",
              "      --fill-color: #1967D2;\n",
              "      --hover-bg-color: #E2EBFA;\n",
              "      --hover-fill-color: #174EA6;\n",
              "      --disabled-fill-color: #AAA;\n",
              "      --disabled-bg-color: #DDD;\n",
              "  }\n",
              "\n",
              "  [theme=dark] .colab-df-quickchart {\n",
              "      --bg-color: #3B4455;\n",
              "      --fill-color: #D2E3FC;\n",
              "      --hover-bg-color: #434B5C;\n",
              "      --hover-fill-color: #FFFFFF;\n",
              "      --disabled-bg-color: #3B4455;\n",
              "      --disabled-fill-color: #666;\n",
              "  }\n",
              "\n",
              "  .colab-df-quickchart {\n",
              "    background-color: var(--bg-color);\n",
              "    border: none;\n",
              "    border-radius: 50%;\n",
              "    cursor: pointer;\n",
              "    display: none;\n",
              "    fill: var(--fill-color);\n",
              "    height: 32px;\n",
              "    padding: 0;\n",
              "    width: 32px;\n",
              "  }\n",
              "\n",
              "  .colab-df-quickchart:hover {\n",
              "    background-color: var(--hover-bg-color);\n",
              "    box-shadow: 0 1px 2px rgba(60, 64, 67, 0.3), 0 1px 3px 1px rgba(60, 64, 67, 0.15);\n",
              "    fill: var(--button-hover-fill-color);\n",
              "  }\n",
              "\n",
              "  .colab-df-quickchart-complete:disabled,\n",
              "  .colab-df-quickchart-complete:disabled:hover {\n",
              "    background-color: var(--disabled-bg-color);\n",
              "    fill: var(--disabled-fill-color);\n",
              "    box-shadow: none;\n",
              "  }\n",
              "\n",
              "  .colab-df-spinner {\n",
              "    border: 2px solid var(--fill-color);\n",
              "    border-color: transparent;\n",
              "    border-bottom-color: var(--fill-color);\n",
              "    animation:\n",
              "      spin 1s steps(1) infinite;\n",
              "  }\n",
              "\n",
              "  @keyframes spin {\n",
              "    0% {\n",
              "      border-color: transparent;\n",
              "      border-bottom-color: var(--fill-color);\n",
              "      border-left-color: var(--fill-color);\n",
              "    }\n",
              "    20% {\n",
              "      border-color: transparent;\n",
              "      border-left-color: var(--fill-color);\n",
              "      border-top-color: var(--fill-color);\n",
              "    }\n",
              "    30% {\n",
              "      border-color: transparent;\n",
              "      border-left-color: var(--fill-color);\n",
              "      border-top-color: var(--fill-color);\n",
              "      border-right-color: var(--fill-color);\n",
              "    }\n",
              "    40% {\n",
              "      border-color: transparent;\n",
              "      border-right-color: var(--fill-color);\n",
              "      border-top-color: var(--fill-color);\n",
              "    }\n",
              "    60% {\n",
              "      border-color: transparent;\n",
              "      border-right-color: var(--fill-color);\n",
              "    }\n",
              "    80% {\n",
              "      border-color: transparent;\n",
              "      border-right-color: var(--fill-color);\n",
              "      border-bottom-color: var(--fill-color);\n",
              "    }\n",
              "    90% {\n",
              "      border-color: transparent;\n",
              "      border-bottom-color: var(--fill-color);\n",
              "    }\n",
              "  }\n",
              "</style>\n",
              "\n",
              "      <script>\n",
              "        async function quickchart(key) {\n",
              "          const quickchartButtonEl =\n",
              "            document.querySelector('#' + key + ' button');\n",
              "          quickchartButtonEl.disabled = true;  // To prevent multiple clicks.\n",
              "          quickchartButtonEl.classList.add('colab-df-spinner');\n",
              "          try {\n",
              "            const charts = await google.colab.kernel.invokeFunction(\n",
              "                'suggestCharts', [key], {});\n",
              "          } catch (error) {\n",
              "            console.error('Error during call to suggestCharts:', error);\n",
              "          }\n",
              "          quickchartButtonEl.classList.remove('colab-df-spinner');\n",
              "          quickchartButtonEl.classList.add('colab-df-quickchart-complete');\n",
              "        }\n",
              "        (() => {\n",
              "          let quickchartButtonEl =\n",
              "            document.querySelector('#df-0a4b8b84-772b-48db-a135-08db114570e5 button');\n",
              "          quickchartButtonEl.style.display =\n",
              "            google.colab.kernel.accessAllowed ? 'block' : 'none';\n",
              "        })();\n",
              "      </script>\n",
              "    </div>\n",
              "\n",
              "    </div>\n",
              "  </div>\n"
            ],
            "application/vnd.google.colaboratory.intrinsic+json": {
              "type": "dataframe"
            }
          },
          "metadata": {},
          "execution_count": 319
        }
      ]
    },
    {
      "cell_type": "code",
      "source": [
        "gdfs_2022.info()  # ‘.info()’ is used to observe if there is null data in any variable,  by looking at the ‘Non-Null Count’ column."
      ],
      "metadata": {
        "id": "un55e4wzBHWv",
        "outputId": "40839373-f9fd-489b-be28-99258f3587cb",
        "colab": {
          "base_uri": "https://localhost:8080/"
        }
      },
      "id": "un55e4wzBHWv",
      "execution_count": 320,
      "outputs": [
        {
          "output_type": "stream",
          "name": "stdout",
          "text": [
            "<class 'geopandas.geodataframe.GeoDataFrame'>\n",
            "RangeIndex: 2366 entries, 0 to 2365\n",
            "Data columns (total 50 columns):\n",
            " #   Column      Non-Null Count  Dtype              \n",
            "---  ------      --------------  -----              \n",
            " 0   FID         2366 non-null   int32              \n",
            " 1   POINT_X     2366 non-null   float64            \n",
            " 2   POINT_Y     2366 non-null   float64            \n",
            " 3   Idaccident  2366 non-null   int32              \n",
            " 4   Año         2366 non-null   int32              \n",
            " 5   Claseaccid  2366 non-null   int32              \n",
            " 6   Fecha       2366 non-null   datetime64[ms, UTC]\n",
            " 7   Cód_Regi    2366 non-null   int32              \n",
            " 8   Región      2366 non-null   object             \n",
            " 9   Cód_Comun   2366 non-null   int32              \n",
            " 10  Comuna      2366 non-null   object             \n",
            " 11  Cód_Tipo    2366 non-null   int32              \n",
            " 12  Tipo_Accid  2366 non-null   object             \n",
            " 13  Cód_Tip_1   2366 non-null   int32              \n",
            " 14  Tipo__CONA  2366 non-null   object             \n",
            " 15  Cód_Zona    2366 non-null   int32              \n",
            " 16  Zona        2366 non-null   object             \n",
            " 17  Cód_Ubica   2366 non-null   int32              \n",
            " 18  Ubicación   2366 non-null   object             \n",
            " 19  Cód_Causa   2366 non-null   int32              \n",
            " 20  Causa       2366 non-null   object             \n",
            " 21  Cód_Cau_1   2366 non-null   int32              \n",
            " 22  Causa__CON  2366 non-null   object             \n",
            " 23  Cód_Calle   2366 non-null   int32              \n",
            " 24  Calle_Uno   2366 non-null   object             \n",
            " 25  Cód_Cal_1   2366 non-null   int32              \n",
            " 26  Calle_Dos   2366 non-null   object             \n",
            " 27  Intersecci  2366 non-null   object             \n",
            " 28  Número      2366 non-null   int32              \n",
            " 29  Ruta        2366 non-null   int32              \n",
            " 30  Cód_Ruta    2366 non-null   int32              \n",
            " 31  Ubicaci_1   2366 non-null   int32              \n",
            " 32  Pistas_de   2366 non-null   int32              \n",
            " 33  Pistas_d_1  2366 non-null   int32              \n",
            " 34  Cód_Calza   2366 non-null   int32              \n",
            " 35  Calzada     2366 non-null   object             \n",
            " 36  Cód__Tipo   2366 non-null   int32              \n",
            " 37  Tipo_Calza  2366 non-null   object             \n",
            " 38  Cód_Estad   2366 non-null   int32              \n",
            " 39  Estado_Cal  2366 non-null   object             \n",
            " 40  Cód_Condi   2366 non-null   int32              \n",
            " 41  Condición   2366 non-null   object             \n",
            " 42  Cód_Est_1   2366 non-null   int32              \n",
            " 43  Estado_Atm  2366 non-null   object             \n",
            " 44  Fallecidos  2366 non-null   int32              \n",
            " 45  Graves      2366 non-null   int32              \n",
            " 46  Menos_Grav  2366 non-null   int32              \n",
            " 47  Leves       2366 non-null   int32              \n",
            " 48  Ilesos      2366 non-null   int32              \n",
            " 49  geometry    2366 non-null   geometry           \n",
            "dtypes: datetime64[ms, UTC](1), float64(2), geometry(1), int32(30), object(16)\n",
            "memory usage: 647.1+ KB\n"
          ]
        }
      ]
    },
    {
      "cell_type": "code",
      "source": [
        "# Se visualizan el nombre de todas las columnas, ya que en el codigo anetrior solo se puede ser una parte\n",
        "gdfs_2022.columns"
      ],
      "metadata": {
        "id": "lZumR9dDdxpT",
        "outputId": "8b48e678-71e8-43f0-ef7c-746ce44df4e5",
        "colab": {
          "base_uri": "https://localhost:8080/"
        }
      },
      "id": "lZumR9dDdxpT",
      "execution_count": 321,
      "outputs": [
        {
          "output_type": "execute_result",
          "data": {
            "text/plain": [
              "Index(['FID', 'POINT_X', 'POINT_Y', 'Idaccident', 'Año', 'Claseaccid', 'Fecha',\n",
              "       'Cód_Regi', 'Región', 'Cód_Comun', 'Comuna', 'Cód_Tipo', 'Tipo_Accid',\n",
              "       'Cód_Tip_1', 'Tipo__CONA', 'Cód_Zona', 'Zona', 'Cód_Ubica', 'Ubicación',\n",
              "       'Cód_Causa', 'Causa', 'Cód_Cau_1', 'Causa__CON', 'Cód_Calle',\n",
              "       'Calle_Uno', 'Cód_Cal_1', 'Calle_Dos', 'Intersecci', 'Número', 'Ruta',\n",
              "       'Cód_Ruta', 'Ubicaci_1', 'Pistas_de', 'Pistas_d_1', 'Cód_Calza',\n",
              "       'Calzada', 'Cód__Tipo', 'Tipo_Calza', 'Cód_Estad', 'Estado_Cal',\n",
              "       'Cód_Condi', 'Condición', 'Cód_Est_1', 'Estado_Atm', 'Fallecidos',\n",
              "       'Graves', 'Menos_Grav', 'Leves', 'Ilesos', 'geometry'],\n",
              "      dtype='object')"
            ]
          },
          "metadata": {},
          "execution_count": 321
        }
      ]
    },
    {
      "cell_type": "markdown",
      "source": [
        "Como en los geojson anteriores, los atributos son muy similares, en la mayoria de los casos, no mantienen el mismo nombre en sus columnas para representar lo mismo."
      ],
      "metadata": {
        "id": "wf5I-bPWeG42"
      },
      "id": "wf5I-bPWeG42"
    },
    {
      "cell_type": "markdown",
      "source": [
        "*Accidentes de transito del 2022*\n",
        "\n",
        "\n",
        "*   'FID': a unique ID for each accident\n",
        "*   'POINT_X': Longitude of the accident location\n",
        "*   'POINT_Y': Latitude of the accident location\n",
        "*   'Idaccident': Unique identifier for the accident\n",
        "*   'Año': Year when the accident occurred\n",
        "*   'Claseaccid': Class of the accident\n",
        "*   'Fecha': Date and time of the accident\n",
        "*   'Cód_Regi': Code of the region where the accident occurred\n",
        "*   'Región': Name of the region where the accident occurred\n",
        "*   'Cód_Comun': Code of the commune where the accident occurred\n",
        "*   'Comuna': Name of the commune where the accident occurred\n",
        "*   'Cód_Tipo': Code for the type of accident\n",
        "*   'Tipo_Accid': Type of accident\n",
        "*   'Cód_Tip_1': Code for a subtype of accident\n",
        "*   'Tipo__CONA': Subtype of accident according to CONASET classification\n",
        "*   'Cód_Zona': Code for the zone where the accident occurred\n",
        "*   'Zona': Zone where the accident occurred (urban/rural\n",
        "*   'Cód_Ubica': Code for the specific location within the zone\n",
        "*   'Ubicación': Specific location within the zone (e.g., intersection)\n",
        "*   'Cód_Causa': Code for the cause of the accident\n",
        "*   'Causa': Cause of the accident\n",
        "*   'Cód_Cau_1': Code for a secondary cause of the accident\n",
        "*   'Causa__CON': Secondary cause according to CONASET classification\n",
        "*   'Cód_Calle': Code for the first street involved in the accident\n",
        "*   'Calle_Uno': Name of the first street involved in the accident\n",
        "*   'Cód_Cal_1': Code for the second street involved in the accident\n",
        "*   'Calle_Dos': Name of the second street involved in the accident\n",
        "*   'Intersecci': Intersection where the accident occurred, if applicable\n",
        "*   'Número': Street number or route number where the accident occurred\n",
        "*   'Ruta': Route name or number where the accident occurred\n",
        "*   'Cód_Ruta': Code for route name or numbe\n",
        "*   'Ubicaci_1': Additional location informatio\n",
        "*   'Pistas_de': Number of lanes in one direction\n",
        "*   'Pistas_d_1': Number of lanes in another direction\n",
        "*   'Cód_Calza': Code for road surface type\n",
        "*   'Calzada': Type of road (e.g., bidirectional)\n",
        "*   'Cód__Tipo': Code for road type\n",
        "*   'Tipo_Calza': Type of road surface (e.g., asphalt)\n",
        "*   'Cód_Estad': Code for road condition\n",
        "*   'Estado_Cal': Condition of road surface (e.g., good)\n",
        "*   'Cód_Condi': Code for weather condition\n",
        "*   'Condición': Weather condition at time of accident (e.g., clear)\n",
        "*   'Cód_Est_1': Code for atmospheric condition\n",
        "*   'Estado_Atm': Atmospheric condition at time of accident (e.g., clear)\n",
        "*   'Fallecidos': Number of fatalities in the accident\n",
        "*   'Graves': Number of people with serious injuries\n",
        "*   'Menos_Grav': Number of people with less serious injuries\n",
        "*   'Leves': Number of people with minor injuries\n",
        "*   'Ilesos': Number of people without injuries\n",
        "*   'geometry': List the type of geometry, in this case POINT"
      ],
      "metadata": {
        "id": "bcrwL4e6eGTZ"
      },
      "id": "bcrwL4e6eGTZ"
    },
    {
      "cell_type": "markdown",
      "source": [
        "Como se puede ver en los cuatro geojson de los accidentes de transito, no existe un formato estandar para nombrar a los atributos"
      ],
      "metadata": {
        "id": "Net5HhsT2A7u"
      },
      "id": "Net5HhsT2A7u"
    },
    {
      "cell_type": "markdown",
      "source": [
        "*Coordinate Reference Systems (CRS)*\n",
        "\n",
        "Antes de visualizar las capas, es fundamental asegurarse de que todas utilicen el mismo sistema de coordenadas. Como se observó en todos los geojson, estos están con un EPSG:4326, lo que corresponde a coordenadas geográficas con un datum WGS 1984. Para el área de estudio emplearemos un sistema de coordenadas proyectadas, específicamente WGS 1984 UTM 19S,EPSG:32719, que permite realizar geoprocesamiento utilizando medidas en metros."
      ],
      "metadata": {
        "id": "9v48Tf__zXpq"
      },
      "id": "9v48Tf__zXpq"
    },
    {
      "cell_type": "code",
      "source": [
        "gdfs = [gdfs_2019, gdfs_2020, gdfs_2021, gdfs_2022] # se crea una lista para cada año."
      ],
      "metadata": {
        "id": "hZHlj2C0rrEs"
      },
      "id": "hZHlj2C0rrEs",
      "execution_count": 322,
      "outputs": []
    },
    {
      "cell_type": "code",
      "source": [
        "gdfs_utm = [gdf.to_crs(epsg=32719) for gdf in gdfs] # se usa un ciclo for para realizar el cambio del CRS gdfs_2019_utm, gdfs_2020_utm."
      ],
      "metadata": {
        "id": "YfoCS7ESrsfA"
      },
      "id": "YfoCS7ESrsfA",
      "execution_count": 323,
      "outputs": []
    },
    {
      "cell_type": "code",
      "source": [
        "gdfs_2019_utm, gdfs_2020_utm, gdfs_2021_utm, gdfs_2022_utm = gdfs_utm # Se redefine gdfs_utm."
      ],
      "metadata": {
        "id": "Mi8qJVwcrxWP"
      },
      "id": "Mi8qJVwcrxWP",
      "execution_count": 324,
      "outputs": []
    },
    {
      "cell_type": "code",
      "source": [
        "for gdf in gdfs_utm: print(gdf.crs) # Se imprime el resultado."
      ],
      "metadata": {
        "id": "zngtk3eBr6ay",
        "outputId": "088189a3-b495-4296-e2f3-2c44851dce3d",
        "colab": {
          "base_uri": "https://localhost:8080/"
        }
      },
      "id": "zngtk3eBr6ay",
      "execution_count": 325,
      "outputs": [
        {
          "output_type": "stream",
          "name": "stdout",
          "text": [
            "EPSG:32719\n",
            "EPSG:32719\n",
            "EPSG:32719\n",
            "EPSG:32719\n"
          ]
        }
      ]
    },
    {
      "cell_type": "code",
      "source": [
        "# Check the row and column of dataframe.\n",
        "gdfs_2019_utm.shape"
      ],
      "metadata": {
        "colab": {
          "base_uri": "https://localhost:8080/"
        },
        "id": "oXcM7FCV962C",
        "outputId": "fdc613d9-0972-42f9-c53f-15f7157ee944"
      },
      "id": "oXcM7FCV962C",
      "execution_count": 326,
      "outputs": [
        {
          "output_type": "execute_result",
          "data": {
            "text/plain": [
              "(2494, 44)"
            ]
          },
          "metadata": {},
          "execution_count": 326
        }
      ]
    },
    {
      "cell_type": "code",
      "source": [
        "# Check the row and column of dataframe.\n",
        "gdfs_2020_utm.shape"
      ],
      "metadata": {
        "colab": {
          "base_uri": "https://localhost:8080/"
        },
        "id": "AzBNM5Zv-Fbc",
        "outputId": "7397ca27-25cb-4ad5-835d-358f135312df"
      },
      "id": "AzBNM5Zv-Fbc",
      "execution_count": 327,
      "outputs": [
        {
          "output_type": "execute_result",
          "data": {
            "text/plain": [
              "(1951, 26)"
            ]
          },
          "metadata": {},
          "execution_count": 327
        }
      ]
    },
    {
      "cell_type": "code",
      "source": [
        "# Check the row and column of dataframe.\n",
        "gdfs_2021_utm.shape"
      ],
      "metadata": {
        "colab": {
          "base_uri": "https://localhost:8080/"
        },
        "id": "RRAVtfIO-I57",
        "outputId": "c822d2a6-621e-4a42-ee05-c59312466167"
      },
      "id": "RRAVtfIO-I57",
      "execution_count": 328,
      "outputs": [
        {
          "output_type": "execute_result",
          "data": {
            "text/plain": [
              "(2416, 70)"
            ]
          },
          "metadata": {},
          "execution_count": 328
        }
      ]
    },
    {
      "cell_type": "code",
      "source": [
        "# Check the row and column of dataframe.\n",
        "gdfs_2022_utm.shape"
      ],
      "metadata": {
        "colab": {
          "base_uri": "https://localhost:8080/"
        },
        "id": "2CTf1HVp-L2B",
        "outputId": "07b649d9-184c-447c-db87-b4fdacb73ebb"
      },
      "id": "2CTf1HVp-L2B",
      "execution_count": 329,
      "outputs": [
        {
          "output_type": "execute_result",
          "data": {
            "text/plain": [
              "(2366, 50)"
            ]
          },
          "metadata": {},
          "execution_count": 329
        }
      ]
    },
    {
      "cell_type": "markdown",
      "source": [
        "La cantidad de filas y columnas son distintos en todos los años, lo que da cuenta de la falta de uniformidad en el registro de los datos."
      ],
      "metadata": {
        "id": "1mL9Inyo-X7D"
      },
      "id": "1mL9Inyo-X7D"
    },
    {
      "cell_type": "markdown",
      "source": [
        "## **Data cleaning**"
      ],
      "metadata": {
        "id": "amCcifD4KFEO"
      },
      "id": "amCcifD4KFEO"
    },
    {
      "cell_type": "markdown",
      "source": [
        "Se verifican las columnas en comun."
      ],
      "metadata": {
        "id": "sWFk8TQ1vV0A"
      },
      "id": "sWFk8TQ1vV0A"
    },
    {
      "cell_type": "markdown",
      "source": [
        "* Como se observó al cargar los datos, los DataFrame tienen diferentes columnas."
      ],
      "metadata": {
        "id": "0G0O1q-1vts7"
      },
      "id": "0G0O1q-1vts7"
    },
    {
      "cell_type": "code",
      "source": [
        "gdfs = [gdfs_2019_utm, gdfs_2020_utm, gdfs_2021_utm, gdfs_2022_utm] # creo una lista llamada gdfs que contiene los accidentes de transito de los cuatro años en estudio."
      ],
      "metadata": {
        "id": "77EdqSB4v7oY"
      },
      "id": "77EdqSB4v7oY",
      "execution_count": 330,
      "outputs": []
    },
    {
      "cell_type": "code",
      "source": [
        "gdf_columns = [gdf.columns for gdf in gdfs] # se crea una lista llamada gdf_columns que tiene a todas las columnas de los GeoDataFrame en gdfs.\n",
        "gdf_columns_intersection = set.intersection(*map(set, gdf_columns)) # se convierte a cada lista de columnas en un conjunto para despues usar 'set.intersection' para encontrar las columnas comunes."
      ],
      "metadata": {
        "id": "nuMFM5Glv7XA"
      },
      "id": "nuMFM5Glv7XA",
      "execution_count": 331,
      "outputs": []
    },
    {
      "cell_type": "code",
      "source": [
        "# Se identifican las columnas comunes entre todos los dataframe.\n",
        "gdf_columns_intersection"
      ],
      "metadata": {
        "id": "6ffDI9-Dv7CO",
        "outputId": "525ec0f4-a9b1-4a85-c8ba-3dd6de3b6afd",
        "colab": {
          "base_uri": "https://localhost:8080/"
        }
      },
      "id": "6ffDI9-Dv7CO",
      "execution_count": 332,
      "outputs": [
        {
          "output_type": "execute_result",
          "data": {
            "text/plain": [
              "{'Causa',\n",
              " 'Causa__CON',\n",
              " 'FID',\n",
              " 'Fallecidos',\n",
              " 'Fecha',\n",
              " 'Graves',\n",
              " 'Leves',\n",
              " 'Menos_Grav',\n",
              " 'Tipo_Accid',\n",
              " 'Tipo__CONA',\n",
              " 'Zona',\n",
              " 'geometry'}"
            ]
          },
          "metadata": {},
          "execution_count": 332
        }
      ]
    },
    {
      "cell_type": "code",
      "source": [
        "# Se identifican las columnas diferentes entre los dataframe.\n",
        "for cols in gdf_columns:\n",
        "  print([col for col in cols if col not in gdf_columns_intersection]) # imprime las columnas que no están en la intersección de columnas"
      ],
      "metadata": {
        "id": "1QcgSthMwRNZ",
        "outputId": "68986bec-583c-43d3-990c-18c356ecf1ae",
        "colab": {
          "base_uri": "https://localhost:8080/"
        }
      },
      "id": "1QcgSthMwRNZ",
      "execution_count": 333,
      "outputs": [
        {
          "output_type": "stream",
          "name": "stdout",
          "text": [
            "['Ano', 'Idaccident', 'Codregion', 'Region', 'Comuna', 'Calle1', 'Calle2', 'Numero', 'lat', 'lng', 'Claseaccid', 'Cód_Comun', 'Cód_Tipo_', 'Cód_Tipo1', 'Cód_Zona', 'Zona_1', 'Cód_Ubica', 'Ubicación', 'Cód_Causa', 'Cód_Cau_1', 'Pistas_de_', 'Pistas_de1', 'Cód_Calza', 'Calzada', 'Cód__Tipo', 'Tipo_Calza', 'Cód_Estad', 'Estado_Cal', 'Cód_Condi', 'Condición', 'Cód_Est_1', 'Estado_Atm']\n",
            "['COD_REG', 'REGION', 'CUT', 'COMUNA', 'CALLE_UNO', 'CALLE_DOS', 'NUMERO', 'DIR_GEOCOD', 'LAT', 'LNG', 'VAL_COM', 'TIPO', 'Año', 'Idaccident']\n",
            "['FID_1', 'LABELID', 'POINT_X', 'POINT_Y', 'FID_2', 'COMUNAREAL', 'VAL_COM', 'OBJECTID', 'A_O', 'IDACCIDENT', 'REGION', 'COD_COMUN', 'COMUNA', 'CALLE_UNO', 'CALLE_DOS', 'NUMERO', 'DIR_GEOCOD', 'PAIS', 'TIPO', 'OBJECTID_1', 'Año', 'Idaccide_1', 'Claseaccid', 'Hora', 'Cód_Regi', 'Región', 'Cód_Comun', 'Comuna_1', 'Cód_Tipo_', 'Cód_Tipo1', 'Cód_Zona', 'Cód_Ubica', 'Ubicación', 'Cód_Causa', 'Cód_Cau_1', 'Cód_Calle', 'Calle_Un_1', 'Cód_Cal_1', 'Calle_Do_1', 'Intersecci', 'Número', 'Ruta', 'Cód_Ruta', 'Ubicaci_1', 'Km_Vía_Fe', 'Pistas_de_', 'Pistas_de1', 'Cód_Calza', 'Calzada', 'Cód__Tipo', 'Tipo_Calza', 'Cód_Estad', 'Estado_Cal', 'Cód_Condi', 'Condición', 'Cód_Est_1', 'Estado_Atm', 'Ilesos']\n",
            "['POINT_X', 'POINT_Y', 'Idaccident', 'Año', 'Claseaccid', 'Cód_Regi', 'Región', 'Cód_Comun', 'Comuna', 'Cód_Tipo', 'Cód_Tip_1', 'Cód_Zona', 'Cód_Ubica', 'Ubicación', 'Cód_Causa', 'Cód_Cau_1', 'Cód_Calle', 'Calle_Uno', 'Cód_Cal_1', 'Calle_Dos', 'Intersecci', 'Número', 'Ruta', 'Cód_Ruta', 'Ubicaci_1', 'Pistas_de', 'Pistas_d_1', 'Cód_Calza', 'Calzada', 'Cód__Tipo', 'Tipo_Calza', 'Cód_Estad', 'Estado_Cal', 'Cód_Condi', 'Condición', 'Cód_Est_1', 'Estado_Atm', 'Ilesos']\n"
          ]
        }
      ]
    },
    {
      "cell_type": "code",
      "source": [
        "# Se observan todos los nombres de las columnas que no son iguales entre los gdfs, y se renombran las columnas que se van a utilizar:\n",
        "renames = {\n",
        "  'Ano': 'Year',\n",
        "  'Año': 'Year',\n",
        "  'Region': 'Region',\n",
        "  'REGION': 'Region',\n",
        "  'Región': 'Region',\n",
        "  'COMUNA': 'Commune',\n",
        "  'Comuna': 'Commune',\n",
        "  'Fallecidos': 'Fatalities',\n",
        "  'Graves':'Serious',\n",
        "  'Menos_Grav': 'Less serious',\n",
        "  'Menos_grav': 'Less serious',\n",
        "  'Leves': 'Slight',\n",
        "  'Tipo__CONA': 'Type',\n",
        "  'Causa__CON': 'Cause',\n",
        "  'Fecha': 'Date'\n",
        "  }"
      ],
      "metadata": {
        "id": "Xpf9LDqswQ2D"
      },
      "id": "Xpf9LDqswQ2D",
      "execution_count": 334,
      "outputs": []
    },
    {
      "cell_type": "code",
      "source": [
        "# Se seleccionan solo algunas columnas que se utilizaran posteriormente\n",
        "select = ['Year', 'Region', 'Commune', 'Date', 'Type', 'Cause', 'Fatalities', 'Serious', 'Less serious', 'Slight', 'geometry']"
      ],
      "metadata": {
        "id": "SiMcHFfowQoG"
      },
      "id": "SiMcHFfowQoG",
      "execution_count": 335,
      "outputs": []
    },
    {
      "cell_type": "code",
      "source": [
        "gdfs = [gdf.rename(columns=renames)[select] for gdf in gdfs] # Se crea una lista de gdfs con las columnas ya renombradas y seleccionadas.\n",
        "gdfs_2019_utm, gdfs_2020_utm, gdfs_2021_utm, gdfs_2022_utm =gdfs # Se asigna cada gdfs en la lista a una variable especifica, que corresponde a cada aÑo."
      ],
      "metadata": {
        "id": "bAWa7nNkwQaM"
      },
      "id": "bAWa7nNkwQaM",
      "execution_count": 336,
      "outputs": []
    },
    {
      "cell_type": "code",
      "source": [
        "# Diccionario de traducción para la columna 'Type' (tipo de accidente)\n",
        "#type_translation = {\n",
        "    #'Choque': 'Crash',\n",
        "    #'Colisión': 'Collision',\n",
        "    #'Atropello': 'Hit snd Run',\n",
        "    #'Volcadura': 'Rolleover',\n",
        "    #'Incendio': 'Fire',\n",
        "    #'Otro': 'Other'\n",
        "#}"
      ],
      "metadata": {
        "id": "VQ4-Kl3t8Xcp"
      },
      "execution_count": 337,
      "outputs": [],
      "id": "VQ4-Kl3t8Xcp"
    },
    {
      "cell_type": "code",
      "source": [
        "# Diccionario de traducción para la columna 'Cause' (causa del accidente)\n",
        "#cause_translation = {\n",
        "    #'IMPRUDENCIA DEL CONDUCTOR': 'Driver negligence',\n",
        "    #'OTRAS CAUSAS': 'Other causes',\n",
        "    #'CAUSAS NO DETERMIANDAS': 'Undetermined causes',\n",
        "    #'DESOBEDIENCIA A SEÑALIZACION': 'Sign disobedience',\n",
        "    #'IMPRUDENCIA DEL PEATON': 'Pedestrian Negligence',\n",
        "    #'CONDICIONES AMBIENTALES': 'Enviromental conditions',\n",
        "    #'VELOCIDAD IMPRUDENTE':'Reckless speed',\n",
        "    #'NO MANTENER DISTANCIA': 'Not keeping distance',\n",
        "    #'MANIOBRA IMPRUDENTE':'Reckless maneuver',\n",
        "    #'PERDIDA DE CONTROL': 'Loss of control'\n",
        "#}"
      ],
      "metadata": {
        "id": "c2zETi6o8XUJ"
      },
      "execution_count": 338,
      "outputs": [],
      "id": "c2zETi6o8XUJ"
    },
    {
      "cell_type": "code",
      "source": [
        "# Aplicar la traducción a la columna 'Type' usando el método map()\n",
        "# Esto reemplaza los valores en español por sus equivalentes en inglés\n",
        "#gdfs['Type'] = gdfs['Type'].map(type_translation)\n"
      ],
      "metadata": {
        "id": "94Mm8JPz8XBj"
      },
      "execution_count": 339,
      "outputs": [],
      "id": "94Mm8JPz8XBj"
    },
    {
      "cell_type": "code",
      "source": [
        "gdfs_2019_utm.sample(3) # Se revisa si el código anterior se ejecutó correctamente."
      ],
      "metadata": {
        "id": "E3Ba32mhwllg",
        "outputId": "5731754a-b2f6-499c-8000-7f76ebf1f1c5",
        "colab": {
          "base_uri": "https://localhost:8080/",
          "height": 285
        }
      },
      "id": "E3Ba32mhwllg",
      "execution_count": 340,
      "outputs": [
        {
          "output_type": "execute_result",
          "data": {
            "text/plain": [
              "      Year              Region      Commune                      Date  \\\n",
              "1053  2019  REGION ANTOFAGASTA  ANTOFAGASTA 2019-07-13 00:00:00+00:00   \n",
              "1715  2019  REGION ANTOFAGASTA  ANTOFAGASTA 2019-08-19 00:00:00+00:00   \n",
              "1143  2019  REGION ANTOFAGASTA  ANTOFAGASTA 2019-11-15 00:00:00+00:00   \n",
              "\n",
              "           Type                      Cause  Fatalities  Serious  Less serious  \\\n",
              "1053   COLISION  IMPRUDENCIA DEL CONDUCTOR           0        0             0   \n",
              "1715  ATROPELLO  IMPRUDENCIA DEL CONDUCTOR           0        0             0   \n",
              "1143   COLISION  IMPRUDENCIA DEL CONDUCTOR           0        0             0   \n",
              "\n",
              "      Slight                        geometry  \n",
              "1053       0  POINT (358199.969 7384374.623)  \n",
              "1715       0  POINT (357836.259 7386311.049)  \n",
              "1143       0   POINT (357963.87 7387277.958)  "
            ],
            "text/html": [
              "\n",
              "  <div id=\"df-b02115f3-77cd-4451-ae25-f64453e34856\" class=\"colab-df-container\">\n",
              "    <div>\n",
              "<style scoped>\n",
              "    .dataframe tbody tr th:only-of-type {\n",
              "        vertical-align: middle;\n",
              "    }\n",
              "\n",
              "    .dataframe tbody tr th {\n",
              "        vertical-align: top;\n",
              "    }\n",
              "\n",
              "    .dataframe thead th {\n",
              "        text-align: right;\n",
              "    }\n",
              "</style>\n",
              "<table border=\"1\" class=\"dataframe\">\n",
              "  <thead>\n",
              "    <tr style=\"text-align: right;\">\n",
              "      <th></th>\n",
              "      <th>Year</th>\n",
              "      <th>Region</th>\n",
              "      <th>Commune</th>\n",
              "      <th>Date</th>\n",
              "      <th>Type</th>\n",
              "      <th>Cause</th>\n",
              "      <th>Fatalities</th>\n",
              "      <th>Serious</th>\n",
              "      <th>Less serious</th>\n",
              "      <th>Slight</th>\n",
              "      <th>geometry</th>\n",
              "    </tr>\n",
              "  </thead>\n",
              "  <tbody>\n",
              "    <tr>\n",
              "      <th>1053</th>\n",
              "      <td>2019</td>\n",
              "      <td>REGION ANTOFAGASTA</td>\n",
              "      <td>ANTOFAGASTA</td>\n",
              "      <td>2019-07-13 00:00:00+00:00</td>\n",
              "      <td>COLISION</td>\n",
              "      <td>IMPRUDENCIA DEL CONDUCTOR</td>\n",
              "      <td>0</td>\n",
              "      <td>0</td>\n",
              "      <td>0</td>\n",
              "      <td>0</td>\n",
              "      <td>POINT (358199.969 7384374.623)</td>\n",
              "    </tr>\n",
              "    <tr>\n",
              "      <th>1715</th>\n",
              "      <td>2019</td>\n",
              "      <td>REGION ANTOFAGASTA</td>\n",
              "      <td>ANTOFAGASTA</td>\n",
              "      <td>2019-08-19 00:00:00+00:00</td>\n",
              "      <td>ATROPELLO</td>\n",
              "      <td>IMPRUDENCIA DEL CONDUCTOR</td>\n",
              "      <td>0</td>\n",
              "      <td>0</td>\n",
              "      <td>0</td>\n",
              "      <td>0</td>\n",
              "      <td>POINT (357836.259 7386311.049)</td>\n",
              "    </tr>\n",
              "    <tr>\n",
              "      <th>1143</th>\n",
              "      <td>2019</td>\n",
              "      <td>REGION ANTOFAGASTA</td>\n",
              "      <td>ANTOFAGASTA</td>\n",
              "      <td>2019-11-15 00:00:00+00:00</td>\n",
              "      <td>COLISION</td>\n",
              "      <td>IMPRUDENCIA DEL CONDUCTOR</td>\n",
              "      <td>0</td>\n",
              "      <td>0</td>\n",
              "      <td>0</td>\n",
              "      <td>0</td>\n",
              "      <td>POINT (357963.87 7387277.958)</td>\n",
              "    </tr>\n",
              "  </tbody>\n",
              "</table>\n",
              "</div>\n",
              "    <div class=\"colab-df-buttons\">\n",
              "\n",
              "  <div class=\"colab-df-container\">\n",
              "    <button class=\"colab-df-convert\" onclick=\"convertToInteractive('df-b02115f3-77cd-4451-ae25-f64453e34856')\"\n",
              "            title=\"Convert this dataframe to an interactive table.\"\n",
              "            style=\"display:none;\">\n",
              "\n",
              "  <svg xmlns=\"http://www.w3.org/2000/svg\" height=\"24px\" viewBox=\"0 -960 960 960\">\n",
              "    <path d=\"M120-120v-720h720v720H120Zm60-500h600v-160H180v160Zm220 220h160v-160H400v160Zm0 220h160v-160H400v160ZM180-400h160v-160H180v160Zm440 0h160v-160H620v160ZM180-180h160v-160H180v160Zm440 0h160v-160H620v160Z\"/>\n",
              "  </svg>\n",
              "    </button>\n",
              "\n",
              "  <style>\n",
              "    .colab-df-container {\n",
              "      display:flex;\n",
              "      gap: 12px;\n",
              "    }\n",
              "\n",
              "    .colab-df-convert {\n",
              "      background-color: #E8F0FE;\n",
              "      border: none;\n",
              "      border-radius: 50%;\n",
              "      cursor: pointer;\n",
              "      display: none;\n",
              "      fill: #1967D2;\n",
              "      height: 32px;\n",
              "      padding: 0 0 0 0;\n",
              "      width: 32px;\n",
              "    }\n",
              "\n",
              "    .colab-df-convert:hover {\n",
              "      background-color: #E2EBFA;\n",
              "      box-shadow: 0px 1px 2px rgba(60, 64, 67, 0.3), 0px 1px 3px 1px rgba(60, 64, 67, 0.15);\n",
              "      fill: #174EA6;\n",
              "    }\n",
              "\n",
              "    .colab-df-buttons div {\n",
              "      margin-bottom: 4px;\n",
              "    }\n",
              "\n",
              "    [theme=dark] .colab-df-convert {\n",
              "      background-color: #3B4455;\n",
              "      fill: #D2E3FC;\n",
              "    }\n",
              "\n",
              "    [theme=dark] .colab-df-convert:hover {\n",
              "      background-color: #434B5C;\n",
              "      box-shadow: 0px 1px 3px 1px rgba(0, 0, 0, 0.15);\n",
              "      filter: drop-shadow(0px 1px 2px rgba(0, 0, 0, 0.3));\n",
              "      fill: #FFFFFF;\n",
              "    }\n",
              "  </style>\n",
              "\n",
              "    <script>\n",
              "      const buttonEl =\n",
              "        document.querySelector('#df-b02115f3-77cd-4451-ae25-f64453e34856 button.colab-df-convert');\n",
              "      buttonEl.style.display =\n",
              "        google.colab.kernel.accessAllowed ? 'block' : 'none';\n",
              "\n",
              "      async function convertToInteractive(key) {\n",
              "        const element = document.querySelector('#df-b02115f3-77cd-4451-ae25-f64453e34856');\n",
              "        const dataTable =\n",
              "          await google.colab.kernel.invokeFunction('convertToInteractive',\n",
              "                                                    [key], {});\n",
              "        if (!dataTable) return;\n",
              "\n",
              "        const docLinkHtml = 'Like what you see? Visit the ' +\n",
              "          '<a target=\"_blank\" href=https://colab.research.google.com/notebooks/data_table.ipynb>data table notebook</a>'\n",
              "          + ' to learn more about interactive tables.';\n",
              "        element.innerHTML = '';\n",
              "        dataTable['output_type'] = 'display_data';\n",
              "        await google.colab.output.renderOutput(dataTable, element);\n",
              "        const docLink = document.createElement('div');\n",
              "        docLink.innerHTML = docLinkHtml;\n",
              "        element.appendChild(docLink);\n",
              "      }\n",
              "    </script>\n",
              "  </div>\n",
              "\n",
              "\n",
              "    <div id=\"df-f002d42b-36cb-4c1f-acb0-e8543a6aa82e\">\n",
              "      <button class=\"colab-df-quickchart\" onclick=\"quickchart('df-f002d42b-36cb-4c1f-acb0-e8543a6aa82e')\"\n",
              "                title=\"Suggest charts\"\n",
              "                style=\"display:none;\">\n",
              "\n",
              "<svg xmlns=\"http://www.w3.org/2000/svg\" height=\"24px\"viewBox=\"0 0 24 24\"\n",
              "     width=\"24px\">\n",
              "    <g>\n",
              "        <path d=\"M19 3H5c-1.1 0-2 .9-2 2v14c0 1.1.9 2 2 2h14c1.1 0 2-.9 2-2V5c0-1.1-.9-2-2-2zM9 17H7v-7h2v7zm4 0h-2V7h2v10zm4 0h-2v-4h2v4z\"/>\n",
              "    </g>\n",
              "</svg>\n",
              "      </button>\n",
              "\n",
              "<style>\n",
              "  .colab-df-quickchart {\n",
              "      --bg-color: #E8F0FE;\n",
              "      --fill-color: #1967D2;\n",
              "      --hover-bg-color: #E2EBFA;\n",
              "      --hover-fill-color: #174EA6;\n",
              "      --disabled-fill-color: #AAA;\n",
              "      --disabled-bg-color: #DDD;\n",
              "  }\n",
              "\n",
              "  [theme=dark] .colab-df-quickchart {\n",
              "      --bg-color: #3B4455;\n",
              "      --fill-color: #D2E3FC;\n",
              "      --hover-bg-color: #434B5C;\n",
              "      --hover-fill-color: #FFFFFF;\n",
              "      --disabled-bg-color: #3B4455;\n",
              "      --disabled-fill-color: #666;\n",
              "  }\n",
              "\n",
              "  .colab-df-quickchart {\n",
              "    background-color: var(--bg-color);\n",
              "    border: none;\n",
              "    border-radius: 50%;\n",
              "    cursor: pointer;\n",
              "    display: none;\n",
              "    fill: var(--fill-color);\n",
              "    height: 32px;\n",
              "    padding: 0;\n",
              "    width: 32px;\n",
              "  }\n",
              "\n",
              "  .colab-df-quickchart:hover {\n",
              "    background-color: var(--hover-bg-color);\n",
              "    box-shadow: 0 1px 2px rgba(60, 64, 67, 0.3), 0 1px 3px 1px rgba(60, 64, 67, 0.15);\n",
              "    fill: var(--button-hover-fill-color);\n",
              "  }\n",
              "\n",
              "  .colab-df-quickchart-complete:disabled,\n",
              "  .colab-df-quickchart-complete:disabled:hover {\n",
              "    background-color: var(--disabled-bg-color);\n",
              "    fill: var(--disabled-fill-color);\n",
              "    box-shadow: none;\n",
              "  }\n",
              "\n",
              "  .colab-df-spinner {\n",
              "    border: 2px solid var(--fill-color);\n",
              "    border-color: transparent;\n",
              "    border-bottom-color: var(--fill-color);\n",
              "    animation:\n",
              "      spin 1s steps(1) infinite;\n",
              "  }\n",
              "\n",
              "  @keyframes spin {\n",
              "    0% {\n",
              "      border-color: transparent;\n",
              "      border-bottom-color: var(--fill-color);\n",
              "      border-left-color: var(--fill-color);\n",
              "    }\n",
              "    20% {\n",
              "      border-color: transparent;\n",
              "      border-left-color: var(--fill-color);\n",
              "      border-top-color: var(--fill-color);\n",
              "    }\n",
              "    30% {\n",
              "      border-color: transparent;\n",
              "      border-left-color: var(--fill-color);\n",
              "      border-top-color: var(--fill-color);\n",
              "      border-right-color: var(--fill-color);\n",
              "    }\n",
              "    40% {\n",
              "      border-color: transparent;\n",
              "      border-right-color: var(--fill-color);\n",
              "      border-top-color: var(--fill-color);\n",
              "    }\n",
              "    60% {\n",
              "      border-color: transparent;\n",
              "      border-right-color: var(--fill-color);\n",
              "    }\n",
              "    80% {\n",
              "      border-color: transparent;\n",
              "      border-right-color: var(--fill-color);\n",
              "      border-bottom-color: var(--fill-color);\n",
              "    }\n",
              "    90% {\n",
              "      border-color: transparent;\n",
              "      border-bottom-color: var(--fill-color);\n",
              "    }\n",
              "  }\n",
              "</style>\n",
              "\n",
              "      <script>\n",
              "        async function quickchart(key) {\n",
              "          const quickchartButtonEl =\n",
              "            document.querySelector('#' + key + ' button');\n",
              "          quickchartButtonEl.disabled = true;  // To prevent multiple clicks.\n",
              "          quickchartButtonEl.classList.add('colab-df-spinner');\n",
              "          try {\n",
              "            const charts = await google.colab.kernel.invokeFunction(\n",
              "                'suggestCharts', [key], {});\n",
              "          } catch (error) {\n",
              "            console.error('Error during call to suggestCharts:', error);\n",
              "          }\n",
              "          quickchartButtonEl.classList.remove('colab-df-spinner');\n",
              "          quickchartButtonEl.classList.add('colab-df-quickchart-complete');\n",
              "        }\n",
              "        (() => {\n",
              "          let quickchartButtonEl =\n",
              "            document.querySelector('#df-f002d42b-36cb-4c1f-acb0-e8543a6aa82e button');\n",
              "          quickchartButtonEl.style.display =\n",
              "            google.colab.kernel.accessAllowed ? 'block' : 'none';\n",
              "        })();\n",
              "      </script>\n",
              "    </div>\n",
              "\n",
              "    </div>\n",
              "  </div>\n"
            ],
            "application/vnd.google.colaboratory.intrinsic+json": {
              "type": "dataframe",
              "summary": "{\n  \"name\": \"gdfs_2019_utm\",\n  \"rows\": 3,\n  \"fields\": [\n    {\n      \"column\": \"Year\",\n      \"properties\": {\n        \"dtype\": \"int32\",\n        \"num_unique_values\": 1,\n        \"samples\": [\n          2019\n        ],\n        \"semantic_type\": \"\",\n        \"description\": \"\"\n      }\n    },\n    {\n      \"column\": \"Region\",\n      \"properties\": {\n        \"dtype\": \"category\",\n        \"num_unique_values\": 1,\n        \"samples\": [\n          \"REGION ANTOFAGASTA\"\n        ],\n        \"semantic_type\": \"\",\n        \"description\": \"\"\n      }\n    },\n    {\n      \"column\": \"Commune\",\n      \"properties\": {\n        \"dtype\": \"category\",\n        \"num_unique_values\": 1,\n        \"samples\": [\n          \"ANTOFAGASTA\"\n        ],\n        \"semantic_type\": \"\",\n        \"description\": \"\"\n      }\n    },\n    {\n      \"column\": \"Date\",\n      \"properties\": {\n        \"dtype\": \"date\",\n        \"min\": \"2019-07-13 00:00:00+00:00\",\n        \"max\": \"2019-11-15 00:00:00+00:00\",\n        \"num_unique_values\": 3,\n        \"samples\": [\n          \"2019-07-13 00:00:00+00:00\"\n        ],\n        \"semantic_type\": \"\",\n        \"description\": \"\"\n      }\n    },\n    {\n      \"column\": \"Type\",\n      \"properties\": {\n        \"dtype\": \"string\",\n        \"num_unique_values\": 2,\n        \"samples\": [\n          \"ATROPELLO\"\n        ],\n        \"semantic_type\": \"\",\n        \"description\": \"\"\n      }\n    },\n    {\n      \"column\": \"Cause\",\n      \"properties\": {\n        \"dtype\": \"category\",\n        \"num_unique_values\": 1,\n        \"samples\": [\n          \"IMPRUDENCIA DEL CONDUCTOR\"\n        ],\n        \"semantic_type\": \"\",\n        \"description\": \"\"\n      }\n    },\n    {\n      \"column\": \"Fatalities\",\n      \"properties\": {\n        \"dtype\": \"int32\",\n        \"num_unique_values\": 1,\n        \"samples\": [\n          0\n        ],\n        \"semantic_type\": \"\",\n        \"description\": \"\"\n      }\n    },\n    {\n      \"column\": \"Serious\",\n      \"properties\": {\n        \"dtype\": \"int32\",\n        \"num_unique_values\": 1,\n        \"samples\": [\n          0\n        ],\n        \"semantic_type\": \"\",\n        \"description\": \"\"\n      }\n    },\n    {\n      \"column\": \"Less serious\",\n      \"properties\": {\n        \"dtype\": \"int32\",\n        \"num_unique_values\": 1,\n        \"samples\": [\n          0\n        ],\n        \"semantic_type\": \"\",\n        \"description\": \"\"\n      }\n    },\n    {\n      \"column\": \"Slight\",\n      \"properties\": {\n        \"dtype\": \"int32\",\n        \"num_unique_values\": 1,\n        \"samples\": [\n          0\n        ],\n        \"semantic_type\": \"\",\n        \"description\": \"\"\n      }\n    },\n    {\n      \"column\": \"geometry\",\n      \"properties\": {\n        \"dtype\": \"geometry\",\n        \"num_unique_values\": 3,\n        \"samples\": [\n          \"POINT (358199.96850457264 7384374.622534424)\"\n        ],\n        \"semantic_type\": \"\",\n        \"description\": \"\"\n      }\n    }\n  ]\n}"
            }
          },
          "metadata": {},
          "execution_count": 340
        }
      ]
    },
    {
      "cell_type": "markdown",
      "source": [
        "## Concatenación"
      ],
      "metadata": {
        "id": "62z75UL9xRWu"
      },
      "id": "62z75UL9xRWu"
    },
    {
      "cell_type": "markdown",
      "source": [
        "Ya hemos visualizado el contenido de los datos por separado, es decir por cada aÑo. Ahora vamos a unir los cuatro geojson en uno solo para poder visualizar la cantidad total de fallecidos, graves, menos graves y leves para cada año en una misma tabla."
      ],
      "metadata": {
        "id": "kvmiS2s0xmUR"
      },
      "id": "kvmiS2s0xmUR"
    },
    {
      "cell_type": "markdown",
      "source": [
        "Sin embargo existen columnas duplicadas en uno de los DataFrames, lo que puede haber ocurrido al momento de renombrarlas."
      ],
      "metadata": {
        "id": "E1Irljh4x6C2"
      },
      "id": "E1Irljh4x6C2"
    },
    {
      "cell_type": "code",
      "source": [
        "# Se visualizan (en orden, comenzando desde el 2019 al 2022) cada uno de los DatFrame y se observa que el\n",
        "# del año 2021 (el tercero) tiene la columna 'Region' repetida.\n",
        "for gdf in gdfs: # Se crea un bucle for para iterar cada elemento de la lista gdfs.\n",
        "    print(gdf.columns)  # Se muestra el nombre de la columna."
      ],
      "metadata": {
        "id": "e8TLIch6x5Ob",
        "outputId": "33ea21b5-0b7b-4837-eb1c-db2c68f92507",
        "colab": {
          "base_uri": "https://localhost:8080/"
        }
      },
      "id": "e8TLIch6x5Ob",
      "execution_count": 341,
      "outputs": [
        {
          "output_type": "stream",
          "name": "stdout",
          "text": [
            "Index(['Year', 'Region', 'Commune', 'Date', 'Type', 'Cause', 'Fatalities',\n",
            "       'Serious', 'Less serious', 'Slight', 'geometry'],\n",
            "      dtype='object')\n",
            "Index(['Year', 'Region', 'Commune', 'Date', 'Type', 'Cause', 'Fatalities',\n",
            "       'Serious', 'Less serious', 'Slight', 'geometry'],\n",
            "      dtype='object')\n",
            "Index(['Year', 'Region', 'Region', 'Commune', 'Date', 'Type', 'Cause',\n",
            "       'Fatalities', 'Serious', 'Less serious', 'Slight', 'geometry'],\n",
            "      dtype='object')\n",
            "Index(['Year', 'Region', 'Commune', 'Date', 'Type', 'Cause', 'Fatalities',\n",
            "       'Serious', 'Less serious', 'Slight', 'geometry'],\n",
            "      dtype='object')\n"
          ]
        }
      ]
    },
    {
      "cell_type": "markdown",
      "source": [
        "Se identifica que habían columnas duplicadas en uno de los DataFrames (gdfs_2021), lo que es necesario corregir antes de concatenar todos los DataFrame en uno solo, sino arrojará error <a href=\"#ref5\">[5]</a>."
      ],
      "metadata": {
        "id": "M7QrHC4kyY1H"
      },
      "id": "M7QrHC4kyY1H"
    },
    {
      "cell_type": "code",
      "source": [
        "# Se eliminan las columnas duplicadas.\n",
        "gdfs_2021_utm = gdfs_2021_utm.loc[:,~gdfs_2021_utm.columns.duplicated()].copy() # Con '.loc' se selecciona las columnas que no estan duplicadas."
      ],
      "metadata": {
        "id": "6LGwoOU6wlVo"
      },
      "id": "6LGwoOU6wlVo",
      "execution_count": 342,
      "outputs": []
    },
    {
      "cell_type": "code",
      "source": [
        "# Se revisa y ya no aparece la columna duplicada.\n",
        "gdfs_2021_utm.sample()"
      ],
      "metadata": {
        "id": "I8b-hQCNwlJ4",
        "outputId": "370eefd6-62fa-4ed4-957d-6e09eb1a472e",
        "colab": {
          "base_uri": "https://localhost:8080/",
          "height": 153
        }
      },
      "id": "I8b-hQCNwlJ4",
      "execution_count": 343,
      "outputs": [
        {
          "output_type": "execute_result",
          "data": {
            "text/plain": [
              "     Year              Region      Commune                      Date  \\\n",
              "957  2021  REGION ANTOFAGASTA  ANTOFAGASTA 2021-11-13 00:00:00+00:00   \n",
              "\n",
              "         Type                      Cause  Fatalities  Serious  Less serious  \\\n",
              "957  COLISION  IMPRUDENCIA DEL CONDUCTOR           0        0             0   \n",
              "\n",
              "     Slight                        geometry  \n",
              "957       0  POINT (359590.197 7386486.305)  "
            ],
            "text/html": [
              "\n",
              "  <div id=\"df-56e70729-636a-4c2c-8e94-06edc349f627\" class=\"colab-df-container\">\n",
              "    <div>\n",
              "<style scoped>\n",
              "    .dataframe tbody tr th:only-of-type {\n",
              "        vertical-align: middle;\n",
              "    }\n",
              "\n",
              "    .dataframe tbody tr th {\n",
              "        vertical-align: top;\n",
              "    }\n",
              "\n",
              "    .dataframe thead th {\n",
              "        text-align: right;\n",
              "    }\n",
              "</style>\n",
              "<table border=\"1\" class=\"dataframe\">\n",
              "  <thead>\n",
              "    <tr style=\"text-align: right;\">\n",
              "      <th></th>\n",
              "      <th>Year</th>\n",
              "      <th>Region</th>\n",
              "      <th>Commune</th>\n",
              "      <th>Date</th>\n",
              "      <th>Type</th>\n",
              "      <th>Cause</th>\n",
              "      <th>Fatalities</th>\n",
              "      <th>Serious</th>\n",
              "      <th>Less serious</th>\n",
              "      <th>Slight</th>\n",
              "      <th>geometry</th>\n",
              "    </tr>\n",
              "  </thead>\n",
              "  <tbody>\n",
              "    <tr>\n",
              "      <th>957</th>\n",
              "      <td>2021</td>\n",
              "      <td>REGION ANTOFAGASTA</td>\n",
              "      <td>ANTOFAGASTA</td>\n",
              "      <td>2021-11-13 00:00:00+00:00</td>\n",
              "      <td>COLISION</td>\n",
              "      <td>IMPRUDENCIA DEL CONDUCTOR</td>\n",
              "      <td>0</td>\n",
              "      <td>0</td>\n",
              "      <td>0</td>\n",
              "      <td>0</td>\n",
              "      <td>POINT (359590.197 7386486.305)</td>\n",
              "    </tr>\n",
              "  </tbody>\n",
              "</table>\n",
              "</div>\n",
              "    <div class=\"colab-df-buttons\">\n",
              "\n",
              "  <div class=\"colab-df-container\">\n",
              "    <button class=\"colab-df-convert\" onclick=\"convertToInteractive('df-56e70729-636a-4c2c-8e94-06edc349f627')\"\n",
              "            title=\"Convert this dataframe to an interactive table.\"\n",
              "            style=\"display:none;\">\n",
              "\n",
              "  <svg xmlns=\"http://www.w3.org/2000/svg\" height=\"24px\" viewBox=\"0 -960 960 960\">\n",
              "    <path d=\"M120-120v-720h720v720H120Zm60-500h600v-160H180v160Zm220 220h160v-160H400v160Zm0 220h160v-160H400v160ZM180-400h160v-160H180v160Zm440 0h160v-160H620v160ZM180-180h160v-160H180v160Zm440 0h160v-160H620v160Z\"/>\n",
              "  </svg>\n",
              "    </button>\n",
              "\n",
              "  <style>\n",
              "    .colab-df-container {\n",
              "      display:flex;\n",
              "      gap: 12px;\n",
              "    }\n",
              "\n",
              "    .colab-df-convert {\n",
              "      background-color: #E8F0FE;\n",
              "      border: none;\n",
              "      border-radius: 50%;\n",
              "      cursor: pointer;\n",
              "      display: none;\n",
              "      fill: #1967D2;\n",
              "      height: 32px;\n",
              "      padding: 0 0 0 0;\n",
              "      width: 32px;\n",
              "    }\n",
              "\n",
              "    .colab-df-convert:hover {\n",
              "      background-color: #E2EBFA;\n",
              "      box-shadow: 0px 1px 2px rgba(60, 64, 67, 0.3), 0px 1px 3px 1px rgba(60, 64, 67, 0.15);\n",
              "      fill: #174EA6;\n",
              "    }\n",
              "\n",
              "    .colab-df-buttons div {\n",
              "      margin-bottom: 4px;\n",
              "    }\n",
              "\n",
              "    [theme=dark] .colab-df-convert {\n",
              "      background-color: #3B4455;\n",
              "      fill: #D2E3FC;\n",
              "    }\n",
              "\n",
              "    [theme=dark] .colab-df-convert:hover {\n",
              "      background-color: #434B5C;\n",
              "      box-shadow: 0px 1px 3px 1px rgba(0, 0, 0, 0.15);\n",
              "      filter: drop-shadow(0px 1px 2px rgba(0, 0, 0, 0.3));\n",
              "      fill: #FFFFFF;\n",
              "    }\n",
              "  </style>\n",
              "\n",
              "    <script>\n",
              "      const buttonEl =\n",
              "        document.querySelector('#df-56e70729-636a-4c2c-8e94-06edc349f627 button.colab-df-convert');\n",
              "      buttonEl.style.display =\n",
              "        google.colab.kernel.accessAllowed ? 'block' : 'none';\n",
              "\n",
              "      async function convertToInteractive(key) {\n",
              "        const element = document.querySelector('#df-56e70729-636a-4c2c-8e94-06edc349f627');\n",
              "        const dataTable =\n",
              "          await google.colab.kernel.invokeFunction('convertToInteractive',\n",
              "                                                    [key], {});\n",
              "        if (!dataTable) return;\n",
              "\n",
              "        const docLinkHtml = 'Like what you see? Visit the ' +\n",
              "          '<a target=\"_blank\" href=https://colab.research.google.com/notebooks/data_table.ipynb>data table notebook</a>'\n",
              "          + ' to learn more about interactive tables.';\n",
              "        element.innerHTML = '';\n",
              "        dataTable['output_type'] = 'display_data';\n",
              "        await google.colab.output.renderOutput(dataTable, element);\n",
              "        const docLink = document.createElement('div');\n",
              "        docLink.innerHTML = docLinkHtml;\n",
              "        element.appendChild(docLink);\n",
              "      }\n",
              "    </script>\n",
              "  </div>\n",
              "\n",
              "\n",
              "    </div>\n",
              "  </div>\n"
            ],
            "application/vnd.google.colaboratory.intrinsic+json": {
              "type": "dataframe",
              "summary": "{\n  \"name\": \"gdfs_2021_utm\",\n  \"rows\": 1,\n  \"fields\": [\n    {\n      \"column\": \"Year\",\n      \"properties\": {\n        \"dtype\": \"int32\",\n        \"num_unique_values\": 1,\n        \"samples\": [\n          2021\n        ],\n        \"semantic_type\": \"\",\n        \"description\": \"\"\n      }\n    },\n    {\n      \"column\": \"Region\",\n      \"properties\": {\n        \"dtype\": \"string\",\n        \"num_unique_values\": 1,\n        \"samples\": [\n          \"REGION ANTOFAGASTA\"\n        ],\n        \"semantic_type\": \"\",\n        \"description\": \"\"\n      }\n    },\n    {\n      \"column\": \"Commune\",\n      \"properties\": {\n        \"dtype\": \"string\",\n        \"num_unique_values\": 1,\n        \"samples\": [\n          \"ANTOFAGASTA\"\n        ],\n        \"semantic_type\": \"\",\n        \"description\": \"\"\n      }\n    },\n    {\n      \"column\": \"Date\",\n      \"properties\": {\n        \"dtype\": \"date\",\n        \"min\": \"2021-11-13 00:00:00+00:00\",\n        \"max\": \"2021-11-13 00:00:00+00:00\",\n        \"num_unique_values\": 1,\n        \"samples\": [\n          \"2021-11-13 00:00:00+00:00\"\n        ],\n        \"semantic_type\": \"\",\n        \"description\": \"\"\n      }\n    },\n    {\n      \"column\": \"Type\",\n      \"properties\": {\n        \"dtype\": \"string\",\n        \"num_unique_values\": 1,\n        \"samples\": [\n          \"COLISION\"\n        ],\n        \"semantic_type\": \"\",\n        \"description\": \"\"\n      }\n    },\n    {\n      \"column\": \"Cause\",\n      \"properties\": {\n        \"dtype\": \"string\",\n        \"num_unique_values\": 1,\n        \"samples\": [\n          \"IMPRUDENCIA DEL CONDUCTOR\"\n        ],\n        \"semantic_type\": \"\",\n        \"description\": \"\"\n      }\n    },\n    {\n      \"column\": \"Fatalities\",\n      \"properties\": {\n        \"dtype\": \"int32\",\n        \"num_unique_values\": 1,\n        \"samples\": [\n          0\n        ],\n        \"semantic_type\": \"\",\n        \"description\": \"\"\n      }\n    },\n    {\n      \"column\": \"Serious\",\n      \"properties\": {\n        \"dtype\": \"int32\",\n        \"num_unique_values\": 1,\n        \"samples\": [\n          0\n        ],\n        \"semantic_type\": \"\",\n        \"description\": \"\"\n      }\n    },\n    {\n      \"column\": \"Less serious\",\n      \"properties\": {\n        \"dtype\": \"int32\",\n        \"num_unique_values\": 1,\n        \"samples\": [\n          0\n        ],\n        \"semantic_type\": \"\",\n        \"description\": \"\"\n      }\n    },\n    {\n      \"column\": \"Slight\",\n      \"properties\": {\n        \"dtype\": \"int32\",\n        \"num_unique_values\": 1,\n        \"samples\": [\n          0\n        ],\n        \"semantic_type\": \"\",\n        \"description\": \"\"\n      }\n    },\n    {\n      \"column\": \"geometry\",\n      \"properties\": {\n        \"dtype\": \"geometry\",\n        \"num_unique_values\": 1,\n        \"samples\": [\n          \"POINT (359590.1966276328 7386486.3053253)\"\n        ],\n        \"semantic_type\": \"\",\n        \"description\": \"\"\n      }\n    }\n  ]\n}"
            }
          },
          "metadata": {},
          "execution_count": 343
        }
      ]
    },
    {
      "cell_type": "code",
      "source": [
        "# By fixing the error there are no problems with concatenating\n",
        "gdfs_all = pd.concat([gdfs_2019_utm, gdfs_2020_utm, gdfs_2021_utm, gdfs_2022_utm], ignore_index=True)"
      ],
      "metadata": {
        "id": "KAvRZs1vxQip"
      },
      "id": "KAvRZs1vxQip",
      "execution_count": 344,
      "outputs": []
    },
    {
      "cell_type": "code",
      "source": [
        "# Se revisa que se hayan integrado los datos de cada año.\n",
        "gdfs_all.sample(5)"
      ],
      "metadata": {
        "id": "1Le5rPVWzeiQ",
        "outputId": "fade221a-4ed1-4846-cac0-472bf22b95d0",
        "colab": {
          "base_uri": "https://localhost:8080/",
          "height": 417
        }
      },
      "id": "1Le5rPVWzeiQ",
      "execution_count": 345,
      "outputs": [
        {
          "output_type": "execute_result",
          "data": {
            "text/plain": [
              "      Year              Region      Commune                      Date  \\\n",
              "1833  2019  REGION ANTOFAGASTA  ANTOFAGASTA 2019-07-15 00:00:00+00:00   \n",
              "356   2019  REGION ANTOFAGASTA  ANTOFAGASTA 2019-07-21 00:00:00+00:00   \n",
              "2963  2020  REGION ANTOFAGASTA       CALAMA 2020-12-05 00:00:00+00:00   \n",
              "5278  2021  REGION ANTOFAGASTA  ANTOFAGASTA 2021-09-03 00:00:00+00:00   \n",
              "2498  2020  REGION ANTOFAGASTA  ANTOFAGASTA 2020-03-02 00:00:00+00:00   \n",
              "\n",
              "          Type                      Cause  Fatalities  Serious  Less serious  \\\n",
              "1833  COLISION       ALCOHOL EN CONDUCTOR           0        0             0   \n",
              "356     CHOQUE       ALCOHOL EN CONDUCTOR           0        0             0   \n",
              "2963  COLISION       ALCOHOL EN CONDUCTOR           0        0             0   \n",
              "5278    CHOQUE       ALCOHOL EN CONDUCTOR           0        0             0   \n",
              "2498    CHOQUE  IMPRUDENCIA DEL CONDUCTOR           0        0             0   \n",
              "\n",
              "      Slight                        geometry  \n",
              "1833       0  POINT (358970.534 7388961.461)  \n",
              "356        0  POINT (359209.709 7392088.086)  \n",
              "2963       0  POINT (506482.455 7517433.655)  \n",
              "5278       0  POINT (359141.878 7385643.451)  \n",
              "2498       0  POINT (357091.614 7384144.257)  "
            ],
            "text/html": [
              "\n",
              "  <div id=\"df-e3cf01aa-ee97-452b-b491-083f27fe3d12\" class=\"colab-df-container\">\n",
              "    <div>\n",
              "<style scoped>\n",
              "    .dataframe tbody tr th:only-of-type {\n",
              "        vertical-align: middle;\n",
              "    }\n",
              "\n",
              "    .dataframe tbody tr th {\n",
              "        vertical-align: top;\n",
              "    }\n",
              "\n",
              "    .dataframe thead th {\n",
              "        text-align: right;\n",
              "    }\n",
              "</style>\n",
              "<table border=\"1\" class=\"dataframe\">\n",
              "  <thead>\n",
              "    <tr style=\"text-align: right;\">\n",
              "      <th></th>\n",
              "      <th>Year</th>\n",
              "      <th>Region</th>\n",
              "      <th>Commune</th>\n",
              "      <th>Date</th>\n",
              "      <th>Type</th>\n",
              "      <th>Cause</th>\n",
              "      <th>Fatalities</th>\n",
              "      <th>Serious</th>\n",
              "      <th>Less serious</th>\n",
              "      <th>Slight</th>\n",
              "      <th>geometry</th>\n",
              "    </tr>\n",
              "  </thead>\n",
              "  <tbody>\n",
              "    <tr>\n",
              "      <th>1833</th>\n",
              "      <td>2019</td>\n",
              "      <td>REGION ANTOFAGASTA</td>\n",
              "      <td>ANTOFAGASTA</td>\n",
              "      <td>2019-07-15 00:00:00+00:00</td>\n",
              "      <td>COLISION</td>\n",
              "      <td>ALCOHOL EN CONDUCTOR</td>\n",
              "      <td>0</td>\n",
              "      <td>0</td>\n",
              "      <td>0</td>\n",
              "      <td>0</td>\n",
              "      <td>POINT (358970.534 7388961.461)</td>\n",
              "    </tr>\n",
              "    <tr>\n",
              "      <th>356</th>\n",
              "      <td>2019</td>\n",
              "      <td>REGION ANTOFAGASTA</td>\n",
              "      <td>ANTOFAGASTA</td>\n",
              "      <td>2019-07-21 00:00:00+00:00</td>\n",
              "      <td>CHOQUE</td>\n",
              "      <td>ALCOHOL EN CONDUCTOR</td>\n",
              "      <td>0</td>\n",
              "      <td>0</td>\n",
              "      <td>0</td>\n",
              "      <td>0</td>\n",
              "      <td>POINT (359209.709 7392088.086)</td>\n",
              "    </tr>\n",
              "    <tr>\n",
              "      <th>2963</th>\n",
              "      <td>2020</td>\n",
              "      <td>REGION ANTOFAGASTA</td>\n",
              "      <td>CALAMA</td>\n",
              "      <td>2020-12-05 00:00:00+00:00</td>\n",
              "      <td>COLISION</td>\n",
              "      <td>ALCOHOL EN CONDUCTOR</td>\n",
              "      <td>0</td>\n",
              "      <td>0</td>\n",
              "      <td>0</td>\n",
              "      <td>0</td>\n",
              "      <td>POINT (506482.455 7517433.655)</td>\n",
              "    </tr>\n",
              "    <tr>\n",
              "      <th>5278</th>\n",
              "      <td>2021</td>\n",
              "      <td>REGION ANTOFAGASTA</td>\n",
              "      <td>ANTOFAGASTA</td>\n",
              "      <td>2021-09-03 00:00:00+00:00</td>\n",
              "      <td>CHOQUE</td>\n",
              "      <td>ALCOHOL EN CONDUCTOR</td>\n",
              "      <td>0</td>\n",
              "      <td>0</td>\n",
              "      <td>0</td>\n",
              "      <td>0</td>\n",
              "      <td>POINT (359141.878 7385643.451)</td>\n",
              "    </tr>\n",
              "    <tr>\n",
              "      <th>2498</th>\n",
              "      <td>2020</td>\n",
              "      <td>REGION ANTOFAGASTA</td>\n",
              "      <td>ANTOFAGASTA</td>\n",
              "      <td>2020-03-02 00:00:00+00:00</td>\n",
              "      <td>CHOQUE</td>\n",
              "      <td>IMPRUDENCIA DEL CONDUCTOR</td>\n",
              "      <td>0</td>\n",
              "      <td>0</td>\n",
              "      <td>0</td>\n",
              "      <td>0</td>\n",
              "      <td>POINT (357091.614 7384144.257)</td>\n",
              "    </tr>\n",
              "  </tbody>\n",
              "</table>\n",
              "</div>\n",
              "    <div class=\"colab-df-buttons\">\n",
              "\n",
              "  <div class=\"colab-df-container\">\n",
              "    <button class=\"colab-df-convert\" onclick=\"convertToInteractive('df-e3cf01aa-ee97-452b-b491-083f27fe3d12')\"\n",
              "            title=\"Convert this dataframe to an interactive table.\"\n",
              "            style=\"display:none;\">\n",
              "\n",
              "  <svg xmlns=\"http://www.w3.org/2000/svg\" height=\"24px\" viewBox=\"0 -960 960 960\">\n",
              "    <path d=\"M120-120v-720h720v720H120Zm60-500h600v-160H180v160Zm220 220h160v-160H400v160Zm0 220h160v-160H400v160ZM180-400h160v-160H180v160Zm440 0h160v-160H620v160ZM180-180h160v-160H180v160Zm440 0h160v-160H620v160Z\"/>\n",
              "  </svg>\n",
              "    </button>\n",
              "\n",
              "  <style>\n",
              "    .colab-df-container {\n",
              "      display:flex;\n",
              "      gap: 12px;\n",
              "    }\n",
              "\n",
              "    .colab-df-convert {\n",
              "      background-color: #E8F0FE;\n",
              "      border: none;\n",
              "      border-radius: 50%;\n",
              "      cursor: pointer;\n",
              "      display: none;\n",
              "      fill: #1967D2;\n",
              "      height: 32px;\n",
              "      padding: 0 0 0 0;\n",
              "      width: 32px;\n",
              "    }\n",
              "\n",
              "    .colab-df-convert:hover {\n",
              "      background-color: #E2EBFA;\n",
              "      box-shadow: 0px 1px 2px rgba(60, 64, 67, 0.3), 0px 1px 3px 1px rgba(60, 64, 67, 0.15);\n",
              "      fill: #174EA6;\n",
              "    }\n",
              "\n",
              "    .colab-df-buttons div {\n",
              "      margin-bottom: 4px;\n",
              "    }\n",
              "\n",
              "    [theme=dark] .colab-df-convert {\n",
              "      background-color: #3B4455;\n",
              "      fill: #D2E3FC;\n",
              "    }\n",
              "\n",
              "    [theme=dark] .colab-df-convert:hover {\n",
              "      background-color: #434B5C;\n",
              "      box-shadow: 0px 1px 3px 1px rgba(0, 0, 0, 0.15);\n",
              "      filter: drop-shadow(0px 1px 2px rgba(0, 0, 0, 0.3));\n",
              "      fill: #FFFFFF;\n",
              "    }\n",
              "  </style>\n",
              "\n",
              "    <script>\n",
              "      const buttonEl =\n",
              "        document.querySelector('#df-e3cf01aa-ee97-452b-b491-083f27fe3d12 button.colab-df-convert');\n",
              "      buttonEl.style.display =\n",
              "        google.colab.kernel.accessAllowed ? 'block' : 'none';\n",
              "\n",
              "      async function convertToInteractive(key) {\n",
              "        const element = document.querySelector('#df-e3cf01aa-ee97-452b-b491-083f27fe3d12');\n",
              "        const dataTable =\n",
              "          await google.colab.kernel.invokeFunction('convertToInteractive',\n",
              "                                                    [key], {});\n",
              "        if (!dataTable) return;\n",
              "\n",
              "        const docLinkHtml = 'Like what you see? Visit the ' +\n",
              "          '<a target=\"_blank\" href=https://colab.research.google.com/notebooks/data_table.ipynb>data table notebook</a>'\n",
              "          + ' to learn more about interactive tables.';\n",
              "        element.innerHTML = '';\n",
              "        dataTable['output_type'] = 'display_data';\n",
              "        await google.colab.output.renderOutput(dataTable, element);\n",
              "        const docLink = document.createElement('div');\n",
              "        docLink.innerHTML = docLinkHtml;\n",
              "        element.appendChild(docLink);\n",
              "      }\n",
              "    </script>\n",
              "  </div>\n",
              "\n",
              "\n",
              "    <div id=\"df-fa6b7c3b-e96a-4845-8c7d-daff0fcff1d1\">\n",
              "      <button class=\"colab-df-quickchart\" onclick=\"quickchart('df-fa6b7c3b-e96a-4845-8c7d-daff0fcff1d1')\"\n",
              "                title=\"Suggest charts\"\n",
              "                style=\"display:none;\">\n",
              "\n",
              "<svg xmlns=\"http://www.w3.org/2000/svg\" height=\"24px\"viewBox=\"0 0 24 24\"\n",
              "     width=\"24px\">\n",
              "    <g>\n",
              "        <path d=\"M19 3H5c-1.1 0-2 .9-2 2v14c0 1.1.9 2 2 2h14c1.1 0 2-.9 2-2V5c0-1.1-.9-2-2-2zM9 17H7v-7h2v7zm4 0h-2V7h2v10zm4 0h-2v-4h2v4z\"/>\n",
              "    </g>\n",
              "</svg>\n",
              "      </button>\n",
              "\n",
              "<style>\n",
              "  .colab-df-quickchart {\n",
              "      --bg-color: #E8F0FE;\n",
              "      --fill-color: #1967D2;\n",
              "      --hover-bg-color: #E2EBFA;\n",
              "      --hover-fill-color: #174EA6;\n",
              "      --disabled-fill-color: #AAA;\n",
              "      --disabled-bg-color: #DDD;\n",
              "  }\n",
              "\n",
              "  [theme=dark] .colab-df-quickchart {\n",
              "      --bg-color: #3B4455;\n",
              "      --fill-color: #D2E3FC;\n",
              "      --hover-bg-color: #434B5C;\n",
              "      --hover-fill-color: #FFFFFF;\n",
              "      --disabled-bg-color: #3B4455;\n",
              "      --disabled-fill-color: #666;\n",
              "  }\n",
              "\n",
              "  .colab-df-quickchart {\n",
              "    background-color: var(--bg-color);\n",
              "    border: none;\n",
              "    border-radius: 50%;\n",
              "    cursor: pointer;\n",
              "    display: none;\n",
              "    fill: var(--fill-color);\n",
              "    height: 32px;\n",
              "    padding: 0;\n",
              "    width: 32px;\n",
              "  }\n",
              "\n",
              "  .colab-df-quickchart:hover {\n",
              "    background-color: var(--hover-bg-color);\n",
              "    box-shadow: 0 1px 2px rgba(60, 64, 67, 0.3), 0 1px 3px 1px rgba(60, 64, 67, 0.15);\n",
              "    fill: var(--button-hover-fill-color);\n",
              "  }\n",
              "\n",
              "  .colab-df-quickchart-complete:disabled,\n",
              "  .colab-df-quickchart-complete:disabled:hover {\n",
              "    background-color: var(--disabled-bg-color);\n",
              "    fill: var(--disabled-fill-color);\n",
              "    box-shadow: none;\n",
              "  }\n",
              "\n",
              "  .colab-df-spinner {\n",
              "    border: 2px solid var(--fill-color);\n",
              "    border-color: transparent;\n",
              "    border-bottom-color: var(--fill-color);\n",
              "    animation:\n",
              "      spin 1s steps(1) infinite;\n",
              "  }\n",
              "\n",
              "  @keyframes spin {\n",
              "    0% {\n",
              "      border-color: transparent;\n",
              "      border-bottom-color: var(--fill-color);\n",
              "      border-left-color: var(--fill-color);\n",
              "    }\n",
              "    20% {\n",
              "      border-color: transparent;\n",
              "      border-left-color: var(--fill-color);\n",
              "      border-top-color: var(--fill-color);\n",
              "    }\n",
              "    30% {\n",
              "      border-color: transparent;\n",
              "      border-left-color: var(--fill-color);\n",
              "      border-top-color: var(--fill-color);\n",
              "      border-right-color: var(--fill-color);\n",
              "    }\n",
              "    40% {\n",
              "      border-color: transparent;\n",
              "      border-right-color: var(--fill-color);\n",
              "      border-top-color: var(--fill-color);\n",
              "    }\n",
              "    60% {\n",
              "      border-color: transparent;\n",
              "      border-right-color: var(--fill-color);\n",
              "    }\n",
              "    80% {\n",
              "      border-color: transparent;\n",
              "      border-right-color: var(--fill-color);\n",
              "      border-bottom-color: var(--fill-color);\n",
              "    }\n",
              "    90% {\n",
              "      border-color: transparent;\n",
              "      border-bottom-color: var(--fill-color);\n",
              "    }\n",
              "  }\n",
              "</style>\n",
              "\n",
              "      <script>\n",
              "        async function quickchart(key) {\n",
              "          const quickchartButtonEl =\n",
              "            document.querySelector('#' + key + ' button');\n",
              "          quickchartButtonEl.disabled = true;  // To prevent multiple clicks.\n",
              "          quickchartButtonEl.classList.add('colab-df-spinner');\n",
              "          try {\n",
              "            const charts = await google.colab.kernel.invokeFunction(\n",
              "                'suggestCharts', [key], {});\n",
              "          } catch (error) {\n",
              "            console.error('Error during call to suggestCharts:', error);\n",
              "          }\n",
              "          quickchartButtonEl.classList.remove('colab-df-spinner');\n",
              "          quickchartButtonEl.classList.add('colab-df-quickchart-complete');\n",
              "        }\n",
              "        (() => {\n",
              "          let quickchartButtonEl =\n",
              "            document.querySelector('#df-fa6b7c3b-e96a-4845-8c7d-daff0fcff1d1 button');\n",
              "          quickchartButtonEl.style.display =\n",
              "            google.colab.kernel.accessAllowed ? 'block' : 'none';\n",
              "        })();\n",
              "      </script>\n",
              "    </div>\n",
              "\n",
              "    </div>\n",
              "  </div>\n"
            ],
            "application/vnd.google.colaboratory.intrinsic+json": {
              "type": "dataframe",
              "summary": "{\n  \"name\": \"gdfs_all\",\n  \"rows\": 5,\n  \"fields\": [\n    {\n      \"column\": \"Year\",\n      \"properties\": {\n        \"dtype\": \"int32\",\n        \"num_unique_values\": 3,\n        \"samples\": [\n          2019,\n          2020,\n          2021\n        ],\n        \"semantic_type\": \"\",\n        \"description\": \"\"\n      }\n    },\n    {\n      \"column\": \"Region\",\n      \"properties\": {\n        \"dtype\": \"category\",\n        \"num_unique_values\": 1,\n        \"samples\": [\n          \"REGION ANTOFAGASTA\"\n        ],\n        \"semantic_type\": \"\",\n        \"description\": \"\"\n      }\n    },\n    {\n      \"column\": \"Commune\",\n      \"properties\": {\n        \"dtype\": \"category\",\n        \"num_unique_values\": 2,\n        \"samples\": [\n          \"CALAMA\"\n        ],\n        \"semantic_type\": \"\",\n        \"description\": \"\"\n      }\n    },\n    {\n      \"column\": \"Date\",\n      \"properties\": {\n        \"dtype\": \"date\",\n        \"min\": \"2019-07-15 00:00:00+00:00\",\n        \"max\": \"2021-09-03 00:00:00+00:00\",\n        \"num_unique_values\": 5,\n        \"samples\": [\n          \"2019-07-21 00:00:00+00:00\"\n        ],\n        \"semantic_type\": \"\",\n        \"description\": \"\"\n      }\n    },\n    {\n      \"column\": \"Type\",\n      \"properties\": {\n        \"dtype\": \"category\",\n        \"num_unique_values\": 2,\n        \"samples\": [\n          \"CHOQUE\"\n        ],\n        \"semantic_type\": \"\",\n        \"description\": \"\"\n      }\n    },\n    {\n      \"column\": \"Cause\",\n      \"properties\": {\n        \"dtype\": \"category\",\n        \"num_unique_values\": 2,\n        \"samples\": [\n          \"IMPRUDENCIA DEL CONDUCTOR\"\n        ],\n        \"semantic_type\": \"\",\n        \"description\": \"\"\n      }\n    },\n    {\n      \"column\": \"Fatalities\",\n      \"properties\": {\n        \"dtype\": \"int32\",\n        \"num_unique_values\": 1,\n        \"samples\": [\n          0\n        ],\n        \"semantic_type\": \"\",\n        \"description\": \"\"\n      }\n    },\n    {\n      \"column\": \"Serious\",\n      \"properties\": {\n        \"dtype\": \"int32\",\n        \"num_unique_values\": 1,\n        \"samples\": [\n          0\n        ],\n        \"semantic_type\": \"\",\n        \"description\": \"\"\n      }\n    },\n    {\n      \"column\": \"Less serious\",\n      \"properties\": {\n        \"dtype\": \"int32\",\n        \"num_unique_values\": 1,\n        \"samples\": [\n          0\n        ],\n        \"semantic_type\": \"\",\n        \"description\": \"\"\n      }\n    },\n    {\n      \"column\": \"Slight\",\n      \"properties\": {\n        \"dtype\": \"int32\",\n        \"num_unique_values\": 1,\n        \"samples\": [\n          0\n        ],\n        \"semantic_type\": \"\",\n        \"description\": \"\"\n      }\n    },\n    {\n      \"column\": \"geometry\",\n      \"properties\": {\n        \"dtype\": \"geometry\",\n        \"num_unique_values\": 5,\n        \"samples\": [\n          \"POINT (359209.7094577357 7392088.085821649)\"\n        ],\n        \"semantic_type\": \"\",\n        \"description\": \"\"\n      }\n    }\n  ]\n}"
            }
          },
          "metadata": {},
          "execution_count": 345
        }
      ]
    },
    {
      "cell_type": "markdown",
      "source": [
        "Se observa que en la columna 'Type' los nombres estan en mayuscula y en espanol, se decide cambiar al ingles."
      ],
      "metadata": {
        "id": "8jDDQDAu1pmE"
      },
      "id": "8jDDQDAu1pmE"
    },
    {
      "cell_type": "code",
      "source": [
        "# Renombrar los valores de la columna 'Type' con nombres en ingles\n",
        "#gdfs_all.replace({'Colision': 'Collision',\n",
        "                  #'Atropello': 'Hit-and-run',\n",
        "                  #'Choque': 'Crash',\n",
        "                  #'Volcamiento': 'Overturning',\n",
        "                  #'Incendio': 'Fire',\n",
        "                  #'Otro': 'Another'}, inplace=True)"
      ],
      "metadata": {
        "id": "iKQ0Mt7g4_VF"
      },
      "id": "iKQ0Mt7g4_VF",
      "execution_count": 346,
      "outputs": []
    },
    {
      "cell_type": "code",
      "source": [
        "#gdfs_all['Type'] = gdfs_all['Type'].replace(type_renaming)"
      ],
      "metadata": {
        "id": "CDz0SQns53oV"
      },
      "id": "CDz0SQns53oV",
      "execution_count": 347,
      "outputs": []
    },
    {
      "cell_type": "markdown",
      "source": [
        "Lo siguiente es colocar correctamente el nombre de las comunas del gdfs_all"
      ],
      "metadata": {
        "id": "UIjMFwtI0rs9"
      },
      "id": "UIjMFwtI0rs9"
    },
    {
      "cell_type": "code",
      "source": [
        "#Identificar las comunas\n",
        "communes = np.sort(gdfs_all['Commune'].unique()) # Con 'np.sort' se ordenan las communes alfabeticamente, con .unique() se eliminan los duplicados, obteniendo la lista de las comunas.\n",
        "communes"
      ],
      "metadata": {
        "id": "sfMbmH0XzeOC",
        "outputId": "d0d0358f-45ca-4833-c065-e92d27dbeb1a",
        "colab": {
          "base_uri": "https://localhost:8080/"
        }
      },
      "id": "sfMbmH0XzeOC",
      "execution_count": 348,
      "outputs": [
        {
          "output_type": "execute_result",
          "data": {
            "text/plain": [
              "array(['ANTOFAGASTA', 'CALAMA', 'MARIA ELENA', 'MEJILLONES',\n",
              "       'SAN PEDRO AT', 'SAN PEDRO ATACAMA', 'SIERRA GORDA', 'TALTAL',\n",
              "       'TOCOPILLA'], dtype=object)"
            ]
          },
          "metadata": {},
          "execution_count": 348
        }
      ]
    },
    {
      "cell_type": "markdown",
      "source": [
        "Se observa que todos aparecen con mayuscula, por lo que se decide dejar con mayuscula solo la primera letra. Además uno de los nombres aparece cortado y repetido ('SAN PEDRO AT' y 'SAN PEDRO ATACAMA')"
      ],
      "metadata": {
        "id": "JEuu1JfY1HSS"
      },
      "id": "JEuu1JfY1HSS"
    },
    {
      "cell_type": "code",
      "source": [
        "# Se cambia de el nombre de las comunas (de mayuscula a minuscula) usando '.replace'.\n",
        "gdfs_all.replace({'ANTOFAGASTA': 'Antofagasta',\n",
        "                  'CALAMA': 'Calama',\n",
        "                  'MARIA ELENA': 'Maria Elena',\n",
        "                  'MEJILLONES': 'Mejillones',\n",
        "                  'SAN PEDRO AT': 'San Pedro Atacama',\n",
        "                  'SAN PEDRO ATACAMA': 'San Pedro Atacama',\n",
        "                  'SIERRA GORDA': 'Sierra Gorda',\n",
        "                  'TALTAL':'Taltal',\n",
        "                  'TOCOPILLA':'Tocopilla'}, inplace=True)  # con 'inplace=True' los cambios se aplican directamente al DataFrame original, sin necesidad de reasignarlo."
      ],
      "metadata": {
        "id": "QV7rKa6n1GsR"
      },
      "id": "QV7rKa6n1GsR",
      "execution_count": 349,
      "outputs": []
    },
    {
      "cell_type": "code",
      "source": [
        "group = gdfs_all.groupby(['Commune', 'Year'])[['Fatalities',\n",
        "                                               'Serious',\n",
        "                                               'Less serious',\n",
        "                                               'Slight']].sum().unstack().fillna(0)  # Los datos se agrupan por 'Commune' y luego por 'year'. Se seleccionan las columnas Fatalities', 'Serious', 'Less serious', 'Slight'\n",
        "                                                                           # Luego se suman usando '.sum'\n",
        "                                                                           # con '.unstack()' convierte a 'Year' en columnas, ya que se trata del indice de nivel mas bajo.\n",
        "                                                                           # con fillna(0) se reemplazan los valores NaN por ceros.\n"
      ],
      "metadata": {
        "id": "wI3DYCr_1ATp"
      },
      "id": "wI3DYCr_1ATp",
      "execution_count": 350,
      "outputs": []
    },
    {
      "cell_type": "code",
      "source": [
        "group # Se visualiza lan los datos agrupados."
      ],
      "metadata": {
        "id": "CfNpbAFj0__M",
        "outputId": "bed5ed67-87ce-4231-fe0b-0e948aea3689",
        "colab": {
          "base_uri": "https://localhost:8080/",
          "height": 363
        }
      },
      "id": "CfNpbAFj0__M",
      "execution_count": 351,
      "outputs": [
        {
          "output_type": "execute_result",
          "data": {
            "text/plain": [
              "                  Fatalities                   Serious                    \\\n",
              "Year                    2019  2020  2021  2022    2019  2020  2021  2022   \n",
              "Commune                                                                    \n",
              "Antofagasta             14.0  11.0  15.0  13.0   107.0  78.0  99.0  96.0   \n",
              "Calama                   2.0   7.0   5.0  12.0    44.0  55.0  50.0  59.0   \n",
              "Maria Elena              0.0   0.0   0.0   1.0     0.0   0.0   0.0   0.0   \n",
              "Mejillones               0.0   1.0   0.0   0.0     1.0   0.0   0.0   1.0   \n",
              "San Pedro Atacama        0.0   0.0   0.0   0.0     1.0   1.0   0.0   0.0   \n",
              "Sierra Gorda             0.0   0.0   0.0   0.0     0.0   0.0   0.0   0.0   \n",
              "Taltal                   0.0   0.0   0.0   1.0     1.0   2.0   1.0   2.0   \n",
              "Tocopilla                0.0   0.0   0.0   1.0     3.0   6.0   6.0   6.0   \n",
              "\n",
              "                  Less serious                   Slight                       \n",
              "Year                      2019  2020  2021  2022   2019   2020   2021   2022  \n",
              "Commune                                                                       \n",
              "Antofagasta               40.0  47.0  55.0  41.0  706.0  604.0  688.0  516.0  \n",
              "Calama                    38.0  41.0  28.0  25.0  375.0  283.0  337.0  350.0  \n",
              "Maria Elena                0.0   0.0   0.0   3.0    0.0    0.0    0.0    2.0  \n",
              "Mejillones                 0.0   1.0   0.0   0.0    5.0    5.0    2.0    0.0  \n",
              "San Pedro Atacama          1.0   0.0   0.0   0.0    3.0    4.0    0.0    4.0  \n",
              "Sierra Gorda               0.0   0.0   0.0   0.0    0.0    0.0    2.0    0.0  \n",
              "Taltal                     0.0   1.0   0.0   2.0   14.0   15.0    5.0    4.0  \n",
              "Tocopilla                  3.0   2.0   1.0   4.0   33.0   42.0   55.0   37.0  "
            ],
            "text/html": [
              "\n",
              "  <div id=\"df-e511193b-0ad4-4293-b2ed-730af4d88f2d\" class=\"colab-df-container\">\n",
              "    <div>\n",
              "<style scoped>\n",
              "    .dataframe tbody tr th:only-of-type {\n",
              "        vertical-align: middle;\n",
              "    }\n",
              "\n",
              "    .dataframe tbody tr th {\n",
              "        vertical-align: top;\n",
              "    }\n",
              "\n",
              "    .dataframe thead tr th {\n",
              "        text-align: left;\n",
              "    }\n",
              "\n",
              "    .dataframe thead tr:last-of-type th {\n",
              "        text-align: right;\n",
              "    }\n",
              "</style>\n",
              "<table border=\"1\" class=\"dataframe\">\n",
              "  <thead>\n",
              "    <tr>\n",
              "      <th></th>\n",
              "      <th colspan=\"4\" halign=\"left\">Fatalities</th>\n",
              "      <th colspan=\"4\" halign=\"left\">Serious</th>\n",
              "      <th colspan=\"4\" halign=\"left\">Less serious</th>\n",
              "      <th colspan=\"4\" halign=\"left\">Slight</th>\n",
              "    </tr>\n",
              "    <tr>\n",
              "      <th>Year</th>\n",
              "      <th>2019</th>\n",
              "      <th>2020</th>\n",
              "      <th>2021</th>\n",
              "      <th>2022</th>\n",
              "      <th>2019</th>\n",
              "      <th>2020</th>\n",
              "      <th>2021</th>\n",
              "      <th>2022</th>\n",
              "      <th>2019</th>\n",
              "      <th>2020</th>\n",
              "      <th>2021</th>\n",
              "      <th>2022</th>\n",
              "      <th>2019</th>\n",
              "      <th>2020</th>\n",
              "      <th>2021</th>\n",
              "      <th>2022</th>\n",
              "    </tr>\n",
              "    <tr>\n",
              "      <th>Commune</th>\n",
              "      <th></th>\n",
              "      <th></th>\n",
              "      <th></th>\n",
              "      <th></th>\n",
              "      <th></th>\n",
              "      <th></th>\n",
              "      <th></th>\n",
              "      <th></th>\n",
              "      <th></th>\n",
              "      <th></th>\n",
              "      <th></th>\n",
              "      <th></th>\n",
              "      <th></th>\n",
              "      <th></th>\n",
              "      <th></th>\n",
              "      <th></th>\n",
              "    </tr>\n",
              "  </thead>\n",
              "  <tbody>\n",
              "    <tr>\n",
              "      <th>Antofagasta</th>\n",
              "      <td>14.0</td>\n",
              "      <td>11.0</td>\n",
              "      <td>15.0</td>\n",
              "      <td>13.0</td>\n",
              "      <td>107.0</td>\n",
              "      <td>78.0</td>\n",
              "      <td>99.0</td>\n",
              "      <td>96.0</td>\n",
              "      <td>40.0</td>\n",
              "      <td>47.0</td>\n",
              "      <td>55.0</td>\n",
              "      <td>41.0</td>\n",
              "      <td>706.0</td>\n",
              "      <td>604.0</td>\n",
              "      <td>688.0</td>\n",
              "      <td>516.0</td>\n",
              "    </tr>\n",
              "    <tr>\n",
              "      <th>Calama</th>\n",
              "      <td>2.0</td>\n",
              "      <td>7.0</td>\n",
              "      <td>5.0</td>\n",
              "      <td>12.0</td>\n",
              "      <td>44.0</td>\n",
              "      <td>55.0</td>\n",
              "      <td>50.0</td>\n",
              "      <td>59.0</td>\n",
              "      <td>38.0</td>\n",
              "      <td>41.0</td>\n",
              "      <td>28.0</td>\n",
              "      <td>25.0</td>\n",
              "      <td>375.0</td>\n",
              "      <td>283.0</td>\n",
              "      <td>337.0</td>\n",
              "      <td>350.0</td>\n",
              "    </tr>\n",
              "    <tr>\n",
              "      <th>Maria Elena</th>\n",
              "      <td>0.0</td>\n",
              "      <td>0.0</td>\n",
              "      <td>0.0</td>\n",
              "      <td>1.0</td>\n",
              "      <td>0.0</td>\n",
              "      <td>0.0</td>\n",
              "      <td>0.0</td>\n",
              "      <td>0.0</td>\n",
              "      <td>0.0</td>\n",
              "      <td>0.0</td>\n",
              "      <td>0.0</td>\n",
              "      <td>3.0</td>\n",
              "      <td>0.0</td>\n",
              "      <td>0.0</td>\n",
              "      <td>0.0</td>\n",
              "      <td>2.0</td>\n",
              "    </tr>\n",
              "    <tr>\n",
              "      <th>Mejillones</th>\n",
              "      <td>0.0</td>\n",
              "      <td>1.0</td>\n",
              "      <td>0.0</td>\n",
              "      <td>0.0</td>\n",
              "      <td>1.0</td>\n",
              "      <td>0.0</td>\n",
              "      <td>0.0</td>\n",
              "      <td>1.0</td>\n",
              "      <td>0.0</td>\n",
              "      <td>1.0</td>\n",
              "      <td>0.0</td>\n",
              "      <td>0.0</td>\n",
              "      <td>5.0</td>\n",
              "      <td>5.0</td>\n",
              "      <td>2.0</td>\n",
              "      <td>0.0</td>\n",
              "    </tr>\n",
              "    <tr>\n",
              "      <th>San Pedro Atacama</th>\n",
              "      <td>0.0</td>\n",
              "      <td>0.0</td>\n",
              "      <td>0.0</td>\n",
              "      <td>0.0</td>\n",
              "      <td>1.0</td>\n",
              "      <td>1.0</td>\n",
              "      <td>0.0</td>\n",
              "      <td>0.0</td>\n",
              "      <td>1.0</td>\n",
              "      <td>0.0</td>\n",
              "      <td>0.0</td>\n",
              "      <td>0.0</td>\n",
              "      <td>3.0</td>\n",
              "      <td>4.0</td>\n",
              "      <td>0.0</td>\n",
              "      <td>4.0</td>\n",
              "    </tr>\n",
              "    <tr>\n",
              "      <th>Sierra Gorda</th>\n",
              "      <td>0.0</td>\n",
              "      <td>0.0</td>\n",
              "      <td>0.0</td>\n",
              "      <td>0.0</td>\n",
              "      <td>0.0</td>\n",
              "      <td>0.0</td>\n",
              "      <td>0.0</td>\n",
              "      <td>0.0</td>\n",
              "      <td>0.0</td>\n",
              "      <td>0.0</td>\n",
              "      <td>0.0</td>\n",
              "      <td>0.0</td>\n",
              "      <td>0.0</td>\n",
              "      <td>0.0</td>\n",
              "      <td>2.0</td>\n",
              "      <td>0.0</td>\n",
              "    </tr>\n",
              "    <tr>\n",
              "      <th>Taltal</th>\n",
              "      <td>0.0</td>\n",
              "      <td>0.0</td>\n",
              "      <td>0.0</td>\n",
              "      <td>1.0</td>\n",
              "      <td>1.0</td>\n",
              "      <td>2.0</td>\n",
              "      <td>1.0</td>\n",
              "      <td>2.0</td>\n",
              "      <td>0.0</td>\n",
              "      <td>1.0</td>\n",
              "      <td>0.0</td>\n",
              "      <td>2.0</td>\n",
              "      <td>14.0</td>\n",
              "      <td>15.0</td>\n",
              "      <td>5.0</td>\n",
              "      <td>4.0</td>\n",
              "    </tr>\n",
              "    <tr>\n",
              "      <th>Tocopilla</th>\n",
              "      <td>0.0</td>\n",
              "      <td>0.0</td>\n",
              "      <td>0.0</td>\n",
              "      <td>1.0</td>\n",
              "      <td>3.0</td>\n",
              "      <td>6.0</td>\n",
              "      <td>6.0</td>\n",
              "      <td>6.0</td>\n",
              "      <td>3.0</td>\n",
              "      <td>2.0</td>\n",
              "      <td>1.0</td>\n",
              "      <td>4.0</td>\n",
              "      <td>33.0</td>\n",
              "      <td>42.0</td>\n",
              "      <td>55.0</td>\n",
              "      <td>37.0</td>\n",
              "    </tr>\n",
              "  </tbody>\n",
              "</table>\n",
              "</div>\n",
              "    <div class=\"colab-df-buttons\">\n",
              "\n",
              "  <div class=\"colab-df-container\">\n",
              "    <button class=\"colab-df-convert\" onclick=\"convertToInteractive('df-e511193b-0ad4-4293-b2ed-730af4d88f2d')\"\n",
              "            title=\"Convert this dataframe to an interactive table.\"\n",
              "            style=\"display:none;\">\n",
              "\n",
              "  <svg xmlns=\"http://www.w3.org/2000/svg\" height=\"24px\" viewBox=\"0 -960 960 960\">\n",
              "    <path d=\"M120-120v-720h720v720H120Zm60-500h600v-160H180v160Zm220 220h160v-160H400v160Zm0 220h160v-160H400v160ZM180-400h160v-160H180v160Zm440 0h160v-160H620v160ZM180-180h160v-160H180v160Zm440 0h160v-160H620v160Z\"/>\n",
              "  </svg>\n",
              "    </button>\n",
              "\n",
              "  <style>\n",
              "    .colab-df-container {\n",
              "      display:flex;\n",
              "      gap: 12px;\n",
              "    }\n",
              "\n",
              "    .colab-df-convert {\n",
              "      background-color: #E8F0FE;\n",
              "      border: none;\n",
              "      border-radius: 50%;\n",
              "      cursor: pointer;\n",
              "      display: none;\n",
              "      fill: #1967D2;\n",
              "      height: 32px;\n",
              "      padding: 0 0 0 0;\n",
              "      width: 32px;\n",
              "    }\n",
              "\n",
              "    .colab-df-convert:hover {\n",
              "      background-color: #E2EBFA;\n",
              "      box-shadow: 0px 1px 2px rgba(60, 64, 67, 0.3), 0px 1px 3px 1px rgba(60, 64, 67, 0.15);\n",
              "      fill: #174EA6;\n",
              "    }\n",
              "\n",
              "    .colab-df-buttons div {\n",
              "      margin-bottom: 4px;\n",
              "    }\n",
              "\n",
              "    [theme=dark] .colab-df-convert {\n",
              "      background-color: #3B4455;\n",
              "      fill: #D2E3FC;\n",
              "    }\n",
              "\n",
              "    [theme=dark] .colab-df-convert:hover {\n",
              "      background-color: #434B5C;\n",
              "      box-shadow: 0px 1px 3px 1px rgba(0, 0, 0, 0.15);\n",
              "      filter: drop-shadow(0px 1px 2px rgba(0, 0, 0, 0.3));\n",
              "      fill: #FFFFFF;\n",
              "    }\n",
              "  </style>\n",
              "\n",
              "    <script>\n",
              "      const buttonEl =\n",
              "        document.querySelector('#df-e511193b-0ad4-4293-b2ed-730af4d88f2d button.colab-df-convert');\n",
              "      buttonEl.style.display =\n",
              "        google.colab.kernel.accessAllowed ? 'block' : 'none';\n",
              "\n",
              "      async function convertToInteractive(key) {\n",
              "        const element = document.querySelector('#df-e511193b-0ad4-4293-b2ed-730af4d88f2d');\n",
              "        const dataTable =\n",
              "          await google.colab.kernel.invokeFunction('convertToInteractive',\n",
              "                                                    [key], {});\n",
              "        if (!dataTable) return;\n",
              "\n",
              "        const docLinkHtml = 'Like what you see? Visit the ' +\n",
              "          '<a target=\"_blank\" href=https://colab.research.google.com/notebooks/data_table.ipynb>data table notebook</a>'\n",
              "          + ' to learn more about interactive tables.';\n",
              "        element.innerHTML = '';\n",
              "        dataTable['output_type'] = 'display_data';\n",
              "        await google.colab.output.renderOutput(dataTable, element);\n",
              "        const docLink = document.createElement('div');\n",
              "        docLink.innerHTML = docLinkHtml;\n",
              "        element.appendChild(docLink);\n",
              "      }\n",
              "    </script>\n",
              "  </div>\n",
              "\n",
              "\n",
              "    <div id=\"df-750c0f93-4cf9-4604-a319-cc8a87a105cd\">\n",
              "      <button class=\"colab-df-quickchart\" onclick=\"quickchart('df-750c0f93-4cf9-4604-a319-cc8a87a105cd')\"\n",
              "                title=\"Suggest charts\"\n",
              "                style=\"display:none;\">\n",
              "\n",
              "<svg xmlns=\"http://www.w3.org/2000/svg\" height=\"24px\"viewBox=\"0 0 24 24\"\n",
              "     width=\"24px\">\n",
              "    <g>\n",
              "        <path d=\"M19 3H5c-1.1 0-2 .9-2 2v14c0 1.1.9 2 2 2h14c1.1 0 2-.9 2-2V5c0-1.1-.9-2-2-2zM9 17H7v-7h2v7zm4 0h-2V7h2v10zm4 0h-2v-4h2v4z\"/>\n",
              "    </g>\n",
              "</svg>\n",
              "      </button>\n",
              "\n",
              "<style>\n",
              "  .colab-df-quickchart {\n",
              "      --bg-color: #E8F0FE;\n",
              "      --fill-color: #1967D2;\n",
              "      --hover-bg-color: #E2EBFA;\n",
              "      --hover-fill-color: #174EA6;\n",
              "      --disabled-fill-color: #AAA;\n",
              "      --disabled-bg-color: #DDD;\n",
              "  }\n",
              "\n",
              "  [theme=dark] .colab-df-quickchart {\n",
              "      --bg-color: #3B4455;\n",
              "      --fill-color: #D2E3FC;\n",
              "      --hover-bg-color: #434B5C;\n",
              "      --hover-fill-color: #FFFFFF;\n",
              "      --disabled-bg-color: #3B4455;\n",
              "      --disabled-fill-color: #666;\n",
              "  }\n",
              "\n",
              "  .colab-df-quickchart {\n",
              "    background-color: var(--bg-color);\n",
              "    border: none;\n",
              "    border-radius: 50%;\n",
              "    cursor: pointer;\n",
              "    display: none;\n",
              "    fill: var(--fill-color);\n",
              "    height: 32px;\n",
              "    padding: 0;\n",
              "    width: 32px;\n",
              "  }\n",
              "\n",
              "  .colab-df-quickchart:hover {\n",
              "    background-color: var(--hover-bg-color);\n",
              "    box-shadow: 0 1px 2px rgba(60, 64, 67, 0.3), 0 1px 3px 1px rgba(60, 64, 67, 0.15);\n",
              "    fill: var(--button-hover-fill-color);\n",
              "  }\n",
              "\n",
              "  .colab-df-quickchart-complete:disabled,\n",
              "  .colab-df-quickchart-complete:disabled:hover {\n",
              "    background-color: var(--disabled-bg-color);\n",
              "    fill: var(--disabled-fill-color);\n",
              "    box-shadow: none;\n",
              "  }\n",
              "\n",
              "  .colab-df-spinner {\n",
              "    border: 2px solid var(--fill-color);\n",
              "    border-color: transparent;\n",
              "    border-bottom-color: var(--fill-color);\n",
              "    animation:\n",
              "      spin 1s steps(1) infinite;\n",
              "  }\n",
              "\n",
              "  @keyframes spin {\n",
              "    0% {\n",
              "      border-color: transparent;\n",
              "      border-bottom-color: var(--fill-color);\n",
              "      border-left-color: var(--fill-color);\n",
              "    }\n",
              "    20% {\n",
              "      border-color: transparent;\n",
              "      border-left-color: var(--fill-color);\n",
              "      border-top-color: var(--fill-color);\n",
              "    }\n",
              "    30% {\n",
              "      border-color: transparent;\n",
              "      border-left-color: var(--fill-color);\n",
              "      border-top-color: var(--fill-color);\n",
              "      border-right-color: var(--fill-color);\n",
              "    }\n",
              "    40% {\n",
              "      border-color: transparent;\n",
              "      border-right-color: var(--fill-color);\n",
              "      border-top-color: var(--fill-color);\n",
              "    }\n",
              "    60% {\n",
              "      border-color: transparent;\n",
              "      border-right-color: var(--fill-color);\n",
              "    }\n",
              "    80% {\n",
              "      border-color: transparent;\n",
              "      border-right-color: var(--fill-color);\n",
              "      border-bottom-color: var(--fill-color);\n",
              "    }\n",
              "    90% {\n",
              "      border-color: transparent;\n",
              "      border-bottom-color: var(--fill-color);\n",
              "    }\n",
              "  }\n",
              "</style>\n",
              "\n",
              "      <script>\n",
              "        async function quickchart(key) {\n",
              "          const quickchartButtonEl =\n",
              "            document.querySelector('#' + key + ' button');\n",
              "          quickchartButtonEl.disabled = true;  // To prevent multiple clicks.\n",
              "          quickchartButtonEl.classList.add('colab-df-spinner');\n",
              "          try {\n",
              "            const charts = await google.colab.kernel.invokeFunction(\n",
              "                'suggestCharts', [key], {});\n",
              "          } catch (error) {\n",
              "            console.error('Error during call to suggestCharts:', error);\n",
              "          }\n",
              "          quickchartButtonEl.classList.remove('colab-df-spinner');\n",
              "          quickchartButtonEl.classList.add('colab-df-quickchart-complete');\n",
              "        }\n",
              "        (() => {\n",
              "          let quickchartButtonEl =\n",
              "            document.querySelector('#df-750c0f93-4cf9-4604-a319-cc8a87a105cd button');\n",
              "          quickchartButtonEl.style.display =\n",
              "            google.colab.kernel.accessAllowed ? 'block' : 'none';\n",
              "        })();\n",
              "      </script>\n",
              "    </div>\n",
              "\n",
              "  <div id=\"id_633010b2-1c32-487f-8fd4-e4c397e4ee5c\">\n",
              "    <style>\n",
              "      .colab-df-generate {\n",
              "        background-color: #E8F0FE;\n",
              "        border: none;\n",
              "        border-radius: 50%;\n",
              "        cursor: pointer;\n",
              "        display: none;\n",
              "        fill: #1967D2;\n",
              "        height: 32px;\n",
              "        padding: 0 0 0 0;\n",
              "        width: 32px;\n",
              "      }\n",
              "\n",
              "      .colab-df-generate:hover {\n",
              "        background-color: #E2EBFA;\n",
              "        box-shadow: 0px 1px 2px rgba(60, 64, 67, 0.3), 0px 1px 3px 1px rgba(60, 64, 67, 0.15);\n",
              "        fill: #174EA6;\n",
              "      }\n",
              "\n",
              "      [theme=dark] .colab-df-generate {\n",
              "        background-color: #3B4455;\n",
              "        fill: #D2E3FC;\n",
              "      }\n",
              "\n",
              "      [theme=dark] .colab-df-generate:hover {\n",
              "        background-color: #434B5C;\n",
              "        box-shadow: 0px 1px 3px 1px rgba(0, 0, 0, 0.15);\n",
              "        filter: drop-shadow(0px 1px 2px rgba(0, 0, 0, 0.3));\n",
              "        fill: #FFFFFF;\n",
              "      }\n",
              "    </style>\n",
              "    <button class=\"colab-df-generate\" onclick=\"generateWithVariable('group')\"\n",
              "            title=\"Generate code using this dataframe.\"\n",
              "            style=\"display:none;\">\n",
              "\n",
              "  <svg xmlns=\"http://www.w3.org/2000/svg\" height=\"24px\"viewBox=\"0 0 24 24\"\n",
              "       width=\"24px\">\n",
              "    <path d=\"M7,19H8.4L18.45,9,17,7.55,7,17.6ZM5,21V16.75L18.45,3.32a2,2,0,0,1,2.83,0l1.4,1.43a1.91,1.91,0,0,1,.58,1.4,1.91,1.91,0,0,1-.58,1.4L9.25,21ZM18.45,9,17,7.55Zm-12,3A5.31,5.31,0,0,0,4.9,8.1,5.31,5.31,0,0,0,1,6.5,5.31,5.31,0,0,0,4.9,4.9,5.31,5.31,0,0,0,6.5,1,5.31,5.31,0,0,0,8.1,4.9,5.31,5.31,0,0,0,12,6.5,5.46,5.46,0,0,0,6.5,12Z\"/>\n",
              "  </svg>\n",
              "    </button>\n",
              "    <script>\n",
              "      (() => {\n",
              "      const buttonEl =\n",
              "        document.querySelector('#id_633010b2-1c32-487f-8fd4-e4c397e4ee5c button.colab-df-generate');\n",
              "      buttonEl.style.display =\n",
              "        google.colab.kernel.accessAllowed ? 'block' : 'none';\n",
              "\n",
              "      buttonEl.onclick = () => {\n",
              "        google.colab.notebook.generateWithVariable('group');\n",
              "      }\n",
              "      })();\n",
              "    </script>\n",
              "  </div>\n",
              "\n",
              "    </div>\n",
              "  </div>\n"
            ],
            "application/vnd.google.colaboratory.intrinsic+json": {
              "type": "dataframe",
              "variable_name": "group",
              "summary": "{\n  \"name\": \"group\",\n  \"rows\": 8,\n  \"fields\": [\n    {\n      \"column\": [\n        \"Commune\",\n        \"\"\n      ],\n      \"properties\": {\n        \"dtype\": \"string\",\n        \"num_unique_values\": 8,\n        \"samples\": [\n          \"Calama\",\n          \"Sierra Gorda\",\n          \"Antofagasta\"\n        ],\n        \"semantic_type\": \"\",\n        \"description\": \"\"\n      }\n    },\n    {\n      \"column\": [\n        \"Fatalities\",\n        2019\n      ],\n      \"properties\": {\n        \"dtype\": \"number\",\n        \"std\": 4.898979485566356,\n        \"min\": 0.0,\n        \"max\": 14.0,\n        \"num_unique_values\": 3,\n        \"samples\": [\n          14.0,\n          2.0,\n          0.0\n        ],\n        \"semantic_type\": \"\",\n        \"description\": \"\"\n      }\n    },\n    {\n      \"column\": [\n        \"Fatalities\",\n        2020\n      ],\n      \"properties\": {\n        \"dtype\": \"number\",\n        \"std\": 4.240535680446853,\n        \"min\": 0.0,\n        \"max\": 11.0,\n        \"num_unique_values\": 4,\n        \"samples\": [\n          7.0,\n          1.0,\n          11.0\n        ],\n        \"semantic_type\": \"\",\n        \"description\": \"\"\n      }\n    },\n    {\n      \"column\": [\n        \"Fatalities\",\n        2021\n      ],\n      \"properties\": {\n        \"dtype\": \"number\",\n        \"std\": 5.3452248382484875,\n        \"min\": 0.0,\n        \"max\": 15.0,\n        \"num_unique_values\": 3,\n        \"samples\": [\n          15.0,\n          5.0,\n          0.0\n        ],\n        \"semantic_type\": \"\",\n        \"description\": \"\"\n      }\n    },\n    {\n      \"column\": [\n        \"Fatalities\",\n        2022\n      ],\n      \"properties\": {\n        \"dtype\": \"number\",\n        \"std\": 5.5805785670356025,\n        \"min\": 0.0,\n        \"max\": 13.0,\n        \"num_unique_values\": 4,\n        \"samples\": [\n          12.0,\n          0.0,\n          13.0\n        ],\n        \"semantic_type\": \"\",\n        \"description\": \"\"\n      }\n    },\n    {\n      \"column\": [\n        \"Serious\",\n        2019\n      ],\n      \"properties\": {\n        \"dtype\": \"number\",\n        \"std\": 38.38875393356013,\n        \"min\": 0.0,\n        \"max\": 107.0,\n        \"num_unique_values\": 5,\n        \"samples\": [\n          44.0,\n          3.0,\n          0.0\n        ],\n        \"semantic_type\": \"\",\n        \"description\": \"\"\n      }\n    },\n    {\n      \"column\": [\n        \"Serious\",\n        2020\n      ],\n      \"properties\": {\n        \"dtype\": \"number\",\n        \"std\": 30.77452564332111,\n        \"min\": 0.0,\n        \"max\": 78.0,\n        \"num_unique_values\": 6,\n        \"samples\": [\n          78.0,\n          55.0,\n          6.0\n        ],\n        \"semantic_type\": \"\",\n        \"description\": \"\"\n      }\n    },\n    {\n      \"column\": [\n        \"Serious\",\n        2021\n      ],\n      \"properties\": {\n        \"dtype\": \"number\",\n        \"std\": 36.4417343165772,\n        \"min\": 0.0,\n        \"max\": 99.0,\n        \"num_unique_values\": 5,\n        \"samples\": [\n          50.0,\n          6.0,\n          0.0\n        ],\n        \"semantic_type\": \"\",\n        \"description\": \"\"\n      }\n    },\n    {\n      \"column\": [\n        \"Serious\",\n        2022\n      ],\n      \"properties\": {\n        \"dtype\": \"number\",\n        \"std\": 36.59820448367066,\n        \"min\": 0.0,\n        \"max\": 96.0,\n        \"num_unique_values\": 6,\n        \"samples\": [\n          96.0,\n          59.0,\n          6.0\n        ],\n        \"semantic_type\": \"\",\n        \"description\": \"\"\n      }\n    },\n    {\n      \"column\": [\n        \"Less serious\",\n        2019\n      ],\n      \"properties\": {\n        \"dtype\": \"number\",\n        \"std\": 17.782415069789753,\n        \"min\": 0.0,\n        \"max\": 40.0,\n        \"num_unique_values\": 5,\n        \"samples\": [\n          38.0,\n          3.0,\n          0.0\n        ],\n        \"semantic_type\": \"\",\n        \"description\": \"\"\n      }\n    },\n    {\n      \"column\": [\n        \"Less serious\",\n        2020\n      ],\n      \"properties\": {\n        \"dtype\": \"number\",\n        \"std\": 20.135256924821483,\n        \"min\": 0.0,\n        \"max\": 47.0,\n        \"num_unique_values\": 5,\n        \"samples\": [\n          41.0,\n          2.0,\n          0.0\n        ],\n        \"semantic_type\": \"\",\n        \"description\": \"\"\n      }\n    },\n    {\n      \"column\": [\n        \"Less serious\",\n        2021\n      ],\n      \"properties\": {\n        \"dtype\": \"number\",\n        \"std\": 20.45203447791232,\n        \"min\": 0.0,\n        \"max\": 55.0,\n        \"num_unique_values\": 4,\n        \"samples\": [\n          28.0,\n          1.0,\n          55.0\n        ],\n        \"semantic_type\": \"\",\n        \"description\": \"\"\n      }\n    },\n    {\n      \"column\": [\n        \"Less serious\",\n        2022\n      ],\n      \"properties\": {\n        \"dtype\": \"number\",\n        \"std\": 15.26843148460247,\n        \"min\": 0.0,\n        \"max\": 41.0,\n        \"num_unique_values\": 6,\n        \"samples\": [\n          41.0,\n          25.0,\n          4.0\n        ],\n        \"semantic_type\": \"\",\n        \"description\": \"\"\n      }\n    },\n    {\n      \"column\": [\n        \"Slight\",\n        2019\n      ],\n      \"properties\": {\n        \"dtype\": \"number\",\n        \"std\": 261.6071209166251,\n        \"min\": 0.0,\n        \"max\": 706.0,\n        \"num_unique_values\": 7,\n        \"samples\": [\n          706.0,\n          375.0,\n          14.0\n        ],\n        \"semantic_type\": \"\",\n        \"description\": \"\"\n      }\n    },\n    {\n      \"column\": [\n        \"Slight\",\n        2020\n      ],\n      \"properties\": {\n        \"dtype\": \"number\",\n        \"std\": 218.24261564990988,\n        \"min\": 0.0,\n        \"max\": 604.0,\n        \"num_unique_values\": 7,\n        \"samples\": [\n          604.0,\n          283.0,\n          15.0\n        ],\n        \"semantic_type\": \"\",\n        \"description\": \"\"\n      }\n    },\n    {\n      \"column\": [\n        \"Slight\",\n        2021\n      ],\n      \"properties\": {\n        \"dtype\": \"number\",\n        \"std\": 251.20591297635835,\n        \"min\": 0.0,\n        \"max\": 688.0,\n        \"num_unique_values\": 6,\n        \"samples\": [\n          688.0,\n          337.0,\n          55.0\n        ],\n        \"semantic_type\": \"\",\n        \"description\": \"\"\n      }\n    },\n    {\n      \"column\": [\n        \"Slight\",\n        2022\n      ],\n      \"properties\": {\n        \"dtype\": \"number\",\n        \"std\": 202.11908618435817,\n        \"min\": 0.0,\n        \"max\": 516.0,\n        \"num_unique_values\": 6,\n        \"samples\": [\n          516.0,\n          350.0,\n          37.0\n        ],\n        \"semantic_type\": \"\",\n        \"description\": \"\"\n      }\n    }\n  ]\n}"
            }
          },
          "metadata": {},
          "execution_count": 351
        }
      ]
    },
    {
      "cell_type": "code",
      "source": [
        "\n",
        "df_total = gdfs_all.groupby('Commune')[['Fatalities',\n",
        "                                        'Serious',\n",
        "                                        'Less serious',\n",
        "                                        'Slight']].sum().unstack().reset_index() # Los datos se grupan por 'Commune'.\n",
        "                                                                                 # Luego se suman las columnas de gravedad de accidnetes usando '.sum'\n",
        "                                                                                 # con '.unstack()' convierte los tipos de gravedad en columnas.\n",
        "                                                                                 # con reset_index() Restaura 'Commune' como columna normal."
      ],
      "metadata": {
        "id": "Gm6O8MZ0xQS3"
      },
      "id": "Gm6O8MZ0xQS3",
      "execution_count": 352,
      "outputs": []
    },
    {
      "cell_type": "code",
      "source": [
        "# Se renombran las columnas generadas, usando '.rename'.\n",
        "df_total.rename(columns={'level_0': 'Type',\n",
        "                         0: 'Accidents'}, inplace=True) # con 'inplace=True' los cambios se aplican directamente al DataFrame original, sin necesidad de reasignarlo."
      ],
      "metadata": {
        "id": "wrqcvWCN4XJa"
      },
      "id": "wrqcvWCN4XJa",
      "execution_count": 353,
      "outputs": []
    },
    {
      "cell_type": "code",
      "source": [
        "df_total.sample() # para ver si funciona, si se agregó 'Accidents' correctamente."
      ],
      "metadata": {
        "id": "mYhc9X9v4Wz4",
        "outputId": "f853bb7b-bfff-45d9-971d-cf7b702f5a73",
        "colab": {
          "base_uri": "https://localhost:8080/",
          "height": 81
        }
      },
      "id": "mYhc9X9v4Wz4",
      "execution_count": 354,
      "outputs": [
        {
          "output_type": "execute_result",
          "data": {
            "text/plain": [
              "         Type Commune  Accidents\n",
              "6  Fatalities  Taltal          1"
            ],
            "text/html": [
              "\n",
              "  <div id=\"df-1965f2fd-20f6-411a-a181-76eaedf9ab05\" class=\"colab-df-container\">\n",
              "    <div>\n",
              "<style scoped>\n",
              "    .dataframe tbody tr th:only-of-type {\n",
              "        vertical-align: middle;\n",
              "    }\n",
              "\n",
              "    .dataframe tbody tr th {\n",
              "        vertical-align: top;\n",
              "    }\n",
              "\n",
              "    .dataframe thead th {\n",
              "        text-align: right;\n",
              "    }\n",
              "</style>\n",
              "<table border=\"1\" class=\"dataframe\">\n",
              "  <thead>\n",
              "    <tr style=\"text-align: right;\">\n",
              "      <th></th>\n",
              "      <th>Type</th>\n",
              "      <th>Commune</th>\n",
              "      <th>Accidents</th>\n",
              "    </tr>\n",
              "  </thead>\n",
              "  <tbody>\n",
              "    <tr>\n",
              "      <th>6</th>\n",
              "      <td>Fatalities</td>\n",
              "      <td>Taltal</td>\n",
              "      <td>1</td>\n",
              "    </tr>\n",
              "  </tbody>\n",
              "</table>\n",
              "</div>\n",
              "    <div class=\"colab-df-buttons\">\n",
              "\n",
              "  <div class=\"colab-df-container\">\n",
              "    <button class=\"colab-df-convert\" onclick=\"convertToInteractive('df-1965f2fd-20f6-411a-a181-76eaedf9ab05')\"\n",
              "            title=\"Convert this dataframe to an interactive table.\"\n",
              "            style=\"display:none;\">\n",
              "\n",
              "  <svg xmlns=\"http://www.w3.org/2000/svg\" height=\"24px\" viewBox=\"0 -960 960 960\">\n",
              "    <path d=\"M120-120v-720h720v720H120Zm60-500h600v-160H180v160Zm220 220h160v-160H400v160Zm0 220h160v-160H400v160ZM180-400h160v-160H180v160Zm440 0h160v-160H620v160ZM180-180h160v-160H180v160Zm440 0h160v-160H620v160Z\"/>\n",
              "  </svg>\n",
              "    </button>\n",
              "\n",
              "  <style>\n",
              "    .colab-df-container {\n",
              "      display:flex;\n",
              "      gap: 12px;\n",
              "    }\n",
              "\n",
              "    .colab-df-convert {\n",
              "      background-color: #E8F0FE;\n",
              "      border: none;\n",
              "      border-radius: 50%;\n",
              "      cursor: pointer;\n",
              "      display: none;\n",
              "      fill: #1967D2;\n",
              "      height: 32px;\n",
              "      padding: 0 0 0 0;\n",
              "      width: 32px;\n",
              "    }\n",
              "\n",
              "    .colab-df-convert:hover {\n",
              "      background-color: #E2EBFA;\n",
              "      box-shadow: 0px 1px 2px rgba(60, 64, 67, 0.3), 0px 1px 3px 1px rgba(60, 64, 67, 0.15);\n",
              "      fill: #174EA6;\n",
              "    }\n",
              "\n",
              "    .colab-df-buttons div {\n",
              "      margin-bottom: 4px;\n",
              "    }\n",
              "\n",
              "    [theme=dark] .colab-df-convert {\n",
              "      background-color: #3B4455;\n",
              "      fill: #D2E3FC;\n",
              "    }\n",
              "\n",
              "    [theme=dark] .colab-df-convert:hover {\n",
              "      background-color: #434B5C;\n",
              "      box-shadow: 0px 1px 3px 1px rgba(0, 0, 0, 0.15);\n",
              "      filter: drop-shadow(0px 1px 2px rgba(0, 0, 0, 0.3));\n",
              "      fill: #FFFFFF;\n",
              "    }\n",
              "  </style>\n",
              "\n",
              "    <script>\n",
              "      const buttonEl =\n",
              "        document.querySelector('#df-1965f2fd-20f6-411a-a181-76eaedf9ab05 button.colab-df-convert');\n",
              "      buttonEl.style.display =\n",
              "        google.colab.kernel.accessAllowed ? 'block' : 'none';\n",
              "\n",
              "      async function convertToInteractive(key) {\n",
              "        const element = document.querySelector('#df-1965f2fd-20f6-411a-a181-76eaedf9ab05');\n",
              "        const dataTable =\n",
              "          await google.colab.kernel.invokeFunction('convertToInteractive',\n",
              "                                                    [key], {});\n",
              "        if (!dataTable) return;\n",
              "\n",
              "        const docLinkHtml = 'Like what you see? Visit the ' +\n",
              "          '<a target=\"_blank\" href=https://colab.research.google.com/notebooks/data_table.ipynb>data table notebook</a>'\n",
              "          + ' to learn more about interactive tables.';\n",
              "        element.innerHTML = '';\n",
              "        dataTable['output_type'] = 'display_data';\n",
              "        await google.colab.output.renderOutput(dataTable, element);\n",
              "        const docLink = document.createElement('div');\n",
              "        docLink.innerHTML = docLinkHtml;\n",
              "        element.appendChild(docLink);\n",
              "      }\n",
              "    </script>\n",
              "  </div>\n",
              "\n",
              "\n",
              "    </div>\n",
              "  </div>\n"
            ],
            "application/vnd.google.colaboratory.intrinsic+json": {
              "type": "dataframe",
              "summary": "{\n  \"name\": \"df_total\",\n  \"rows\": 1,\n  \"fields\": [\n    {\n      \"column\": \"Type\",\n      \"properties\": {\n        \"dtype\": \"string\",\n        \"num_unique_values\": 1,\n        \"samples\": [\n          \"Fatalities\"\n        ],\n        \"semantic_type\": \"\",\n        \"description\": \"\"\n      }\n    },\n    {\n      \"column\": \"Commune\",\n      \"properties\": {\n        \"dtype\": \"string\",\n        \"num_unique_values\": 1,\n        \"samples\": [\n          \"Taltal\"\n        ],\n        \"semantic_type\": \"\",\n        \"description\": \"\"\n      }\n    },\n    {\n      \"column\": \"Accidents\",\n      \"properties\": {\n        \"dtype\": \"int32\",\n        \"num_unique_values\": 1,\n        \"samples\": [\n          1\n        ],\n        \"semantic_type\": \"\",\n        \"description\": \"\"\n      }\n    }\n  ]\n}"
            }
          },
          "metadata": {},
          "execution_count": 354
        }
      ]
    },
    {
      "cell_type": "markdown",
      "source": [
        "##Exploratory Data Analysis"
      ],
      "metadata": {
        "id": "-X6WO60oAMD1"
      },
      "id": "-X6WO60oAMD1"
    },
    {
      "cell_type": "markdown",
      "source": [
        "Ya con los datos limpios se procede a revisar sus estadisticas y visualizarlos por medio de graficos (son visualizaciones intermedias, solo con el proposito de explorar)."
      ],
      "metadata": {
        "id": "xaDtnil3AUXL"
      },
      "id": "xaDtnil3AUXL"
    },
    {
      "cell_type": "code",
      "source": [
        "# Summary statistics\n",
        "gdfs_2019_utm.describe()  # using 'describe()' you get the descriptive statisticsfor all variables: count, mean, std, min, 25%, 50% 75%, max."
      ],
      "metadata": {
        "id": "CJDfn8r8A1u7",
        "outputId": "a4b05547-7e03-4c6a-986d-5dcbc9912195",
        "colab": {
          "base_uri": "https://localhost:8080/",
          "height": 300
        }
      },
      "id": "CJDfn8r8A1u7",
      "execution_count": 355,
      "outputs": [
        {
          "output_type": "execute_result",
          "data": {
            "text/plain": [
              "         Year   Fatalities      Serious  Less serious       Slight\n",
              "count  2494.0  2494.000000  2494.000000   2494.000000  2494.000000\n",
              "mean   2019.0     0.006415     0.062951      0.032879     0.455493\n",
              "std       0.0     0.084729     0.255793      0.182798     0.865286\n",
              "min    2019.0     0.000000     0.000000      0.000000     0.000000\n",
              "25%    2019.0     0.000000     0.000000      0.000000     0.000000\n",
              "50%    2019.0     0.000000     0.000000      0.000000     0.000000\n",
              "75%    2019.0     0.000000     0.000000      0.000000     1.000000\n",
              "max    2019.0     2.000000     2.000000      2.000000    13.000000"
            ],
            "text/html": [
              "\n",
              "  <div id=\"df-faf39f08-1db7-4c18-a273-b5ebbc8d3023\" class=\"colab-df-container\">\n",
              "    <div>\n",
              "<style scoped>\n",
              "    .dataframe tbody tr th:only-of-type {\n",
              "        vertical-align: middle;\n",
              "    }\n",
              "\n",
              "    .dataframe tbody tr th {\n",
              "        vertical-align: top;\n",
              "    }\n",
              "\n",
              "    .dataframe thead th {\n",
              "        text-align: right;\n",
              "    }\n",
              "</style>\n",
              "<table border=\"1\" class=\"dataframe\">\n",
              "  <thead>\n",
              "    <tr style=\"text-align: right;\">\n",
              "      <th></th>\n",
              "      <th>Year</th>\n",
              "      <th>Fatalities</th>\n",
              "      <th>Serious</th>\n",
              "      <th>Less serious</th>\n",
              "      <th>Slight</th>\n",
              "    </tr>\n",
              "  </thead>\n",
              "  <tbody>\n",
              "    <tr>\n",
              "      <th>count</th>\n",
              "      <td>2494.0</td>\n",
              "      <td>2494.000000</td>\n",
              "      <td>2494.000000</td>\n",
              "      <td>2494.000000</td>\n",
              "      <td>2494.000000</td>\n",
              "    </tr>\n",
              "    <tr>\n",
              "      <th>mean</th>\n",
              "      <td>2019.0</td>\n",
              "      <td>0.006415</td>\n",
              "      <td>0.062951</td>\n",
              "      <td>0.032879</td>\n",
              "      <td>0.455493</td>\n",
              "    </tr>\n",
              "    <tr>\n",
              "      <th>std</th>\n",
              "      <td>0.0</td>\n",
              "      <td>0.084729</td>\n",
              "      <td>0.255793</td>\n",
              "      <td>0.182798</td>\n",
              "      <td>0.865286</td>\n",
              "    </tr>\n",
              "    <tr>\n",
              "      <th>min</th>\n",
              "      <td>2019.0</td>\n",
              "      <td>0.000000</td>\n",
              "      <td>0.000000</td>\n",
              "      <td>0.000000</td>\n",
              "      <td>0.000000</td>\n",
              "    </tr>\n",
              "    <tr>\n",
              "      <th>25%</th>\n",
              "      <td>2019.0</td>\n",
              "      <td>0.000000</td>\n",
              "      <td>0.000000</td>\n",
              "      <td>0.000000</td>\n",
              "      <td>0.000000</td>\n",
              "    </tr>\n",
              "    <tr>\n",
              "      <th>50%</th>\n",
              "      <td>2019.0</td>\n",
              "      <td>0.000000</td>\n",
              "      <td>0.000000</td>\n",
              "      <td>0.000000</td>\n",
              "      <td>0.000000</td>\n",
              "    </tr>\n",
              "    <tr>\n",
              "      <th>75%</th>\n",
              "      <td>2019.0</td>\n",
              "      <td>0.000000</td>\n",
              "      <td>0.000000</td>\n",
              "      <td>0.000000</td>\n",
              "      <td>1.000000</td>\n",
              "    </tr>\n",
              "    <tr>\n",
              "      <th>max</th>\n",
              "      <td>2019.0</td>\n",
              "      <td>2.000000</td>\n",
              "      <td>2.000000</td>\n",
              "      <td>2.000000</td>\n",
              "      <td>13.000000</td>\n",
              "    </tr>\n",
              "  </tbody>\n",
              "</table>\n",
              "</div>\n",
              "    <div class=\"colab-df-buttons\">\n",
              "\n",
              "  <div class=\"colab-df-container\">\n",
              "    <button class=\"colab-df-convert\" onclick=\"convertToInteractive('df-faf39f08-1db7-4c18-a273-b5ebbc8d3023')\"\n",
              "            title=\"Convert this dataframe to an interactive table.\"\n",
              "            style=\"display:none;\">\n",
              "\n",
              "  <svg xmlns=\"http://www.w3.org/2000/svg\" height=\"24px\" viewBox=\"0 -960 960 960\">\n",
              "    <path d=\"M120-120v-720h720v720H120Zm60-500h600v-160H180v160Zm220 220h160v-160H400v160Zm0 220h160v-160H400v160ZM180-400h160v-160H180v160Zm440 0h160v-160H620v160ZM180-180h160v-160H180v160Zm440 0h160v-160H620v160Z\"/>\n",
              "  </svg>\n",
              "    </button>\n",
              "\n",
              "  <style>\n",
              "    .colab-df-container {\n",
              "      display:flex;\n",
              "      gap: 12px;\n",
              "    }\n",
              "\n",
              "    .colab-df-convert {\n",
              "      background-color: #E8F0FE;\n",
              "      border: none;\n",
              "      border-radius: 50%;\n",
              "      cursor: pointer;\n",
              "      display: none;\n",
              "      fill: #1967D2;\n",
              "      height: 32px;\n",
              "      padding: 0 0 0 0;\n",
              "      width: 32px;\n",
              "    }\n",
              "\n",
              "    .colab-df-convert:hover {\n",
              "      background-color: #E2EBFA;\n",
              "      box-shadow: 0px 1px 2px rgba(60, 64, 67, 0.3), 0px 1px 3px 1px rgba(60, 64, 67, 0.15);\n",
              "      fill: #174EA6;\n",
              "    }\n",
              "\n",
              "    .colab-df-buttons div {\n",
              "      margin-bottom: 4px;\n",
              "    }\n",
              "\n",
              "    [theme=dark] .colab-df-convert {\n",
              "      background-color: #3B4455;\n",
              "      fill: #D2E3FC;\n",
              "    }\n",
              "\n",
              "    [theme=dark] .colab-df-convert:hover {\n",
              "      background-color: #434B5C;\n",
              "      box-shadow: 0px 1px 3px 1px rgba(0, 0, 0, 0.15);\n",
              "      filter: drop-shadow(0px 1px 2px rgba(0, 0, 0, 0.3));\n",
              "      fill: #FFFFFF;\n",
              "    }\n",
              "  </style>\n",
              "\n",
              "    <script>\n",
              "      const buttonEl =\n",
              "        document.querySelector('#df-faf39f08-1db7-4c18-a273-b5ebbc8d3023 button.colab-df-convert');\n",
              "      buttonEl.style.display =\n",
              "        google.colab.kernel.accessAllowed ? 'block' : 'none';\n",
              "\n",
              "      async function convertToInteractive(key) {\n",
              "        const element = document.querySelector('#df-faf39f08-1db7-4c18-a273-b5ebbc8d3023');\n",
              "        const dataTable =\n",
              "          await google.colab.kernel.invokeFunction('convertToInteractive',\n",
              "                                                    [key], {});\n",
              "        if (!dataTable) return;\n",
              "\n",
              "        const docLinkHtml = 'Like what you see? Visit the ' +\n",
              "          '<a target=\"_blank\" href=https://colab.research.google.com/notebooks/data_table.ipynb>data table notebook</a>'\n",
              "          + ' to learn more about interactive tables.';\n",
              "        element.innerHTML = '';\n",
              "        dataTable['output_type'] = 'display_data';\n",
              "        await google.colab.output.renderOutput(dataTable, element);\n",
              "        const docLink = document.createElement('div');\n",
              "        docLink.innerHTML = docLinkHtml;\n",
              "        element.appendChild(docLink);\n",
              "      }\n",
              "    </script>\n",
              "  </div>\n",
              "\n",
              "\n",
              "    <div id=\"df-402b133b-32e3-454f-8a87-98c01dff4472\">\n",
              "      <button class=\"colab-df-quickchart\" onclick=\"quickchart('df-402b133b-32e3-454f-8a87-98c01dff4472')\"\n",
              "                title=\"Suggest charts\"\n",
              "                style=\"display:none;\">\n",
              "\n",
              "<svg xmlns=\"http://www.w3.org/2000/svg\" height=\"24px\"viewBox=\"0 0 24 24\"\n",
              "     width=\"24px\">\n",
              "    <g>\n",
              "        <path d=\"M19 3H5c-1.1 0-2 .9-2 2v14c0 1.1.9 2 2 2h14c1.1 0 2-.9 2-2V5c0-1.1-.9-2-2-2zM9 17H7v-7h2v7zm4 0h-2V7h2v10zm4 0h-2v-4h2v4z\"/>\n",
              "    </g>\n",
              "</svg>\n",
              "      </button>\n",
              "\n",
              "<style>\n",
              "  .colab-df-quickchart {\n",
              "      --bg-color: #E8F0FE;\n",
              "      --fill-color: #1967D2;\n",
              "      --hover-bg-color: #E2EBFA;\n",
              "      --hover-fill-color: #174EA6;\n",
              "      --disabled-fill-color: #AAA;\n",
              "      --disabled-bg-color: #DDD;\n",
              "  }\n",
              "\n",
              "  [theme=dark] .colab-df-quickchart {\n",
              "      --bg-color: #3B4455;\n",
              "      --fill-color: #D2E3FC;\n",
              "      --hover-bg-color: #434B5C;\n",
              "      --hover-fill-color: #FFFFFF;\n",
              "      --disabled-bg-color: #3B4455;\n",
              "      --disabled-fill-color: #666;\n",
              "  }\n",
              "\n",
              "  .colab-df-quickchart {\n",
              "    background-color: var(--bg-color);\n",
              "    border: none;\n",
              "    border-radius: 50%;\n",
              "    cursor: pointer;\n",
              "    display: none;\n",
              "    fill: var(--fill-color);\n",
              "    height: 32px;\n",
              "    padding: 0;\n",
              "    width: 32px;\n",
              "  }\n",
              "\n",
              "  .colab-df-quickchart:hover {\n",
              "    background-color: var(--hover-bg-color);\n",
              "    box-shadow: 0 1px 2px rgba(60, 64, 67, 0.3), 0 1px 3px 1px rgba(60, 64, 67, 0.15);\n",
              "    fill: var(--button-hover-fill-color);\n",
              "  }\n",
              "\n",
              "  .colab-df-quickchart-complete:disabled,\n",
              "  .colab-df-quickchart-complete:disabled:hover {\n",
              "    background-color: var(--disabled-bg-color);\n",
              "    fill: var(--disabled-fill-color);\n",
              "    box-shadow: none;\n",
              "  }\n",
              "\n",
              "  .colab-df-spinner {\n",
              "    border: 2px solid var(--fill-color);\n",
              "    border-color: transparent;\n",
              "    border-bottom-color: var(--fill-color);\n",
              "    animation:\n",
              "      spin 1s steps(1) infinite;\n",
              "  }\n",
              "\n",
              "  @keyframes spin {\n",
              "    0% {\n",
              "      border-color: transparent;\n",
              "      border-bottom-color: var(--fill-color);\n",
              "      border-left-color: var(--fill-color);\n",
              "    }\n",
              "    20% {\n",
              "      border-color: transparent;\n",
              "      border-left-color: var(--fill-color);\n",
              "      border-top-color: var(--fill-color);\n",
              "    }\n",
              "    30% {\n",
              "      border-color: transparent;\n",
              "      border-left-color: var(--fill-color);\n",
              "      border-top-color: var(--fill-color);\n",
              "      border-right-color: var(--fill-color);\n",
              "    }\n",
              "    40% {\n",
              "      border-color: transparent;\n",
              "      border-right-color: var(--fill-color);\n",
              "      border-top-color: var(--fill-color);\n",
              "    }\n",
              "    60% {\n",
              "      border-color: transparent;\n",
              "      border-right-color: var(--fill-color);\n",
              "    }\n",
              "    80% {\n",
              "      border-color: transparent;\n",
              "      border-right-color: var(--fill-color);\n",
              "      border-bottom-color: var(--fill-color);\n",
              "    }\n",
              "    90% {\n",
              "      border-color: transparent;\n",
              "      border-bottom-color: var(--fill-color);\n",
              "    }\n",
              "  }\n",
              "</style>\n",
              "\n",
              "      <script>\n",
              "        async function quickchart(key) {\n",
              "          const quickchartButtonEl =\n",
              "            document.querySelector('#' + key + ' button');\n",
              "          quickchartButtonEl.disabled = true;  // To prevent multiple clicks.\n",
              "          quickchartButtonEl.classList.add('colab-df-spinner');\n",
              "          try {\n",
              "            const charts = await google.colab.kernel.invokeFunction(\n",
              "                'suggestCharts', [key], {});\n",
              "          } catch (error) {\n",
              "            console.error('Error during call to suggestCharts:', error);\n",
              "          }\n",
              "          quickchartButtonEl.classList.remove('colab-df-spinner');\n",
              "          quickchartButtonEl.classList.add('colab-df-quickchart-complete');\n",
              "        }\n",
              "        (() => {\n",
              "          let quickchartButtonEl =\n",
              "            document.querySelector('#df-402b133b-32e3-454f-8a87-98c01dff4472 button');\n",
              "          quickchartButtonEl.style.display =\n",
              "            google.colab.kernel.accessAllowed ? 'block' : 'none';\n",
              "        })();\n",
              "      </script>\n",
              "    </div>\n",
              "\n",
              "    </div>\n",
              "  </div>\n"
            ],
            "application/vnd.google.colaboratory.intrinsic+json": {
              "type": "dataframe",
              "summary": "{\n  \"name\": \"gdfs_2019_utm\",\n  \"rows\": 8,\n  \"fields\": [\n    {\n      \"column\": \"Year\",\n      \"properties\": {\n        \"dtype\": \"number\",\n        \"std\": 756.3062493839006,\n        \"min\": 0.0,\n        \"max\": 2494.0,\n        \"num_unique_values\": 3,\n        \"samples\": [\n          2494.0,\n          2019.0,\n          0.0\n        ],\n        \"semantic_type\": \"\",\n        \"description\": \"\"\n      }\n    },\n    {\n      \"column\": \"Fatalities\",\n      \"properties\": {\n        \"dtype\": \"number\",\n        \"std\": 881.6568114256919,\n        \"min\": 0.0,\n        \"max\": 2494.0,\n        \"num_unique_values\": 5,\n        \"samples\": [\n          0.006415396952686447,\n          2.0,\n          0.08472923214148176\n        ],\n        \"semantic_type\": \"\",\n        \"description\": \"\"\n      }\n    },\n    {\n      \"column\": \"Serious\",\n      \"properties\": {\n        \"dtype\": \"number\",\n        \"std\": 881.6453093594721,\n        \"min\": 0.0,\n        \"max\": 2494.0,\n        \"num_unique_values\": 5,\n        \"samples\": [\n          0.06295108259823577,\n          2.0,\n          0.2557926419283578\n        ],\n        \"semantic_type\": \"\",\n        \"description\": \"\"\n      }\n    },\n    {\n      \"column\": \"Less serious\",\n      \"properties\": {\n        \"dtype\": \"number\",\n        \"std\": 881.650517596471,\n        \"min\": 0.0,\n        \"max\": 2494.0,\n        \"num_unique_values\": 5,\n        \"samples\": [\n          0.03287890938251804,\n          2.0,\n          0.18279806932204853\n        ],\n        \"semantic_type\": \"\",\n        \"description\": \"\"\n      }\n    },\n    {\n      \"column\": \"Slight\",\n      \"properties\": {\n        \"dtype\": \"number\",\n        \"std\": 880.9994818731245,\n        \"min\": 0.0,\n        \"max\": 2494.0,\n        \"num_unique_values\": 6,\n        \"samples\": [\n          2494.0,\n          0.45549318364073776,\n          13.0\n        ],\n        \"semantic_type\": \"\",\n        \"description\": \"\"\n      }\n    }\n  ]\n}"
            }
          },
          "metadata": {},
          "execution_count": 355
        }
      ]
    },
    {
      "cell_type": "code",
      "source": [
        "# Summary statistics\n",
        "gdfs_2020_utm.describe()  # using 'describe()' you get the descriptive statisticsfor all variables: count, mean, std, min, 25%, 50% 75%, max."
      ],
      "metadata": {
        "id": "yp4zeNayBGya",
        "outputId": "23870f90-9725-4e53-a2e8-d0a32fe140f7",
        "colab": {
          "base_uri": "https://localhost:8080/",
          "height": 300
        }
      },
      "id": "yp4zeNayBGya",
      "execution_count": 356,
      "outputs": [
        {
          "output_type": "execute_result",
          "data": {
            "text/plain": [
              "         Year   Fatalities      Serious  Less serious       Slight\n",
              "count  1951.0  1951.000000  1951.000000   1951.000000  1951.000000\n",
              "mean   2020.0     0.009739     0.072783      0.047155     0.488467\n",
              "std       0.0     0.103317     0.269534      0.239296     0.825084\n",
              "min    2020.0     0.000000     0.000000      0.000000     0.000000\n",
              "25%    2020.0     0.000000     0.000000      0.000000     0.000000\n",
              "50%    2020.0     0.000000     0.000000      0.000000     0.000000\n",
              "75%    2020.0     0.000000     0.000000      0.000000     1.000000\n",
              "max    2020.0     2.000000     2.000000      5.000000     6.000000"
            ],
            "text/html": [
              "\n",
              "  <div id=\"df-71893cb5-70e3-4b99-a006-2dfe82a94425\" class=\"colab-df-container\">\n",
              "    <div>\n",
              "<style scoped>\n",
              "    .dataframe tbody tr th:only-of-type {\n",
              "        vertical-align: middle;\n",
              "    }\n",
              "\n",
              "    .dataframe tbody tr th {\n",
              "        vertical-align: top;\n",
              "    }\n",
              "\n",
              "    .dataframe thead th {\n",
              "        text-align: right;\n",
              "    }\n",
              "</style>\n",
              "<table border=\"1\" class=\"dataframe\">\n",
              "  <thead>\n",
              "    <tr style=\"text-align: right;\">\n",
              "      <th></th>\n",
              "      <th>Year</th>\n",
              "      <th>Fatalities</th>\n",
              "      <th>Serious</th>\n",
              "      <th>Less serious</th>\n",
              "      <th>Slight</th>\n",
              "    </tr>\n",
              "  </thead>\n",
              "  <tbody>\n",
              "    <tr>\n",
              "      <th>count</th>\n",
              "      <td>1951.0</td>\n",
              "      <td>1951.000000</td>\n",
              "      <td>1951.000000</td>\n",
              "      <td>1951.000000</td>\n",
              "      <td>1951.000000</td>\n",
              "    </tr>\n",
              "    <tr>\n",
              "      <th>mean</th>\n",
              "      <td>2020.0</td>\n",
              "      <td>0.009739</td>\n",
              "      <td>0.072783</td>\n",
              "      <td>0.047155</td>\n",
              "      <td>0.488467</td>\n",
              "    </tr>\n",
              "    <tr>\n",
              "      <th>std</th>\n",
              "      <td>0.0</td>\n",
              "      <td>0.103317</td>\n",
              "      <td>0.269534</td>\n",
              "      <td>0.239296</td>\n",
              "      <td>0.825084</td>\n",
              "    </tr>\n",
              "    <tr>\n",
              "      <th>min</th>\n",
              "      <td>2020.0</td>\n",
              "      <td>0.000000</td>\n",
              "      <td>0.000000</td>\n",
              "      <td>0.000000</td>\n",
              "      <td>0.000000</td>\n",
              "    </tr>\n",
              "    <tr>\n",
              "      <th>25%</th>\n",
              "      <td>2020.0</td>\n",
              "      <td>0.000000</td>\n",
              "      <td>0.000000</td>\n",
              "      <td>0.000000</td>\n",
              "      <td>0.000000</td>\n",
              "    </tr>\n",
              "    <tr>\n",
              "      <th>50%</th>\n",
              "      <td>2020.0</td>\n",
              "      <td>0.000000</td>\n",
              "      <td>0.000000</td>\n",
              "      <td>0.000000</td>\n",
              "      <td>0.000000</td>\n",
              "    </tr>\n",
              "    <tr>\n",
              "      <th>75%</th>\n",
              "      <td>2020.0</td>\n",
              "      <td>0.000000</td>\n",
              "      <td>0.000000</td>\n",
              "      <td>0.000000</td>\n",
              "      <td>1.000000</td>\n",
              "    </tr>\n",
              "    <tr>\n",
              "      <th>max</th>\n",
              "      <td>2020.0</td>\n",
              "      <td>2.000000</td>\n",
              "      <td>2.000000</td>\n",
              "      <td>5.000000</td>\n",
              "      <td>6.000000</td>\n",
              "    </tr>\n",
              "  </tbody>\n",
              "</table>\n",
              "</div>\n",
              "    <div class=\"colab-df-buttons\">\n",
              "\n",
              "  <div class=\"colab-df-container\">\n",
              "    <button class=\"colab-df-convert\" onclick=\"convertToInteractive('df-71893cb5-70e3-4b99-a006-2dfe82a94425')\"\n",
              "            title=\"Convert this dataframe to an interactive table.\"\n",
              "            style=\"display:none;\">\n",
              "\n",
              "  <svg xmlns=\"http://www.w3.org/2000/svg\" height=\"24px\" viewBox=\"0 -960 960 960\">\n",
              "    <path d=\"M120-120v-720h720v720H120Zm60-500h600v-160H180v160Zm220 220h160v-160H400v160Zm0 220h160v-160H400v160ZM180-400h160v-160H180v160Zm440 0h160v-160H620v160ZM180-180h160v-160H180v160Zm440 0h160v-160H620v160Z\"/>\n",
              "  </svg>\n",
              "    </button>\n",
              "\n",
              "  <style>\n",
              "    .colab-df-container {\n",
              "      display:flex;\n",
              "      gap: 12px;\n",
              "    }\n",
              "\n",
              "    .colab-df-convert {\n",
              "      background-color: #E8F0FE;\n",
              "      border: none;\n",
              "      border-radius: 50%;\n",
              "      cursor: pointer;\n",
              "      display: none;\n",
              "      fill: #1967D2;\n",
              "      height: 32px;\n",
              "      padding: 0 0 0 0;\n",
              "      width: 32px;\n",
              "    }\n",
              "\n",
              "    .colab-df-convert:hover {\n",
              "      background-color: #E2EBFA;\n",
              "      box-shadow: 0px 1px 2px rgba(60, 64, 67, 0.3), 0px 1px 3px 1px rgba(60, 64, 67, 0.15);\n",
              "      fill: #174EA6;\n",
              "    }\n",
              "\n",
              "    .colab-df-buttons div {\n",
              "      margin-bottom: 4px;\n",
              "    }\n",
              "\n",
              "    [theme=dark] .colab-df-convert {\n",
              "      background-color: #3B4455;\n",
              "      fill: #D2E3FC;\n",
              "    }\n",
              "\n",
              "    [theme=dark] .colab-df-convert:hover {\n",
              "      background-color: #434B5C;\n",
              "      box-shadow: 0px 1px 3px 1px rgba(0, 0, 0, 0.15);\n",
              "      filter: drop-shadow(0px 1px 2px rgba(0, 0, 0, 0.3));\n",
              "      fill: #FFFFFF;\n",
              "    }\n",
              "  </style>\n",
              "\n",
              "    <script>\n",
              "      const buttonEl =\n",
              "        document.querySelector('#df-71893cb5-70e3-4b99-a006-2dfe82a94425 button.colab-df-convert');\n",
              "      buttonEl.style.display =\n",
              "        google.colab.kernel.accessAllowed ? 'block' : 'none';\n",
              "\n",
              "      async function convertToInteractive(key) {\n",
              "        const element = document.querySelector('#df-71893cb5-70e3-4b99-a006-2dfe82a94425');\n",
              "        const dataTable =\n",
              "          await google.colab.kernel.invokeFunction('convertToInteractive',\n",
              "                                                    [key], {});\n",
              "        if (!dataTable) return;\n",
              "\n",
              "        const docLinkHtml = 'Like what you see? Visit the ' +\n",
              "          '<a target=\"_blank\" href=https://colab.research.google.com/notebooks/data_table.ipynb>data table notebook</a>'\n",
              "          + ' to learn more about interactive tables.';\n",
              "        element.innerHTML = '';\n",
              "        dataTable['output_type'] = 'display_data';\n",
              "        await google.colab.output.renderOutput(dataTable, element);\n",
              "        const docLink = document.createElement('div');\n",
              "        docLink.innerHTML = docLinkHtml;\n",
              "        element.appendChild(docLink);\n",
              "      }\n",
              "    </script>\n",
              "  </div>\n",
              "\n",
              "\n",
              "    <div id=\"df-0819fbee-fadf-4986-9ed2-05154c918522\">\n",
              "      <button class=\"colab-df-quickchart\" onclick=\"quickchart('df-0819fbee-fadf-4986-9ed2-05154c918522')\"\n",
              "                title=\"Suggest charts\"\n",
              "                style=\"display:none;\">\n",
              "\n",
              "<svg xmlns=\"http://www.w3.org/2000/svg\" height=\"24px\"viewBox=\"0 0 24 24\"\n",
              "     width=\"24px\">\n",
              "    <g>\n",
              "        <path d=\"M19 3H5c-1.1 0-2 .9-2 2v14c0 1.1.9 2 2 2h14c1.1 0 2-.9 2-2V5c0-1.1-.9-2-2-2zM9 17H7v-7h2v7zm4 0h-2V7h2v10zm4 0h-2v-4h2v4z\"/>\n",
              "    </g>\n",
              "</svg>\n",
              "      </button>\n",
              "\n",
              "<style>\n",
              "  .colab-df-quickchart {\n",
              "      --bg-color: #E8F0FE;\n",
              "      --fill-color: #1967D2;\n",
              "      --hover-bg-color: #E2EBFA;\n",
              "      --hover-fill-color: #174EA6;\n",
              "      --disabled-fill-color: #AAA;\n",
              "      --disabled-bg-color: #DDD;\n",
              "  }\n",
              "\n",
              "  [theme=dark] .colab-df-quickchart {\n",
              "      --bg-color: #3B4455;\n",
              "      --fill-color: #D2E3FC;\n",
              "      --hover-bg-color: #434B5C;\n",
              "      --hover-fill-color: #FFFFFF;\n",
              "      --disabled-bg-color: #3B4455;\n",
              "      --disabled-fill-color: #666;\n",
              "  }\n",
              "\n",
              "  .colab-df-quickchart {\n",
              "    background-color: var(--bg-color);\n",
              "    border: none;\n",
              "    border-radius: 50%;\n",
              "    cursor: pointer;\n",
              "    display: none;\n",
              "    fill: var(--fill-color);\n",
              "    height: 32px;\n",
              "    padding: 0;\n",
              "    width: 32px;\n",
              "  }\n",
              "\n",
              "  .colab-df-quickchart:hover {\n",
              "    background-color: var(--hover-bg-color);\n",
              "    box-shadow: 0 1px 2px rgba(60, 64, 67, 0.3), 0 1px 3px 1px rgba(60, 64, 67, 0.15);\n",
              "    fill: var(--button-hover-fill-color);\n",
              "  }\n",
              "\n",
              "  .colab-df-quickchart-complete:disabled,\n",
              "  .colab-df-quickchart-complete:disabled:hover {\n",
              "    background-color: var(--disabled-bg-color);\n",
              "    fill: var(--disabled-fill-color);\n",
              "    box-shadow: none;\n",
              "  }\n",
              "\n",
              "  .colab-df-spinner {\n",
              "    border: 2px solid var(--fill-color);\n",
              "    border-color: transparent;\n",
              "    border-bottom-color: var(--fill-color);\n",
              "    animation:\n",
              "      spin 1s steps(1) infinite;\n",
              "  }\n",
              "\n",
              "  @keyframes spin {\n",
              "    0% {\n",
              "      border-color: transparent;\n",
              "      border-bottom-color: var(--fill-color);\n",
              "      border-left-color: var(--fill-color);\n",
              "    }\n",
              "    20% {\n",
              "      border-color: transparent;\n",
              "      border-left-color: var(--fill-color);\n",
              "      border-top-color: var(--fill-color);\n",
              "    }\n",
              "    30% {\n",
              "      border-color: transparent;\n",
              "      border-left-color: var(--fill-color);\n",
              "      border-top-color: var(--fill-color);\n",
              "      border-right-color: var(--fill-color);\n",
              "    }\n",
              "    40% {\n",
              "      border-color: transparent;\n",
              "      border-right-color: var(--fill-color);\n",
              "      border-top-color: var(--fill-color);\n",
              "    }\n",
              "    60% {\n",
              "      border-color: transparent;\n",
              "      border-right-color: var(--fill-color);\n",
              "    }\n",
              "    80% {\n",
              "      border-color: transparent;\n",
              "      border-right-color: var(--fill-color);\n",
              "      border-bottom-color: var(--fill-color);\n",
              "    }\n",
              "    90% {\n",
              "      border-color: transparent;\n",
              "      border-bottom-color: var(--fill-color);\n",
              "    }\n",
              "  }\n",
              "</style>\n",
              "\n",
              "      <script>\n",
              "        async function quickchart(key) {\n",
              "          const quickchartButtonEl =\n",
              "            document.querySelector('#' + key + ' button');\n",
              "          quickchartButtonEl.disabled = true;  // To prevent multiple clicks.\n",
              "          quickchartButtonEl.classList.add('colab-df-spinner');\n",
              "          try {\n",
              "            const charts = await google.colab.kernel.invokeFunction(\n",
              "                'suggestCharts', [key], {});\n",
              "          } catch (error) {\n",
              "            console.error('Error during call to suggestCharts:', error);\n",
              "          }\n",
              "          quickchartButtonEl.classList.remove('colab-df-spinner');\n",
              "          quickchartButtonEl.classList.add('colab-df-quickchart-complete');\n",
              "        }\n",
              "        (() => {\n",
              "          let quickchartButtonEl =\n",
              "            document.querySelector('#df-0819fbee-fadf-4986-9ed2-05154c918522 button');\n",
              "          quickchartButtonEl.style.display =\n",
              "            google.colab.kernel.accessAllowed ? 'block' : 'none';\n",
              "        })();\n",
              "      </script>\n",
              "    </div>\n",
              "\n",
              "    </div>\n",
              "  </div>\n"
            ],
            "application/vnd.google.colaboratory.intrinsic+json": {
              "type": "dataframe",
              "summary": "{\n  \"name\": \"gdfs_2020_utm\",\n  \"rows\": 8,\n  \"fields\": [\n    {\n      \"column\": \"Year\",\n      \"properties\": {\n        \"dtype\": \"number\",\n        \"std\": 711.102853219661,\n        \"min\": 0.0,\n        \"max\": 2020.0,\n        \"num_unique_values\": 3,\n        \"samples\": [\n          1951.0,\n          2020.0,\n          0.0\n        ],\n        \"semantic_type\": \"\",\n        \"description\": \"\"\n      }\n    },\n    {\n      \"column\": \"Fatalities\",\n      \"properties\": {\n        \"dtype\": \"number\",\n        \"std\": 689.6762889646269,\n        \"min\": 0.0,\n        \"max\": 1951.0,\n        \"num_unique_values\": 5,\n        \"samples\": [\n          0.009738595592004101,\n          2.0,\n          0.10331670672792496\n        ],\n        \"semantic_type\": \"\",\n        \"description\": \"\"\n      }\n    },\n    {\n      \"column\": \"Serious\",\n      \"properties\": {\n        \"dtype\": \"number\",\n        \"std\": 689.6647013381161,\n        \"min\": 0.0,\n        \"max\": 1951.0,\n        \"num_unique_values\": 5,\n        \"samples\": [\n          0.07278318810866223,\n          2.0,\n          0.26953405882361897\n        ],\n        \"semantic_type\": \"\",\n        \"description\": \"\"\n      }\n    },\n    {\n      \"column\": \"Less serious\",\n      \"properties\": {\n        \"dtype\": \"number\",\n        \"std\": 689.5178413421363,\n        \"min\": 0.0,\n        \"max\": 1951.0,\n        \"num_unique_values\": 5,\n        \"samples\": [\n          0.04715530497180933,\n          5.0,\n          0.2392956672838397\n        ],\n        \"semantic_type\": \"\",\n        \"description\": \"\"\n      }\n    },\n    {\n      \"column\": \"Slight\",\n      \"properties\": {\n        \"dtype\": \"number\",\n        \"std\": 689.3656732331867,\n        \"min\": 0.0,\n        \"max\": 1951.0,\n        \"num_unique_values\": 6,\n        \"samples\": [\n          1951.0,\n          0.4884674525884162,\n          6.0\n        ],\n        \"semantic_type\": \"\",\n        \"description\": \"\"\n      }\n    }\n  ]\n}"
            }
          },
          "metadata": {},
          "execution_count": 356
        }
      ]
    },
    {
      "cell_type": "code",
      "source": [
        "# Summary statistics\n",
        "gdfs_2021_utm.describe()  # using 'describe()' you get the descriptive statisticsfor all variables: count, mean, std, min, 25%, 50% 75%, max."
      ],
      "metadata": {
        "id": "HFf7I2P1BKvp",
        "outputId": "20727ef2-c353-4c9e-aaf4-c1127d5d8ab0",
        "colab": {
          "base_uri": "https://localhost:8080/",
          "height": 300
        }
      },
      "id": "HFf7I2P1BKvp",
      "execution_count": 357,
      "outputs": [
        {
          "output_type": "execute_result",
          "data": {
            "text/plain": [
              "         Year   Fatalities      Serious  Less serious       Slight\n",
              "count  2416.0  2416.000000  2416.000000   2416.000000  2416.000000\n",
              "mean   2021.0     0.008278     0.064570      0.034768     0.450745\n",
              "std       0.0     0.090626     0.260535      0.194201     0.827113\n",
              "min    2021.0     0.000000     0.000000      0.000000     0.000000\n",
              "25%    2021.0     0.000000     0.000000      0.000000     0.000000\n",
              "50%    2021.0     0.000000     0.000000      0.000000     0.000000\n",
              "75%    2021.0     0.000000     0.000000      0.000000     1.000000\n",
              "max    2021.0     1.000000     3.000000      3.000000     8.000000"
            ],
            "text/html": [
              "\n",
              "  <div id=\"df-12e18107-67ab-4aca-94d1-ed7fad4e5a80\" class=\"colab-df-container\">\n",
              "    <div>\n",
              "<style scoped>\n",
              "    .dataframe tbody tr th:only-of-type {\n",
              "        vertical-align: middle;\n",
              "    }\n",
              "\n",
              "    .dataframe tbody tr th {\n",
              "        vertical-align: top;\n",
              "    }\n",
              "\n",
              "    .dataframe thead th {\n",
              "        text-align: right;\n",
              "    }\n",
              "</style>\n",
              "<table border=\"1\" class=\"dataframe\">\n",
              "  <thead>\n",
              "    <tr style=\"text-align: right;\">\n",
              "      <th></th>\n",
              "      <th>Year</th>\n",
              "      <th>Fatalities</th>\n",
              "      <th>Serious</th>\n",
              "      <th>Less serious</th>\n",
              "      <th>Slight</th>\n",
              "    </tr>\n",
              "  </thead>\n",
              "  <tbody>\n",
              "    <tr>\n",
              "      <th>count</th>\n",
              "      <td>2416.0</td>\n",
              "      <td>2416.000000</td>\n",
              "      <td>2416.000000</td>\n",
              "      <td>2416.000000</td>\n",
              "      <td>2416.000000</td>\n",
              "    </tr>\n",
              "    <tr>\n",
              "      <th>mean</th>\n",
              "      <td>2021.0</td>\n",
              "      <td>0.008278</td>\n",
              "      <td>0.064570</td>\n",
              "      <td>0.034768</td>\n",
              "      <td>0.450745</td>\n",
              "    </tr>\n",
              "    <tr>\n",
              "      <th>std</th>\n",
              "      <td>0.0</td>\n",
              "      <td>0.090626</td>\n",
              "      <td>0.260535</td>\n",
              "      <td>0.194201</td>\n",
              "      <td>0.827113</td>\n",
              "    </tr>\n",
              "    <tr>\n",
              "      <th>min</th>\n",
              "      <td>2021.0</td>\n",
              "      <td>0.000000</td>\n",
              "      <td>0.000000</td>\n",
              "      <td>0.000000</td>\n",
              "      <td>0.000000</td>\n",
              "    </tr>\n",
              "    <tr>\n",
              "      <th>25%</th>\n",
              "      <td>2021.0</td>\n",
              "      <td>0.000000</td>\n",
              "      <td>0.000000</td>\n",
              "      <td>0.000000</td>\n",
              "      <td>0.000000</td>\n",
              "    </tr>\n",
              "    <tr>\n",
              "      <th>50%</th>\n",
              "      <td>2021.0</td>\n",
              "      <td>0.000000</td>\n",
              "      <td>0.000000</td>\n",
              "      <td>0.000000</td>\n",
              "      <td>0.000000</td>\n",
              "    </tr>\n",
              "    <tr>\n",
              "      <th>75%</th>\n",
              "      <td>2021.0</td>\n",
              "      <td>0.000000</td>\n",
              "      <td>0.000000</td>\n",
              "      <td>0.000000</td>\n",
              "      <td>1.000000</td>\n",
              "    </tr>\n",
              "    <tr>\n",
              "      <th>max</th>\n",
              "      <td>2021.0</td>\n",
              "      <td>1.000000</td>\n",
              "      <td>3.000000</td>\n",
              "      <td>3.000000</td>\n",
              "      <td>8.000000</td>\n",
              "    </tr>\n",
              "  </tbody>\n",
              "</table>\n",
              "</div>\n",
              "    <div class=\"colab-df-buttons\">\n",
              "\n",
              "  <div class=\"colab-df-container\">\n",
              "    <button class=\"colab-df-convert\" onclick=\"convertToInteractive('df-12e18107-67ab-4aca-94d1-ed7fad4e5a80')\"\n",
              "            title=\"Convert this dataframe to an interactive table.\"\n",
              "            style=\"display:none;\">\n",
              "\n",
              "  <svg xmlns=\"http://www.w3.org/2000/svg\" height=\"24px\" viewBox=\"0 -960 960 960\">\n",
              "    <path d=\"M120-120v-720h720v720H120Zm60-500h600v-160H180v160Zm220 220h160v-160H400v160Zm0 220h160v-160H400v160ZM180-400h160v-160H180v160Zm440 0h160v-160H620v160ZM180-180h160v-160H180v160Zm440 0h160v-160H620v160Z\"/>\n",
              "  </svg>\n",
              "    </button>\n",
              "\n",
              "  <style>\n",
              "    .colab-df-container {\n",
              "      display:flex;\n",
              "      gap: 12px;\n",
              "    }\n",
              "\n",
              "    .colab-df-convert {\n",
              "      background-color: #E8F0FE;\n",
              "      border: none;\n",
              "      border-radius: 50%;\n",
              "      cursor: pointer;\n",
              "      display: none;\n",
              "      fill: #1967D2;\n",
              "      height: 32px;\n",
              "      padding: 0 0 0 0;\n",
              "      width: 32px;\n",
              "    }\n",
              "\n",
              "    .colab-df-convert:hover {\n",
              "      background-color: #E2EBFA;\n",
              "      box-shadow: 0px 1px 2px rgba(60, 64, 67, 0.3), 0px 1px 3px 1px rgba(60, 64, 67, 0.15);\n",
              "      fill: #174EA6;\n",
              "    }\n",
              "\n",
              "    .colab-df-buttons div {\n",
              "      margin-bottom: 4px;\n",
              "    }\n",
              "\n",
              "    [theme=dark] .colab-df-convert {\n",
              "      background-color: #3B4455;\n",
              "      fill: #D2E3FC;\n",
              "    }\n",
              "\n",
              "    [theme=dark] .colab-df-convert:hover {\n",
              "      background-color: #434B5C;\n",
              "      box-shadow: 0px 1px 3px 1px rgba(0, 0, 0, 0.15);\n",
              "      filter: drop-shadow(0px 1px 2px rgba(0, 0, 0, 0.3));\n",
              "      fill: #FFFFFF;\n",
              "    }\n",
              "  </style>\n",
              "\n",
              "    <script>\n",
              "      const buttonEl =\n",
              "        document.querySelector('#df-12e18107-67ab-4aca-94d1-ed7fad4e5a80 button.colab-df-convert');\n",
              "      buttonEl.style.display =\n",
              "        google.colab.kernel.accessAllowed ? 'block' : 'none';\n",
              "\n",
              "      async function convertToInteractive(key) {\n",
              "        const element = document.querySelector('#df-12e18107-67ab-4aca-94d1-ed7fad4e5a80');\n",
              "        const dataTable =\n",
              "          await google.colab.kernel.invokeFunction('convertToInteractive',\n",
              "                                                    [key], {});\n",
              "        if (!dataTable) return;\n",
              "\n",
              "        const docLinkHtml = 'Like what you see? Visit the ' +\n",
              "          '<a target=\"_blank\" href=https://colab.research.google.com/notebooks/data_table.ipynb>data table notebook</a>'\n",
              "          + ' to learn more about interactive tables.';\n",
              "        element.innerHTML = '';\n",
              "        dataTable['output_type'] = 'display_data';\n",
              "        await google.colab.output.renderOutput(dataTable, element);\n",
              "        const docLink = document.createElement('div');\n",
              "        docLink.innerHTML = docLinkHtml;\n",
              "        element.appendChild(docLink);\n",
              "      }\n",
              "    </script>\n",
              "  </div>\n",
              "\n",
              "\n",
              "    <div id=\"df-bb6592af-d14d-422b-b20d-8a7599472011\">\n",
              "      <button class=\"colab-df-quickchart\" onclick=\"quickchart('df-bb6592af-d14d-422b-b20d-8a7599472011')\"\n",
              "                title=\"Suggest charts\"\n",
              "                style=\"display:none;\">\n",
              "\n",
              "<svg xmlns=\"http://www.w3.org/2000/svg\" height=\"24px\"viewBox=\"0 0 24 24\"\n",
              "     width=\"24px\">\n",
              "    <g>\n",
              "        <path d=\"M19 3H5c-1.1 0-2 .9-2 2v14c0 1.1.9 2 2 2h14c1.1 0 2-.9 2-2V5c0-1.1-.9-2-2-2zM9 17H7v-7h2v7zm4 0h-2V7h2v10zm4 0h-2v-4h2v4z\"/>\n",
              "    </g>\n",
              "</svg>\n",
              "      </button>\n",
              "\n",
              "<style>\n",
              "  .colab-df-quickchart {\n",
              "      --bg-color: #E8F0FE;\n",
              "      --fill-color: #1967D2;\n",
              "      --hover-bg-color: #E2EBFA;\n",
              "      --hover-fill-color: #174EA6;\n",
              "      --disabled-fill-color: #AAA;\n",
              "      --disabled-bg-color: #DDD;\n",
              "  }\n",
              "\n",
              "  [theme=dark] .colab-df-quickchart {\n",
              "      --bg-color: #3B4455;\n",
              "      --fill-color: #D2E3FC;\n",
              "      --hover-bg-color: #434B5C;\n",
              "      --hover-fill-color: #FFFFFF;\n",
              "      --disabled-bg-color: #3B4455;\n",
              "      --disabled-fill-color: #666;\n",
              "  }\n",
              "\n",
              "  .colab-df-quickchart {\n",
              "    background-color: var(--bg-color);\n",
              "    border: none;\n",
              "    border-radius: 50%;\n",
              "    cursor: pointer;\n",
              "    display: none;\n",
              "    fill: var(--fill-color);\n",
              "    height: 32px;\n",
              "    padding: 0;\n",
              "    width: 32px;\n",
              "  }\n",
              "\n",
              "  .colab-df-quickchart:hover {\n",
              "    background-color: var(--hover-bg-color);\n",
              "    box-shadow: 0 1px 2px rgba(60, 64, 67, 0.3), 0 1px 3px 1px rgba(60, 64, 67, 0.15);\n",
              "    fill: var(--button-hover-fill-color);\n",
              "  }\n",
              "\n",
              "  .colab-df-quickchart-complete:disabled,\n",
              "  .colab-df-quickchart-complete:disabled:hover {\n",
              "    background-color: var(--disabled-bg-color);\n",
              "    fill: var(--disabled-fill-color);\n",
              "    box-shadow: none;\n",
              "  }\n",
              "\n",
              "  .colab-df-spinner {\n",
              "    border: 2px solid var(--fill-color);\n",
              "    border-color: transparent;\n",
              "    border-bottom-color: var(--fill-color);\n",
              "    animation:\n",
              "      spin 1s steps(1) infinite;\n",
              "  }\n",
              "\n",
              "  @keyframes spin {\n",
              "    0% {\n",
              "      border-color: transparent;\n",
              "      border-bottom-color: var(--fill-color);\n",
              "      border-left-color: var(--fill-color);\n",
              "    }\n",
              "    20% {\n",
              "      border-color: transparent;\n",
              "      border-left-color: var(--fill-color);\n",
              "      border-top-color: var(--fill-color);\n",
              "    }\n",
              "    30% {\n",
              "      border-color: transparent;\n",
              "      border-left-color: var(--fill-color);\n",
              "      border-top-color: var(--fill-color);\n",
              "      border-right-color: var(--fill-color);\n",
              "    }\n",
              "    40% {\n",
              "      border-color: transparent;\n",
              "      border-right-color: var(--fill-color);\n",
              "      border-top-color: var(--fill-color);\n",
              "    }\n",
              "    60% {\n",
              "      border-color: transparent;\n",
              "      border-right-color: var(--fill-color);\n",
              "    }\n",
              "    80% {\n",
              "      border-color: transparent;\n",
              "      border-right-color: var(--fill-color);\n",
              "      border-bottom-color: var(--fill-color);\n",
              "    }\n",
              "    90% {\n",
              "      border-color: transparent;\n",
              "      border-bottom-color: var(--fill-color);\n",
              "    }\n",
              "  }\n",
              "</style>\n",
              "\n",
              "      <script>\n",
              "        async function quickchart(key) {\n",
              "          const quickchartButtonEl =\n",
              "            document.querySelector('#' + key + ' button');\n",
              "          quickchartButtonEl.disabled = true;  // To prevent multiple clicks.\n",
              "          quickchartButtonEl.classList.add('colab-df-spinner');\n",
              "          try {\n",
              "            const charts = await google.colab.kernel.invokeFunction(\n",
              "                'suggestCharts', [key], {});\n",
              "          } catch (error) {\n",
              "            console.error('Error during call to suggestCharts:', error);\n",
              "          }\n",
              "          quickchartButtonEl.classList.remove('colab-df-spinner');\n",
              "          quickchartButtonEl.classList.add('colab-df-quickchart-complete');\n",
              "        }\n",
              "        (() => {\n",
              "          let quickchartButtonEl =\n",
              "            document.querySelector('#df-bb6592af-d14d-422b-b20d-8a7599472011 button');\n",
              "          quickchartButtonEl.style.display =\n",
              "            google.colab.kernel.accessAllowed ? 'block' : 'none';\n",
              "        })();\n",
              "      </script>\n",
              "    </div>\n",
              "\n",
              "    </div>\n",
              "  </div>\n"
            ],
            "application/vnd.google.colaboratory.intrinsic+json": {
              "type": "dataframe",
              "summary": "{\n  \"name\": \"gdfs_2021_utm\",\n  \"rows\": 8,\n  \"fields\": [\n    {\n      \"column\": \"Year\",\n      \"properties\": {\n        \"dtype\": \"number\",\n        \"std\": 747.3745953096651,\n        \"min\": 0.0,\n        \"max\": 2416.0,\n        \"num_unique_values\": 3,\n        \"samples\": [\n          2416.0,\n          2021.0,\n          0.0\n        ],\n        \"semantic_type\": \"\",\n        \"description\": \"\"\n      }\n    },\n    {\n      \"column\": \"Fatalities\",\n      \"properties\": {\n        \"dtype\": \"number\",\n        \"std\": 854.1295585406803,\n        \"min\": 0.0,\n        \"max\": 2416.0,\n        \"num_unique_values\": 5,\n        \"samples\": [\n          0.008278145695364239,\n          1.0,\n          0.09062569959428582\n        ],\n        \"semantic_type\": \"\",\n        \"description\": \"\"\n      }\n    },\n    {\n      \"column\": \"Serious\",\n      \"properties\": {\n        \"dtype\": \"number\",\n        \"std\": 854.0176751747063,\n        \"min\": 0.0,\n        \"max\": 2416.0,\n        \"num_unique_values\": 5,\n        \"samples\": [\n          0.06456953642384106,\n          3.0,\n          0.2605354832260418\n        ],\n        \"semantic_type\": \"\",\n        \"description\": \"\"\n      }\n    },\n    {\n      \"column\": \"Less serious\",\n      \"properties\": {\n        \"dtype\": \"number\",\n        \"std\": 854.0225355156077,\n        \"min\": 0.0,\n        \"max\": 2416.0,\n        \"num_unique_values\": 5,\n        \"samples\": [\n          0.0347682119205298,\n          3.0,\n          0.1942010976664559\n        ],\n        \"semantic_type\": \"\",\n        \"description\": \"\"\n      }\n    },\n    {\n      \"column\": \"Slight\",\n      \"properties\": {\n        \"dtype\": \"number\",\n        \"std\": 853.6701317531745,\n        \"min\": 0.0,\n        \"max\": 2416.0,\n        \"num_unique_values\": 6,\n        \"samples\": [\n          2416.0,\n          0.4507450331125828,\n          8.0\n        ],\n        \"semantic_type\": \"\",\n        \"description\": \"\"\n      }\n    }\n  ]\n}"
            }
          },
          "metadata": {},
          "execution_count": 357
        }
      ]
    },
    {
      "cell_type": "code",
      "source": [
        "# Summary statistics\n",
        "gdfs_2022_utm.describe()  # using 'describe()' you get the descriptive statisticsfor all variables: count, mean, std, min, 25%, 50% 75%, max."
      ],
      "metadata": {
        "id": "Rez7NYAIBM79",
        "outputId": "0e2b04c7-5650-4b97-a356-27cc1218c618",
        "colab": {
          "base_uri": "https://localhost:8080/",
          "height": 300
        }
      },
      "id": "Rez7NYAIBM79",
      "execution_count": 358,
      "outputs": [
        {
          "output_type": "execute_result",
          "data": {
            "text/plain": [
              "         Year   Fatalities      Serious  Less serious       Slight\n",
              "count  2366.0  2366.000000  2366.000000   2366.000000  2366.000000\n",
              "mean   2022.0     0.011834     0.069315      0.031699     0.385883\n",
              "std       0.0     0.108163     0.291263      0.186911     0.757957\n",
              "min    2022.0     0.000000     0.000000      0.000000     0.000000\n",
              "25%    2022.0     0.000000     0.000000      0.000000     0.000000\n",
              "50%    2022.0     0.000000     0.000000      0.000000     0.000000\n",
              "75%    2022.0     0.000000     0.000000      0.000000     1.000000\n",
              "max    2022.0     1.000000     6.000000      2.000000     9.000000"
            ],
            "text/html": [
              "\n",
              "  <div id=\"df-05f17f1e-ec21-4958-9a44-66618105a68e\" class=\"colab-df-container\">\n",
              "    <div>\n",
              "<style scoped>\n",
              "    .dataframe tbody tr th:only-of-type {\n",
              "        vertical-align: middle;\n",
              "    }\n",
              "\n",
              "    .dataframe tbody tr th {\n",
              "        vertical-align: top;\n",
              "    }\n",
              "\n",
              "    .dataframe thead th {\n",
              "        text-align: right;\n",
              "    }\n",
              "</style>\n",
              "<table border=\"1\" class=\"dataframe\">\n",
              "  <thead>\n",
              "    <tr style=\"text-align: right;\">\n",
              "      <th></th>\n",
              "      <th>Year</th>\n",
              "      <th>Fatalities</th>\n",
              "      <th>Serious</th>\n",
              "      <th>Less serious</th>\n",
              "      <th>Slight</th>\n",
              "    </tr>\n",
              "  </thead>\n",
              "  <tbody>\n",
              "    <tr>\n",
              "      <th>count</th>\n",
              "      <td>2366.0</td>\n",
              "      <td>2366.000000</td>\n",
              "      <td>2366.000000</td>\n",
              "      <td>2366.000000</td>\n",
              "      <td>2366.000000</td>\n",
              "    </tr>\n",
              "    <tr>\n",
              "      <th>mean</th>\n",
              "      <td>2022.0</td>\n",
              "      <td>0.011834</td>\n",
              "      <td>0.069315</td>\n",
              "      <td>0.031699</td>\n",
              "      <td>0.385883</td>\n",
              "    </tr>\n",
              "    <tr>\n",
              "      <th>std</th>\n",
              "      <td>0.0</td>\n",
              "      <td>0.108163</td>\n",
              "      <td>0.291263</td>\n",
              "      <td>0.186911</td>\n",
              "      <td>0.757957</td>\n",
              "    </tr>\n",
              "    <tr>\n",
              "      <th>min</th>\n",
              "      <td>2022.0</td>\n",
              "      <td>0.000000</td>\n",
              "      <td>0.000000</td>\n",
              "      <td>0.000000</td>\n",
              "      <td>0.000000</td>\n",
              "    </tr>\n",
              "    <tr>\n",
              "      <th>25%</th>\n",
              "      <td>2022.0</td>\n",
              "      <td>0.000000</td>\n",
              "      <td>0.000000</td>\n",
              "      <td>0.000000</td>\n",
              "      <td>0.000000</td>\n",
              "    </tr>\n",
              "    <tr>\n",
              "      <th>50%</th>\n",
              "      <td>2022.0</td>\n",
              "      <td>0.000000</td>\n",
              "      <td>0.000000</td>\n",
              "      <td>0.000000</td>\n",
              "      <td>0.000000</td>\n",
              "    </tr>\n",
              "    <tr>\n",
              "      <th>75%</th>\n",
              "      <td>2022.0</td>\n",
              "      <td>0.000000</td>\n",
              "      <td>0.000000</td>\n",
              "      <td>0.000000</td>\n",
              "      <td>1.000000</td>\n",
              "    </tr>\n",
              "    <tr>\n",
              "      <th>max</th>\n",
              "      <td>2022.0</td>\n",
              "      <td>1.000000</td>\n",
              "      <td>6.000000</td>\n",
              "      <td>2.000000</td>\n",
              "      <td>9.000000</td>\n",
              "    </tr>\n",
              "  </tbody>\n",
              "</table>\n",
              "</div>\n",
              "    <div class=\"colab-df-buttons\">\n",
              "\n",
              "  <div class=\"colab-df-container\">\n",
              "    <button class=\"colab-df-convert\" onclick=\"convertToInteractive('df-05f17f1e-ec21-4958-9a44-66618105a68e')\"\n",
              "            title=\"Convert this dataframe to an interactive table.\"\n",
              "            style=\"display:none;\">\n",
              "\n",
              "  <svg xmlns=\"http://www.w3.org/2000/svg\" height=\"24px\" viewBox=\"0 -960 960 960\">\n",
              "    <path d=\"M120-120v-720h720v720H120Zm60-500h600v-160H180v160Zm220 220h160v-160H400v160Zm0 220h160v-160H400v160ZM180-400h160v-160H180v160Zm440 0h160v-160H620v160ZM180-180h160v-160H180v160Zm440 0h160v-160H620v160Z\"/>\n",
              "  </svg>\n",
              "    </button>\n",
              "\n",
              "  <style>\n",
              "    .colab-df-container {\n",
              "      display:flex;\n",
              "      gap: 12px;\n",
              "    }\n",
              "\n",
              "    .colab-df-convert {\n",
              "      background-color: #E8F0FE;\n",
              "      border: none;\n",
              "      border-radius: 50%;\n",
              "      cursor: pointer;\n",
              "      display: none;\n",
              "      fill: #1967D2;\n",
              "      height: 32px;\n",
              "      padding: 0 0 0 0;\n",
              "      width: 32px;\n",
              "    }\n",
              "\n",
              "    .colab-df-convert:hover {\n",
              "      background-color: #E2EBFA;\n",
              "      box-shadow: 0px 1px 2px rgba(60, 64, 67, 0.3), 0px 1px 3px 1px rgba(60, 64, 67, 0.15);\n",
              "      fill: #174EA6;\n",
              "    }\n",
              "\n",
              "    .colab-df-buttons div {\n",
              "      margin-bottom: 4px;\n",
              "    }\n",
              "\n",
              "    [theme=dark] .colab-df-convert {\n",
              "      background-color: #3B4455;\n",
              "      fill: #D2E3FC;\n",
              "    }\n",
              "\n",
              "    [theme=dark] .colab-df-convert:hover {\n",
              "      background-color: #434B5C;\n",
              "      box-shadow: 0px 1px 3px 1px rgba(0, 0, 0, 0.15);\n",
              "      filter: drop-shadow(0px 1px 2px rgba(0, 0, 0, 0.3));\n",
              "      fill: #FFFFFF;\n",
              "    }\n",
              "  </style>\n",
              "\n",
              "    <script>\n",
              "      const buttonEl =\n",
              "        document.querySelector('#df-05f17f1e-ec21-4958-9a44-66618105a68e button.colab-df-convert');\n",
              "      buttonEl.style.display =\n",
              "        google.colab.kernel.accessAllowed ? 'block' : 'none';\n",
              "\n",
              "      async function convertToInteractive(key) {\n",
              "        const element = document.querySelector('#df-05f17f1e-ec21-4958-9a44-66618105a68e');\n",
              "        const dataTable =\n",
              "          await google.colab.kernel.invokeFunction('convertToInteractive',\n",
              "                                                    [key], {});\n",
              "        if (!dataTable) return;\n",
              "\n",
              "        const docLinkHtml = 'Like what you see? Visit the ' +\n",
              "          '<a target=\"_blank\" href=https://colab.research.google.com/notebooks/data_table.ipynb>data table notebook</a>'\n",
              "          + ' to learn more about interactive tables.';\n",
              "        element.innerHTML = '';\n",
              "        dataTable['output_type'] = 'display_data';\n",
              "        await google.colab.output.renderOutput(dataTable, element);\n",
              "        const docLink = document.createElement('div');\n",
              "        docLink.innerHTML = docLinkHtml;\n",
              "        element.appendChild(docLink);\n",
              "      }\n",
              "    </script>\n",
              "  </div>\n",
              "\n",
              "\n",
              "    <div id=\"df-afd56524-9b04-4906-893d-9aead9212a04\">\n",
              "      <button class=\"colab-df-quickchart\" onclick=\"quickchart('df-afd56524-9b04-4906-893d-9aead9212a04')\"\n",
              "                title=\"Suggest charts\"\n",
              "                style=\"display:none;\">\n",
              "\n",
              "<svg xmlns=\"http://www.w3.org/2000/svg\" height=\"24px\"viewBox=\"0 0 24 24\"\n",
              "     width=\"24px\">\n",
              "    <g>\n",
              "        <path d=\"M19 3H5c-1.1 0-2 .9-2 2v14c0 1.1.9 2 2 2h14c1.1 0 2-.9 2-2V5c0-1.1-.9-2-2-2zM9 17H7v-7h2v7zm4 0h-2V7h2v10zm4 0h-2v-4h2v4z\"/>\n",
              "    </g>\n",
              "</svg>\n",
              "      </button>\n",
              "\n",
              "<style>\n",
              "  .colab-df-quickchart {\n",
              "      --bg-color: #E8F0FE;\n",
              "      --fill-color: #1967D2;\n",
              "      --hover-bg-color: #E2EBFA;\n",
              "      --hover-fill-color: #174EA6;\n",
              "      --disabled-fill-color: #AAA;\n",
              "      --disabled-bg-color: #DDD;\n",
              "  }\n",
              "\n",
              "  [theme=dark] .colab-df-quickchart {\n",
              "      --bg-color: #3B4455;\n",
              "      --fill-color: #D2E3FC;\n",
              "      --hover-bg-color: #434B5C;\n",
              "      --hover-fill-color: #FFFFFF;\n",
              "      --disabled-bg-color: #3B4455;\n",
              "      --disabled-fill-color: #666;\n",
              "  }\n",
              "\n",
              "  .colab-df-quickchart {\n",
              "    background-color: var(--bg-color);\n",
              "    border: none;\n",
              "    border-radius: 50%;\n",
              "    cursor: pointer;\n",
              "    display: none;\n",
              "    fill: var(--fill-color);\n",
              "    height: 32px;\n",
              "    padding: 0;\n",
              "    width: 32px;\n",
              "  }\n",
              "\n",
              "  .colab-df-quickchart:hover {\n",
              "    background-color: var(--hover-bg-color);\n",
              "    box-shadow: 0 1px 2px rgba(60, 64, 67, 0.3), 0 1px 3px 1px rgba(60, 64, 67, 0.15);\n",
              "    fill: var(--button-hover-fill-color);\n",
              "  }\n",
              "\n",
              "  .colab-df-quickchart-complete:disabled,\n",
              "  .colab-df-quickchart-complete:disabled:hover {\n",
              "    background-color: var(--disabled-bg-color);\n",
              "    fill: var(--disabled-fill-color);\n",
              "    box-shadow: none;\n",
              "  }\n",
              "\n",
              "  .colab-df-spinner {\n",
              "    border: 2px solid var(--fill-color);\n",
              "    border-color: transparent;\n",
              "    border-bottom-color: var(--fill-color);\n",
              "    animation:\n",
              "      spin 1s steps(1) infinite;\n",
              "  }\n",
              "\n",
              "  @keyframes spin {\n",
              "    0% {\n",
              "      border-color: transparent;\n",
              "      border-bottom-color: var(--fill-color);\n",
              "      border-left-color: var(--fill-color);\n",
              "    }\n",
              "    20% {\n",
              "      border-color: transparent;\n",
              "      border-left-color: var(--fill-color);\n",
              "      border-top-color: var(--fill-color);\n",
              "    }\n",
              "    30% {\n",
              "      border-color: transparent;\n",
              "      border-left-color: var(--fill-color);\n",
              "      border-top-color: var(--fill-color);\n",
              "      border-right-color: var(--fill-color);\n",
              "    }\n",
              "    40% {\n",
              "      border-color: transparent;\n",
              "      border-right-color: var(--fill-color);\n",
              "      border-top-color: var(--fill-color);\n",
              "    }\n",
              "    60% {\n",
              "      border-color: transparent;\n",
              "      border-right-color: var(--fill-color);\n",
              "    }\n",
              "    80% {\n",
              "      border-color: transparent;\n",
              "      border-right-color: var(--fill-color);\n",
              "      border-bottom-color: var(--fill-color);\n",
              "    }\n",
              "    90% {\n",
              "      border-color: transparent;\n",
              "      border-bottom-color: var(--fill-color);\n",
              "    }\n",
              "  }\n",
              "</style>\n",
              "\n",
              "      <script>\n",
              "        async function quickchart(key) {\n",
              "          const quickchartButtonEl =\n",
              "            document.querySelector('#' + key + ' button');\n",
              "          quickchartButtonEl.disabled = true;  // To prevent multiple clicks.\n",
              "          quickchartButtonEl.classList.add('colab-df-spinner');\n",
              "          try {\n",
              "            const charts = await google.colab.kernel.invokeFunction(\n",
              "                'suggestCharts', [key], {});\n",
              "          } catch (error) {\n",
              "            console.error('Error during call to suggestCharts:', error);\n",
              "          }\n",
              "          quickchartButtonEl.classList.remove('colab-df-spinner');\n",
              "          quickchartButtonEl.classList.add('colab-df-quickchart-complete');\n",
              "        }\n",
              "        (() => {\n",
              "          let quickchartButtonEl =\n",
              "            document.querySelector('#df-afd56524-9b04-4906-893d-9aead9212a04 button');\n",
              "          quickchartButtonEl.style.display =\n",
              "            google.colab.kernel.accessAllowed ? 'block' : 'none';\n",
              "        })();\n",
              "      </script>\n",
              "    </div>\n",
              "\n",
              "    </div>\n",
              "  </div>\n"
            ],
            "application/vnd.google.colaboratory.intrinsic+json": {
              "type": "dataframe",
              "summary": "{\n  \"name\": \"gdfs_2022_utm\",\n  \"rows\": 8,\n  \"fields\": [\n    {\n      \"column\": \"Year\",\n      \"properties\": {\n        \"dtype\": \"number\",\n        \"std\": 742.0877402879759,\n        \"min\": 0.0,\n        \"max\": 2366.0,\n        \"num_unique_values\": 3,\n        \"samples\": [\n          2366.0,\n          2022.0,\n          0.0\n        ],\n        \"semantic_type\": \"\",\n        \"description\": \"\"\n      }\n    },\n    {\n      \"column\": \"Fatalities\",\n      \"properties\": {\n        \"dtype\": \"number\",\n        \"std\": 836.4508248447435,\n        \"min\": 0.0,\n        \"max\": 2366.0,\n        \"num_unique_values\": 5,\n        \"samples\": [\n          0.011834319526627219,\n          1.0,\n          0.10816290089647448\n        ],\n        \"semantic_type\": \"\",\n        \"description\": \"\"\n      }\n    },\n    {\n      \"column\": \"Serious\",\n      \"properties\": {\n        \"dtype\": \"number\",\n        \"std\": 836.1886535810193,\n        \"min\": 0.0,\n        \"max\": 2366.0,\n        \"num_unique_values\": 5,\n        \"samples\": [\n          0.06931530008453085,\n          6.0,\n          0.2912626814276889\n        ],\n        \"semantic_type\": \"\",\n        \"description\": \"\"\n      }\n    },\n    {\n      \"column\": \"Less serious\",\n      \"properties\": {\n        \"dtype\": \"number\",\n        \"std\": 836.3955500565986,\n        \"min\": 0.0,\n        \"max\": 2366.0,\n        \"num_unique_values\": 5,\n        \"samples\": [\n          0.03169907016060862,\n          2.0,\n          0.18691053329844123\n        ],\n        \"semantic_type\": \"\",\n        \"description\": \"\"\n      }\n    },\n    {\n      \"column\": \"Slight\",\n      \"properties\": {\n        \"dtype\": \"number\",\n        \"std\": 835.9500257524771,\n        \"min\": 0.0,\n        \"max\": 2366.0,\n        \"num_unique_values\": 6,\n        \"samples\": [\n          2366.0,\n          0.38588334742180896,\n          9.0\n        ],\n        \"semantic_type\": \"\",\n        \"description\": \"\"\n      }\n    }\n  ]\n}"
            }
          },
          "metadata": {},
          "execution_count": 358
        }
      ]
    },
    {
      "cell_type": "markdown",
      "source": [
        "Respecto a las estadisticas descriptivas de los accidentes durante el periodo de estudio. Se observa que para todos los años los heridos leves son los mas frecuentes. Por ejemplo, en 2019, representaron aproximadamente el 32% del total de víctimas registradas.\n",
        "\n",
        "En cuanto a los fallecidos, el promedio general se mantuvo bajo, con una media de 0.8% en 2019, pero se registró un leve aumento en 2021, el cual se mantuvo durante 2022, lo que sugiere un incremento en la letalidad de los accidentes.\n",
        "\n",
        "Mientras que los heridos graves y menos graves muestran una tendencia al descenso desde 2019. Cabe destacar que del 2019 al 2020 se aprecia una disminucion en todos los tipos de victimas, lo cual se puede atribibuir a las restricciones de movilidad que existieron durante la pandemia. Se registro un aumento de fallecidos, con una disminucion en heridos leves y menos graves durante 2020 a 2021. Mientras que desde 2021 a 2022 no se observan cmabios significativos.\n",
        "\n",
        "Conclusion: se observa una evolucion positiva en cuanto a la reduccion de heridos, pero al mismo tiempo existe un aumento en la letalidad en los accidentes recientes. Esto destaca la importancia de fortalecer las politicas de seguridad vial, con foco en la prevencion de accidentes fatales."
      ],
      "metadata": {
        "id": "ygY4oa0HGXj5"
      },
      "id": "ygY4oa0HGXj5"
    },
    {
      "cell_type": "markdown",
      "source": [
        "*Grafico de barra horizontal (grafico intermedio, NO FINAL)*"
      ],
      "metadata": {
        "id": "Vv4DbtjxLRLa"
      },
      "id": "Vv4DbtjxLRLa"
    },
    {
      "cell_type": "markdown",
      "source": [
        "Segun Esselman (2021) es mejor usar un vertical chart cuando los datos que se quieren representar son ordinales, es decir en categorias, como es el caso las comunas (grafico a continuacion), type y cause (mas abajo) <a href=\"#ref6\">[6]</a>.\n",
        "\n",
        "Cabe destacar que la eleccion de la paleta de colores en cada gráfico que se mostrará de aquí en adelante será en base a a la documentación ‘Choosing colour palettes’, escogiendo aquella apta para personas daltónicas <a href=\"#ref7\">[7]</a>."
      ],
      "metadata": {
        "id": "D6Q1fwj-MhWM"
      },
      "id": "D6Q1fwj-MhWM"
    },
    {
      "cell_type": "markdown",
      "source": [
        "COMO MEJORAR O ENCHULAR ESTE GRAFICO??? INTENTE QUE APARECIERA EL NUMERO DE CANTIDAD DE ACCIDENTES EN CADA BARRA PERO NO FUNCIONO"
      ],
      "metadata": {
        "id": "VKvvv2v5hOhr"
      },
      "id": "VKvvv2v5hOhr"
    },
    {
      "cell_type": "code",
      "source": [
        "# A personalised colour palette is created, designed for people with colour blindness, for this purpose, the function sns.color_palette():\n",
        "\n",
        "#palet_colorblind = sns.color_palette('colorblind')\n",
        "\n",
        "sns.barplot(df_total, x='Accidents', y='Commune', hue='Type', palette= 'colorblind') # Crea un gráfico de barras con seaborn.\n",
        "                                                              # Se diferencian los tipos de accidentes ('Type') con diferentes colores usando 'hue'.\n",
        "\n",
        "plt.xlabel('Total accidents') # Designa la etiqueta del eje X como \"Total accidents\".\n",
        "plt.ylabel('Commune')  # Designa la etiqueta del eje Y como \"Commune\".\n",
        "plt.title('Accidents by commune', fontsize=14, fontweight='bold') # Asigna un título al gráfico, con tamano 14 y negrita."
      ],
      "metadata": {
        "id": "wcwRFQv-41Fb",
        "outputId": "89cd1259-189f-44ba-ae81-2bdc4488afdf",
        "colab": {
          "base_uri": "https://localhost:8080/",
          "height": 490
        }
      },
      "id": "wcwRFQv-41Fb",
      "execution_count": 359,
      "outputs": [
        {
          "output_type": "execute_result",
          "data": {
            "text/plain": [
              "Text(0.5, 1.0, 'Accidents by commune')"
            ]
          },
          "metadata": {},
          "execution_count": 359
        },
        {
          "output_type": "display_data",
          "data": {
            "text/plain": [
              "<Figure size 640x480 with 1 Axes>"
            ],
            "image/png": "[encoded data removed]"
          },
          "metadata": {}
        }
      ]
    },
    {
      "cell_type": "markdown",
      "source": [
        "En el grafico anterior se peude observar que las comunas que concentran una mayor cantidad de accidentes de tránsito son Antofagasta (capital regional) y Calama, en ambas dominan los accidentes slight (más de 2500 en Antofagasta y más de 1300 en Calama) seguido por los de tipo serious (alredeor de 400 y 200 respectivamente). Por esta razón que se observará con un poco más de detalle como se componen los accidentes en estas dos comunas.\n",
        "\n",
        "\n",
        "\n"
      ],
      "metadata": {
        "id": "bKORMGTa6Dd3"
      },
      "id": "bKORMGTa6Dd3"
    },
    {
      "cell_type": "markdown",
      "source": [
        "## Comuna de Antofagasta"
      ],
      "metadata": {
        "id": "LF81-6CV5Uj7"
      },
      "id": "LF81-6CV5Uj7"
    },
    {
      "cell_type": "code",
      "source": [
        "# Se realiza un filtro para solo considerar a la comuna Antofagasta.\n",
        "gdf_anto = gdfs_all[gdfs_all['Commune']== 'Antofagasta']"
      ],
      "metadata": {
        "id": "4MBBTZwu5TgW"
      },
      "id": "4MBBTZwu5TgW",
      "execution_count": 360,
      "outputs": []
    },
    {
      "cell_type": "code",
      "source": [
        "# Se agrupan los datos filtrados  por año y suma de cada tipo de accidente usando '.groupby'.\n",
        "# Luego se reorganiza el DataFrame usando '.unstack' y se reinica el índice con '.reset_index()'.\n",
        "df_total_anto = gdf_anto.groupby('Year')[['Fatalities', 'Serious', 'Less serious', 'Slight']].sum().unstack().reset_index()"
      ],
      "metadata": {
        "id": "sqRo6di95TLx"
      },
      "id": "sqRo6di95TLx",
      "execution_count": 361,
      "outputs": []
    },
    {
      "cell_type": "code",
      "source": [
        "# Se renombran las columnas generadas, usanado '.rename'.\n",
        "df_total_anto.rename(columns={'level_0': 'Type',\n",
        "                              0: 'Accidents'}, inplace=True)"
      ],
      "metadata": {
        "id": "NOFpVc7a40x3"
      },
      "id": "NOFpVc7a40x3",
      "execution_count": 362,
      "outputs": []
    },
    {
      "cell_type": "code",
      "source": [
        "# Se convierte la columna 'Year' a tipo string para que los años se traten como texto (útil para gráficos categóricos).\n",
        "df_total_anto['Year'] = df_total_anto['Year'].astype(str)"
      ],
      "metadata": {
        "id": "F2AM0Mqi5kFK"
      },
      "id": "F2AM0Mqi5kFK",
      "execution_count": 363,
      "outputs": []
    },
    {
      "cell_type": "code",
      "source": [
        "# El siguiente es un grafico intermedio (solo exploratorio).\n",
        "sns.lineplot(df_total_anto, x='Year', y='Accidents', hue='Type', palette= 'colorblind') # Se usa la paleta 'colorblind' para asegurar accesibilidad visual.\n",
        "\n",
        "# Se añade etiquetas a los ejes y un título al gráfico.\n",
        "plt.xlabel('Year') # Etiqueta del eje X.\n",
        "plt.ylabel('Total') # Etiqueta del eje Y.\n",
        "plt.title('Accidents Antofagasta') # Título del gráfico."
      ],
      "metadata": {
        "id": "exAg_GVv5jS4",
        "outputId": "bd63e8d4-c711-4ea4-d1c8-c76f1f984213",
        "colab": {
          "base_uri": "https://localhost:8080/",
          "height": 489
        }
      },
      "id": "exAg_GVv5jS4",
      "execution_count": 364,
      "outputs": [
        {
          "output_type": "execute_result",
          "data": {
            "text/plain": [
              "Text(0.5, 1.0, 'Accidents Antofagasta')"
            ]
          },
          "metadata": {},
          "execution_count": 364
        },
        {
          "output_type": "display_data",
          "data": {
            "text/plain": [
              "<Figure size 640x480 with 1 Axes>"
            ],
            "image/png": "[encoded data removed]"
          },
          "metadata": {}
        }
      ]
    },
    {
      "cell_type": "code",
      "source": [],
      "metadata": {
        "id": "omY4TerSluMW"
      },
      "id": "omY4TerSluMW",
      "execution_count": 364,
      "outputs": []
    },
    {
      "cell_type": "markdown",
      "source": [
        "JUSTIFICAR CON FUENTES POR QUE ELEGI ESTA REPRESENTACION DE GRAFICOS"
      ],
      "metadata": {
        "id": "wffP3tepwlOT"
      },
      "id": "wffP3tepwlOT"
    },
    {
      "cell_type": "code",
      "source": [
        "#gdf_anto['Type']= gdf_anto['Type'].str.capitalize() # esta linea se genero con copilot 'crea un codigo en python para que en una columna el texto aparece con mayusculas, dejar\n",
        "                                                    # solo la primera letra en mayuscula y las demas en minusculas.' 14 de mayo\n",
        "\n",
        "# SE DEBE ELIMINAR ESTA LINEA PORQUE IGUAL DEBO CAMBIAR EL NOMBRE AL INGLES"
      ],
      "metadata": {
        "id": "oLaICgCBzBC7"
      },
      "id": "oLaICgCBzBC7",
      "execution_count": 365,
      "outputs": []
    },
    {
      "cell_type": "markdown",
      "source": [
        "En el grafico a continuacion se utilizó como referencia un codigo de Stack Overflow <a href=\"#ref8\">[8]</a>. Sin mebargo el resultado no fue del todo favorable, asi que se le consultó a Copilot para que resolviera el problema con el siguiente prompt: 'Crea un codigo en python usando la libreria seaborn, que muestre dos graficos en barras horizontales que conseven el orden de los colores usando la paleta colorblind'.\n",
        "Esta misma referencia fue usada para el codigo de Calama (unas lineas mas abajo) , que repite lo mismo hecho para Antofagasta"
      ],
      "metadata": {
        "id": "-AcR6ftVZsy7"
      },
      "id": "-AcR6ftVZsy7"
    },
    {
      "cell_type": "code",
      "source": [
        "# Fuente: https://stackoverflow.com/questions/25239933/how-to-add-a-title-to-each-subplot\n",
        "\n",
        "# Se crea una figura con 1 fila y 2 columnas de subgráficos usando '.subplots'.\n",
        "# 'figsize' define el tamaño total de la figura (10 pulgadas de ancho por 5 de alto).\n",
        "# sharey=True hace que ambos subgráficos compartan el mismo eje Y.\n",
        "fig, axs = plt.subplots(1, 2, figsize=(10, 5), sharey=True)\n",
        "\n",
        "\n",
        "# Obtener el orden único de los tipos de accidentes ESTO SE SACO DE COPILOT, AGRECARLO AL WORD DE COPILOT!!!!\n",
        "# Se necesita que se mantenga un orden en la paleta de colores para que en ambos graficos se visualicen de los mismos colores los 'Type'.\n",
        "# Se escribe el siguiete pompt en Copilot:' Crea un codigo que puede ser usado en un grafico hecho con seaborn que permita mantener el\n",
        "# orden en la paleta de colores de una de las columnas del dataframe'. Entregando como respuesta las siguientes dos lineas:\n",
        "type_order = gdf_anto['Type'].value_counts().index\n",
        "palette = dict(zip(type_order, sns.color_palette(\"colorblind\", n_colors=len(type_order)))) # Crear una paleta de colores consistente usando\n",
        "                                                                                           # la paleta apta para personas daltonicas (colorblind)\n",
        "\n",
        "\n",
        "\n",
        "# Primer gráfico: cuenta la cantidad de accidentes por tipo en todo el DataFrame 'gdf_anto'y lo dibuja en el primer subplot (axs[0]).\n",
        "sns.countplot(gdf_anto, y='Type', ax=axs[0], order=type_order, palette='colorblind')\n",
        "axs[0].title.set_text('Total Accidents') # le asigna un título al primer subplot\n",
        "axs[0].set_xlabel('Count') # Etiqueta con 'C' mayúscula\n",
        "\n",
        "\n",
        "\n",
        "# Segundo gráfico: filtra solo los accidentes con al menos una fatalidad y cuenta cuántos hay por tipo, dibujándolo en el segundo subplot (axs[1]).\n",
        "sns.countplot(gdf_anto[gdf_anto['Fatalities'] > 0], y='Type', ax=axs[1], order=type_order, palette='colorblind')\n",
        "axs[1].title.set_text('Total Fatalities') # Le asigna un título al segundo subplot.\n",
        "axs[1].set_xlabel('Count') # Etiqueta con 'C' mayúscula\n",
        "\n",
        "\n",
        "# Se ajusta automáticamente el diseño para que los elementos no se sobrepongan\n",
        "plt.tight_layout()"
      ],
      "metadata": {
        "id": "7884_3tR5i0w",
        "outputId": "62835d9d-97fd-4194-c507-540502f7dd09",
        "colab": {
          "base_uri": "https://localhost:8080/",
          "height": 495
        }
      },
      "id": "7884_3tR5i0w",
      "execution_count": 366,
      "outputs": [
        {
          "output_type": "display_data",
          "data": {
            "text/plain": [
              "<Figure size 1000x500 with 2 Axes>"
            ],
            "image/png": "[encoded data removed]"
          },
          "metadata": {}
        }
      ]
    },
    {
      "cell_type": "code",
      "source": [
        "# gdf_anto['Cause']= gdf_anto['Cause'].str.capitalize()\n",
        "# PERO EN RELAIDAD DEBO CAMBIAR EL NOMBRE DE LAS VARIABLES AL INGLES"
      ],
      "metadata": {
        "id": "75DjDuyX40d2"
      },
      "id": "75DjDuyX40d2",
      "execution_count": 367,
      "outputs": []
    },
    {
      "cell_type": "code",
      "source": [
        "# Se crea un gráfico de barras que cuenta la cantidad de registros por cada valor en la columna 'Cause'. El eje Y mostrará las distintas causas.\n",
        "sns.countplot(gdf_anto, y='Cause', palette='colorblind')"
      ],
      "metadata": {
        "id": "bk9t73uaXnQX",
        "outputId": "bfd4ce53-19dc-4aa1-b32e-6ffd45c1cf09",
        "colab": {
          "base_uri": "https://localhost:8080/",
          "height": 466
        }
      },
      "id": "bk9t73uaXnQX",
      "execution_count": 368,
      "outputs": [
        {
          "output_type": "execute_result",
          "data": {
            "text/plain": [
              "<Axes: xlabel='count', ylabel='Cause'>"
            ]
          },
          "metadata": {},
          "execution_count": 368
        },
        {
          "output_type": "display_data",
          "data": {
            "text/plain": [
              "<Figure size 640x480 with 1 Axes>"
            ],
            "image/png": "[encoded data removed]"
          },
          "metadata": {}
        }
      ]
    },
    {
      "cell_type": "markdown",
      "source": [
        "## Comuna de Calama"
      ],
      "metadata": {
        "id": "3j4s3jJrLDmM"
      },
      "id": "3j4s3jJrLDmM"
    },
    {
      "cell_type": "code",
      "source": [
        "# Se realiza un filtro para solo considerar a la comuna Calama.\n",
        "gdf_calama = gdfs_all[gdfs_all['Commune']== 'Calama']"
      ],
      "metadata": {
        "id": "EqdtSgqA65Ql"
      },
      "id": "EqdtSgqA65Ql",
      "execution_count": 369,
      "outputs": []
    },
    {
      "cell_type": "code",
      "source": [
        "# Se agrupan los datos filtrados  por año y suma de cada tipo de accidente usando '.groupby'\n",
        "# Luego se reorganiza el DataFrame usando '.unstack' y se reinica el índice con '.reset_index()'\n",
        "df_total_calama = gdf_calama.groupby('Year')[['Fatalities', 'Serious', 'Less serious', 'Slight']].sum().unstack().reset_index()"
      ],
      "metadata": {
        "id": "7PTp3lbnXm3d"
      },
      "id": "7PTp3lbnXm3d",
      "execution_count": 370,
      "outputs": []
    },
    {
      "cell_type": "code",
      "source": [
        "# Se renombran las columnas generadas, usanado '.rename'.\n",
        "df_total_calama.rename(columns={'level_0': 'Type',\n",
        "                              0: 'Accidents'}, inplace=True)"
      ],
      "metadata": {
        "id": "d8R7GFt3XmeY"
      },
      "id": "d8R7GFt3XmeY",
      "execution_count": 371,
      "outputs": []
    },
    {
      "cell_type": "code",
      "source": [
        "# Se convierte la columna 'Year' a tipo string para que los años se traten como texto (útil para gráficos categóricos).\n",
        "df_total_calama['Year'] = df_total_calama['Year'].astype(str)"
      ],
      "metadata": {
        "id": "vheCI0zvLRb_"
      },
      "id": "vheCI0zvLRb_",
      "execution_count": 372,
      "outputs": []
    },
    {
      "cell_type": "code",
      "source": [
        "# El siguiente es un grafico intermedio (solo exploratorio).\n",
        "# The choice of the palette was based on the documentation ‘Choosing colour palettes’ [7].\n",
        "sns.lineplot(df_total_calama, x='Year', y='Accidents', hue='Type', palette= 'colorblind')    # Se usa la paleta 'colorblind' para asegurar accesibilidad visual.\n",
        "plt.xlabel('Year')\n",
        "plt.ylabel('Total')\n",
        "plt.title('Accidents Calama')"
      ],
      "metadata": {
        "id": "mJfyBnDGLRPf",
        "outputId": "8b2fa073-d0e6-4273-f47a-99f935479cb5",
        "colab": {
          "base_uri": "https://localhost:8080/",
          "height": 489
        }
      },
      "id": "mJfyBnDGLRPf",
      "execution_count": 373,
      "outputs": [
        {
          "output_type": "execute_result",
          "data": {
            "text/plain": [
              "Text(0.5, 1.0, 'Accidents Calama')"
            ]
          },
          "metadata": {},
          "execution_count": 373
        },
        {
          "output_type": "display_data",
          "data": {
            "text/plain": [
              "<Figure size 640x480 with 1 Axes>"
            ],
            "image/png": "[encoded data removed]"
          },
          "metadata": {}
        }
      ]
    },
    {
      "cell_type": "code",
      "source": [
        "# Fuente: https://stackoverflow.com/questions/25239933/how-to-add-a-title-to-each-subplot\n",
        "\n",
        "# Se crea una figura con 1 fila y 2 columnas de subgráficos usando '.subplots'.\n",
        "# 'figsize' define el tamaño total de la figura (10 pulgadas de ancho por 5 de alto).\n",
        "# sharey=True hace que ambos subgráficos compartan el mismo eje Y.\n",
        "fig, axs = plt.subplots(1, 2, figsize=(10, 5), sharey=True)\n",
        "\n",
        "\n",
        "# Obtener el orden único de los tipos de accidentes ESTO SE SACO DE COPILOT, AGRECARLO AL WORD DE COPILOT!!!!\n",
        "# Se necesita que se mantenga un orden en la paleta de colores para que en ambos graficos se visualicen de los mismos colores los 'Type'.\n",
        "# Se escribe el siguiete pompt en Copilot:' Crea un codigo que puede ser usado en un grafico hecho con seaborn que permita mantener el\n",
        "# orden en la paleta de colores de una de las columnas del dataframe'. Entregando como respuesta las siguientes dos lineas:\n",
        "\n",
        "type_order = gdf_anto['Type'].value_counts().index\n",
        "palette = dict(zip(type_order, sns.color_palette(\"colorblind\", n_colors=len(type_order)))) # Crear una paleta de colores consistente usando\n",
        "                                                                                           # la paleta apta para personas daltonicas (colorblind)\n",
        "\n",
        "# Primer gráfico: cuenta la cantidad de accidentes por tipo en todo el DataFrame 'gdf_anto'y lo dibuja en el primer subplot (axs[0]).\n",
        "sns.countplot(gdf_calama, y='Type', ax=axs[0], order=type_order, palette='colorblind')\n",
        "axs[0].title.set_text('Total Accidents')\n",
        "\n",
        "# Segundo gráfico: filtra solo los accidentes con al menos una fatalidad y cuenta cuántos hay por tipo, dibujándolo en el segundo subplot (axs[1]).\n",
        "sns.countplot(gdf_calama[gdf_calama['Fatalities'] > 0], y='Type', ax=axs[1], order=type_order, palette='colorblind')\n",
        "axs[1].title.set_text('Total Fatalities')\n",
        "\n",
        "# Se ajusta automáticamente el diseño para que los elementos no se sobrepongan\n",
        "plt.tight_layout()"
      ],
      "metadata": {
        "id": "g08hvxiOXmEb",
        "outputId": "0a2a0374-2e64-42eb-e5bf-e11de2ccffdb",
        "colab": {
          "base_uri": "https://localhost:8080/",
          "height": 491
        }
      },
      "id": "g08hvxiOXmEb",
      "execution_count": 374,
      "outputs": [
        {
          "output_type": "display_data",
          "data": {
            "text/plain": [
              "<Figure size 1000x500 with 2 Axes>"
            ],
            "image/png": "[encoded data removed]"
          },
          "metadata": {}
        }
      ]
    },
    {
      "cell_type": "code",
      "source": [
        "# Se crea un gráfico de barras que cuenta la cantidad de registros por cada valor en la columna 'Cause'. El eje Y mostrará las distintas causas.\n",
        "sns.countplot(gdf_calama, y='Cause', palette='colorblind')\n",
        "# NECESITO VER EL NUMERO EN CADA GRAFICO O VERLO A PARTE, PARA PONERLO EN EL TEXTO."
      ],
      "metadata": {
        "id": "9FJRcP-oMfee",
        "outputId": "120af3a2-c51e-4841-c065-7d02e3e4fb71",
        "colab": {
          "base_uri": "https://localhost:8080/",
          "height": 466
        }
      },
      "id": "9FJRcP-oMfee",
      "execution_count": 375,
      "outputs": [
        {
          "output_type": "execute_result",
          "data": {
            "text/plain": [
              "<Axes: xlabel='count', ylabel='Cause'>"
            ]
          },
          "metadata": {},
          "execution_count": 375
        },
        {
          "output_type": "display_data",
          "data": {
            "text/plain": [
              "<Figure size 640x480 with 1 Axes>"
            ],
            "image/png": "[encoded data removed]"
          },
          "metadata": {}
        }
      ]
    },
    {
      "cell_type": "markdown",
      "source": [
        "Al comparar los accidentes en ambas comunas, se observa que Antofagasta es la que presneta un mayor numero de siniestros y de fatalidades en casi todas las categorias, lo cual puede estar relacionado a que esta comuna posee una mayor cantidad de poblacion y mayor flujo vehicular al ser la capital regional. Mientras que Calama, aunque con cifras menores, muestra patrones similares en cuanto a los tipos y causas de accidentes.\n",
        "En ambas comunas la imprudencia del conductor es la causa mas frecuente, con cifras similares. Esto sugiere que las estrategias de prevencion deberian enfocarse en la educacion vial y la fiscalizacion  "
      ],
      "metadata": {
        "id": "yG5l1dpnPEj3"
      },
      "id": "yG5l1dpnPEj3"
    },
    {
      "cell_type": "code",
      "source": [
        "# VISUALIZACION FINAL\n",
        "# Crear la figura con 2 filas y 2 columnas de subgráficos\n",
        "fig, axs = plt.subplots(2, 2, figsize=(16, 10), sharey=True)\n",
        "\n",
        "# Definir el orden de los tipos de accidentes basado en el conjunto completo\n",
        "# Se necesita que se mantenga un orden en la paleta de colores para que en ambos graficos se visualicen de los mismos colores los 'Type'.\n",
        "# Se escribe el siguiete pompt en Copilot:' Crea un codigo que puede ser usado en un grafico hecho con seaborn que permita mantener el\n",
        "# orden en la paleta de colores de una de las columnas del dataframe'. Entregando como respuesta las siguientes las lineas que definen 'type_order' y 'palette'.\n",
        "type_order = sorted(set(gdf_anto['Type']).union(set(gdf_calama['Type'])))\n",
        "\n",
        "# Función para agregar etiquetas a las barras\n",
        "def add_labels(ax): # ax representa al eje\n",
        "    for container in ax.containers: # Recorre todos los BarContainer que existen en el eje ax.\n",
        "        ax.bar_label(container, fmt='%d', label_type='edge', fontsize=9) # Usa la función bar_label() de Matplotlib para agregar etiquetas numéricas a cada barra del contenedor\n",
        "\n",
        "\n",
        "# Crear una paleta de colores consistente, asignando un color único a cada tipo de accidente.\n",
        "# Se usa la paleta \"colorblind\" para asegurar buena visibilidad\n",
        "\n",
        "palette = dict(zip(type_order, sns.color_palette(\"colorblind\", n_colors=len(type_order)))) # Crear una paleta de colores consistente usando\n",
        "                                                                                           # la paleta apta para personas daltonicas (colorblind)\n",
        "\n",
        "# Antofagasta - Total de accidentes (grafico 1)\n",
        "ax= sns.countplot(data=gdf_anto,     # 'sns.countplot' se crea un grafico de barras que cuenta cuantas veces aparece cada categoria en la columna Type' del DataFrame gdf_anto.\n",
        "                  y='Type',\n",
        "                  ax=axs[0, 0],      # Dibuja el gráfico en la primera celda (fila 0, columna 0) de la cuadrícula de subgráficos creada previamente.\n",
        "                  order=type_order,  # Asegura que los tipos de accidentes se muestren en un orden específico en todos los gráficos.\n",
        "                  palette=palette)   # Se usa la paleta creada previamnete.\n",
        "\n",
        "axs[0, 0].set_title('Total Accidents in Antofagasta',  # Establece el título del gráfico ubicado en la posición [0, 0] (esquina superior izquierda).\n",
        "                    fontsize=14,                       # fontsize=14 define el tamaño de la fuente.\n",
        "                    fontweight='bold')                 # fontweight='bold' hace que el texto del título esté en negrita.\n",
        "axs[0, 0].set_xlabel('Count')                          # Establece la etiqueta del eje x en la posicion [0,0]\n",
        "\n",
        "# Se pregunta copilot como se puede crear un limite de rango apra igualar ambos graficos, a traves del siguiente prompt:\n",
        "# 'Crea un codigo en python usandosseaborn que permita definir los limites del eje x en 0, 500, 1000, 1500, 2000, 2500, 3000, 3500, 4000.\n",
        "# Este mismo codigo es usado para los otros 3 graficos, ajustando el rango segun corresponda.\n",
        "# AGREGAR AL WORD DE COPILOT!!!!!!!!!!\n",
        "axs[0, 0].set_xlim(0, 4000) # Establece el rango del eje X, que va desde 0 a 4000.\n",
        "axs[0, 0].set_xticks([0, 500, 1000, 1500, 2000, 2500, 3000, 3500, 4000]) # Define las divisiones\n",
        "add_labels(ax)             # Se agregan las etiquetas a las barras\n",
        "\n",
        "\n",
        "# Antofagasta - Fatalidades (grafico 2)\n",
        "ax= sns.countplot(data=gdf_anto[gdf_anto['Fatalities'] > 0], # Filtra solo los accidentes con al menos una fatalidad,\n",
        "                  y='Type',                                  # y cuenta cuántos hay por tipo,\n",
        "                  ax=axs[0, 1],                              # dibujándolo en el segundo subplot (axs[1]).\n",
        "                  order=type_order,                          # Asegura que los tipos de accidentes se muestren en un orden específico en todos los gráficos.\n",
        "                  palette=palette)                           # Se usa la paleta creada previamnete.\n",
        "\n",
        "axs[0, 1].set_title('Total Fatalities in Antofagasta',      # Establece el título del gráfico ubicado en la posición [0, 1] (esquina superior derecha).\n",
        "                    fontsize=14,                            # fontsize=14 define el tamaño de la fuente.\n",
        "                    fontweight='bold')                      # fontweight='bold' hace que el texto del título esté en negrita.\n",
        "\n",
        "axs[0, 1].set_xlabel('Count')   # Establece la etiqueta del eje x en la posicion [0,1]\n",
        "axs[0, 1].set_xlim(0, 18)       # Establece el rango del eje X, que va de 0 a 18.\n",
        "axs[0, 1].set_xticks([0, 2, 4, 6, 8, 10, 12, 14, 16, 18]) # Define las divisiones\n",
        "add_labels(ax)                  # Se agregan las etiquetas a las barras\n",
        "\n",
        "\n",
        "# Calama - Total de accidentes (grafico 3)\n",
        "ax= sns.countplot(data=gdf_calama,              # 'sns.countplot' se crea un grafico de barras que cuenta cuantas veces aparece cada categoria en la columna Type' del DataFrame gdf_calama.\n",
        "                  y='Type',\n",
        "                  ax=axs[1, 0],                 # Dibuja el gráfico en la primera celda (fila 1, columna 0) de la cuadrícula de subgráficos creada previamente.\n",
        "                  order=type_order,             # Asegura que los tipos de accidentes se muestren en un orden específico en todos los gráficos.\n",
        "                  palette=palette)              # Se usa la paleta creada previamente.\n",
        "\n",
        "axs[1, 0].set_title('Total Accidents in Calama',    # Establece el título del gráfico ubicado en la posición [1, 0] (esquina inferior izquierda).\n",
        "                    fontsize=14,                    # fontsize=14 define el tamaño de la fuente.\n",
        "                    fontweight='bold')              # fontweight='bold' hace que el texto del título esté en negrita.\n",
        "\n",
        "axs[1, 0].set_xlabel('Count')  # Establece la etiqueta del eje x en la posicion [1,0]\n",
        "axs[1, 0].set_xlim(0, 4000)    # Establece el rango del eje X, que va de 0 a 4000.\n",
        "axs[1, 0].set_xticks([0, 500, 1000, 1500, 2000, 2500, 3000, 3500, 4000]) # Define las divisiones\n",
        "add_labels(ax)   # Se agregan las etiquetas a las barras\n",
        "\n",
        "\n",
        "# Calama - Fatalidades (grafico 4)\n",
        "ax= sns.countplot(data=gdf_calama[gdf_calama['Fatalities'] > 0], # Filtra solo los accidentes con al menos una fatalidad,\n",
        "                  y='Type',                            # y cuenta cuántos hay por tipo,\n",
        "                  ax=axs[1, 1],                        # dibujándolo en el segundo subplot (axs[1]).\n",
        "                  order=type_order,                    # Asegura que los tipos de accidentes se muestren en un orden específico en todos los gráficos.\n",
        "                  palette=palette)                     # Se usa la paleta creada previamnete.\n",
        "\n",
        "axs[1, 1].set_title('Total Fatalities in Calama',      # Establece el título del gráfico ubicado en la posición [1, 1] (esquina inferior derecha).\n",
        "                    fontsize=14,                       # fontsize=14 define el tamaño de la fuente.\n",
        "                    fontweight='bold')                 # fontweight='bold' hace que el texto del título esté en negrita.\n",
        "\n",
        "axs[1, 1].set_xlabel('Count')  # Establece la etiqueta del eje x en la posicion [1,1]\n",
        "axs[1, 1].set_xlim(0, 18)      # Establece el rango del eje X\n",
        "axs[1, 1].set_xticks([0, 2, 4, 6, 8, 10, 12, 14, 16, 18]) # Define las divisiones\n",
        "add_labels(ax)                 # Se agregan las etiquetas a las barras\n",
        "\n",
        "\n",
        "# Ajustar diseño\n",
        "plt.tight_layout()\n",
        "plt.show() # Se muestran los graficos en una sola imagen.\n"
      ],
      "metadata": {
        "id": "6yaBv8k1Mk_4",
        "colab": {
          "base_uri": "https://localhost:8080/",
          "height": 613
        },
        "outputId": "63f316c8-4e46-4ca7-d3f8-c70e12177b0f"
      },
      "id": "6yaBv8k1Mk_4",
      "execution_count": 376,
      "outputs": [
        {
          "output_type": "display_data",
          "data": {
            "text/plain": [
              "<Figure size 1600x1000 with 4 Axes>"
            ],
            "image/png": "[encoded data removed]"
          },
          "metadata": {}
        }
      ]
    },
    {
      "cell_type": "markdown",
      "source": [
        "Health facilities\n",
        "- Se revisa el geojson con la información de los hospitales del pais.\n"
      ],
      "metadata": {
        "id": "dWlYxoavyPAr"
      },
      "id": "dWlYxoavyPAr"
    },
    {
      "cell_type": "code",
      "source": [
        "health_facilities = gpd.read_file('https://github.com/rociovald/GEOG5990M_Final/raw/refs/heads/main/Data/health_facilities_2024.geojson')"
      ],
      "metadata": {
        "id": "qCtlCz0UyOV_"
      },
      "id": "qCtlCz0UyOV_",
      "execution_count": null,
      "outputs": []
    },
    {
      "cell_type": "code",
      "source": [
        "health_facilities.crs # Se revisa su sistema de cordenadas proyectadas"
      ],
      "metadata": {
        "id": "hOM0Sq_3zaPF"
      },
      "id": "hOM0Sq_3zaPF",
      "execution_count": null,
      "outputs": []
    },
    {
      "cell_type": "code",
      "source": [
        "health_facilities = health_facilities.to_crs(epsg=32719) # Se cambia a UTM 19 sur"
      ],
      "metadata": {
        "id": "lF0RTwPQzaGl"
      },
      "id": "lF0RTwPQzaGl",
      "execution_count": null,
      "outputs": []
    },
    {
      "cell_type": "code",
      "source": [
        "health_facilities.info()"
      ],
      "metadata": {
        "id": "dAqb3w00zZp2"
      },
      "id": "dAqb3w00zZp2",
      "execution_count": null,
      "outputs": []
    },
    {
      "cell_type": "code",
      "source": [
        "# Se renombran los nombres de las columnas que se van a seleccionar\n",
        "renames = {\n",
        "    'TIPO': 'Type',\n",
        "    'NOMBRE': 'Name',\n",
        "    'URGENCIA': 'Urgency',\n",
        "    'REGION': 'Region',\n",
        "    'PROVINCIA': 'Province',\n",
        "    'COMUNA': 'Commune'\n",
        "}"
      ],
      "metadata": {
        "id": "tCaGebcx1VPa"
      },
      "id": "tCaGebcx1VPa",
      "execution_count": null,
      "outputs": []
    },
    {
      "cell_type": "code",
      "source": [
        "health_facilities.rename(columns=renames, inplace=True)"
      ],
      "metadata": {
        "id": "Pml99t07665z"
      },
      "id": "Pml99t07665z",
      "execution_count": null,
      "outputs": []
    },
    {
      "cell_type": "code",
      "source": [
        "# Se verifican los cambios\n",
        "print(health_facilities.columns)"
      ],
      "metadata": {
        "id": "tWQGqHmG7IHm"
      },
      "id": "tWQGqHmG7IHm",
      "execution_count": null,
      "outputs": []
    },
    {
      "cell_type": "code",
      "source": [
        "# Se filtran por la región 'ANTOFAGASTA'\n",
        "health_facilities_anto=health_facilities[(health_facilities['Region']== 'ANTOFAGASTA') & (health_facilities['Urgency'] == 'SI')]"
      ],
      "metadata": {
        "id": "AZNf1fr-_9HD"
      },
      "id": "AZNf1fr-_9HD",
      "execution_count": null,
      "outputs": []
    },
    {
      "cell_type": "code",
      "source": [
        "# Se crea un nuevo DataFrame seleccionando solo las columnas renombradas\n",
        "select = ['Type', 'Name', 'Urgency', 'Region', 'Province', 'Commune', 'geometry']\n"
      ],
      "metadata": {
        "id": "yJKSM0PW7Z2k"
      },
      "id": "yJKSM0PW7Z2k",
      "execution_count": null,
      "outputs": []
    },
    {
      "cell_type": "code",
      "source": [
        "gdf_health_anto = health_facilities_anto[select]\n",
        "gdf_health_anto"
      ],
      "metadata": {
        "id": "UuSclHeZ_iUW"
      },
      "id": "UuSclHeZ_iUW",
      "execution_count": null,
      "outputs": []
    },
    {
      "cell_type": "code",
      "source": [],
      "metadata": {
        "id": "Zv96QbBP8c9X"
      },
      "id": "Zv96QbBP8c9X",
      "execution_count": null,
      "outputs": []
    },
    {
      "cell_type": "code",
      "source": [],
      "metadata": {
        "id": "1Q0sCb8U8cyR"
      },
      "id": "1Q0sCb8U8cyR",
      "execution_count": null,
      "outputs": []
    },
    {
      "cell_type": "markdown",
      "source": [
        "Primero se visualiza la ubicacion de los  centros de salud que atienden urgencias"
      ],
      "metadata": {
        "id": "4RGLssvVBkdV"
      },
      "id": "4RGLssvVBkdV"
    },
    {
      "cell_type": "code",
      "source": [
        "# In order to visualise that the content ‘battlefields_utm’ is correct, i.e. that it includes the number of monuments per battlefield, the following dynamic visualisation is generated.\n",
        "# The following code is based on the geopandas documentation obtained from this website: https://geopandas.org/en/stable/docs/user_guide/interactive_mapping.html\n",
        "\n",
        "gdf_health_anto.explore(column ='Urgency',   # Creates a choropleth map based on the column ‘monuments-count’\n",
        "                         tooltip= ('Name','Commune'),  # Displays the ‘Name’ and ‘monuments_count’ on mouse-over\n",
        "                         popup=True,   # Displays a pop-up window with the tooltip display\n",
        "                         cmap='plasma',  # Uses the plasma colour palette (it is purposely used to represent the smaller values with a darker colour, as most of the polygons concentrate\n",
        "                                         # less than 3 monuments, so that they can be visualised more easily).\n",
        "                         wmin=0,  # This parameter starts the legend with zero\n",
        "                         style_kwds=dict(color='black'))  # with this parameter you define that the colour of the line of each polygon is black."
      ],
      "metadata": {
        "id": "d0gxZjF0Bqz6"
      },
      "id": "d0gxZjF0Bqz6",
      "execution_count": null,
      "outputs": []
    },
    {
      "cell_type": "code",
      "source": [],
      "metadata": {
        "id": "ACUH2m-CBqtC"
      },
      "id": "ACUH2m-CBqtC",
      "execution_count": null,
      "outputs": []
    },
    {
      "cell_type": "code",
      "source": [],
      "metadata": {
        "id": "z5kFaDgfBql6"
      },
      "id": "z5kFaDgfBql6",
      "execution_count": null,
      "outputs": []
    },
    {
      "cell_type": "markdown",
      "source": [
        "##Spatial Exploration\n",
        "\n",
        "* Gran parte del codigo (casi completo) fue sacado de Medium: https://medium.com/@jesse.b.nestler/how-to-convert-h3-cell-boundaries-to-shapely-polygons-in-python-f7558add2f63"
      ],
      "metadata": {
        "id": "hQ1xifXQAumW"
      },
      "id": "hQ1xifXQAumW"
    },
    {
      "cell_type": "code",
      "source": [
        "# Se convierte el sistema de coordenadas del GeoDataFrame 'gdf_anto' al sistema UTM zona 19 Sur (EPSG:32719).\n",
        "# Esto es útil para trabajar con distancias y áreas en metros en lugar de grados decimales.\n",
        "gdf_anto_utm = gdf_anto.to_crs(epsg=32719)"
      ],
      "metadata": {
        "id": "CZOgBxAbTImR"
      },
      "id": "CZOgBxAbTImR",
      "execution_count": null,
      "outputs": []
    },
    {
      "cell_type": "code",
      "source": [
        "# Se muestra el sistema de referencia de coordenadas (CRS) actual del GeoDataFrame convertido.\n",
        "gdf_anto_utm.crs"
      ],
      "metadata": {
        "id": "ZKv1tG_UTIgf"
      },
      "id": "ZKv1tG_UTIgf",
      "execution_count": null,
      "outputs": []
    },
    {
      "cell_type": "code",
      "source": [
        "# Muestra información general del GeoDataFrame, como número de filas, columnas, tipos de datos y para saber si hay datos nulos.\n",
        "# Es útil para tener una visión rápida de la estructura del dataset\n",
        "gdf_anto_utm.info()"
      ],
      "metadata": {
        "id": "jNW8yJPlTIbE"
      },
      "id": "jNW8yJPlTIbE",
      "execution_count": null,
      "outputs": []
    },
    {
      "cell_type": "code",
      "source": [
        "#Con el metodo '.sample' se muestra de forma aleatoria una fila del DataFrame.\n",
        "gdf_anto_utm.sample()"
      ],
      "metadata": {
        "id": "A81GALxFTIV6"
      },
      "id": "A81GALxFTIV6",
      "execution_count": null,
      "outputs": []
    },
    {
      "cell_type": "code",
      "source": [
        "# Se define los límites espaciales (xmin, ymin, xmax, ymax) en coordenadas UTM.\n",
        "# Estos valores se usarán para recortar un area específica del GeoDataFrame.\n",
        "xmin, ymin, xmax, ymax = [352600, 7372800, 360700, 7400700]\n",
        "\n",
        "# Se recorta el GeoDataFrame original usando los límites definidos anteriormente\n",
        "# Se usa el metodo .cx[] para seleccionar por coordenadas espaciales y '.copy()' para evitar modificar el original.\n",
        "gdf_anto_subset = gdf_anto.cx[xmin:xmax, ymin:ymax].copy()"
      ],
      "metadata": {
        "id": "7_uDtj4CTIQa"
      },
      "id": "7_uDtj4CTIQa",
      "execution_count": null,
      "outputs": []
    },
    {
      "cell_type": "code",
      "source": [
        "# Se dibuja un mapa simple para visualizar si se recorto correctamente el area.\n",
        "gdf_anto_subset.plot()"
      ],
      "metadata": {
        "id": "nWAk-EIw9ESG"
      },
      "execution_count": null,
      "outputs": [],
      "id": "nWAk-EIw9ESG"
    },
    {
      "cell_type": "code",
      "source": [
        "#gdf_anto_subset.explore('Fatalities', cmap='autumn_r')"
      ],
      "metadata": {
        "id": "wNXOCjfNkslI"
      },
      "id": "wNXOCjfNkslI",
      "execution_count": null,
      "outputs": []
    },
    {
      "cell_type": "markdown",
      "source": [
        "Ahora lo que se quiere hacer crear clusters de la cantidad de accidentes que existen en la comuna de Antofagasta, para lo cual se utiliza el metodo del codo para definir el nuemero adecuado de clusters."
      ],
      "metadata": {
        "id": "YG0E4dFdUdNf"
      },
      "id": "YG0E4dFdUdNf"
    },
    {
      "cell_type": "markdown",
      "source": [
        "REVISAR EL CODIGO DE LA PROFE, SI COINCIDE CON ESTE, PARA CITARLO"
      ],
      "metadata": {
        "id": "As444NQp_iJi"
      },
      "id": "As444NQp_iJi"
    },
    {
      "cell_type": "code",
      "source": [
        "# Se crea una figura y un solo eje (axs) para graficar, con un tamaño de 5x5 pulgadas\n",
        "fig, axs = plt.subplots(1, 1, figsize=(5, 5))\n",
        "\n",
        "# Para poder generar el algoritmo KMeans, se extraen las coordenadas x, y del geodataframe 'gdf_anto_subset'.\n",
        "x = gdf_anto_subset.get_coordinates()\n",
        "\n",
        "# Se define un rango de posibles cantidades de clústeres (de 1 a 14) para evaluar.\n",
        "range_n_clusters = range(1, 15)\n",
        "inertias = [] # Se crea una lista vacia que almacenara los valores\n",
        "\n",
        "\n",
        "# Se itera sobre cada número de clústeres en el rango definido\n",
        "for n_clusters in range_n_clusters:  # Se crea un modelo KMeans con el número actual de clústeres\n",
        "    model_kmeans = KMeans(\n",
        "                        n_clusters   = n_clusters,\n",
        "                        n_init       = 20,  # n_init=20 significa que se reiniciará el algoritmo 20 veces para encontrar la mejor solución.\n",
        "                        random_state = 123  # random_state=123 asegura que los resultados sean reproducibles.\n",
        "                    )\n",
        "    model_kmeans.fit(x)  # Se ajusta el modelo a los datos de coordenadas.\n",
        "\n",
        "    inertias.append(model_kmeans.inertia_) # # Guarda la inercia del modelo (indica qué tan compactos son los clústeres).\n",
        "\n",
        "axs.plot(range_n_clusters, inertias, marker='o') # Se grafica la inercia en función del número de clústeres\n",
        "axs.set_title('Antofagasta') # Se le da un titulo al grafico.\n",
        "axs.set_xlabel('Number clusters') # Se designa la etiqueta del eje x.\n",
        "axs.set_ylabel('Score') # Se designa la etiqueta del eje y.\n",
        "axs.axvline(4, color='k', ls=\"dotted\"); # Se dibuja una línea vertical punteada en x=4 para indicar que 4 podría ser un buen número de clústeres."
      ],
      "metadata": {
        "id": "XU9VSXZjUcHx"
      },
      "id": "XU9VSXZjUcHx",
      "execution_count": null,
      "outputs": []
    },
    {
      "cell_type": "code",
      "source": [
        "# Se crea una lista vacia para almacenar los resultados de los clusters.\n",
        "clusters = []\n",
        "\n",
        "# Para aplicar el algoritmo del clustering es necesario extraer las coordenadas x e y.\n",
        "x = gdf_anto_subset.get_coordinates()\n",
        "\n",
        "\n",
        "# Se crea un modelo KMeans con 4 clústeres (basado en el análisis previo del método del codo).\n",
        "model = KMeans(n_clusters=4)\n",
        "\n",
        "\n",
        "# Se ajusta el modelo a los datos y predice a qué clúster pertenece cada punto. Se obtiene un array con la etiqueta del cluster para cada observacion.\n",
        "y_kmeans = model.fit_predict(x)\n",
        "\n",
        "# Se designa las etiquetas de cluster a la lista vacia 'clusters'.\n",
        "clusters = y_kmeans\n",
        "print(len(clusters))  # Se comprueba que coincida con el numero de filas en 'gdf_anto_subset'"
      ],
      "metadata": {
        "id": "VUfUhG8jUcCe"
      },
      "id": "VUfUhG8jUcCe",
      "execution_count": null,
      "outputs": []
    },
    {
      "cell_type": "code",
      "source": [
        "# Se asigna las etiquetas de clúster (obtenidas con KMeans) como una nueva columna llamada 'Cluster', asi se puede identificar a que grupo pertenece cada punto.\n",
        "gdf_anto_subset['Cluster'] = clusters"
      ],
      "metadata": {
        "id": "haZ5IdCXUb8g"
      },
      "id": "haZ5IdCXUb8g",
      "execution_count": null,
      "outputs": []
    },
    {
      "cell_type": "code",
      "source": [
        "# Se crea un mapa en donde cada punto se identifica con un color segun el valor de la column a'Cluster', asi se visualiza la ubicacion de los clusters.\n",
        "gdf_anto_subset.plot('Cluster')"
      ],
      "metadata": {
        "id": "Q2R4WX-7Ub03"
      },
      "id": "Q2R4WX-7Ub03",
      "execution_count": null,
      "outputs": []
    },
    {
      "cell_type": "markdown",
      "source": [
        "Como se pude observar en el plot anterior, la generación de los 4 clusters que sugiere el metodo del codo no son apropiados (en realidad ningun numero lo sería) esto es debido a dos aspectos: (1) la gran cantidad de puntos (accidentes) en el territorio y (2) debido al apecto geográfico de la comuna, ya que su forma alargada no favorece a la generación de clusters.\n",
        "\n",
        "Dado esta situación, se decidió cambiar de estrategia, y explorar una agrupación diferente por medio de hexágonos, usando Uber's H3 grid system --> https://www.uber.com/en-GB/blog/h3/"
      ],
      "metadata": {
        "id": "0lTPFFrAVTZB"
      },
      "id": "0lTPFFrAVTZB"
    },
    {
      "cell_type": "markdown",
      "source": [
        "H3\n",
        "\n",
        "* Es necesario convertir a coordenadas geograficas para asignar"
      ],
      "metadata": {
        "id": "hFRLbAFXA8SE"
      },
      "id": "hFRLbAFXA8SE"
    },
    {
      "cell_type": "code",
      "source": [
        "# Se convierte el sistema de coordenadas a WGS84 (EPSG:4326), que usa latitud y longitud.\n",
        "gdf_anto_subset = gdf_anto_subset.to_crs(epsg=4326)"
      ],
      "metadata": {
        "id": "loSGvJGfAMqJ"
      },
      "id": "loSGvJGfAMqJ",
      "execution_count": null,
      "outputs": []
    },
    {
      "cell_type": "code",
      "source": [
        "\n",
        "# Se define la resolución H3 que se va a usar (9 en este caso). A mayor número, mayor resolución (celdas más pequeñas)\n",
        "res = 9\n",
        "col = f\"H3_{res}\" #Se crea el nombre de la nueva columna que almacenará los códigos H3.\n",
        "\n",
        "\n",
        "# Se aplica una función a cada fila del GeoDataFrame para calcular el código H3. Se usa latitud (y) y longitud (x) de la geometría del punto.\n",
        "# Se usa h3.latlng_to_cell en lugar de h3.geo_to_h3 por cambios en la versión de la librería, # https://github.com/uber/h3-py/issues/100\n",
        "gdf_anto_subset[col] = gdf_anto_subset.apply(lambda row: str(h3.latlng_to_cell(row.geometry.y, row.geometry.x, res)), axis=1)"
      ],
      "metadata": {
        "id": "htN5maK-AMnH"
      },
      "id": "htN5maK-AMnH",
      "execution_count": null,
      "outputs": []
    },
    {
      "cell_type": "code",
      "source": [
        "# Se visualiza tres filas al azar gdf_anto_subset\n",
        "gdf_anto_subset.sample(3)"
      ],
      "metadata": {
        "id": "syeNiBwSAMiz"
      },
      "id": "syeNiBwSAMiz",
      "execution_count": null,
      "outputs": []
    },
    {
      "cell_type": "code",
      "source": [
        "# Agrupa los datos por el código H3 y suma los valores de las columnas de severidad de accidentes, asi se obtiene el total de accidentes por celda H3.\n",
        "h3_df = gdf_anto_subset.groupby(col)[['Fatalities', 'Serious', 'Less serious', 'Slight']].sum().reset_index()"
      ],
      "metadata": {
        "id": "G54cyEWhAMfr"
      },
      "id": "G54cyEWhAMfr",
      "execution_count": null,
      "outputs": []
    },
    {
      "cell_type": "code",
      "source": [
        "# Se crea una nueva columna 'Total' que representa la suma de todos los tipos de accidentes por celda.\n",
        "h3_df['Total'] = h3_df['Fatalities'] + h3_df['Serious'] + h3_df['Less serious'] + h3_df['Slight']\n",
        "h3_df"
      ],
      "metadata": {
        "id": "v0i4AEPGAMcx"
      },
      "id": "v0i4AEPGAMcx",
      "execution_count": null,
      "outputs": []
    },
    {
      "cell_type": "markdown",
      "source": [
        "Convert to Shapely Polygon"
      ],
      "metadata": {
        "id": "pg8aB1FoGEIr"
      },
      "id": "pg8aB1FoGEIr"
    },
    {
      "cell_type": "code",
      "source": [
        "# Se crea una función llamada 'cell_to_shapely' que toma como entrada un código de celda H3.\n",
        "def cell_to_shapely(cell):\n",
        "    coords = h3.cell_to_boundary(cell) # Obtiene los vértices del hexágono H3 correspondiente a la celda.# H3 library’s h3_to_geo_boundary function (renamed cell_to_boundary in v4.0.0)\n",
        "    flipped = tuple(coord[::-1] for coord in coords) # Se invierte el orden de cada coordenada de (lat, lon) a (lon, lat), que es el formato que espera Shapely.\n",
        "\n",
        "    return Polygon(flipped) # Se crea y devuelve un polígono de Shapely a partir de los vértices del hexágono."
      ],
      "metadata": {
        "id": "vrQtpO1hAMZk"
      },
      "id": "vrQtpO1hAMZk",
      "execution_count": null,
      "outputs": []
    },
    {
      "cell_type": "code",
      "source": [
        "# Se aplica la función 'cell_to_shapely' a cada valor de la columna H3 (códigos hexagonales), asi cada celda H3 se convierte en un polígono de Shapely que representa su forma geográfica.\n",
        "h3_geoms = h3_df[col].apply(lambda x: cell_to_shapely(x))\n",
        "\n",
        "# Se crea un GeoDataFrame a partir del DataFrame 'h3_df', usando los polígonos generados como geometría, indicando el sistema de coordenadas geográficas WGS84 (EPSG:4326).\n",
        "h3_gdf = gpd.GeoDataFrame(data=h3_df, geometry=h3_geoms, crs=4326)"
      ],
      "metadata": {
        "id": "o8T3hMB3AMWU"
      },
      "id": "o8T3hMB3AMWU",
      "execution_count": null,
      "outputs": []
    },
    {
      "cell_type": "code",
      "source": [
        "# Se observan las primeras 5 filas con '.head()'.\n",
        "h3_gdf.head()"
      ],
      "metadata": {
        "id": "QAtLoKtRAMSB"
      },
      "id": "QAtLoKtRAMSB",
      "execution_count": null,
      "outputs": []
    },
    {
      "cell_type": "markdown",
      "source": [
        "## Visualization\n",
        "- Para la visualización, se vuelven a transformar las coordenadas.\n",
        "- La cartografía busca identificar las zonas con más accidentes, y contrastarlas con los accidentes que registraron muertes.\n",
        "- La principal fuente es la documentación de geopandas: https://geopandas.org/en/stable/docs/reference/api/geopandas.GeoDataFrame.plot.html#geopandas.GeoDataFrame.plot"
      ],
      "metadata": {
        "id": "WNksDY45XJHJ"
      },
      "id": "WNksDY45XJHJ"
    },
    {
      "cell_type": "markdown",
      "source": [
        "## Hexágonos"
      ],
      "metadata": {
        "id": "eSbPdnGJXVAT"
      },
      "id": "eSbPdnGJXVAT"
    },
    {
      "cell_type": "code",
      "source": [
        "# Se carga el limite administrativo de la region de Antofagasta y se convierte en un GeoDataFrame llamado gdf_dpa.\n",
        "gdf_dpa = gpd.read_file('https://github.com/rociovald/GEOG5990M_Final/raw/refs/heads/main/Data/2.geojson')"
      ],
      "metadata": {
        "id": "v-XRmiD0cyDr"
      },
      "id": "v-XRmiD0cyDr",
      "execution_count": null,
      "outputs": []
    },
    {
      "cell_type": "code",
      "source": [
        "# Se convierte el sistema de coordenadas de 'gdf_dpa' a UTM zona 19 Sur (EPSG:32719)\n",
        "gdf_dpa = gdf_dpa.to_crs(epsg=32719)\n",
        "h3_gdf = h3_gdf.to_crs(epsg=32719)\n",
        "gdf_anto_subset = gdf_anto_subset.to_crs(epsg=32719)"
      ],
      "metadata": {
        "id": "FphUOT3Jd3Dw"
      },
      "id": "FphUOT3Jd3Dw",
      "execution_count": null,
      "outputs": []
    },
    {
      "cell_type": "code",
      "source": [
        "# Se recorta el GeoDataFrame de hexágonos H3 para que solo incluya los que están dentro del límite de 'gdf_dpa', asi se eliminan hexágonos que están fuera del área de interés.\n",
        "h3_gdf = gpd.clip(h3_gdf, gdf_dpa)"
      ],
      "metadata": {
        "id": "hw_M-1YgKZol"
      },
      "id": "hw_M-1YgKZol",
      "execution_count": null,
      "outputs": []
    },
    {
      "cell_type": "code",
      "source": [
        "# Se Filtra el subconjunto de accidentes para quedarse solo con aquellos que tienen al menos una fatalidad (> 0)\n",
        "gdf_anto_subset_fatal = gdf_anto_subset[gdf_anto_subset['Fatalities'] > 0]"
      ],
      "metadata": {
        "id": "xvJENOEzKcHI"
      },
      "id": "xvJENOEzKcHI",
      "execution_count": null,
      "outputs": []
    },
    {
      "cell_type": "code",
      "source": [
        "# Se visualiza una fila al azar gdf_anto_subset\n",
        "gdf_anto_subset_fatal.sample()"
      ],
      "metadata": {
        "id": "v7W2Dky3eOBJ"
      },
      "id": "v7W2Dky3eOBJ",
      "execution_count": null,
      "outputs": []
    },
    {
      "cell_type": "markdown",
      "source": [
        "Se usa `pd.explore`\n",
        "- Fuente: https://stackoverflow.com/questions/73767559/geopandas-explore-how-to-plot-more-than-one-layer"
      ],
      "metadata": {
        "id": "H1z8DwEgYdpn"
      },
      "id": "H1z8DwEgYdpn"
    },
    {
      "cell_type": "code",
      "source": [
        "# Se crea un mapa interactivo con la capa de hexágonos H3, usando '.explore'.\n",
        "# Cada hexágono se colorea según la columna 'Total' usando una paleta de colores azules\n",
        "# Se le asigna el nombre 'Total accidents' para el control de capas\n",
        "m = h3_gdf.explore('Total', cmap='Blues', name='Total accidents')\n",
        "\n",
        "\n",
        "# Se añade al mismo mapa (m) una segunda capa con los puntos de accidentes fatales, que se dibujan en color rojo y se etiquetan como 'Fatal accidents'.\n",
        "m = gdf_anto_subset_fatal.explore(m=m, name='Fatal accidents', color='red')\n",
        "folium.LayerControl().add_to(m)\n",
        "\n",
        "# Se muestra el mapa interactivo.\n",
        "m\n"
      ],
      "metadata": {
        "id": "q3jf7yILYm35"
      },
      "id": "q3jf7yILYm35",
      "execution_count": null,
      "outputs": []
    },
    {
      "cell_type": "markdown",
      "source": [
        "Ahora se lleva la visualización anterior a un mapa estático"
      ],
      "metadata": {
        "id": "MyeKg-zsYqTp"
      },
      "id": "MyeKg-zsYqTp"
    },
    {
      "cell_type": "code",
      "source": [
        "# Se dibuja el mapa base con los limites administrativos (gdf_dpa).\n",
        "base = gdf_dpa.plot(color='lightgrey', # The fill colour is chosen.\n",
        "                    edgecolor='black', # The colour of the contour line of the regions is chosen.\n",
        "                    linewidth=0.5,     # Grosor de la línea del borde.\n",
        "                    figsize=(10, 15))  # Tamaño de la figura (ancho x alto)\n",
        "\n",
        "\n",
        "# Se sagrega una capa con datos de accidentes totales por área (h3_gdf).\n",
        "h3_gdf.plot(ax=base,         # Se dibuja sobre el mapa base.\n",
        "            column='Total',  # Columna que se usará para colorear.\n",
        "            cmap='Blues',    # Paleta de colores (azules).\n",
        "            legend=True,     # Se muestra la leyenda.\n",
        "            legend_kwds={'label': 'Total accidents by area'})  # Etiqueta de la leyenda.\n",
        "\n",
        "\n",
        "\n",
        "# Se superpone otra capa con accidentes fatales (gdf_anto_subset_fatal).\n",
        "gdf_anto_subset_fatal.plot('Commune',                                     # Es necesario agregar una columna para mostrar la legenda.\n",
        "                             ax=base,                                     # Se dibuja sobre el mismo mapa base.\n",
        "                             marker='.',                                  # Tipo de marcador (punto).\n",
        "                             cmap='autumn',                               # Se asigna un cmap, ya que, al ingresar el parámetro color se pierde la legenda.\n",
        "                             legend=True,                                 # Se muestra la leyenda\n",
        "                             legend_kwds={'labels': ['fatal accidents']}) # se renombra la legenda\n",
        "\n",
        "\n",
        "# Configuración de los ejes del gráfico.\n",
        "base.tick_params(axis='both',   # specifies that the changes will be applied to both axis\n",
        "                 which='major', # indicates that the changes will be applied to the major ticks\n",
        "                 labelsize=8,   # the font size of the mark labels\n",
        "                 colors='grey') # Color de las etiquetas\n",
        "\n",
        "\n",
        "# Se establecen los límites del gráfico (coordenadas).\n",
        "base.set_xlim((xmin, xmax))   # Límite horizontal (x).\n",
        "base.set_ylim((ymin, ymax))   # Límite vertical (y).\n",
        "\n",
        "\n",
        "# Eliminates scientific coordinate notation.\n",
        "base.ticklabel_format(style='plain')\n",
        "\n",
        "\n",
        "# Se agrega un título al gráfico\n",
        "plt.title('Total accidents versus fatal accidents',\n",
        "          fontdict={'fontsize': '15',    # Sets the font size of the label to 15.\n",
        "                    'fontweight' : '3'}) # Grosor de fuente.\n",
        "\n",
        "# The following code follows the model of class 6 of this course, in ‘Week_6_Python_as_a_GIS.ipynb’.\n",
        "# add a North arrow (look at the documentation here: https://github.com/pmdscully/geo_northarrow)\n",
        "add_north_arrow(ax=base,\n",
        "                scale=.30, # a value of 0.55 means that the arrow will be reduced to 55% of its original size\n",
        "                xlim_pos=0.1, # it the horizontal position of the north arrow on the chart\n",
        "                ylim_pos=.95, # is the vertical position of the north arrow on the chart\n",
        "                color='#000', # the colour of the arrow is set, #000’ is the hex code for the colour black\n",
        "                text_scaler=2, # doubles the size of the text (=2)\n",
        "                text_yT=-1.45) # is the vertical position of the text\n",
        "\n",
        "# The following line of code was obtained from the following source, modifying the xy parameters for its position: https://medium.com/@alex_44314/use-python-geopandas-to-make-a-us-map-with-alaska-and-hawaii-39a9f5c222c6\n",
        "base.annotate('''\n",
        "Data Source: Comisión Nacional de Seguridad de Tránsito (2019-2022),\n",
        "Subsecretaria de Desarrollo Regional y Administrativo (2023).\n",
        "Projection: WGS 1984 UTM 19 Sur.''',\n",
        "              xy=(0.02, 0.01),  # The xy parameter is manually modified to adjust its position.\n",
        "              xycoords='axes fraction', # Is linked to the xy position\n",
        "              fontsize=8) # The font size is adjusted\n",
        "\n",
        "\n",
        "# Volver a dibujar los bordes de gdf_dpa encima de todo\n",
        "gdf_dpa.boundary.plot(ax=base, edgecolor='black', linewidth=0.5)  # ESTA LINEA S ELE PREGUNTÓ A COPILOT PORQUE SIN ELLA SE VEIA QUE LAS CAPAS (h3_gdf y gdf_anto_subset_fatal) CUBRIAN A gdf_dpa (que representa los límites territoriales con borde negro)\n",
        "                                                                  # pOR LO QUE SE VOLVIÓ A LLAMAR. EL POMPT FUE ESTE: Indicame como se puede visualizar una capa por encima de las demas, con el proposito de que se vea su contorno? 16 de mayo.\n",
        "\n",
        "\n",
        "# Se ajustna automáticamente los elementos del gráfico para que no se sobrepongan.\n",
        "plt.tight_layout()"
      ],
      "metadata": {
        "id": "9CD1gDu5ceGM"
      },
      "id": "9CD1gDu5ceGM",
      "execution_count": null,
      "outputs": []
    },
    {
      "cell_type": "code",
      "source": [
        "#base = h3_gdf.plot('Total', cmap='Blues', figsize=(10, 15))\n",
        "#gdf_anto_subset_fatal.plot(ax=base, marker='.', c='r')\n",
        "#plt.title('Total accidents versus fatalities')"
      ],
      "metadata": {
        "id": "ANpalQQsAMG-"
      },
      "id": "ANpalQQsAMG-",
      "execution_count": null,
      "outputs": []
    },
    {
      "cell_type": "markdown",
      "source": [
        "Ahora que ya tenemos la distribución de los accidentes por hexágonos vamos a revisar si existe una correlación espacial usando el indice de Moran Global y el indice local."
      ],
      "metadata": {
        "id": "OQE6dvakZHq4"
      },
      "id": "OQE6dvakZHq4"
    },
    {
      "cell_type": "markdown",
      "source": [
        "##Índice de Moran\n"
      ],
      "metadata": {
        "id": "11YxrDd_Zk0w"
      },
      "id": "11YxrDd_Zk0w"
    },
    {
      "cell_type": "markdown",
      "source": [
        "- Fuente: https://nbviewer.org/github/pysal/splot/blob/main/notebooks/esda_morans_viz.ipynb"
      ],
      "metadata": {
        "id": "DHNHMxENZr3h"
      },
      "id": "DHNHMxENZr3h"
    },
    {
      "cell_type": "code",
      "source": [
        "!pip install splot\n",
        "\n",
        "!pip install esda"
      ],
      "metadata": {
        "id": "Wwnt7ZHNZ92T"
      },
      "id": "Wwnt7ZHNZ92T",
      "execution_count": null,
      "outputs": []
    },
    {
      "cell_type": "code",
      "source": [
        "from esda.moran import Moran                    # Importar la clase Moran para calcular el índice de autocorrelación espacial global.\n",
        "from libpysal.weights.contiguity import Queen   # Importar el método Queen para generar una matriz de pesos espaciales basada en contigüidad.\n",
        "from splot.esda import moran_scatterplot        # Importar la función para graficar el diagrama de dispersión de Moran.\n",
        "from splot.esda import plot_moran\n",
        "from esda.moran import Moran_Local\n",
        "from splot.esda import lisa_cluster\n"
      ],
      "metadata": {
        "id": "a_AgH7bjKX23"
      },
      "id": "a_AgH7bjKX23",
      "execution_count": null,
      "outputs": []
    },
    {
      "cell_type": "markdown",
      "source": [
        "##Índice de Moran Global"
      ],
      "metadata": {
        "id": "KFzgGYRdaV41"
      },
      "id": "KFzgGYRdaV41"
    },
    {
      "cell_type": "code",
      "source": [
        "total = h3_gdf['Total'].values                    # Extraer los valores de la columna 'Total' del GeoDataFrame h3_gdf.\n",
        "w = Queen.from_dataframe(h3_gdf, use_index=False) # Crear una matriz de pesos espaciales tipo Queen (vecinos que comparten borde o vértice).\n",
        "w.transform = 'r'                                 # Normalizar los pesos para que cada fila sume 1 (esto es recomendado para el índice de Moran).\n"
      ],
      "metadata": {
        "id": "CGRbcvKvM9ab"
      },
      "id": "CGRbcvKvM9ab",
      "execution_count": null,
      "outputs": []
    },
    {
      "cell_type": "code",
      "source": [
        "w = Queen.from_dataframe(h3_gdf, use_index=False) # Crea una matriz de vecinos espaciales (tipo Reina) a partir del GeoDataFrame.\n",
        "moran = Moran(total, w)                           # Calcular el índice de Moran global usando los valores de 'Total' y la matriz de pesos.\n",
        "\n",
        "\n",
        "moran.I                                           # Devuelve el valor del índice de Moran (mide la autocorrelación espacial)."
      ],
      "metadata": {
        "id": "ve2prc4jM9T7"
      },
      "id": "ve2prc4jM9T7",
      "execution_count": null,
      "outputs": []
    },
    {
      "cell_type": "code",
      "source": [
        "fig, ax = moran_scatterplot(moran, aspect_equal=True)   # Crear el gráfico de dispersión de Moran (valores originales vs. valores espacialmente promediados).\n"
      ],
      "metadata": {
        "id": "WBP14fveM9NN"
      },
      "id": "WBP14fveM9NN",
      "execution_count": null,
      "outputs": []
    },
    {
      "cell_type": "markdown",
      "source": [
        "En el grafico anterior se observa un Indice de Moran de 0.4, lo cual representa una autocorrelacion espacial positiva moderada, esto quiere decir que los valores altos son similares entre si, lo mismo ocurre con los valores bajos, y tienden a agruparse en el espacio.\n",
        "En el eje x se presentan los valores estandarizados del numero de accidentes. Mientras que en el eje y se observa el rezago espacial de esos valores, esto es el promedio ponderado de los valores en las areas vecinas.\n",
        "La regresion lineal se presenta en la linea roja, es positiva, confirmando al autocorrelacion positiva.\n",
        "EL grafico sugiere que existe un patron espacial en los datos, en que las areas con mayor numero de accidentes tienden a estra cerca de otras con similares caracteristicas, lo mismo sucede con las zonas con pocos accidentes."
      ],
      "metadata": {
        "id": "iZcbmIHWnvsR"
      },
      "id": "iZcbmIHWnvsR"
    },
    {
      "cell_type": "code",
      "source": [
        "plot_moran(moran, zstandard=True, figsize=(10,4)) # Se dibuja el gráfico de Moran estandarizado (valores z), con tamaño personalizado.\n",
        "plt.show()                                        # Muestra el gráfico en pantalla.\n"
      ],
      "metadata": {
        "id": "213LHyA8ardJ"
      },
      "id": "213LHyA8ardJ",
      "execution_count": null,
      "outputs": []
    },
    {
      "cell_type": "code",
      "source": [
        "moran.p_sim"
      ],
      "metadata": {
        "id": "PYLY0VBUarIk"
      },
      "id": "PYLY0VBUarIk",
      "execution_count": null,
      "outputs": []
    },
    {
      "cell_type": "markdown",
      "source": [
        "El histograma muestra una distribucion normal de los datos. En color rojo de muestra el indice de Moran (0.4). Se aprecia que el valor observado esta desplazado hacia la derecha de la distribucion simulada, lo cual indica que existe una autocorrelacion espacial positiva significativa, esto quiere decir que los valores similares tienden a agruparse geograficamente.\n",
        "\n",
        "El scaterrplot es el mismo que se muestra previamnete, reforzando la misma idea que lo que muetsra el histograma."
      ],
      "metadata": {
        "id": "Rg5SMPeMpUVq"
      },
      "id": "Rg5SMPeMpUVq"
    },
    {
      "cell_type": "markdown",
      "source": [
        "## índice de Mora Local"
      ],
      "metadata": {
        "id": "LPt-g6OkaxGg"
      },
      "id": "LPt-g6OkaxGg"
    },
    {
      "cell_type": "code",
      "source": [
        "# Se calcula el índice de Moran Local (LISA) para cada observación del GeoDataFrame, esto permite identificar agrupamientos locales de valores altos o bajos.\n",
        "moran_loc = Moran_Local(total, w)\n",
        "fig, ax = moran_scatterplot(moran_loc, zstandard=True)  # Se crea un gráfico de dispersión de Moran usando los valores locales.\n",
        "                                                        # zstandard=True estandariza los valores para facilitar la interpretación.\n",
        "\n",
        "ax.set_xlabel('Total')                  # Se etiqueta el eje X con el nombre de la variable original.\n",
        "ax.set_ylabel('Spatial Lag of total')   # Se etiqueta el eje Y con el nombre del rezago espacial de la variable.\n",
        "plt.show()                              # Se muestra el grafico."
      ],
      "metadata": {
        "id": "8H2G-aImaq-K"
      },
      "id": "8H2G-aImaq-K",
      "execution_count": null,
      "outputs": []
    },
    {
      "cell_type": "code",
      "source": [
        "# Se genera el gráfico de dispersión de Moran Local (LISA), resaltando los puntos con significancia estadística (p < 0.05),lo que permite identificar agrupamientos locales relevantes.\n",
        "fig, ax = moran_scatterplot(moran_loc, p=0.05)\n",
        "ax.set_xlabel('Total')                # Etiqueta del eje x.\n",
        "ax.set_ylabel('Spatial Lag of Total') # Etiqueta del eje y.\n",
        "plt.show()                            # Se muestra el grafico."
      ],
      "metadata": {
        "id": "VxGPZCyMa4lS"
      },
      "id": "VxGPZCyMa4lS",
      "execution_count": null,
      "outputs": []
    },
    {
      "cell_type": "markdown",
      "source": [
        "En el grafico anterior en el eje x 'Total' se presentan los valores estandarizados del numero de accidentes de transito. Mientras que en el eje y 'Spatial Lag of Total' representa al rezago espacial.\n",
        "En color rojo y azul son observaciones estadisticamente signifcicativas (p < 0.05), formando parte del cluster. Los puntos grises no son estadisticamente significativos, podrian ser producto del azar. Sin embargo los puntos celestes y naranjas representan zonas atipicas. La linea negra muestra la tendencia entre ambas variables.\n",
        "\n",
        "Para la correcta interpretacion del grafico es necesario observar sus cuadrantes:\n",
        "* Alto-Alto (High-High): Valores altos rodeados de valores altos, son posibles clústeres de riesgo.\n",
        "* Bajo-Bajo (Low-Low): Valores bajos rodeados de valores bajos, son zonas homogéneamente seguras.\n",
        "* Alto-Bajo (High-Low): Valor alto rodeado de valores bajos, son posible outlier espacial.\n",
        "* Bajo-Alto (Low-High): Valor bajo rodeado de valores altos, son otro tipo de outlier.\n",
        "\n",
        "AQUI PUEDO VER A TRUFFELLO O CITAR OTRA COSA"
      ],
      "metadata": {
        "id": "2zZQVIVmwK1P"
      },
      "id": "2zZQVIVmwK1P"
    },
    {
      "cell_type": "code",
      "source": [
        "# Se dibuja el mapa base con los límites administrativos (gdf_dpa).\n",
        "base = gdf_dpa.plot(color='White',      # The fill colour is chosen\n",
        "                    edgecolor='black',  # The colour of the contour line of the regions is chosen\n",
        "                    linewidth=0.5,      # Grosor de la línea del borde\n",
        "                    figsize=(10, 15))   # Tamaño de la figura (ancho x alto)\n",
        "\n",
        "\n",
        "# Se superpone el resultado del análisis LISA sobre el mapa base.\n",
        "# Solo se muestran los clústeres estadísticamente significativos (p < 0.05).\n",
        "lisa_cluster(moran_loc, h3_gdf, p=0.05, ax=base, figsize = (10, 15))\n",
        "\n",
        "\n",
        "# Se ajusta el límite horizontal del mapa para enfocar la comuna de Antofagasta.\n",
        "base.set_xlim((xmin, xmax))\n",
        "\n",
        "# Se ajusta el límite vertical del mapa para enfocar la comuna de Antofagasta.\n",
        "base.set_ylim((ymin, ymax))"
      ],
      "metadata": {
        "id": "N5sa1mXua4WK"
      },
      "id": "N5sa1mXua4WK",
      "execution_count": null,
      "outputs": []
    },
    {
      "cell_type": "code",
      "source": [],
      "metadata": {
        "id": "wXpip_E8aqwl"
      },
      "id": "wXpip_E8aqwl",
      "execution_count": null,
      "outputs": []
    },
    {
      "cell_type": "code",
      "source": [],
      "metadata": {
        "id": "1ylPXfOzjVu2"
      },
      "id": "1ylPXfOzjVu2",
      "execution_count": null,
      "outputs": []
    },
    {
      "cell_type": "code",
      "source": [
        "# creación de clusters\n",
        "#years = [2019, 2020, 2021, 2022]\n",
        "#gdfs_all = [gdfs_all[gdfs_all['Year'] == y] for y in years]\n",
        "#gdf_2019, gdf_2020, gdf_2021, gdf_2022 = gdfs_all"
      ],
      "metadata": {
        "id": "Bt-rjuiVFuzx"
      },
      "id": "Bt-rjuiVFuzx",
      "execution_count": null,
      "outputs": []
    },
    {
      "cell_type": "code",
      "source": [],
      "metadata": {
        "id": "z9MaVwKteO0A"
      },
      "id": "z9MaVwKteO0A",
      "execution_count": null,
      "outputs": []
    },
    {
      "cell_type": "code",
      "source": [
        "# Ensure that the indices are unique before concatenating\n",
        "#for gdf in [gdfs_2019_utm, gdfs_2020_utm, gdfs_2021_utm, gdfs_2022_utm]:\n",
        "    #gdf.reset_index(drop=True, inplace=True)"
      ],
      "metadata": {
        "id": "vRpv78H-LYnL"
      },
      "id": "vRpv78H-LYnL",
      "execution_count": null,
      "outputs": []
    },
    {
      "cell_type": "code",
      "source": [
        "# Concatenate the GeoDataFrames into a single GeoDataFrame\n",
        "#gdf_combined = gpd.GeoDataFrame(pd.concat([gdfs_2019_utm, gdfs_2020_utm, gdfs_2021_utm, gdfs_2022_utm], ignore_index=True))\n",
        "\n",
        "# Print the resulting GeoDataFrame\n",
        "#print(gdf_combined)"
      ],
      "metadata": {
        "id": "ujiE6S4aLyfv"
      },
      "execution_count": null,
      "outputs": [],
      "id": "ujiE6S4aLyfv"
    },
    {
      "cell_type": "code",
      "source": [
        "# Verificar y renombrar columnas, seleccionar columnas específicas para cada GeoDataFrame\n",
        "#gdfs_renamed = []\n",
        "#for gdf in gdfs:\n",
        "    # Verificar si las columnas a renombrar existen en el GeoDataFrame\n",
        "    #missing_columns = [col for col in renames.keys() if col not in gdf.columns]\n",
        "    #if missing_columns:\n",
        "        #print(f\"Columnas faltantes en el GeoDataFrame: {missing_columns}\")\n",
        "    #else:\n",
        "        #gdf_renamed = gdf.rename(columns=renames)\n",
        "        # Verificar si las columnas seleccionadas existen después de renombrar\n",
        "        #missing_select_columns = [col for col in select if col not in gdf_renamed.columns]\n",
        "        #if missing_select_columns:\n",
        "            #print(f\"Columnas seleccionadas faltantes después de renombrar: {missing_select_columns}\")\n",
        "        #else:\n",
        "            #gdfs_renamed.append(gdf_renamed[select])\n"
      ],
      "metadata": {
        "id": "iDKo50ignfwi"
      },
      "id": "iDKo50ignfwi",
      "execution_count": null,
      "outputs": []
    },
    {
      "cell_type": "code",
      "source": [
        "# Asegurarse de que los índices sean únicos antes de concatenar\n",
        "#for gdf in gdfs_renamed:\n",
        "    #gdf.reset_index(drop=True, inplace=True)\n"
      ],
      "metadata": {
        "id": "8G0VVG8Yn0Ds"
      },
      "id": "8G0VVG8Yn0Ds",
      "execution_count": null,
      "outputs": []
    },
    {
      "cell_type": "code",
      "source": [
        "#gdfs_2022_utm.dtypes"
      ],
      "metadata": {
        "id": "wyp6pJRuqEUF"
      },
      "id": "wyp6pJRuqEUF",
      "execution_count": null,
      "outputs": []
    },
    {
      "cell_type": "code",
      "source": [
        "#gdfs_2019_utm.sample()"
      ],
      "metadata": {
        "id": "b5tFS5wOqKpD"
      },
      "id": "b5tFS5wOqKpD",
      "execution_count": null,
      "outputs": []
    },
    {
      "cell_type": "code",
      "source": [
        "#gdfs_2019_utm.info()"
      ],
      "metadata": {
        "id": "5a-qnOY4s55F"
      },
      "id": "5a-qnOY4s55F",
      "execution_count": null,
      "outputs": []
    },
    {
      "cell_type": "code",
      "source": [
        "# Concatenar los GeoDataFrames en un solo GeoDataFrame\n",
        "#gdf = gpd.GeoDataFrame(pd.concat(gdfs_renamed, ignore_index=True))"
      ],
      "metadata": {
        "id": "tBJVSeVtvuqq"
      },
      "id": "tBJVSeVtvuqq",
      "execution_count": null,
      "outputs": []
    },
    {
      "cell_type": "code",
      "source": [],
      "metadata": {
        "id": "yB6u_2b6vTXk"
      },
      "id": "yB6u_2b6vTXk",
      "execution_count": null,
      "outputs": []
    },
    {
      "cell_type": "markdown",
      "source": [
        "## De aquí para abajo es el codigo de la clase 41 del diplomado (quiero replicar este análisis con los datos de Antofagasta)"
      ],
      "metadata": {
        "id": "uzN954-wMYoC"
      },
      "id": "uzN954-wMYoC"
    },
    {
      "cell_type": "code",
      "execution_count": null,
      "id": "bab3c8c4",
      "metadata": {
        "id": "bab3c8c4"
      },
      "outputs": [],
      "source": [
        "gdf.sample(12)"
      ]
    },
    {
      "cell_type": "code",
      "execution_count": null,
      "id": "6c1638e6",
      "metadata": {
        "id": "6c1638e6"
      },
      "outputs": [],
      "source": [
        "#Identificar las comunas\n",
        "comunas = np.sort(gdf['Comuna'].unique())\n",
        "comunas"
      ]
    },
    {
      "cell_type": "code",
      "execution_count": null,
      "id": "02c4af80",
      "metadata": {
        "id": "02c4af80"
      },
      "outputs": [],
      "source": [
        "# cambio de nombre columnas\n",
        "df.replace({'PEÃ‘ALOLEN': 'PEÑALOLEN',\n",
        "             'PENALOLEN': 'PEÑALOLEN',\n",
        "             'PENAFLOR': 'PEÑAFLOR',\n",
        "             'QUINTA NORMA': 'QUINTA NORMAL',\n",
        "             'Ã‘UÃ‘OA': 'ÑUÑOA'}, inplace=True)"
      ]
    },
    {
      "cell_type": "code",
      "execution_count": null,
      "id": "16b2fb39",
      "metadata": {
        "id": "16b2fb39"
      },
      "outputs": [],
      "source": [
        "# Calcular accidentes por año\n",
        "accidentes_por_año = gdf.groupby('Año')['Accidentes'].sum().reset_index()\n",
        "\n",
        "# Gráfico con la cantidad de accidentes en los años 2019, 2020, 2021 y 2022\n",
        "plt.figure(figsize=(10, 5))  # Ajustar el tamaño del gráfico si es necesario\n",
        "sns.lineplot(x='Año', y='Accidentes', data=accidentes_por_año, marker='o')\n",
        "plt.xlabel('Año')\n",
        "plt.ylabel('Número de Accidentes')\n",
        "plt.title('Accidentes por Año')\n",
        "plt.show()"
      ]
    },
    {
      "cell_type": "code",
      "execution_count": null,
      "id": "97f928e3",
      "metadata": {
        "id": "97f928e3"
      },
      "outputs": [],
      "source": [
        "gdf.groupby('Año')[['Fallecidos', 'Graves', 'Menos_Grav', 'Leves']].sum()"
      ]
    },
    {
      "cell_type": "code",
      "execution_count": null,
      "id": "b8632e8d",
      "metadata": {
        "id": "b8632e8d"
      },
      "outputs": [],
      "source": [
        "acc_comunas = gdf.groupby('Comuna')['Accidentes'].sum()\n",
        "acc_comunas"
      ]
    },
    {
      "cell_type": "code",
      "execution_count": null,
      "id": "52523273",
      "metadata": {
        "scrolled": true,
        "id": "52523273"
      },
      "outputs": [],
      "source": [
        "# se crea un gráfico con las comunas y la cantidad de accidentes\n",
        "plt.figure(figsize=(20, 10))\n",
        "sns.barplot(x=acc_comunas.sort_values().values, y=acc_comunas.sort_values().index, orient='h')\n",
        "plt.xlabel('Número de Accidentes')\n",
        "plt.ylabel('Comuna')\n",
        "plt.title('Accidentes por Comuna')\n",
        "plt.show()"
      ]
    },
    {
      "cell_type": "markdown",
      "id": "c912fdc2",
      "metadata": {
        "id": "c912fdc2"
      },
      "source": [
        "### Analizando la totalidad de los datos, las comunas de Punete Alto, Santiago y Providencia son las que registran la mayor cantidad de accidentes."
      ]
    },
    {
      "cell_type": "code",
      "execution_count": null,
      "id": "56a96f4d",
      "metadata": {
        "scrolled": true,
        "id": "56a96f4d"
      },
      "outputs": [],
      "source": [
        "gdf.groupby(['Comuna', 'Año'])['Accidentes'].sum().unstack().style.background_gradient()"
      ]
    },
    {
      "cell_type": "markdown",
      "id": "45199877",
      "metadata": {
        "id": "45199877"
      },
      "source": [
        "### Desagregando los accidentes por año, en el 2019 la mayoría se concentraron en la comuna de Puente Alto (812), seguido por Maipú (732). En el 2020, la cantidad de accidentes disminuyó a más de la mitad, siendo la comuna de Santiago la que concentró una mayor cantidad (384), en este año evidentemente la disminución se debe al efecto de la pandemia en la movildiad de las personas. En el año 2021, Santiago vuelve a tener el mayor registro de accidentes (497), seguido por Puente Alto (475). Mientras que en el año 2022, Puente Alto concentró la mayor cifra de accidentes (446), seguido por Providencia (318)."
      ]
    },
    {
      "cell_type": "code",
      "execution_count": null,
      "id": "da4c3350",
      "metadata": {
        "id": "da4c3350"
      },
      "outputs": [],
      "source": [
        "# creación de clusters\n",
        "years = [2019, 2020, 2021, 2022]\n",
        "gdfs = [gdf[gdf['Año'] == y] for y in years]\n",
        "gdf_2019, gdf_2020, gdf_2021, gdf_2022 = gdfs"
      ]
    },
    {
      "cell_type": "code",
      "execution_count": null,
      "id": "ac0b5974",
      "metadata": {
        "id": "ac0b5974"
      },
      "outputs": [],
      "source": [
        "# Se aplica el método del codo para definir el número óptimo de clusters para cada año. Para los cuatro años\n",
        "# el número de clusters es 4.\n",
        "\n",
        "fig, axs = plt.subplots(2, 2, figsize=(10, 10))\n",
        "axs = axs.flatten()\n",
        "for i, gdf in enumerate(gdfs):\n",
        "    x = gdf.get_coordinates()\n",
        "\n",
        "    range_n_clusters = range(1, 15)\n",
        "    inertias = []\n",
        "\n",
        "    for n_clusters in range_n_clusters:\n",
        "        modelo_kmeans = KMeans(\n",
        "                            n_clusters   = n_clusters,\n",
        "                            n_init       = 20,\n",
        "                            random_state = 123\n",
        "                        )\n",
        "        modelo_kmeans.fit(x)\n",
        "        inertias.append(modelo_kmeans.inertia_)\n",
        "\n",
        "    axs[i].plot(range_n_clusters, inertias, marker='o')\n",
        "    axs[i].set_title(years[i])\n",
        "    axs[i].set_xlabel('Número clusters')\n",
        "    axs[i].set_ylabel('Score')\n",
        "    axs[i].axvline(4, color='k', ls=\"dotted\");\n"
      ]
    },
    {
      "cell_type": "code",
      "execution_count": null,
      "id": "a3b136ab",
      "metadata": {
        "id": "a3b136ab"
      },
      "outputs": [],
      "source": [
        "# Se calcula el modelo K-means, integrando lo obtenido al aplicar el método del codo (4 clusters)\n",
        "clusters = []\n",
        "for i, gdf in enumerate(gdfs):\n",
        "    x = gdf.get_coordinates()\n",
        "\n",
        "    modelo = KMeans(n_clusters=4)\n",
        "    y_kmeans = modelo.fit_predict(x)\n",
        "\n",
        "    clusters.append(y_kmeans)\n",
        "    print(len(y_kmeans))"
      ]
    },
    {
      "cell_type": "markdown",
      "source": [
        "## References\n",
        "<p><a href=\"https://mapas-conaset.opendata.arcgis.com/datasets/50c493754b5d434c8a1c44b96a6e6e44_0/explore?location=-23.708570%2C-69.342709%2C7.95\">[1]</a>Comision Nacional de Seguridad de Transito [CONASET]. 2021. Siniestros de tránsito, región de Antofagasta, Chile, 2019. [Online]. [Accessed 5 May 2025].</p>\n",
        "<p><a href=\"https://www.google.com/url?q=https%3A%2F%2Fmapas-conaset.opendata.arcgis.com%2Fdatasets%2F5169f61c547e4be9acbc8c4a7b778821_0%2Fexplore%3Flocation%3D-23.708640%252C-69.339105%252C7.95\">[2]</a>Comision Nacional de Seguridad de Transito [CONASET]. 2024. 2020 - Antofagasta - Siniestros Individuales. [Online]. [Accessed 5 May 2025].</p>\n",
        "<p><a href=\"https://www.google.com/url?q=https%3A%2F%2Fmapas-conaset.opendata.arcgis.com%2Fdatasets%2F66fa006d1ea04129965d500b82247352_0%2Fexplore%3Flocation%3D-23.397157%252C-69.345849%252C7.76\">[3]</a>Comision Nacional de Seguridad de Transito [CONASET]. 2024. 2021 - Antofagasta - Siniestros Individuales. [Online]. [Accessed 5 May 2025].</p>\n",
        "<p><a href=\"https://mapas-conaset.opendata.arcgis.com/datasets/5ce75f6238ac4d89ad4a00969a0fbaaf_0/about\">[4]</a>Comision Nacional de Seguridad de Transito [CONASET]. 2024. 2022- Antofagasta - Siniestros Individuales. [Online]. [Accessed 5 May 2025].</p>\n",
        "<p><a href=\"https://stackoverflow.com/questions/14984119/python-pandas-remove-duplicate-columns\">[5]</a>Stack Overflow. 2013. Python pandas remove duplicate columns. [Online]. [Accessed 6 May 2025].</p>\n",
        "<p><a href=\"https://www.storytellingwithdata.com/blog/2022/1/21/which-bar-orientation-should-i-use\">[6]</a>Esselman, A. 2021. Which bar chart orientation should I use? [Online]. [Accessed 7 May 2025].</p>\n",
        "<p><a href=\"https://seaborn.pydata.org/tutorial/color_palettes.html\">[7]</a>Seaborn. 2024. Choosing color palettes. [Online]. [Accessed 7 May 2025].</p>\n",
        "<p><a href=\"https://stackoverflow.com/questions/25239933/how-to-add-a-title-to-each-subplot\">[8]</a> Stack Overflow. 2015. How to add a title to each subplot. [Online]. [Accessed 8 May 2025].</p>\n",
        "\n",
        "\n",
        "<p><a href=\"https://github.com/FrancescaPontin/GEOG5990\">[2]</a>GEOG5990M course materials</p>\n",
        "<p><a href=\"add_url_here\">[3]</a>Citation 3</p>"
      ],
      "metadata": {
        "id": "O_aLyoSCf50l"
      },
      "id": "O_aLyoSCf50l"
    }
  ],
  "metadata": {
    "kernelspec": {
      "display_name": "Python 3 (ipykernel)",
      "language": "python",
      "name": "python3"
    },
    "language_info": {
      "codemirror_mode": {
        "name": "ipython",
        "version": 3
      },
      "file_extension": ".py",
      "mimetype": "text/x-python",
      "name": "python",
      "nbconvert_exporter": "python",
      "pygments_lexer": "ipython3",
      "version": "3.11.0"
    },
    "colab": {
      "provenance": [],
      "include_colab_link": true
    }
  },
  "nbformat": 4,
  "nbformat_minor": 5
}