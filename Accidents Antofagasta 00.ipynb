{
  "cells": [
    {
      "cell_type": "markdown",
      "metadata": {
        "id": "view-in-github",
        "colab_type": "text"
      },
      "source": [
        "<a href=\"https://colab.research.google.com/github/rociovald/GEOG5990M_Final/blob/main/Accidents%20Antofagasta%2000.ipynb\" target=\"_parent\"><img src=\"https://colab.research.google.com/assets/colab-badge.svg\" alt=\"Open In Colab\"/></a>"
      ]
    },
    {
      "cell_type": "markdown",
      "source": [
        "# GEOG5990M Final Assignment\n",
        "\n",
        "Student ID number: 201773481"
      ],
      "metadata": {
        "id": "d-QKK8r0ffg7"
      },
      "id": "d-QKK8r0ffg7"
    },
    {
      "cell_type": "markdown",
      "source": [
        "## **Import required packages and libraries**"
      ],
      "metadata": {
        "id": "CZ9pWuGexnIG"
      },
      "id": "CZ9pWuGexnIG"
    },
    {
      "cell_type": "code",
      "source": [
        "##  The following packages are installed  #ESTO LO SAQUÉ EL ASSIGNMNET 1\n",
        "!pip install contextily  # This installs the contextily library.  It is helpful for displaying geographic data on maps.\n",
        "!pip install geoplot     # This installs the geoplot library. It is useful for working with geospatial data, in maps and data visualisation.\n",
        "!pip install git+https://github.com/pmdscully/geo_northarrow.git   # This installs the geo_northarrow library which connects to a GitHub repository containing north arrows.\n",
        "!pip install folium\n",
        "!pip install h3\n",
        "!pip install geoplot\n"
      ],
      "metadata": {
        "colab": {
          "base_uri": "https://localhost:8080/"
        },
        "id": "XqGHNAENR3Gn",
        "outputId": "bc388671-997b-426d-fc2f-e60eb0db8627"
      },
      "id": "XqGHNAENR3Gn",
      "execution_count": null,
      "outputs": [
        {
          "output_type": "stream",
          "name": "stdout",
          "text": [
            "Requirement already satisfied: contextily in /usr/local/lib/python3.11/dist-packages (1.6.2)\n",
            "Requirement already satisfied: geopy in /usr/local/lib/python3.11/dist-packages (from contextily) (2.4.1)\n",
            "Requirement already satisfied: matplotlib in /usr/local/lib/python3.11/dist-packages (from contextily) (3.10.0)\n",
            "Requirement already satisfied: mercantile in /usr/local/lib/python3.11/dist-packages (from contextily) (1.2.1)\n",
            "Requirement already satisfied: pillow in /usr/local/lib/python3.11/dist-packages (from contextily) (11.2.1)\n",
            "Requirement already satisfied: rasterio in /usr/local/lib/python3.11/dist-packages (from contextily) (1.4.3)\n",
            "Requirement already satisfied: requests in /usr/local/lib/python3.11/dist-packages (from contextily) (2.32.3)\n",
            "Requirement already satisfied: joblib in /usr/local/lib/python3.11/dist-packages (from contextily) (1.5.0)\n",
            "Requirement already satisfied: xyzservices in /usr/local/lib/python3.11/dist-packages (from contextily) (2025.4.0)\n",
            "Requirement already satisfied: geographiclib<3,>=1.52 in /usr/local/lib/python3.11/dist-packages (from geopy->contextily) (2.0)\n",
            "Requirement already satisfied: contourpy>=1.0.1 in /usr/local/lib/python3.11/dist-packages (from matplotlib->contextily) (1.3.2)\n",
            "Requirement already satisfied: cycler>=0.10 in /usr/local/lib/python3.11/dist-packages (from matplotlib->contextily) (0.12.1)\n",
            "Requirement already satisfied: fonttools>=4.22.0 in /usr/local/lib/python3.11/dist-packages (from matplotlib->contextily) (4.57.0)\n",
            "Requirement already satisfied: kiwisolver>=1.3.1 in /usr/local/lib/python3.11/dist-packages (from matplotlib->contextily) (1.4.8)\n",
            "Requirement already satisfied: numpy>=1.23 in /usr/local/lib/python3.11/dist-packages (from matplotlib->contextily) (2.0.2)\n",
            "Requirement already satisfied: packaging>=20.0 in /usr/local/lib/python3.11/dist-packages (from matplotlib->contextily) (24.2)\n",
            "Requirement already satisfied: pyparsing>=2.3.1 in /usr/local/lib/python3.11/dist-packages (from matplotlib->contextily) (3.2.3)\n",
            "Requirement already satisfied: python-dateutil>=2.7 in /usr/local/lib/python3.11/dist-packages (from matplotlib->contextily) (2.9.0.post0)\n",
            "Requirement already satisfied: click>=3.0 in /usr/local/lib/python3.11/dist-packages (from mercantile->contextily) (8.1.8)\n",
            "Requirement already satisfied: affine in /usr/local/lib/python3.11/dist-packages (from rasterio->contextily) (2.4.0)\n",
            "Requirement already satisfied: attrs in /usr/local/lib/python3.11/dist-packages (from rasterio->contextily) (25.3.0)\n",
            "Requirement already satisfied: certifi in /usr/local/lib/python3.11/dist-packages (from rasterio->contextily) (2025.4.26)\n",
            "Requirement already satisfied: cligj>=0.5 in /usr/local/lib/python3.11/dist-packages (from rasterio->contextily) (0.7.2)\n",
            "Requirement already satisfied: click-plugins in /usr/local/lib/python3.11/dist-packages (from rasterio->contextily) (1.1.1)\n",
            "Requirement already satisfied: charset-normalizer<4,>=2 in /usr/local/lib/python3.11/dist-packages (from requests->contextily) (3.4.2)\n",
            "Requirement already satisfied: idna<4,>=2.5 in /usr/local/lib/python3.11/dist-packages (from requests->contextily) (3.10)\n",
            "Requirement already satisfied: urllib3<3,>=1.21.1 in /usr/local/lib/python3.11/dist-packages (from requests->contextily) (2.4.0)\n",
            "Requirement already satisfied: six>=1.5 in /usr/local/lib/python3.11/dist-packages (from python-dateutil>=2.7->matplotlib->contextily) (1.17.0)\n",
            "Requirement already satisfied: geoplot in /usr/local/lib/python3.11/dist-packages (0.5.1)\n",
            "Requirement already satisfied: matplotlib>=3.1.2 in /usr/local/lib/python3.11/dist-packages (from geoplot) (3.10.0)\n",
            "Requirement already satisfied: seaborn in /usr/local/lib/python3.11/dist-packages (from geoplot) (0.13.2)\n",
            "Requirement already satisfied: pandas in /usr/local/lib/python3.11/dist-packages (from geoplot) (2.2.2)\n",
            "Requirement already satisfied: geopandas>=0.9.0 in /usr/local/lib/python3.11/dist-packages (from geoplot) (1.0.1)\n",
            "Requirement already satisfied: cartopy in /usr/local/lib/python3.11/dist-packages (from geoplot) (0.24.1)\n",
            "Requirement already satisfied: mapclassify>=2.1 in /usr/local/lib/python3.11/dist-packages (from geoplot) (2.8.1)\n",
            "Requirement already satisfied: contextily>=1.0.0 in /usr/local/lib/python3.11/dist-packages (from geoplot) (1.6.2)\n",
            "Requirement already satisfied: geopy in /usr/local/lib/python3.11/dist-packages (from contextily>=1.0.0->geoplot) (2.4.1)\n",
            "Requirement already satisfied: mercantile in /usr/local/lib/python3.11/dist-packages (from contextily>=1.0.0->geoplot) (1.2.1)\n",
            "Requirement already satisfied: pillow in /usr/local/lib/python3.11/dist-packages (from contextily>=1.0.0->geoplot) (11.2.1)\n",
            "Requirement already satisfied: rasterio in /usr/local/lib/python3.11/dist-packages (from contextily>=1.0.0->geoplot) (1.4.3)\n",
            "Requirement already satisfied: requests in /usr/local/lib/python3.11/dist-packages (from contextily>=1.0.0->geoplot) (2.32.3)\n",
            "Requirement already satisfied: joblib in /usr/local/lib/python3.11/dist-packages (from contextily>=1.0.0->geoplot) (1.5.0)\n",
            "Requirement already satisfied: xyzservices in /usr/local/lib/python3.11/dist-packages (from contextily>=1.0.0->geoplot) (2025.4.0)\n",
            "Requirement already satisfied: numpy>=1.22 in /usr/local/lib/python3.11/dist-packages (from geopandas>=0.9.0->geoplot) (2.0.2)\n",
            "Requirement already satisfied: pyogrio>=0.7.2 in /usr/local/lib/python3.11/dist-packages (from geopandas>=0.9.0->geoplot) (0.11.0)\n",
            "Requirement already satisfied: packaging in /usr/local/lib/python3.11/dist-packages (from geopandas>=0.9.0->geoplot) (24.2)\n",
            "Requirement already satisfied: pyproj>=3.3.0 in /usr/local/lib/python3.11/dist-packages (from geopandas>=0.9.0->geoplot) (3.7.1)\n",
            "Requirement already satisfied: shapely>=2.0.0 in /usr/local/lib/python3.11/dist-packages (from geopandas>=0.9.0->geoplot) (2.1.0)\n",
            "Requirement already satisfied: networkx>=2.7 in /usr/local/lib/python3.11/dist-packages (from mapclassify>=2.1->geoplot) (3.4.2)\n",
            "Requirement already satisfied: scikit-learn>=1.0 in /usr/local/lib/python3.11/dist-packages (from mapclassify>=2.1->geoplot) (1.6.1)\n",
            "Requirement already satisfied: scipy>=1.8 in /usr/local/lib/python3.11/dist-packages (from mapclassify>=2.1->geoplot) (1.15.3)\n",
            "Requirement already satisfied: contourpy>=1.0.1 in /usr/local/lib/python3.11/dist-packages (from matplotlib>=3.1.2->geoplot) (1.3.2)\n",
            "Requirement already satisfied: cycler>=0.10 in /usr/local/lib/python3.11/dist-packages (from matplotlib>=3.1.2->geoplot) (0.12.1)\n",
            "Requirement already satisfied: fonttools>=4.22.0 in /usr/local/lib/python3.11/dist-packages (from matplotlib>=3.1.2->geoplot) (4.57.0)\n",
            "Requirement already satisfied: kiwisolver>=1.3.1 in /usr/local/lib/python3.11/dist-packages (from matplotlib>=3.1.2->geoplot) (1.4.8)\n",
            "Requirement already satisfied: pyparsing>=2.3.1 in /usr/local/lib/python3.11/dist-packages (from matplotlib>=3.1.2->geoplot) (3.2.3)\n",
            "Requirement already satisfied: python-dateutil>=2.7 in /usr/local/lib/python3.11/dist-packages (from matplotlib>=3.1.2->geoplot) (2.9.0.post0)\n",
            "Requirement already satisfied: pytz>=2020.1 in /usr/local/lib/python3.11/dist-packages (from pandas->geoplot) (2025.2)\n",
            "Requirement already satisfied: tzdata>=2022.7 in /usr/local/lib/python3.11/dist-packages (from pandas->geoplot) (2025.2)\n",
            "Requirement already satisfied: pyshp>=2.3 in /usr/local/lib/python3.11/dist-packages (from cartopy->geoplot) (2.3.1)\n",
            "Requirement already satisfied: certifi in /usr/local/lib/python3.11/dist-packages (from pyogrio>=0.7.2->geopandas>=0.9.0->geoplot) (2025.4.26)\n",
            "Requirement already satisfied: six>=1.5 in /usr/local/lib/python3.11/dist-packages (from python-dateutil>=2.7->matplotlib>=3.1.2->geoplot) (1.17.0)\n",
            "Requirement already satisfied: threadpoolctl>=3.1.0 in /usr/local/lib/python3.11/dist-packages (from scikit-learn>=1.0->mapclassify>=2.1->geoplot) (3.6.0)\n",
            "Requirement already satisfied: geographiclib<3,>=1.52 in /usr/local/lib/python3.11/dist-packages (from geopy->contextily>=1.0.0->geoplot) (2.0)\n",
            "Requirement already satisfied: click>=3.0 in /usr/local/lib/python3.11/dist-packages (from mercantile->contextily>=1.0.0->geoplot) (8.1.8)\n",
            "Requirement already satisfied: affine in /usr/local/lib/python3.11/dist-packages (from rasterio->contextily>=1.0.0->geoplot) (2.4.0)\n",
            "Requirement already satisfied: attrs in /usr/local/lib/python3.11/dist-packages (from rasterio->contextily>=1.0.0->geoplot) (25.3.0)\n",
            "Requirement already satisfied: cligj>=0.5 in /usr/local/lib/python3.11/dist-packages (from rasterio->contextily>=1.0.0->geoplot) (0.7.2)\n",
            "Requirement already satisfied: click-plugins in /usr/local/lib/python3.11/dist-packages (from rasterio->contextily>=1.0.0->geoplot) (1.1.1)\n",
            "Requirement already satisfied: charset-normalizer<4,>=2 in /usr/local/lib/python3.11/dist-packages (from requests->contextily>=1.0.0->geoplot) (3.4.2)\n",
            "Requirement already satisfied: idna<4,>=2.5 in /usr/local/lib/python3.11/dist-packages (from requests->contextily>=1.0.0->geoplot) (3.10)\n",
            "Requirement already satisfied: urllib3<3,>=1.21.1 in /usr/local/lib/python3.11/dist-packages (from requests->contextily>=1.0.0->geoplot) (2.4.0)\n",
            "Collecting git+https://github.com/pmdscully/geo_northarrow.git\n",
            "  Cloning https://github.com/pmdscully/geo_northarrow.git to /tmp/pip-req-build-uidvus1x\n",
            "  Running command git clone --filter=blob:none --quiet https://github.com/pmdscully/geo_northarrow.git /tmp/pip-req-build-uidvus1x\n",
            "  Resolved https://github.com/pmdscully/geo_northarrow.git to commit 963bdd271707a3bcaa47b2d83d92b88ae0b10950\n",
            "  Installing build dependencies ... \u001b[?25l\u001b[?25hdone\n",
            "  Getting requirements to build wheel ... \u001b[?25l\u001b[?25hdone\n",
            "  Preparing metadata (pyproject.toml) ... \u001b[?25l\u001b[?25hdone\n",
            "Requirement already satisfied: shapely in /usr/local/lib/python3.11/dist-packages (from geo_northarrow==0.2.0a0) (2.1.0)\n",
            "Requirement already satisfied: pandas in /usr/local/lib/python3.11/dist-packages (from geo_northarrow==0.2.0a0) (2.2.2)\n",
            "Requirement already satisfied: numpy in /usr/local/lib/python3.11/dist-packages (from geo_northarrow==0.2.0a0) (2.0.2)\n",
            "Requirement already satisfied: matplotlib in /usr/local/lib/python3.11/dist-packages (from geo_northarrow==0.2.0a0) (3.10.0)\n",
            "Requirement already satisfied: geopandas in /usr/local/lib/python3.11/dist-packages (from geo_northarrow==0.2.0a0) (1.0.1)\n",
            "Requirement already satisfied: pyogrio>=0.7.2 in /usr/local/lib/python3.11/dist-packages (from geopandas->geo_northarrow==0.2.0a0) (0.11.0)\n",
            "Requirement already satisfied: packaging in /usr/local/lib/python3.11/dist-packages (from geopandas->geo_northarrow==0.2.0a0) (24.2)\n",
            "Requirement already satisfied: pyproj>=3.3.0 in /usr/local/lib/python3.11/dist-packages (from geopandas->geo_northarrow==0.2.0a0) (3.7.1)\n",
            "Requirement already satisfied: python-dateutil>=2.8.2 in /usr/local/lib/python3.11/dist-packages (from pandas->geo_northarrow==0.2.0a0) (2.9.0.post0)\n",
            "Requirement already satisfied: pytz>=2020.1 in /usr/local/lib/python3.11/dist-packages (from pandas->geo_northarrow==0.2.0a0) (2025.2)\n",
            "Requirement already satisfied: tzdata>=2022.7 in /usr/local/lib/python3.11/dist-packages (from pandas->geo_northarrow==0.2.0a0) (2025.2)\n",
            "Requirement already satisfied: contourpy>=1.0.1 in /usr/local/lib/python3.11/dist-packages (from matplotlib->geo_northarrow==0.2.0a0) (1.3.2)\n",
            "Requirement already satisfied: cycler>=0.10 in /usr/local/lib/python3.11/dist-packages (from matplotlib->geo_northarrow==0.2.0a0) (0.12.1)\n",
            "Requirement already satisfied: fonttools>=4.22.0 in /usr/local/lib/python3.11/dist-packages (from matplotlib->geo_northarrow==0.2.0a0) (4.57.0)\n",
            "Requirement already satisfied: kiwisolver>=1.3.1 in /usr/local/lib/python3.11/dist-packages (from matplotlib->geo_northarrow==0.2.0a0) (1.4.8)\n",
            "Requirement already satisfied: pillow>=8 in /usr/local/lib/python3.11/dist-packages (from matplotlib->geo_northarrow==0.2.0a0) (11.2.1)\n",
            "Requirement already satisfied: pyparsing>=2.3.1 in /usr/local/lib/python3.11/dist-packages (from matplotlib->geo_northarrow==0.2.0a0) (3.2.3)\n",
            "Requirement already satisfied: certifi in /usr/local/lib/python3.11/dist-packages (from pyogrio>=0.7.2->geopandas->geo_northarrow==0.2.0a0) (2025.4.26)\n",
            "Requirement already satisfied: six>=1.5 in /usr/local/lib/python3.11/dist-packages (from python-dateutil>=2.8.2->pandas->geo_northarrow==0.2.0a0) (1.17.0)\n",
            "Requirement already satisfied: folium in /usr/local/lib/python3.11/dist-packages (0.19.5)\n",
            "Requirement already satisfied: branca>=0.6.0 in /usr/local/lib/python3.11/dist-packages (from folium) (0.8.1)\n",
            "Requirement already satisfied: jinja2>=2.9 in /usr/local/lib/python3.11/dist-packages (from folium) (3.1.6)\n",
            "Requirement already satisfied: numpy in /usr/local/lib/python3.11/dist-packages (from folium) (2.0.2)\n",
            "Requirement already satisfied: requests in /usr/local/lib/python3.11/dist-packages (from folium) (2.32.3)\n",
            "Requirement already satisfied: xyzservices in /usr/local/lib/python3.11/dist-packages (from folium) (2025.4.0)\n",
            "Requirement already satisfied: MarkupSafe>=2.0 in /usr/local/lib/python3.11/dist-packages (from jinja2>=2.9->folium) (3.0.2)\n",
            "Requirement already satisfied: charset-normalizer<4,>=2 in /usr/local/lib/python3.11/dist-packages (from requests->folium) (3.4.2)\n",
            "Requirement already satisfied: idna<4,>=2.5 in /usr/local/lib/python3.11/dist-packages (from requests->folium) (3.10)\n",
            "Requirement already satisfied: urllib3<3,>=1.21.1 in /usr/local/lib/python3.11/dist-packages (from requests->folium) (2.4.0)\n",
            "Requirement already satisfied: certifi>=2017.4.17 in /usr/local/lib/python3.11/dist-packages (from requests->folium) (2025.4.26)\n",
            "Requirement already satisfied: h3 in /usr/local/lib/python3.11/dist-packages (4.2.2)\n",
            "Requirement already satisfied: geoplot in /usr/local/lib/python3.11/dist-packages (0.5.1)\n",
            "Requirement already satisfied: matplotlib>=3.1.2 in /usr/local/lib/python3.11/dist-packages (from geoplot) (3.10.0)\n",
            "Requirement already satisfied: seaborn in /usr/local/lib/python3.11/dist-packages (from geoplot) (0.13.2)\n",
            "Requirement already satisfied: pandas in /usr/local/lib/python3.11/dist-packages (from geoplot) (2.2.2)\n",
            "Requirement already satisfied: geopandas>=0.9.0 in /usr/local/lib/python3.11/dist-packages (from geoplot) (1.0.1)\n",
            "Requirement already satisfied: cartopy in /usr/local/lib/python3.11/dist-packages (from geoplot) (0.24.1)\n",
            "Requirement already satisfied: mapclassify>=2.1 in /usr/local/lib/python3.11/dist-packages (from geoplot) (2.8.1)\n",
            "Requirement already satisfied: contextily>=1.0.0 in /usr/local/lib/python3.11/dist-packages (from geoplot) (1.6.2)\n",
            "Requirement already satisfied: geopy in /usr/local/lib/python3.11/dist-packages (from contextily>=1.0.0->geoplot) (2.4.1)\n",
            "Requirement already satisfied: mercantile in /usr/local/lib/python3.11/dist-packages (from contextily>=1.0.0->geoplot) (1.2.1)\n",
            "Requirement already satisfied: pillow in /usr/local/lib/python3.11/dist-packages (from contextily>=1.0.0->geoplot) (11.2.1)\n",
            "Requirement already satisfied: rasterio in /usr/local/lib/python3.11/dist-packages (from contextily>=1.0.0->geoplot) (1.4.3)\n",
            "Requirement already satisfied: requests in /usr/local/lib/python3.11/dist-packages (from contextily>=1.0.0->geoplot) (2.32.3)\n",
            "Requirement already satisfied: joblib in /usr/local/lib/python3.11/dist-packages (from contextily>=1.0.0->geoplot) (1.5.0)\n",
            "Requirement already satisfied: xyzservices in /usr/local/lib/python3.11/dist-packages (from contextily>=1.0.0->geoplot) (2025.4.0)\n",
            "Requirement already satisfied: numpy>=1.22 in /usr/local/lib/python3.11/dist-packages (from geopandas>=0.9.0->geoplot) (2.0.2)\n",
            "Requirement already satisfied: pyogrio>=0.7.2 in /usr/local/lib/python3.11/dist-packages (from geopandas>=0.9.0->geoplot) (0.11.0)\n",
            "Requirement already satisfied: packaging in /usr/local/lib/python3.11/dist-packages (from geopandas>=0.9.0->geoplot) (24.2)\n",
            "Requirement already satisfied: pyproj>=3.3.0 in /usr/local/lib/python3.11/dist-packages (from geopandas>=0.9.0->geoplot) (3.7.1)\n",
            "Requirement already satisfied: shapely>=2.0.0 in /usr/local/lib/python3.11/dist-packages (from geopandas>=0.9.0->geoplot) (2.1.0)\n",
            "Requirement already satisfied: networkx>=2.7 in /usr/local/lib/python3.11/dist-packages (from mapclassify>=2.1->geoplot) (3.4.2)\n",
            "Requirement already satisfied: scikit-learn>=1.0 in /usr/local/lib/python3.11/dist-packages (from mapclassify>=2.1->geoplot) (1.6.1)\n",
            "Requirement already satisfied: scipy>=1.8 in /usr/local/lib/python3.11/dist-packages (from mapclassify>=2.1->geoplot) (1.15.3)\n",
            "Requirement already satisfied: contourpy>=1.0.1 in /usr/local/lib/python3.11/dist-packages (from matplotlib>=3.1.2->geoplot) (1.3.2)\n",
            "Requirement already satisfied: cycler>=0.10 in /usr/local/lib/python3.11/dist-packages (from matplotlib>=3.1.2->geoplot) (0.12.1)\n",
            "Requirement already satisfied: fonttools>=4.22.0 in /usr/local/lib/python3.11/dist-packages (from matplotlib>=3.1.2->geoplot) (4.57.0)\n",
            "Requirement already satisfied: kiwisolver>=1.3.1 in /usr/local/lib/python3.11/dist-packages (from matplotlib>=3.1.2->geoplot) (1.4.8)\n",
            "Requirement already satisfied: pyparsing>=2.3.1 in /usr/local/lib/python3.11/dist-packages (from matplotlib>=3.1.2->geoplot) (3.2.3)\n",
            "Requirement already satisfied: python-dateutil>=2.7 in /usr/local/lib/python3.11/dist-packages (from matplotlib>=3.1.2->geoplot) (2.9.0.post0)\n",
            "Requirement already satisfied: pytz>=2020.1 in /usr/local/lib/python3.11/dist-packages (from pandas->geoplot) (2025.2)\n",
            "Requirement already satisfied: tzdata>=2022.7 in /usr/local/lib/python3.11/dist-packages (from pandas->geoplot) (2025.2)\n",
            "Requirement already satisfied: pyshp>=2.3 in /usr/local/lib/python3.11/dist-packages (from cartopy->geoplot) (2.3.1)\n",
            "Requirement already satisfied: certifi in /usr/local/lib/python3.11/dist-packages (from pyogrio>=0.7.2->geopandas>=0.9.0->geoplot) (2025.4.26)\n",
            "Requirement already satisfied: six>=1.5 in /usr/local/lib/python3.11/dist-packages (from python-dateutil>=2.7->matplotlib>=3.1.2->geoplot) (1.17.0)\n",
            "Requirement already satisfied: threadpoolctl>=3.1.0 in /usr/local/lib/python3.11/dist-packages (from scikit-learn>=1.0->mapclassify>=2.1->geoplot) (3.6.0)\n",
            "Requirement already satisfied: geographiclib<3,>=1.52 in /usr/local/lib/python3.11/dist-packages (from geopy->contextily>=1.0.0->geoplot) (2.0)\n",
            "Requirement already satisfied: click>=3.0 in /usr/local/lib/python3.11/dist-packages (from mercantile->contextily>=1.0.0->geoplot) (8.1.8)\n",
            "Requirement already satisfied: affine in /usr/local/lib/python3.11/dist-packages (from rasterio->contextily>=1.0.0->geoplot) (2.4.0)\n",
            "Requirement already satisfied: attrs in /usr/local/lib/python3.11/dist-packages (from rasterio->contextily>=1.0.0->geoplot) (25.3.0)\n",
            "Requirement already satisfied: cligj>=0.5 in /usr/local/lib/python3.11/dist-packages (from rasterio->contextily>=1.0.0->geoplot) (0.7.2)\n",
            "Requirement already satisfied: click-plugins in /usr/local/lib/python3.11/dist-packages (from rasterio->contextily>=1.0.0->geoplot) (1.1.1)\n",
            "Requirement already satisfied: charset-normalizer<4,>=2 in /usr/local/lib/python3.11/dist-packages (from requests->contextily>=1.0.0->geoplot) (3.4.2)\n",
            "Requirement already satisfied: idna<4,>=2.5 in /usr/local/lib/python3.11/dist-packages (from requests->contextily>=1.0.0->geoplot) (3.10)\n",
            "Requirement already satisfied: urllib3<3,>=1.21.1 in /usr/local/lib/python3.11/dist-packages (from requests->contextily>=1.0.0->geoplot) (2.4.0)\n"
          ]
        }
      ]
    },
    {
      "cell_type": "code",
      "execution_count": null,
      "id": "34bb7ec5",
      "metadata": {
        "id": "34bb7ec5"
      },
      "outputs": [],
      "source": [
        "import os\n",
        "import numpy as np\n",
        "import pandas as pd\n",
        "import geopandas as gpd\n",
        "import matplotlib.pyplot as plt\n",
        "import seaborn as sns\n",
        "from sklearn.cluster import KMeans\n",
        "import warnings\n",
        "\n",
        "sns.set_style(\"darkgrid\")\n",
        "warnings.filterwarnings(\"ignore\")\n",
        "\n",
        "\n",
        "## Now the libraries are called up\n",
        "\n",
        "import pyproj\n",
        "import contextily as ctx\n",
        "\n",
        "\n",
        "import geoplot as gplt\n",
        "import geoplot.crs as gcrs\n",
        "from geo_northarrow import add_north_arrow\n",
        "\n",
        "from matplotlib import colors  # is used to extract a subset of a colourmap as a new colourmap in matplotlib (in visualisation)\n",
        "\n",
        "import h3\n",
        "from shapely.geometry import Point, Polygon\n",
        "import folium"
      ]
    },
    {
      "cell_type": "code",
      "source": [
        "#from google.colab import drive\n",
        "#drive.mount('/content/drive')"
      ],
      "metadata": {
        "id": "4pJXImfSQ6vd"
      },
      "execution_count": null,
      "outputs": [],
      "id": "4pJXImfSQ6vd"
    },
    {
      "cell_type": "markdown",
      "source": [
        "## **Choose data**"
      ],
      "metadata": {
        "id": "L68yPRZDJEy1"
      },
      "id": "L68yPRZDJEy1"
    },
    {
      "cell_type": "code",
      "source": [
        "## Read in the spatial dataframe\n",
        "\n",
        "# Read 3 geojson:\n",
        "\n",
        "gdfs_2019 = gpd.read_file('https://github.com/rociovald/GEOG5990M_Final/raw/refs/heads/main/Data/Siniestros_transito_Antofa2019.geojson')\n",
        "gdfs_2020 = gpd.read_file('https://github.com/rociovald/GEOG5990M_Final/raw/refs/heads/main/Data/Siniestros_transito_Antofa2020.geojson')\n",
        "gdfs_2021 = gpd.read_file('https://github.com/rociovald/GEOG5990M_Final/raw/refs/heads/main/Data/Siniestros_transito_Antofa2021.geojson')\n",
        "gdfs_2022 = gpd.read_file('https://github.com/rociovald/GEOG5990M_Final/raw/refs/heads/main/Data/Siniestros_transito_Antofa2022.geojson')\n",
        "\n",
        "\n",
        "#gdfs_2019 = gpd.read_file('https://github.com/rociovald/GEOG5990M_Final/raw/refs/heads/main/Data/accidents_2019.geojson')\n",
        "#gdfs_2020 = gpd.read_file('https://github.com/rociovald/GEOG5990M_Final/raw/refs/heads/main/Data/accidents_2020.geojson')\n",
        "#gdfs_2021 = gpd.read_file('https://github.com/rociovald/GEOG5990M_Final/raw/refs/heads/main/Data/accidents_2021.geojson')\n",
        "#gdfs_2022 = gpd.read_file('https://github.com/rociovald/GEOG5990M_Final/raw/refs/heads/main/Data/accidents_2022.geojson')\n",
        "\n"
      ],
      "metadata": {
        "colab": {
          "base_uri": "https://localhost:8080/"
        },
        "id": "SDYP8E-3SIDE",
        "outputId": "adba4fe8-6609-41a6-bcda-03d73cb6db9c"
      },
      "id": "SDYP8E-3SIDE",
      "execution_count": null,
      "outputs": [
        {
          "output_type": "stream",
          "name": "stderr",
          "text": [
            "WARNING:pyogrio._io:Skipping field Hora: unsupported OGR type: 10\n",
            "WARNING:pyogrio._io:Skipping field Hora: unsupported OGR type: 10\n",
            "WARNING:pyogrio._io:Skipping field Hora_1: unsupported OGR type: 10\n"
          ]
        }
      ]
    },
    {
      "cell_type": "markdown",
      "source": [
        "**Information on geojson**"
      ],
      "metadata": {
        "id": "vyyiUj3bxwzF"
      },
      "id": "vyyiUj3bxwzF"
    },
    {
      "cell_type": "markdown",
      "source": [
        "gdfs_2019: Corresponde a los accidentes de transito durante 2019 registrados en la region de Antofagasta, Chile <a href=\"#ref1\">[1]</a>\n",
        "\n",
        "Source: Comision Nacional de Seguridad de Transito. 2021. Siniestros de tránsito, región de Antofagasta, Chile, 2019. [Online]. [Accessed 5 May 2025]. Available from: https://mapas-conaset.opendata.arcgis.com/datasets/50c493754b5d434c8a1c44b96a6e6e44_0/explore?location=-23.708570%2C-69.342709%2C7.95\n",
        "\n",
        "gdfs_2020: Corresponde a los accidentes de transito durante 2020 registrados en la region de Antofagasta, Chile <a href=\"#ref1\">[2]</a>\n",
        "\n",
        "Source: Comision Nacional de Seguridad de Transito. 2024. 2020 - Antofagasta - Siniestros Individuales. [Online]. [Accessed 5 May 2025]. Available from:    https://mapas-conaset.opendata.arcgis.com/datasets/5169f61c547e4be9acbc8c4a7b778821_0/explore?location=-23.708640%2C-69.339105%2C7.95\n",
        "\n",
        "gdfs_2021: Corresponde a los accidentes de transito durante 2021 registrados en la region de Antofagasta, Chile <a href=\"#ref1\">[3]</a>\n",
        "\n",
        "Source: Comision Nacional de Seguridad de Transito. 2024. 2021 - Antofagasta - Siniestros Individuales. [Online]. [Accessed 5 May 2025]. Available from:   https://mapas-conaset.opendata.arcgis.com/datasets/66fa006d1ea04129965d500b82247352_0/explore?location=-23.397157%2C-69.345849%2C7.76\n",
        "\n",
        "gdfs_2022: Corresponde a los accidentes de transito durante 2022 registrados en la region de Antofagasta, Chile <a href=\"#ref1\">[4]</a>\n",
        "\n",
        "Source: Comision Nacional de Seguridad de Transito. 2024. 2022- Antofagasta - Siniestros Individuales. [Online]. [Accessed 5 May 2025]. Available from: https://mapas-conaset.opendata.arcgis.com/datasets/5ce75f6238ac4d89ad4a00969a0fbaaf_0/about\n"
      ],
      "metadata": {
        "id": "R7m0-CiyyKyO"
      },
      "id": "R7m0-CiyyKyO"
    },
    {
      "cell_type": "markdown",
      "source": [
        "# **Data-preprocessing and data exploration**"
      ],
      "metadata": {
        "id": "jmN0YcL1yV-1"
      },
      "id": "jmN0YcL1yV-1"
    },
    {
      "cell_type": "markdown",
      "source": [
        "Lo primero que se debe hacer es explorar el contenido de la tabla de atributos en cada uno de los geojson, para de este modo conocer los datos que tenemos."
      ],
      "metadata": {
        "id": "mBT34Qq7K1sl"
      },
      "id": "mBT34Qq7K1sl"
    },
    {
      "cell_type": "markdown",
      "source": [
        "**Accidentes de transito ano 2019**"
      ],
      "metadata": {
        "id": "0orxZumsANPD"
      },
      "id": "0orxZumsANPD"
    },
    {
      "cell_type": "code",
      "source": [
        "gdfs_2019.sample(2)"
      ],
      "metadata": {
        "colab": {
          "base_uri": "https://localhost:8080/",
          "height": 231
        },
        "id": "x0OgcH37x0nr",
        "outputId": "1e718514-7c21-415e-fd06-8d31a456506a"
      },
      "id": "x0OgcH37x0nr",
      "execution_count": null,
      "outputs": [
        {
          "output_type": "execute_result",
          "data": {
            "text/plain": [
              "       FID   Ano  Idaccident  Codregion              Region       Comuna  \\\n",
              "1956  1957  2019     1184885          2  REGION ANTOFAGASTA  ANTOFAGASTA   \n",
              "1898  1899  2019     1224328          2  REGION ANTOFAGASTA  ANTOFAGASTA   \n",
              "\n",
              "        Zona                Calle1 Calle2 Numero  ...  Estado_Cal  Cód_Condi  \\\n",
              "1956  URBANA  REPUBLICA DE CROACIA           800  ...       BUENO          1   \n",
              "1898  URBANA               NAVIDAD           195  ...       BUENO          1   \n",
              "\n",
              "      Condición Cód_Est_1  Estado_Atm  Fallecidos Graves  Menos_Grav Leves  \\\n",
              "1956       SECO         1   DESPEJADO           0      0           0     0   \n",
              "1898       SECO         1   DESPEJADO           0      0           0     0   \n",
              "\n",
              "                         geometry  \n",
              "1956  POINT (-70.41309 -23.67886)  \n",
              "1898  POINT (-70.40762 -23.67223)  \n",
              "\n",
              "[2 rows x 44 columns]"
            ],
            "text/html": [
              "\n",
              "  <div id=\"df-7f204fd4-84d5-440a-b752-cd7cbc54e3bf\" class=\"colab-df-container\">\n",
              "    <div>\n",
              "<style scoped>\n",
              "    .dataframe tbody tr th:only-of-type {\n",
              "        vertical-align: middle;\n",
              "    }\n",
              "\n",
              "    .dataframe tbody tr th {\n",
              "        vertical-align: top;\n",
              "    }\n",
              "\n",
              "    .dataframe thead th {\n",
              "        text-align: right;\n",
              "    }\n",
              "</style>\n",
              "<table border=\"1\" class=\"dataframe\">\n",
              "  <thead>\n",
              "    <tr style=\"text-align: right;\">\n",
              "      <th></th>\n",
              "      <th>FID</th>\n",
              "      <th>Ano</th>\n",
              "      <th>Idaccident</th>\n",
              "      <th>Codregion</th>\n",
              "      <th>Region</th>\n",
              "      <th>Comuna</th>\n",
              "      <th>Zona</th>\n",
              "      <th>Calle1</th>\n",
              "      <th>Calle2</th>\n",
              "      <th>Numero</th>\n",
              "      <th>...</th>\n",
              "      <th>Estado_Cal</th>\n",
              "      <th>Cód_Condi</th>\n",
              "      <th>Condición</th>\n",
              "      <th>Cód_Est_1</th>\n",
              "      <th>Estado_Atm</th>\n",
              "      <th>Fallecidos</th>\n",
              "      <th>Graves</th>\n",
              "      <th>Menos_Grav</th>\n",
              "      <th>Leves</th>\n",
              "      <th>geometry</th>\n",
              "    </tr>\n",
              "  </thead>\n",
              "  <tbody>\n",
              "    <tr>\n",
              "      <th>1956</th>\n",
              "      <td>1957</td>\n",
              "      <td>2019</td>\n",
              "      <td>1184885</td>\n",
              "      <td>2</td>\n",
              "      <td>REGION ANTOFAGASTA</td>\n",
              "      <td>ANTOFAGASTA</td>\n",
              "      <td>URBANA</td>\n",
              "      <td>REPUBLICA DE CROACIA</td>\n",
              "      <td></td>\n",
              "      <td>800</td>\n",
              "      <td>...</td>\n",
              "      <td>BUENO</td>\n",
              "      <td>1</td>\n",
              "      <td>SECO</td>\n",
              "      <td>1</td>\n",
              "      <td>DESPEJADO</td>\n",
              "      <td>0</td>\n",
              "      <td>0</td>\n",
              "      <td>0</td>\n",
              "      <td>0</td>\n",
              "      <td>POINT (-70.41309 -23.67886)</td>\n",
              "    </tr>\n",
              "    <tr>\n",
              "      <th>1898</th>\n",
              "      <td>1899</td>\n",
              "      <td>2019</td>\n",
              "      <td>1224328</td>\n",
              "      <td>2</td>\n",
              "      <td>REGION ANTOFAGASTA</td>\n",
              "      <td>ANTOFAGASTA</td>\n",
              "      <td>URBANA</td>\n",
              "      <td>NAVIDAD</td>\n",
              "      <td></td>\n",
              "      <td>195</td>\n",
              "      <td>...</td>\n",
              "      <td>BUENO</td>\n",
              "      <td>1</td>\n",
              "      <td>SECO</td>\n",
              "      <td>1</td>\n",
              "      <td>DESPEJADO</td>\n",
              "      <td>0</td>\n",
              "      <td>0</td>\n",
              "      <td>0</td>\n",
              "      <td>0</td>\n",
              "      <td>POINT (-70.40762 -23.67223)</td>\n",
              "    </tr>\n",
              "  </tbody>\n",
              "</table>\n",
              "<p>2 rows × 44 columns</p>\n",
              "</div>\n",
              "    <div class=\"colab-df-buttons\">\n",
              "\n",
              "  <div class=\"colab-df-container\">\n",
              "    <button class=\"colab-df-convert\" onclick=\"convertToInteractive('df-7f204fd4-84d5-440a-b752-cd7cbc54e3bf')\"\n",
              "            title=\"Convert this dataframe to an interactive table.\"\n",
              "            style=\"display:none;\">\n",
              "\n",
              "  <svg xmlns=\"http://www.w3.org/2000/svg\" height=\"24px\" viewBox=\"0 -960 960 960\">\n",
              "    <path d=\"M120-120v-720h720v720H120Zm60-500h600v-160H180v160Zm220 220h160v-160H400v160Zm0 220h160v-160H400v160ZM180-400h160v-160H180v160Zm440 0h160v-160H620v160ZM180-180h160v-160H180v160Zm440 0h160v-160H620v160Z\"/>\n",
              "  </svg>\n",
              "    </button>\n",
              "\n",
              "  <style>\n",
              "    .colab-df-container {\n",
              "      display:flex;\n",
              "      gap: 12px;\n",
              "    }\n",
              "\n",
              "    .colab-df-convert {\n",
              "      background-color: #E8F0FE;\n",
              "      border: none;\n",
              "      border-radius: 50%;\n",
              "      cursor: pointer;\n",
              "      display: none;\n",
              "      fill: #1967D2;\n",
              "      height: 32px;\n",
              "      padding: 0 0 0 0;\n",
              "      width: 32px;\n",
              "    }\n",
              "\n",
              "    .colab-df-convert:hover {\n",
              "      background-color: #E2EBFA;\n",
              "      box-shadow: 0px 1px 2px rgba(60, 64, 67, 0.3), 0px 1px 3px 1px rgba(60, 64, 67, 0.15);\n",
              "      fill: #174EA6;\n",
              "    }\n",
              "\n",
              "    .colab-df-buttons div {\n",
              "      margin-bottom: 4px;\n",
              "    }\n",
              "\n",
              "    [theme=dark] .colab-df-convert {\n",
              "      background-color: #3B4455;\n",
              "      fill: #D2E3FC;\n",
              "    }\n",
              "\n",
              "    [theme=dark] .colab-df-convert:hover {\n",
              "      background-color: #434B5C;\n",
              "      box-shadow: 0px 1px 3px 1px rgba(0, 0, 0, 0.15);\n",
              "      filter: drop-shadow(0px 1px 2px rgba(0, 0, 0, 0.3));\n",
              "      fill: #FFFFFF;\n",
              "    }\n",
              "  </style>\n",
              "\n",
              "    <script>\n",
              "      const buttonEl =\n",
              "        document.querySelector('#df-7f204fd4-84d5-440a-b752-cd7cbc54e3bf button.colab-df-convert');\n",
              "      buttonEl.style.display =\n",
              "        google.colab.kernel.accessAllowed ? 'block' : 'none';\n",
              "\n",
              "      async function convertToInteractive(key) {\n",
              "        const element = document.querySelector('#df-7f204fd4-84d5-440a-b752-cd7cbc54e3bf');\n",
              "        const dataTable =\n",
              "          await google.colab.kernel.invokeFunction('convertToInteractive',\n",
              "                                                    [key], {});\n",
              "        if (!dataTable) return;\n",
              "\n",
              "        const docLinkHtml = 'Like what you see? Visit the ' +\n",
              "          '<a target=\"_blank\" href=https://colab.research.google.com/notebooks/data_table.ipynb>data table notebook</a>'\n",
              "          + ' to learn more about interactive tables.';\n",
              "        element.innerHTML = '';\n",
              "        dataTable['output_type'] = 'display_data';\n",
              "        await google.colab.output.renderOutput(dataTable, element);\n",
              "        const docLink = document.createElement('div');\n",
              "        docLink.innerHTML = docLinkHtml;\n",
              "        element.appendChild(docLink);\n",
              "      }\n",
              "    </script>\n",
              "  </div>\n",
              "\n",
              "\n",
              "    <div id=\"df-3e7c8e9d-bd74-4a68-b606-d4c30c030213\">\n",
              "      <button class=\"colab-df-quickchart\" onclick=\"quickchart('df-3e7c8e9d-bd74-4a68-b606-d4c30c030213')\"\n",
              "                title=\"Suggest charts\"\n",
              "                style=\"display:none;\">\n",
              "\n",
              "<svg xmlns=\"http://www.w3.org/2000/svg\" height=\"24px\"viewBox=\"0 0 24 24\"\n",
              "     width=\"24px\">\n",
              "    <g>\n",
              "        <path d=\"M19 3H5c-1.1 0-2 .9-2 2v14c0 1.1.9 2 2 2h14c1.1 0 2-.9 2-2V5c0-1.1-.9-2-2-2zM9 17H7v-7h2v7zm4 0h-2V7h2v10zm4 0h-2v-4h2v4z\"/>\n",
              "    </g>\n",
              "</svg>\n",
              "      </button>\n",
              "\n",
              "<style>\n",
              "  .colab-df-quickchart {\n",
              "      --bg-color: #E8F0FE;\n",
              "      --fill-color: #1967D2;\n",
              "      --hover-bg-color: #E2EBFA;\n",
              "      --hover-fill-color: #174EA6;\n",
              "      --disabled-fill-color: #AAA;\n",
              "      --disabled-bg-color: #DDD;\n",
              "  }\n",
              "\n",
              "  [theme=dark] .colab-df-quickchart {\n",
              "      --bg-color: #3B4455;\n",
              "      --fill-color: #D2E3FC;\n",
              "      --hover-bg-color: #434B5C;\n",
              "      --hover-fill-color: #FFFFFF;\n",
              "      --disabled-bg-color: #3B4455;\n",
              "      --disabled-fill-color: #666;\n",
              "  }\n",
              "\n",
              "  .colab-df-quickchart {\n",
              "    background-color: var(--bg-color);\n",
              "    border: none;\n",
              "    border-radius: 50%;\n",
              "    cursor: pointer;\n",
              "    display: none;\n",
              "    fill: var(--fill-color);\n",
              "    height: 32px;\n",
              "    padding: 0;\n",
              "    width: 32px;\n",
              "  }\n",
              "\n",
              "  .colab-df-quickchart:hover {\n",
              "    background-color: var(--hover-bg-color);\n",
              "    box-shadow: 0 1px 2px rgba(60, 64, 67, 0.3), 0 1px 3px 1px rgba(60, 64, 67, 0.15);\n",
              "    fill: var(--button-hover-fill-color);\n",
              "  }\n",
              "\n",
              "  .colab-df-quickchart-complete:disabled,\n",
              "  .colab-df-quickchart-complete:disabled:hover {\n",
              "    background-color: var(--disabled-bg-color);\n",
              "    fill: var(--disabled-fill-color);\n",
              "    box-shadow: none;\n",
              "  }\n",
              "\n",
              "  .colab-df-spinner {\n",
              "    border: 2px solid var(--fill-color);\n",
              "    border-color: transparent;\n",
              "    border-bottom-color: var(--fill-color);\n",
              "    animation:\n",
              "      spin 1s steps(1) infinite;\n",
              "  }\n",
              "\n",
              "  @keyframes spin {\n",
              "    0% {\n",
              "      border-color: transparent;\n",
              "      border-bottom-color: var(--fill-color);\n",
              "      border-left-color: var(--fill-color);\n",
              "    }\n",
              "    20% {\n",
              "      border-color: transparent;\n",
              "      border-left-color: var(--fill-color);\n",
              "      border-top-color: var(--fill-color);\n",
              "    }\n",
              "    30% {\n",
              "      border-color: transparent;\n",
              "      border-left-color: var(--fill-color);\n",
              "      border-top-color: var(--fill-color);\n",
              "      border-right-color: var(--fill-color);\n",
              "    }\n",
              "    40% {\n",
              "      border-color: transparent;\n",
              "      border-right-color: var(--fill-color);\n",
              "      border-top-color: var(--fill-color);\n",
              "    }\n",
              "    60% {\n",
              "      border-color: transparent;\n",
              "      border-right-color: var(--fill-color);\n",
              "    }\n",
              "    80% {\n",
              "      border-color: transparent;\n",
              "      border-right-color: var(--fill-color);\n",
              "      border-bottom-color: var(--fill-color);\n",
              "    }\n",
              "    90% {\n",
              "      border-color: transparent;\n",
              "      border-bottom-color: var(--fill-color);\n",
              "    }\n",
              "  }\n",
              "</style>\n",
              "\n",
              "      <script>\n",
              "        async function quickchart(key) {\n",
              "          const quickchartButtonEl =\n",
              "            document.querySelector('#' + key + ' button');\n",
              "          quickchartButtonEl.disabled = true;  // To prevent multiple clicks.\n",
              "          quickchartButtonEl.classList.add('colab-df-spinner');\n",
              "          try {\n",
              "            const charts = await google.colab.kernel.invokeFunction(\n",
              "                'suggestCharts', [key], {});\n",
              "          } catch (error) {\n",
              "            console.error('Error during call to suggestCharts:', error);\n",
              "          }\n",
              "          quickchartButtonEl.classList.remove('colab-df-spinner');\n",
              "          quickchartButtonEl.classList.add('colab-df-quickchart-complete');\n",
              "        }\n",
              "        (() => {\n",
              "          let quickchartButtonEl =\n",
              "            document.querySelector('#df-3e7c8e9d-bd74-4a68-b606-d4c30c030213 button');\n",
              "          quickchartButtonEl.style.display =\n",
              "            google.colab.kernel.accessAllowed ? 'block' : 'none';\n",
              "        })();\n",
              "      </script>\n",
              "    </div>\n",
              "\n",
              "    </div>\n",
              "  </div>\n"
            ],
            "application/vnd.google.colaboratory.intrinsic+json": {
              "type": "dataframe"
            }
          },
          "metadata": {},
          "execution_count": 5
        }
      ]
    },
    {
      "cell_type": "code",
      "source": [
        "gdfs_2019.info()  # ‘.info()’ is used to observe if there is null data in any variable,  by looking at the ‘Non-Null Count’ column."
      ],
      "metadata": {
        "id": "1JS6U-DpAY-k",
        "outputId": "4b423a5f-3381-47eb-f230-ef30e50418e3",
        "colab": {
          "base_uri": "https://localhost:8080/"
        }
      },
      "id": "1JS6U-DpAY-k",
      "execution_count": null,
      "outputs": [
        {
          "output_type": "stream",
          "name": "stdout",
          "text": [
            "<class 'geopandas.geodataframe.GeoDataFrame'>\n",
            "RangeIndex: 2494 entries, 0 to 2493\n",
            "Data columns (total 44 columns):\n",
            " #   Column      Non-Null Count  Dtype              \n",
            "---  ------      --------------  -----              \n",
            " 0   FID         2494 non-null   int32              \n",
            " 1   Ano         2494 non-null   int32              \n",
            " 2   Idaccident  2494 non-null   int32              \n",
            " 3   Codregion   2494 non-null   int32              \n",
            " 4   Region      2494 non-null   object             \n",
            " 5   Comuna      2494 non-null   object             \n",
            " 6   Zona        2494 non-null   object             \n",
            " 7   Calle1      2494 non-null   object             \n",
            " 8   Calle2      2494 non-null   object             \n",
            " 9   Numero      2494 non-null   object             \n",
            " 10  lat         2494 non-null   float64            \n",
            " 11  lng         2494 non-null   float64            \n",
            " 12  Claseaccid  2494 non-null   int32              \n",
            " 13  Fecha       2494 non-null   datetime64[ms, UTC]\n",
            " 14  Cód_Comun   2494 non-null   int32              \n",
            " 15  Cód_Tipo_   2494 non-null   int32              \n",
            " 16  Tipo_Accid  2494 non-null   object             \n",
            " 17  Cód_Tipo1   2494 non-null   int32              \n",
            " 18  Tipo__CONA  2494 non-null   object             \n",
            " 19  Cód_Zona    2494 non-null   int32              \n",
            " 20  Zona_1      2494 non-null   object             \n",
            " 21  Cód_Ubica   2494 non-null   int32              \n",
            " 22  Ubicación   2494 non-null   object             \n",
            " 23  Cód_Causa   2494 non-null   int32              \n",
            " 24  Causa__CON  2494 non-null   object             \n",
            " 25  Cód_Cau_1   2494 non-null   int32              \n",
            " 26  Causa       2494 non-null   object             \n",
            " 27  Pistas_de_  2494 non-null   int32              \n",
            " 28  Pistas_de1  2494 non-null   int32              \n",
            " 29  Cód_Calza   2494 non-null   int32              \n",
            " 30  Calzada     2494 non-null   object             \n",
            " 31  Cód__Tipo   2494 non-null   int32              \n",
            " 32  Tipo_Calza  2494 non-null   object             \n",
            " 33  Cód_Estad   2494 non-null   int32              \n",
            " 34  Estado_Cal  2494 non-null   object             \n",
            " 35  Cód_Condi   2494 non-null   int32              \n",
            " 36  Condición   2494 non-null   object             \n",
            " 37  Cód_Est_1   2494 non-null   int32              \n",
            " 38  Estado_Atm  2494 non-null   object             \n",
            " 39  Fallecidos  2494 non-null   int32              \n",
            " 40  Graves      2494 non-null   int32              \n",
            " 41  Menos_Grav  2494 non-null   int32              \n",
            " 42  Leves       2494 non-null   int32              \n",
            " 43  geometry    2494 non-null   geometry           \n",
            "dtypes: datetime64[ms, UTC](1), float64(2), geometry(1), int32(23), object(17)\n",
            "memory usage: 633.4+ KB\n"
          ]
        }
      ]
    },
    {
      "cell_type": "code",
      "source": [
        "# Se visualizan el nombre de todas las columnas, ya que en el codigo anetrior solo se puede ser una parte\n",
        "gdfs_2019.columns"
      ],
      "metadata": {
        "id": "78FogMBFMafU",
        "outputId": "3584b315-602c-4e02-f301-434a34c9cec2",
        "colab": {
          "base_uri": "https://localhost:8080/"
        }
      },
      "id": "78FogMBFMafU",
      "execution_count": null,
      "outputs": [
        {
          "output_type": "execute_result",
          "data": {
            "text/plain": [
              "Index(['FID', 'Ano', 'Idaccident', 'Codregion', 'Region', 'Comuna', 'Zona',\n",
              "       'Calle1', 'Calle2', 'Numero', 'lat', 'lng', 'Claseaccid', 'Fecha',\n",
              "       'Cód_Comun', 'Cód_Tipo_', 'Tipo_Accid', 'Cód_Tipo1', 'Tipo__CONA',\n",
              "       'Cód_Zona', 'Zona_1', 'Cód_Ubica', 'Ubicación', 'Cód_Causa',\n",
              "       'Causa__CON', 'Cód_Cau_1', 'Causa', 'Pistas_de_', 'Pistas_de1',\n",
              "       'Cód_Calza', 'Calzada', 'Cód__Tipo', 'Tipo_Calza', 'Cód_Estad',\n",
              "       'Estado_Cal', 'Cód_Condi', 'Condición', 'Cód_Est_1', 'Estado_Atm',\n",
              "       'Fallecidos', 'Graves', 'Menos_Grav', 'Leves', 'geometry'],\n",
              "      dtype='object')"
            ]
          },
          "metadata": {},
          "execution_count": 7
        }
      ]
    },
    {
      "cell_type": "markdown",
      "source": [
        "**Co-pilot - description of variables**\n",
        "\n",
        "La CONASET no dispone de una descripcion de los metadatos para cada uno de los geojson sobre accidentes de transito (anos 2019 al 2022). Razon por lo cual fue necesario realizar una consulta a Copilot para luego verificar si coherencia al mirar el contenido de cada columna de la tabla de atributos. El prompt fue el siguiente: ' Define cada una de las columnas que se encuentran en el csv que te adjunto, en no mas de 20 palabras'."
      ],
      "metadata": {
        "id": "HYeOqHsd-2rS"
      },
      "id": "HYeOqHsd-2rS"
    },
    {
      "cell_type": "markdown",
      "source": [
        "*Accidentes de transito del 2019*\n",
        "\n",
        "\n",
        "*   'FID': A unique ID for each accident\n",
        "*   'Ano': Year the accident occurred\n",
        "*   'Idaccident': Unique identifier of the accident\n",
        "*   'Codregion': Code of the region where the accident occurred\n",
        "*   'Region': Name of the region where the accident occurred\n",
        "*   'Comuna': Name of the commune where the accident occurred\n",
        "*   'Zona': Type of zone (urban or rural) where the accident occurred\n",
        "*   'Calle1': Name of the first street involved in the accident\n",
        "*   'Calle2': Name of the second street involved in the accident (if applicable).\n",
        "*   'Numero': Nearest address number to the accident location\n",
        "*   'lat': Latitude of the accident location\n",
        "*   'lng': Longitude of the accident location\n",
        "*   'Claseaccid': Class of the accident (collision, run-over, etc.)\n",
        "*   'Fecha': Date and time the accident occurred\n",
        "*   'Cód_Comun': Code of the commune where the accident occurred\n",
        "*   'Cód_Tipo_': Code of the type of accident\n",
        "*   'Tipo_Accid': Description of the type of accident\n",
        "*   'Cód_Tipo1': Secondary code of the type of accident\n",
        "*   'Tipo__CONA': Secondary description of the type of accident\n",
        "*   'Cód_Zona': Code of the zone where the accident occurred\n",
        "*   'Zona_1': Description of the zone (urban or rural)\n",
        "*   'Cód_Ubica': Code of the specific location of the accident\n",
        "*   'Ubicación': Description of the specific location of the accident\n",
        "*   'Cód_Causa': Code of the main cause of the accident\n",
        "*   'Causa__CON': Description of the main cause of the accident\n",
        "*   'Cód_Cau_1': Secondary code of the cause of the accident\n",
        "*   'Causa': Secondary description of the cause of the accident\n",
        "*   'Pistas_de_': Number of traffic lanes on the road\n",
        "*   'Pistas_de1': Secondary number of traffic lanes on the road\n",
        "*   'Cód_Calza': Code of the type of pavement (asphalt, concrete, etc.)\n",
        "*   'Calzada': Description of the type of pavement (asphalt, concrete, etc.)\n",
        "*   'Cód__Tipo': Code of the pavement condition (good, fair, etc.)\n",
        "*   'Tipo_Calza': Description of the pavement condition (good, fair, etc.)\n",
        "*   'Cód_Estad': Code of the atmospheric conditions at the time of the accident\n",
        "*   'Estado_Cal': Description of the atmospheric conditions at the time of the accident\n",
        "*   'Cód_Condi': Code of the weather conditions at the time of the accident\n",
        "*   'Condición': Description of the weather conditions at the time of the accident\n",
        "*   'Cód_Est_1': Code of the atmospheric state at the time of the accident\n",
        "*   'Estado_Atm': Description of the atmospheric state at the time of the accident.\n",
        "*   'Fallecidos': Number of fatalities in the accident\n",
        "*   'Graves': Number of people with serious injuries in the accident\n",
        "*   'Menos_Grav': Number of people with less serious injuries in the accident\n",
        "*   'Leves': Number of people with minor injuries in the accident\n",
        "*   'geometry': List the type of geometry, in this case POINT"
      ],
      "metadata": {
        "id": "vmuh1kFELPOS"
      },
      "id": "vmuh1kFELPOS"
    },
    {
      "cell_type": "markdown",
      "source": [
        "**Accidentes de transito ano 2020**"
      ],
      "metadata": {
        "id": "0V8JT7mzHweb"
      },
      "id": "0V8JT7mzHweb"
    },
    {
      "cell_type": "code",
      "source": [
        "gdfs_2020.sample(2)"
      ],
      "metadata": {
        "colab": {
          "base_uri": "https://localhost:8080/",
          "height": 283
        },
        "id": "oHUJJauOyiAj",
        "outputId": "b78b2b37-be2e-4c18-f9b9-bec90f6cc1e4"
      },
      "id": "oHUJJauOyiAj",
      "execution_count": null,
      "outputs": [
        {
          "output_type": "execute_result",
          "data": {
            "text/plain": [
              "     FID  COD_REG              REGION   CUT       COMUNA          CALLE_UNO  \\\n",
              "922  923        2  REGION ANTOFAGASTA  2101  ANTOFAGASTA             GRECIA   \n",
              "275  276        2  REGION ANTOFAGASTA  2101  ANTOFAGASTA  HILDA CRUZ COLINA   \n",
              "\n",
              "        CALLE_DOS  NUMERO                                         DIR_GEOCOD  \\\n",
              "922                  1000                Av. Grecia 1000, Antofagasta, Chile   \n",
              "275  FELIX GARCIA       0  Hilda Cruz Colina & Félix García, Antofagasta,...   \n",
              "\n",
              "           LAT  ...          Tipo_Accid  Tipo__CONA    Zona  \\\n",
              "922 -23.665383  ...      CHOQUE FRONTAL      CHOQUE  URBANA   \n",
              "275 -23.570212  ...  CHOQUE FRENTE/LADO      CHOQUE  URBANA   \n",
              "\n",
              "                    Causa__CON  \\\n",
              "922   PERDIDA CONTROL VEHICULO   \n",
              "275  IMPRUDENCIA DEL CONDUCTOR   \n",
              "\n",
              "                                                 Causa Fallecidos Graves  \\\n",
              "922                           PERDIDA CONTROL VEHICULO          0      0   \n",
              "275  CONDUCCION NO ATENTO CONDICIONES TRANSITO MOMENTO          0      0   \n",
              "\n",
              "    Menos_Grav Leves                     geometry  \n",
              "922          0     0  POINT (-70.40435 -23.66538)  \n",
              "275          0     0  POINT (-70.37732 -23.57021)  \n",
              "\n",
              "[2 rows x 26 columns]"
            ],
            "text/html": [
              "\n",
              "  <div id=\"df-e12d7dab-1205-4253-a6aa-1de17208bd5a\" class=\"colab-df-container\">\n",
              "    <div>\n",
              "<style scoped>\n",
              "    .dataframe tbody tr th:only-of-type {\n",
              "        vertical-align: middle;\n",
              "    }\n",
              "\n",
              "    .dataframe tbody tr th {\n",
              "        vertical-align: top;\n",
              "    }\n",
              "\n",
              "    .dataframe thead th {\n",
              "        text-align: right;\n",
              "    }\n",
              "</style>\n",
              "<table border=\"1\" class=\"dataframe\">\n",
              "  <thead>\n",
              "    <tr style=\"text-align: right;\">\n",
              "      <th></th>\n",
              "      <th>FID</th>\n",
              "      <th>COD_REG</th>\n",
              "      <th>REGION</th>\n",
              "      <th>CUT</th>\n",
              "      <th>COMUNA</th>\n",
              "      <th>CALLE_UNO</th>\n",
              "      <th>CALLE_DOS</th>\n",
              "      <th>NUMERO</th>\n",
              "      <th>DIR_GEOCOD</th>\n",
              "      <th>LAT</th>\n",
              "      <th>...</th>\n",
              "      <th>Tipo_Accid</th>\n",
              "      <th>Tipo__CONA</th>\n",
              "      <th>Zona</th>\n",
              "      <th>Causa__CON</th>\n",
              "      <th>Causa</th>\n",
              "      <th>Fallecidos</th>\n",
              "      <th>Graves</th>\n",
              "      <th>Menos_Grav</th>\n",
              "      <th>Leves</th>\n",
              "      <th>geometry</th>\n",
              "    </tr>\n",
              "  </thead>\n",
              "  <tbody>\n",
              "    <tr>\n",
              "      <th>922</th>\n",
              "      <td>923</td>\n",
              "      <td>2</td>\n",
              "      <td>REGION ANTOFAGASTA</td>\n",
              "      <td>2101</td>\n",
              "      <td>ANTOFAGASTA</td>\n",
              "      <td>GRECIA</td>\n",
              "      <td></td>\n",
              "      <td>1000</td>\n",
              "      <td>Av. Grecia 1000, Antofagasta, Chile</td>\n",
              "      <td>-23.665383</td>\n",
              "      <td>...</td>\n",
              "      <td>CHOQUE FRONTAL</td>\n",
              "      <td>CHOQUE</td>\n",
              "      <td>URBANA</td>\n",
              "      <td>PERDIDA CONTROL VEHICULO</td>\n",
              "      <td>PERDIDA CONTROL VEHICULO</td>\n",
              "      <td>0</td>\n",
              "      <td>0</td>\n",
              "      <td>0</td>\n",
              "      <td>0</td>\n",
              "      <td>POINT (-70.40435 -23.66538)</td>\n",
              "    </tr>\n",
              "    <tr>\n",
              "      <th>275</th>\n",
              "      <td>276</td>\n",
              "      <td>2</td>\n",
              "      <td>REGION ANTOFAGASTA</td>\n",
              "      <td>2101</td>\n",
              "      <td>ANTOFAGASTA</td>\n",
              "      <td>HILDA CRUZ COLINA</td>\n",
              "      <td>FELIX GARCIA</td>\n",
              "      <td>0</td>\n",
              "      <td>Hilda Cruz Colina &amp; Félix García, Antofagasta,...</td>\n",
              "      <td>-23.570212</td>\n",
              "      <td>...</td>\n",
              "      <td>CHOQUE FRENTE/LADO</td>\n",
              "      <td>CHOQUE</td>\n",
              "      <td>URBANA</td>\n",
              "      <td>IMPRUDENCIA DEL CONDUCTOR</td>\n",
              "      <td>CONDUCCION NO ATENTO CONDICIONES TRANSITO MOMENTO</td>\n",
              "      <td>0</td>\n",
              "      <td>0</td>\n",
              "      <td>0</td>\n",
              "      <td>0</td>\n",
              "      <td>POINT (-70.37732 -23.57021)</td>\n",
              "    </tr>\n",
              "  </tbody>\n",
              "</table>\n",
              "<p>2 rows × 26 columns</p>\n",
              "</div>\n",
              "    <div class=\"colab-df-buttons\">\n",
              "\n",
              "  <div class=\"colab-df-container\">\n",
              "    <button class=\"colab-df-convert\" onclick=\"convertToInteractive('df-e12d7dab-1205-4253-a6aa-1de17208bd5a')\"\n",
              "            title=\"Convert this dataframe to an interactive table.\"\n",
              "            style=\"display:none;\">\n",
              "\n",
              "  <svg xmlns=\"http://www.w3.org/2000/svg\" height=\"24px\" viewBox=\"0 -960 960 960\">\n",
              "    <path d=\"M120-120v-720h720v720H120Zm60-500h600v-160H180v160Zm220 220h160v-160H400v160Zm0 220h160v-160H400v160ZM180-400h160v-160H180v160Zm440 0h160v-160H620v160ZM180-180h160v-160H180v160Zm440 0h160v-160H620v160Z\"/>\n",
              "  </svg>\n",
              "    </button>\n",
              "\n",
              "  <style>\n",
              "    .colab-df-container {\n",
              "      display:flex;\n",
              "      gap: 12px;\n",
              "    }\n",
              "\n",
              "    .colab-df-convert {\n",
              "      background-color: #E8F0FE;\n",
              "      border: none;\n",
              "      border-radius: 50%;\n",
              "      cursor: pointer;\n",
              "      display: none;\n",
              "      fill: #1967D2;\n",
              "      height: 32px;\n",
              "      padding: 0 0 0 0;\n",
              "      width: 32px;\n",
              "    }\n",
              "\n",
              "    .colab-df-convert:hover {\n",
              "      background-color: #E2EBFA;\n",
              "      box-shadow: 0px 1px 2px rgba(60, 64, 67, 0.3), 0px 1px 3px 1px rgba(60, 64, 67, 0.15);\n",
              "      fill: #174EA6;\n",
              "    }\n",
              "\n",
              "    .colab-df-buttons div {\n",
              "      margin-bottom: 4px;\n",
              "    }\n",
              "\n",
              "    [theme=dark] .colab-df-convert {\n",
              "      background-color: #3B4455;\n",
              "      fill: #D2E3FC;\n",
              "    }\n",
              "\n",
              "    [theme=dark] .colab-df-convert:hover {\n",
              "      background-color: #434B5C;\n",
              "      box-shadow: 0px 1px 3px 1px rgba(0, 0, 0, 0.15);\n",
              "      filter: drop-shadow(0px 1px 2px rgba(0, 0, 0, 0.3));\n",
              "      fill: #FFFFFF;\n",
              "    }\n",
              "  </style>\n",
              "\n",
              "    <script>\n",
              "      const buttonEl =\n",
              "        document.querySelector('#df-e12d7dab-1205-4253-a6aa-1de17208bd5a button.colab-df-convert');\n",
              "      buttonEl.style.display =\n",
              "        google.colab.kernel.accessAllowed ? 'block' : 'none';\n",
              "\n",
              "      async function convertToInteractive(key) {\n",
              "        const element = document.querySelector('#df-e12d7dab-1205-4253-a6aa-1de17208bd5a');\n",
              "        const dataTable =\n",
              "          await google.colab.kernel.invokeFunction('convertToInteractive',\n",
              "                                                    [key], {});\n",
              "        if (!dataTable) return;\n",
              "\n",
              "        const docLinkHtml = 'Like what you see? Visit the ' +\n",
              "          '<a target=\"_blank\" href=https://colab.research.google.com/notebooks/data_table.ipynb>data table notebook</a>'\n",
              "          + ' to learn more about interactive tables.';\n",
              "        element.innerHTML = '';\n",
              "        dataTable['output_type'] = 'display_data';\n",
              "        await google.colab.output.renderOutput(dataTable, element);\n",
              "        const docLink = document.createElement('div');\n",
              "        docLink.innerHTML = docLinkHtml;\n",
              "        element.appendChild(docLink);\n",
              "      }\n",
              "    </script>\n",
              "  </div>\n",
              "\n",
              "\n",
              "    <div id=\"df-0991576c-2bfb-46ce-a3f4-c558dfce79f2\">\n",
              "      <button class=\"colab-df-quickchart\" onclick=\"quickchart('df-0991576c-2bfb-46ce-a3f4-c558dfce79f2')\"\n",
              "                title=\"Suggest charts\"\n",
              "                style=\"display:none;\">\n",
              "\n",
              "<svg xmlns=\"http://www.w3.org/2000/svg\" height=\"24px\"viewBox=\"0 0 24 24\"\n",
              "     width=\"24px\">\n",
              "    <g>\n",
              "        <path d=\"M19 3H5c-1.1 0-2 .9-2 2v14c0 1.1.9 2 2 2h14c1.1 0 2-.9 2-2V5c0-1.1-.9-2-2-2zM9 17H7v-7h2v7zm4 0h-2V7h2v10zm4 0h-2v-4h2v4z\"/>\n",
              "    </g>\n",
              "</svg>\n",
              "      </button>\n",
              "\n",
              "<style>\n",
              "  .colab-df-quickchart {\n",
              "      --bg-color: #E8F0FE;\n",
              "      --fill-color: #1967D2;\n",
              "      --hover-bg-color: #E2EBFA;\n",
              "      --hover-fill-color: #174EA6;\n",
              "      --disabled-fill-color: #AAA;\n",
              "      --disabled-bg-color: #DDD;\n",
              "  }\n",
              "\n",
              "  [theme=dark] .colab-df-quickchart {\n",
              "      --bg-color: #3B4455;\n",
              "      --fill-color: #D2E3FC;\n",
              "      --hover-bg-color: #434B5C;\n",
              "      --hover-fill-color: #FFFFFF;\n",
              "      --disabled-bg-color: #3B4455;\n",
              "      --disabled-fill-color: #666;\n",
              "  }\n",
              "\n",
              "  .colab-df-quickchart {\n",
              "    background-color: var(--bg-color);\n",
              "    border: none;\n",
              "    border-radius: 50%;\n",
              "    cursor: pointer;\n",
              "    display: none;\n",
              "    fill: var(--fill-color);\n",
              "    height: 32px;\n",
              "    padding: 0;\n",
              "    width: 32px;\n",
              "  }\n",
              "\n",
              "  .colab-df-quickchart:hover {\n",
              "    background-color: var(--hover-bg-color);\n",
              "    box-shadow: 0 1px 2px rgba(60, 64, 67, 0.3), 0 1px 3px 1px rgba(60, 64, 67, 0.15);\n",
              "    fill: var(--button-hover-fill-color);\n",
              "  }\n",
              "\n",
              "  .colab-df-quickchart-complete:disabled,\n",
              "  .colab-df-quickchart-complete:disabled:hover {\n",
              "    background-color: var(--disabled-bg-color);\n",
              "    fill: var(--disabled-fill-color);\n",
              "    box-shadow: none;\n",
              "  }\n",
              "\n",
              "  .colab-df-spinner {\n",
              "    border: 2px solid var(--fill-color);\n",
              "    border-color: transparent;\n",
              "    border-bottom-color: var(--fill-color);\n",
              "    animation:\n",
              "      spin 1s steps(1) infinite;\n",
              "  }\n",
              "\n",
              "  @keyframes spin {\n",
              "    0% {\n",
              "      border-color: transparent;\n",
              "      border-bottom-color: var(--fill-color);\n",
              "      border-left-color: var(--fill-color);\n",
              "    }\n",
              "    20% {\n",
              "      border-color: transparent;\n",
              "      border-left-color: var(--fill-color);\n",
              "      border-top-color: var(--fill-color);\n",
              "    }\n",
              "    30% {\n",
              "      border-color: transparent;\n",
              "      border-left-color: var(--fill-color);\n",
              "      border-top-color: var(--fill-color);\n",
              "      border-right-color: var(--fill-color);\n",
              "    }\n",
              "    40% {\n",
              "      border-color: transparent;\n",
              "      border-right-color: var(--fill-color);\n",
              "      border-top-color: var(--fill-color);\n",
              "    }\n",
              "    60% {\n",
              "      border-color: transparent;\n",
              "      border-right-color: var(--fill-color);\n",
              "    }\n",
              "    80% {\n",
              "      border-color: transparent;\n",
              "      border-right-color: var(--fill-color);\n",
              "      border-bottom-color: var(--fill-color);\n",
              "    }\n",
              "    90% {\n",
              "      border-color: transparent;\n",
              "      border-bottom-color: var(--fill-color);\n",
              "    }\n",
              "  }\n",
              "</style>\n",
              "\n",
              "      <script>\n",
              "        async function quickchart(key) {\n",
              "          const quickchartButtonEl =\n",
              "            document.querySelector('#' + key + ' button');\n",
              "          quickchartButtonEl.disabled = true;  // To prevent multiple clicks.\n",
              "          quickchartButtonEl.classList.add('colab-df-spinner');\n",
              "          try {\n",
              "            const charts = await google.colab.kernel.invokeFunction(\n",
              "                'suggestCharts', [key], {});\n",
              "          } catch (error) {\n",
              "            console.error('Error during call to suggestCharts:', error);\n",
              "          }\n",
              "          quickchartButtonEl.classList.remove('colab-df-spinner');\n",
              "          quickchartButtonEl.classList.add('colab-df-quickchart-complete');\n",
              "        }\n",
              "        (() => {\n",
              "          let quickchartButtonEl =\n",
              "            document.querySelector('#df-0991576c-2bfb-46ce-a3f4-c558dfce79f2 button');\n",
              "          quickchartButtonEl.style.display =\n",
              "            google.colab.kernel.accessAllowed ? 'block' : 'none';\n",
              "        })();\n",
              "      </script>\n",
              "    </div>\n",
              "\n",
              "    </div>\n",
              "  </div>\n"
            ],
            "application/vnd.google.colaboratory.intrinsic+json": {
              "type": "dataframe"
            }
          },
          "metadata": {},
          "execution_count": 8
        }
      ]
    },
    {
      "cell_type": "code",
      "source": [
        "gdfs_2020.info()  # ‘.info()’ is used to observe if there is null data in any variable,  by looking at the ‘Non-Null Count’ column."
      ],
      "metadata": {
        "id": "-GNZ7KHxA_Y6",
        "outputId": "194eeea7-9d4d-4af1-d0eb-755b18442110",
        "colab": {
          "base_uri": "https://localhost:8080/"
        }
      },
      "id": "-GNZ7KHxA_Y6",
      "execution_count": null,
      "outputs": [
        {
          "output_type": "stream",
          "name": "stdout",
          "text": [
            "<class 'geopandas.geodataframe.GeoDataFrame'>\n",
            "RangeIndex: 1951 entries, 0 to 1950\n",
            "Data columns (total 26 columns):\n",
            " #   Column      Non-Null Count  Dtype              \n",
            "---  ------      --------------  -----              \n",
            " 0   FID         1951 non-null   int32              \n",
            " 1   COD_REG     1951 non-null   int32              \n",
            " 2   REGION      1951 non-null   object             \n",
            " 3   CUT         1951 non-null   int32              \n",
            " 4   COMUNA      1951 non-null   object             \n",
            " 5   CALLE_UNO   1951 non-null   object             \n",
            " 6   CALLE_DOS   1951 non-null   object             \n",
            " 7   NUMERO      1951 non-null   int32              \n",
            " 8   DIR_GEOCOD  1951 non-null   object             \n",
            " 9   LAT         1951 non-null   float64            \n",
            " 10  LNG         1951 non-null   float64            \n",
            " 11  VAL_COM     1951 non-null   int32              \n",
            " 12  TIPO        1951 non-null   object             \n",
            " 13  Año         1951 non-null   int32              \n",
            " 14  Idaccident  1951 non-null   int32              \n",
            " 15  Fecha       1951 non-null   datetime64[ms, UTC]\n",
            " 16  Tipo_Accid  1951 non-null   object             \n",
            " 17  Tipo__CONA  1951 non-null   object             \n",
            " 18  Zona        1951 non-null   object             \n",
            " 19  Causa__CON  1951 non-null   object             \n",
            " 20  Causa       1951 non-null   object             \n",
            " 21  Fallecidos  1951 non-null   int32              \n",
            " 22  Graves      1951 non-null   int32              \n",
            " 23  Menos_Grav  1951 non-null   int32              \n",
            " 24  Leves       1951 non-null   int32              \n",
            " 25  geometry    1951 non-null   geometry           \n",
            "dtypes: datetime64[ms, UTC](1), float64(2), geometry(1), int32(11), object(11)\n",
            "memory usage: 312.6+ KB\n"
          ]
        }
      ]
    },
    {
      "cell_type": "code",
      "source": [
        "# Se visualizan el nombre de todas las columnas, ya que en el codigo anetrior solo se puede ser una parte\n",
        "gdfs_2020.columns"
      ],
      "metadata": {
        "id": "j1MqrK6aP6ag",
        "outputId": "0e3f6d4a-33e3-4bf3-e0af-c0aa3f600d4e",
        "colab": {
          "base_uri": "https://localhost:8080/"
        }
      },
      "id": "j1MqrK6aP6ag",
      "execution_count": null,
      "outputs": [
        {
          "output_type": "execute_result",
          "data": {
            "text/plain": [
              "Index(['FID', 'COD_REG', 'REGION', 'CUT', 'COMUNA', 'CALLE_UNO', 'CALLE_DOS',\n",
              "       'NUMERO', 'DIR_GEOCOD', 'LAT', 'LNG', 'VAL_COM', 'TIPO', 'Año',\n",
              "       'Idaccident', 'Fecha', 'Tipo_Accid', 'Tipo__CONA', 'Zona', 'Causa__CON',\n",
              "       'Causa', 'Fallecidos', 'Graves', 'Menos_Grav', 'Leves', 'geometry'],\n",
              "      dtype='object')"
            ]
          },
          "metadata": {},
          "execution_count": 10
        }
      ]
    },
    {
      "cell_type": "markdown",
      "source": [
        "En general los datos son bastantes similares a los del ano 2019, sin embargo tienen un orden diferente."
      ],
      "metadata": {
        "id": "ugCFwrXsQDED"
      },
      "id": "ugCFwrXsQDED"
    },
    {
      "cell_type": "markdown",
      "source": [
        "*Accidentes de transito del 2020*\n",
        "\n",
        "\n",
        "*   'FID': a unique ID for each accident\n",
        "*   'COD_REG': Region code\n",
        "*   'REGION': Name of the region\n",
        "*   'CUT': Unique territorial code of the commune\n",
        "*   'COMUNA': Name of the commune\n",
        "*   'CALLE_UNO': Name of the first street involved in the accident\n",
        "*   'CALLE_DOS': Name of the second street involved in the accident\n",
        "*   'NUMERO': Address number of the accident location\n",
        "*   'DIR_GEOCOD': Geocoded address of the accident location\n",
        "*   'LAT': Latitude of the accident location\n",
        "*   'LNG': Longitude of the accident location\n",
        "*   'VAL_COM': Value of the commune\n",
        "*   'TIPO': Type of coordinate (approximate, geometric center, etc.)\n",
        "*   'Año': Year the accident occurred\n",
        "*   'Idaccident': Unique identifier of the accident\n",
        "*   'Fecha': Date and time of the accident\n",
        "*   'Tipo_Accid': Type of accident (collision, run-over, etc.)\n",
        "*   'Tipo__CONA': Type of collision according to the analysis (frontal, lateral, etc.)\n",
        "*   'Zona': Zone where the accident occurred (urban, rural)\n",
        "*   'Causa__CON': Cause of the collision according to the analysis\n",
        "*   'Causa': Cause of the accident (recklessness, alcohol, etc.)\n",
        "*   'Fallecidos': Number of fatalities in the accident\n",
        "*   'Graves': Number of seriously injured people in the accident\n",
        "*   'Menos_Grav': Number of less seriously injured people in the accident\n",
        "*   'Leves': Number of minor injuries in the accident\n",
        "*   'geometry': List the type of geometry, in this case POINT"
      ],
      "metadata": {
        "id": "mXwXlA1dQSIX"
      },
      "id": "mXwXlA1dQSIX"
    },
    {
      "cell_type": "markdown",
      "source": [
        "**Accidentes de transito ano 2021**"
      ],
      "metadata": {
        "id": "4q5OQvJBH47q"
      },
      "id": "4q5OQvJBH47q"
    },
    {
      "cell_type": "code",
      "source": [
        "gdfs_2021.sample(2)"
      ],
      "metadata": {
        "colab": {
          "base_uri": "https://localhost:8080/",
          "height": 231
        },
        "id": "BLZ1IVfuypbl",
        "outputId": "198dc20a-494e-4d69-efc7-ddec9c002478"
      },
      "id": "BLZ1IVfuypbl",
      "execution_count": null,
      "outputs": [
        {
          "output_type": "execute_result",
          "data": {
            "text/plain": [
              "       FID  FID_1  LABELID    POINT_X    POINT_Y  FID_2 COMUNAREAL  VAL_COM  \\\n",
              "2298  2299  47516  1355158 -70.190381 -22.083501    226  TOCOPILLA        1   \n",
              "1224  1225   4133  1365306 -68.935489 -22.481847    111     CALAMA        1   \n",
              "\n",
              "      OBJECTID   A_O  ...  Cód_Condi Condición  Cód_Est_1 Estado_Atm  \\\n",
              "2298     22165  2021  ...          1      SECO          1  DESPEJADO   \n",
              "1224     29390  2021  ...          1      SECO          1  DESPEJADO   \n",
              "\n",
              "     Fallecidos Graves  Menos_Grav Leves Ilesos                     geometry  \n",
              "2298          0      1           0     0      1   POINT (-70.19038 -22.0835)  \n",
              "1224          0      0           0     1      0  POINT (-68.93549 -22.48185)  \n",
              "\n",
              "[2 rows x 70 columns]"
            ],
            "text/html": [
              "\n",
              "  <div id=\"df-d30f161e-88df-4755-a631-a93ea34fad2a\" class=\"colab-df-container\">\n",
              "    <div>\n",
              "<style scoped>\n",
              "    .dataframe tbody tr th:only-of-type {\n",
              "        vertical-align: middle;\n",
              "    }\n",
              "\n",
              "    .dataframe tbody tr th {\n",
              "        vertical-align: top;\n",
              "    }\n",
              "\n",
              "    .dataframe thead th {\n",
              "        text-align: right;\n",
              "    }\n",
              "</style>\n",
              "<table border=\"1\" class=\"dataframe\">\n",
              "  <thead>\n",
              "    <tr style=\"text-align: right;\">\n",
              "      <th></th>\n",
              "      <th>FID</th>\n",
              "      <th>FID_1</th>\n",
              "      <th>LABELID</th>\n",
              "      <th>POINT_X</th>\n",
              "      <th>POINT_Y</th>\n",
              "      <th>FID_2</th>\n",
              "      <th>COMUNAREAL</th>\n",
              "      <th>VAL_COM</th>\n",
              "      <th>OBJECTID</th>\n",
              "      <th>A_O</th>\n",
              "      <th>...</th>\n",
              "      <th>Cód_Condi</th>\n",
              "      <th>Condición</th>\n",
              "      <th>Cód_Est_1</th>\n",
              "      <th>Estado_Atm</th>\n",
              "      <th>Fallecidos</th>\n",
              "      <th>Graves</th>\n",
              "      <th>Menos_Grav</th>\n",
              "      <th>Leves</th>\n",
              "      <th>Ilesos</th>\n",
              "      <th>geometry</th>\n",
              "    </tr>\n",
              "  </thead>\n",
              "  <tbody>\n",
              "    <tr>\n",
              "      <th>2298</th>\n",
              "      <td>2299</td>\n",
              "      <td>47516</td>\n",
              "      <td>1355158</td>\n",
              "      <td>-70.190381</td>\n",
              "      <td>-22.083501</td>\n",
              "      <td>226</td>\n",
              "      <td>TOCOPILLA</td>\n",
              "      <td>1</td>\n",
              "      <td>22165</td>\n",
              "      <td>2021</td>\n",
              "      <td>...</td>\n",
              "      <td>1</td>\n",
              "      <td>SECO</td>\n",
              "      <td>1</td>\n",
              "      <td>DESPEJADO</td>\n",
              "      <td>0</td>\n",
              "      <td>1</td>\n",
              "      <td>0</td>\n",
              "      <td>0</td>\n",
              "      <td>1</td>\n",
              "      <td>POINT (-70.19038 -22.0835)</td>\n",
              "    </tr>\n",
              "    <tr>\n",
              "      <th>1224</th>\n",
              "      <td>1225</td>\n",
              "      <td>4133</td>\n",
              "      <td>1365306</td>\n",
              "      <td>-68.935489</td>\n",
              "      <td>-22.481847</td>\n",
              "      <td>111</td>\n",
              "      <td>CALAMA</td>\n",
              "      <td>1</td>\n",
              "      <td>29390</td>\n",
              "      <td>2021</td>\n",
              "      <td>...</td>\n",
              "      <td>1</td>\n",
              "      <td>SECO</td>\n",
              "      <td>1</td>\n",
              "      <td>DESPEJADO</td>\n",
              "      <td>0</td>\n",
              "      <td>0</td>\n",
              "      <td>0</td>\n",
              "      <td>1</td>\n",
              "      <td>0</td>\n",
              "      <td>POINT (-68.93549 -22.48185)</td>\n",
              "    </tr>\n",
              "  </tbody>\n",
              "</table>\n",
              "<p>2 rows × 70 columns</p>\n",
              "</div>\n",
              "    <div class=\"colab-df-buttons\">\n",
              "\n",
              "  <div class=\"colab-df-container\">\n",
              "    <button class=\"colab-df-convert\" onclick=\"convertToInteractive('df-d30f161e-88df-4755-a631-a93ea34fad2a')\"\n",
              "            title=\"Convert this dataframe to an interactive table.\"\n",
              "            style=\"display:none;\">\n",
              "\n",
              "  <svg xmlns=\"http://www.w3.org/2000/svg\" height=\"24px\" viewBox=\"0 -960 960 960\">\n",
              "    <path d=\"M120-120v-720h720v720H120Zm60-500h600v-160H180v160Zm220 220h160v-160H400v160Zm0 220h160v-160H400v160ZM180-400h160v-160H180v160Zm440 0h160v-160H620v160ZM180-180h160v-160H180v160Zm440 0h160v-160H620v160Z\"/>\n",
              "  </svg>\n",
              "    </button>\n",
              "\n",
              "  <style>\n",
              "    .colab-df-container {\n",
              "      display:flex;\n",
              "      gap: 12px;\n",
              "    }\n",
              "\n",
              "    .colab-df-convert {\n",
              "      background-color: #E8F0FE;\n",
              "      border: none;\n",
              "      border-radius: 50%;\n",
              "      cursor: pointer;\n",
              "      display: none;\n",
              "      fill: #1967D2;\n",
              "      height: 32px;\n",
              "      padding: 0 0 0 0;\n",
              "      width: 32px;\n",
              "    }\n",
              "\n",
              "    .colab-df-convert:hover {\n",
              "      background-color: #E2EBFA;\n",
              "      box-shadow: 0px 1px 2px rgba(60, 64, 67, 0.3), 0px 1px 3px 1px rgba(60, 64, 67, 0.15);\n",
              "      fill: #174EA6;\n",
              "    }\n",
              "\n",
              "    .colab-df-buttons div {\n",
              "      margin-bottom: 4px;\n",
              "    }\n",
              "\n",
              "    [theme=dark] .colab-df-convert {\n",
              "      background-color: #3B4455;\n",
              "      fill: #D2E3FC;\n",
              "    }\n",
              "\n",
              "    [theme=dark] .colab-df-convert:hover {\n",
              "      background-color: #434B5C;\n",
              "      box-shadow: 0px 1px 3px 1px rgba(0, 0, 0, 0.15);\n",
              "      filter: drop-shadow(0px 1px 2px rgba(0, 0, 0, 0.3));\n",
              "      fill: #FFFFFF;\n",
              "    }\n",
              "  </style>\n",
              "\n",
              "    <script>\n",
              "      const buttonEl =\n",
              "        document.querySelector('#df-d30f161e-88df-4755-a631-a93ea34fad2a button.colab-df-convert');\n",
              "      buttonEl.style.display =\n",
              "        google.colab.kernel.accessAllowed ? 'block' : 'none';\n",
              "\n",
              "      async function convertToInteractive(key) {\n",
              "        const element = document.querySelector('#df-d30f161e-88df-4755-a631-a93ea34fad2a');\n",
              "        const dataTable =\n",
              "          await google.colab.kernel.invokeFunction('convertToInteractive',\n",
              "                                                    [key], {});\n",
              "        if (!dataTable) return;\n",
              "\n",
              "        const docLinkHtml = 'Like what you see? Visit the ' +\n",
              "          '<a target=\"_blank\" href=https://colab.research.google.com/notebooks/data_table.ipynb>data table notebook</a>'\n",
              "          + ' to learn more about interactive tables.';\n",
              "        element.innerHTML = '';\n",
              "        dataTable['output_type'] = 'display_data';\n",
              "        await google.colab.output.renderOutput(dataTable, element);\n",
              "        const docLink = document.createElement('div');\n",
              "        docLink.innerHTML = docLinkHtml;\n",
              "        element.appendChild(docLink);\n",
              "      }\n",
              "    </script>\n",
              "  </div>\n",
              "\n",
              "\n",
              "    <div id=\"df-d0f37dfd-06f2-4cf1-abba-b0838b68a89c\">\n",
              "      <button class=\"colab-df-quickchart\" onclick=\"quickchart('df-d0f37dfd-06f2-4cf1-abba-b0838b68a89c')\"\n",
              "                title=\"Suggest charts\"\n",
              "                style=\"display:none;\">\n",
              "\n",
              "<svg xmlns=\"http://www.w3.org/2000/svg\" height=\"24px\"viewBox=\"0 0 24 24\"\n",
              "     width=\"24px\">\n",
              "    <g>\n",
              "        <path d=\"M19 3H5c-1.1 0-2 .9-2 2v14c0 1.1.9 2 2 2h14c1.1 0 2-.9 2-2V5c0-1.1-.9-2-2-2zM9 17H7v-7h2v7zm4 0h-2V7h2v10zm4 0h-2v-4h2v4z\"/>\n",
              "    </g>\n",
              "</svg>\n",
              "      </button>\n",
              "\n",
              "<style>\n",
              "  .colab-df-quickchart {\n",
              "      --bg-color: #E8F0FE;\n",
              "      --fill-color: #1967D2;\n",
              "      --hover-bg-color: #E2EBFA;\n",
              "      --hover-fill-color: #174EA6;\n",
              "      --disabled-fill-color: #AAA;\n",
              "      --disabled-bg-color: #DDD;\n",
              "  }\n",
              "\n",
              "  [theme=dark] .colab-df-quickchart {\n",
              "      --bg-color: #3B4455;\n",
              "      --fill-color: #D2E3FC;\n",
              "      --hover-bg-color: #434B5C;\n",
              "      --hover-fill-color: #FFFFFF;\n",
              "      --disabled-bg-color: #3B4455;\n",
              "      --disabled-fill-color: #666;\n",
              "  }\n",
              "\n",
              "  .colab-df-quickchart {\n",
              "    background-color: var(--bg-color);\n",
              "    border: none;\n",
              "    border-radius: 50%;\n",
              "    cursor: pointer;\n",
              "    display: none;\n",
              "    fill: var(--fill-color);\n",
              "    height: 32px;\n",
              "    padding: 0;\n",
              "    width: 32px;\n",
              "  }\n",
              "\n",
              "  .colab-df-quickchart:hover {\n",
              "    background-color: var(--hover-bg-color);\n",
              "    box-shadow: 0 1px 2px rgba(60, 64, 67, 0.3), 0 1px 3px 1px rgba(60, 64, 67, 0.15);\n",
              "    fill: var(--button-hover-fill-color);\n",
              "  }\n",
              "\n",
              "  .colab-df-quickchart-complete:disabled,\n",
              "  .colab-df-quickchart-complete:disabled:hover {\n",
              "    background-color: var(--disabled-bg-color);\n",
              "    fill: var(--disabled-fill-color);\n",
              "    box-shadow: none;\n",
              "  }\n",
              "\n",
              "  .colab-df-spinner {\n",
              "    border: 2px solid var(--fill-color);\n",
              "    border-color: transparent;\n",
              "    border-bottom-color: var(--fill-color);\n",
              "    animation:\n",
              "      spin 1s steps(1) infinite;\n",
              "  }\n",
              "\n",
              "  @keyframes spin {\n",
              "    0% {\n",
              "      border-color: transparent;\n",
              "      border-bottom-color: var(--fill-color);\n",
              "      border-left-color: var(--fill-color);\n",
              "    }\n",
              "    20% {\n",
              "      border-color: transparent;\n",
              "      border-left-color: var(--fill-color);\n",
              "      border-top-color: var(--fill-color);\n",
              "    }\n",
              "    30% {\n",
              "      border-color: transparent;\n",
              "      border-left-color: var(--fill-color);\n",
              "      border-top-color: var(--fill-color);\n",
              "      border-right-color: var(--fill-color);\n",
              "    }\n",
              "    40% {\n",
              "      border-color: transparent;\n",
              "      border-right-color: var(--fill-color);\n",
              "      border-top-color: var(--fill-color);\n",
              "    }\n",
              "    60% {\n",
              "      border-color: transparent;\n",
              "      border-right-color: var(--fill-color);\n",
              "    }\n",
              "    80% {\n",
              "      border-color: transparent;\n",
              "      border-right-color: var(--fill-color);\n",
              "      border-bottom-color: var(--fill-color);\n",
              "    }\n",
              "    90% {\n",
              "      border-color: transparent;\n",
              "      border-bottom-color: var(--fill-color);\n",
              "    }\n",
              "  }\n",
              "</style>\n",
              "\n",
              "      <script>\n",
              "        async function quickchart(key) {\n",
              "          const quickchartButtonEl =\n",
              "            document.querySelector('#' + key + ' button');\n",
              "          quickchartButtonEl.disabled = true;  // To prevent multiple clicks.\n",
              "          quickchartButtonEl.classList.add('colab-df-spinner');\n",
              "          try {\n",
              "            const charts = await google.colab.kernel.invokeFunction(\n",
              "                'suggestCharts', [key], {});\n",
              "          } catch (error) {\n",
              "            console.error('Error during call to suggestCharts:', error);\n",
              "          }\n",
              "          quickchartButtonEl.classList.remove('colab-df-spinner');\n",
              "          quickchartButtonEl.classList.add('colab-df-quickchart-complete');\n",
              "        }\n",
              "        (() => {\n",
              "          let quickchartButtonEl =\n",
              "            document.querySelector('#df-d0f37dfd-06f2-4cf1-abba-b0838b68a89c button');\n",
              "          quickchartButtonEl.style.display =\n",
              "            google.colab.kernel.accessAllowed ? 'block' : 'none';\n",
              "        })();\n",
              "      </script>\n",
              "    </div>\n",
              "\n",
              "    </div>\n",
              "  </div>\n"
            ],
            "application/vnd.google.colaboratory.intrinsic+json": {
              "type": "dataframe"
            }
          },
          "metadata": {},
          "execution_count": 11
        }
      ]
    },
    {
      "cell_type": "code",
      "source": [
        "gdfs_2021.info()  # ‘.info()’ is used to observe if there is null data in any variable,  by looking at the ‘Non-Null Count’ column."
      ],
      "metadata": {
        "id": "yB30hDXOBDZn",
        "outputId": "4b04eae2-167d-4814-cf94-be0a24ef5f69",
        "colab": {
          "base_uri": "https://localhost:8080/"
        }
      },
      "id": "yB30hDXOBDZn",
      "execution_count": null,
      "outputs": [
        {
          "output_type": "stream",
          "name": "stdout",
          "text": [
            "<class 'geopandas.geodataframe.GeoDataFrame'>\n",
            "RangeIndex: 2416 entries, 0 to 2415\n",
            "Data columns (total 70 columns):\n",
            " #   Column      Non-Null Count  Dtype              \n",
            "---  ------      --------------  -----              \n",
            " 0   FID         2416 non-null   int32              \n",
            " 1   FID_1       2416 non-null   int32              \n",
            " 2   LABELID     2416 non-null   int32              \n",
            " 3   POINT_X     2416 non-null   float64            \n",
            " 4   POINT_Y     2416 non-null   float64            \n",
            " 5   FID_2       2416 non-null   int32              \n",
            " 6   COMUNAREAL  2416 non-null   object             \n",
            " 7   VAL_COM     2416 non-null   int32              \n",
            " 8   OBJECTID    2416 non-null   int32              \n",
            " 9   A_O         2416 non-null   int32              \n",
            " 10  IDACCIDENT  2416 non-null   int32              \n",
            " 11  REGION      2416 non-null   object             \n",
            " 12  COD_COMUN   2416 non-null   int32              \n",
            " 13  COMUNA      2416 non-null   object             \n",
            " 14  CALLE_UNO   2416 non-null   object             \n",
            " 15  CALLE_DOS   2416 non-null   object             \n",
            " 16  NUMERO      2416 non-null   int32              \n",
            " 17  DIR_GEOCOD  2416 non-null   object             \n",
            " 18  PAIS        2416 non-null   object             \n",
            " 19  TIPO        2416 non-null   object             \n",
            " 20  OBJECTID_1  2416 non-null   int32              \n",
            " 21  Año         2416 non-null   int32              \n",
            " 22  Idaccide_1  2416 non-null   int32              \n",
            " 23  Claseaccid  2416 non-null   int32              \n",
            " 24  Fecha       2416 non-null   datetime64[ms, UTC]\n",
            " 25  Hora        2416 non-null   datetime64[ms, UTC]\n",
            " 26  Cód_Regi    2416 non-null   int32              \n",
            " 27  Región      2416 non-null   object             \n",
            " 28  Cód_Comun   2416 non-null   int32              \n",
            " 29  Comuna_1    2416 non-null   object             \n",
            " 30  Cód_Tipo_   2416 non-null   int32              \n",
            " 31  Tipo_Accid  2416 non-null   object             \n",
            " 32  Cód_Tipo1   2416 non-null   int32              \n",
            " 33  Tipo__CONA  2416 non-null   object             \n",
            " 34  Cód_Zona    2416 non-null   int32              \n",
            " 35  Zona        2416 non-null   object             \n",
            " 36  Cód_Ubica   2416 non-null   int32              \n",
            " 37  Ubicación   2416 non-null   object             \n",
            " 38  Cód_Causa   2416 non-null   int32              \n",
            " 39  Causa__CON  2416 non-null   object             \n",
            " 40  Cód_Cau_1   2416 non-null   int32              \n",
            " 41  Causa       2416 non-null   object             \n",
            " 42  Cód_Calle   2416 non-null   int32              \n",
            " 43  Calle_Un_1  2416 non-null   object             \n",
            " 44  Cód_Cal_1   2416 non-null   int32              \n",
            " 45  Calle_Do_1  2416 non-null   object             \n",
            " 46  Intersecci  2416 non-null   object             \n",
            " 47  Número      2416 non-null   int32              \n",
            " 48  Ruta        2416 non-null   object             \n",
            " 49  Cód_Ruta    2416 non-null   object             \n",
            " 50  Ubicaci_1   2416 non-null   object             \n",
            " 51  Km_Vía_Fe   2416 non-null   object             \n",
            " 52  Pistas_de_  2416 non-null   int32              \n",
            " 53  Pistas_de1  2416 non-null   int32              \n",
            " 54  Cód_Calza   2416 non-null   int32              \n",
            " 55  Calzada     2416 non-null   object             \n",
            " 56  Cód__Tipo   2416 non-null   int32              \n",
            " 57  Tipo_Calza  2416 non-null   object             \n",
            " 58  Cód_Estad   2416 non-null   int32              \n",
            " 59  Estado_Cal  2416 non-null   object             \n",
            " 60  Cód_Condi   2416 non-null   int32              \n",
            " 61  Condición   2416 non-null   object             \n",
            " 62  Cód_Est_1   2416 non-null   int32              \n",
            " 63  Estado_Atm  2416 non-null   object             \n",
            " 64  Fallecidos  2416 non-null   int32              \n",
            " 65  Graves      2416 non-null   int32              \n",
            " 66  Menos_Grav  2416 non-null   int32              \n",
            " 67  Leves       2416 non-null   int32              \n",
            " 68  Ilesos      2416 non-null   int32              \n",
            " 69  geometry    2416 non-null   geometry           \n",
            "dtypes: datetime64[ms, UTC](2), float64(2), geometry(1), int32(37), object(28)\n",
            "memory usage: 972.2+ KB\n"
          ]
        }
      ]
    },
    {
      "cell_type": "code",
      "source": [
        "# Se visualizan el nombre de todas las columnas, ya que en el codigo anetrior solo se puede ser una parte\n",
        "gdfs_2021.columns"
      ],
      "metadata": {
        "id": "SrjJpAt2aHqd",
        "outputId": "956a357f-17aa-4466-c753-985cd202d4fe",
        "colab": {
          "base_uri": "https://localhost:8080/"
        }
      },
      "id": "SrjJpAt2aHqd",
      "execution_count": null,
      "outputs": [
        {
          "output_type": "execute_result",
          "data": {
            "text/plain": [
              "Index(['FID', 'FID_1', 'LABELID', 'POINT_X', 'POINT_Y', 'FID_2', 'COMUNAREAL',\n",
              "       'VAL_COM', 'OBJECTID', 'A_O', 'IDACCIDENT', 'REGION', 'COD_COMUN',\n",
              "       'COMUNA', 'CALLE_UNO', 'CALLE_DOS', 'NUMERO', 'DIR_GEOCOD', 'PAIS',\n",
              "       'TIPO', 'OBJECTID_1', 'Año', 'Idaccide_1', 'Claseaccid', 'Fecha',\n",
              "       'Hora', 'Cód_Regi', 'Región', 'Cód_Comun', 'Comuna_1', 'Cód_Tipo_',\n",
              "       'Tipo_Accid', 'Cód_Tipo1', 'Tipo__CONA', 'Cód_Zona', 'Zona',\n",
              "       'Cód_Ubica', 'Ubicación', 'Cód_Causa', 'Causa__CON', 'Cód_Cau_1',\n",
              "       'Causa', 'Cód_Calle', 'Calle_Un_1', 'Cód_Cal_1', 'Calle_Do_1',\n",
              "       'Intersecci', 'Número', 'Ruta', 'Cód_Ruta', 'Ubicaci_1', 'Km_Vía_Fe',\n",
              "       'Pistas_de_', 'Pistas_de1', 'Cód_Calza', 'Calzada', 'Cód__Tipo',\n",
              "       'Tipo_Calza', 'Cód_Estad', 'Estado_Cal', 'Cód_Condi', 'Condición',\n",
              "       'Cód_Est_1', 'Estado_Atm', 'Fallecidos', 'Graves', 'Menos_Grav',\n",
              "       'Leves', 'Ilesos', 'geometry'],\n",
              "      dtype='object')"
            ]
          },
          "metadata": {},
          "execution_count": 13
        }
      ]
    },
    {
      "cell_type": "markdown",
      "source": [
        "Al igual que los geojson anteriores, los datos son muy similares."
      ],
      "metadata": {
        "id": "50we8zTAaoAD"
      },
      "id": "50we8zTAaoAD"
    },
    {
      "cell_type": "markdown",
      "source": [
        "*Accidentes de transito del 2021*\n",
        "\n",
        "\n",
        "*   'FID': A unique ID for each accident\n",
        "*   'FID_1': Additional unique identifier of the accident\n",
        "*   'LABELID': Label identifier of the accident\n",
        "*   'POINT_X': X point of the accident location\n",
        "*   'POINT_Y': Y point of the accident location\n",
        "*   'FID_2':Second unique identifier of the accident\n",
        "*   'COMUNAREAL': Name of the commune where the accident occurred\n",
        "*   'VAL_COM': Value of the commune where the accident occurred\n",
        "*   'OBJECTID': Unique identifier of the object on the map\n",
        "*   'A_O': Year of the accident\n",
        "*   'IDACCIDENT': Unique identifier of the accident\n",
        "*   'REGION': Name of the region where the accident occurred\n",
        "*   'COD_COMUN': Code of the commune where the accident occurred\n",
        "*   'COMUNA': Name of the commune where the accident occurred\n",
        "*   'CALLE_UNO': Name of the first street involved in the accident\n",
        "*   'CALLE_DOS': Name of the second street involved in the accident\n",
        "*   'NUMERO': Address number where the accident occurred\n",
        "*   'DIR_GEOCOD': Geocoded address of the accident\n",
        "*   'PAIS': Country where the accident occurred\n",
        "*   'TIPO': Type of accident location\n",
        "*   'OBJECTID_1': Second unique identifier of the object on the map\n",
        "*   'Año': Year of the accident\n",
        "*   'Idaccide_1': Second unique identifier of the accident\n",
        "*   'Claseaccid': Class of the accident (collision, run-over, etc.)\n",
        "*   'Fecha': Date of the accident\n",
        "*   'Hora': Time of the accident\n",
        "*   'Cód_Regi': Code of the region where the accident occurred\n",
        "*   'Región': Name of the region where the accident occurred\n",
        "*   'Cód_Comun': Code of the commune where the accident occurred\n",
        "*   'Comuna_1': Name of the commune where the accident occurred\n",
        "*   'Cód_Tipo_': Code of the type of accident (collision, run-over, etc.)\n",
        "*   'Tipo_Accid': Type of accident (collision, run-over, etc.)\n",
        "*   'Cód_Tipo1':  Additional code of the type of accident\n",
        "*   'Tipo__CONA': Detailed description of the type of accident\n",
        "*   'Cód_Zona': Code of the zone where the accident occurred\n",
        "*   'Zona': Zone where the accident occurred\n",
        "*   'Cód_Ubica': Code of the specific location of the accident\n",
        "*   'Ubicación': Specific location of the accident\n",
        "*   'Cód_Causa': Code of the cause of the accident\n",
        "*   'Causa__CON': Detailed description of the cause of the accident\n",
        "*   'Cód_Cau_1': Additional code of the cause of the accident\n",
        "*   'Causa': General cause of the accident\n",
        "*   'Cód_Calle': Code of the first street involved in the accident\n",
        "*   'Calle_Un_1': Detailed name of the first street involved in the accident\n",
        "*   'Cód_Cal_1': Additional code of the first street involved in the accident\n",
        "*   'Calle_Do_1': Detailed name of the second street involved in the accident\n",
        "*   'Intersecci': Intersection where the accident occurred\n",
        "*   'Número': Specific number in the address where the accident occurred\n",
        "*   'Ruta': Route or highway where the accident occurred\n",
        "*   'Cód_Ruta': Code of the route or highway where the accident occurred\n",
        "*   'Ubicaci_1': Additional description of the specific location of the accident\n",
        "*   'Km_Vía_Fe': Specific kilometer on the railway where the accident occurred\n",
        "*   'Pistas_de_': Number of lanes or tracks involved in the accident\n",
        "*   'Pistas_de1': Additional description of the lanes or tracks involved in the accident\n",
        "*   'Cód_Calza': Code of the road or surface involved in the accident\n",
        "*   'Calzada': Detailed description of the road or surface involved in the accident.\n",
        "*   'Cód__Tipo': Specific code of the type of road or surface involved in the accident\n",
        "*   'Tipo_Calza': Specific type of road or surface involved in the accident\n",
        "*   'Cód_Estad': Specific code of the state or condition of the road in the accident\n",
        "*   'Estado_Cal': State or condition of the road in the accident\n",
        "*   'Cód_Condi': Specific code of the atmospheric conditions during the accident\n",
        "*   'Condición': Atmospheric conditions during the accident\n",
        "*   'Cód_Est_1': Additional code of the atmospheric state during the accident.\n",
        "*   'Estado_Atm': Atmospheric state during the accident\n",
        "*   'Fallecidos': Total number of fatalities in the accident\n",
        "*   'Graves': Total number of serious injuries in the accident\n",
        "*   'Menos_Grav': Total number of less serious injuries in the accident\n",
        "*   'Leves': Total number of minor injuries in the accident\n",
        "*   'Ilesos': Total number of uninjured people in the accident\n",
        "*   'geometry': List the type of geometry, in this case POINT"
      ],
      "metadata": {
        "id": "FVefSgg6aJC1"
      },
      "id": "FVefSgg6aJC1"
    },
    {
      "cell_type": "markdown",
      "source": [
        "**Accidentes de transito ano 2022**"
      ],
      "metadata": {
        "id": "qv8QoHIgH9L2"
      },
      "id": "qv8QoHIgH9L2"
    },
    {
      "cell_type": "code",
      "source": [
        "gdfs_2022.sample(2)"
      ],
      "metadata": {
        "colab": {
          "base_uri": "https://localhost:8080/",
          "height": 231
        },
        "id": "u4sFKpsYyvrP",
        "outputId": "edeccef8-bb96-4428-c2f3-28be6b6615e3"
      },
      "id": "u4sFKpsYyvrP",
      "execution_count": null,
      "outputs": [
        {
          "output_type": "execute_result",
          "data": {
            "text/plain": [
              "     FID    POINT_X    POINT_Y  Idaccident   Año  Claseaccid  \\\n",
              "917  918 -70.377223 -23.618249     1414228  2022           1   \n",
              "688  689 -70.402262 -23.656366     1469073  2022           1   \n",
              "\n",
              "                        Fecha  Cód_Regi              Región  Cód_Comun  ...  \\\n",
              "917 2022-01-10 00:00:00+00:00         2  REGION ANTOFAGASTA       2101  ...   \n",
              "688 2022-08-18 00:00:00+00:00         2  REGION ANTOFAGASTA       2101  ...   \n",
              "\n",
              "    Cód_Condi  Condición Cód_Est_1  Estado_Atm Fallecidos  Graves Menos_Grav  \\\n",
              "917         1       SECO         1   DESPEJADO          0       0          0   \n",
              "688         1       SECO         1   DESPEJADO          0       0          0   \n",
              "\n",
              "     Leves Ilesos                     geometry  \n",
              "917      0      2  POINT (-70.37722 -23.61825)  \n",
              "688      0      2  POINT (-70.40226 -23.65637)  \n",
              "\n",
              "[2 rows x 50 columns]"
            ],
            "text/html": [
              "\n",
              "  <div id=\"df-b6c83ff0-8224-41f3-a46f-b70e53c75e10\" class=\"colab-df-container\">\n",
              "    <div>\n",
              "<style scoped>\n",
              "    .dataframe tbody tr th:only-of-type {\n",
              "        vertical-align: middle;\n",
              "    }\n",
              "\n",
              "    .dataframe tbody tr th {\n",
              "        vertical-align: top;\n",
              "    }\n",
              "\n",
              "    .dataframe thead th {\n",
              "        text-align: right;\n",
              "    }\n",
              "</style>\n",
              "<table border=\"1\" class=\"dataframe\">\n",
              "  <thead>\n",
              "    <tr style=\"text-align: right;\">\n",
              "      <th></th>\n",
              "      <th>FID</th>\n",
              "      <th>POINT_X</th>\n",
              "      <th>POINT_Y</th>\n",
              "      <th>Idaccident</th>\n",
              "      <th>Año</th>\n",
              "      <th>Claseaccid</th>\n",
              "      <th>Fecha</th>\n",
              "      <th>Cód_Regi</th>\n",
              "      <th>Región</th>\n",
              "      <th>Cód_Comun</th>\n",
              "      <th>...</th>\n",
              "      <th>Cód_Condi</th>\n",
              "      <th>Condición</th>\n",
              "      <th>Cód_Est_1</th>\n",
              "      <th>Estado_Atm</th>\n",
              "      <th>Fallecidos</th>\n",
              "      <th>Graves</th>\n",
              "      <th>Menos_Grav</th>\n",
              "      <th>Leves</th>\n",
              "      <th>Ilesos</th>\n",
              "      <th>geometry</th>\n",
              "    </tr>\n",
              "  </thead>\n",
              "  <tbody>\n",
              "    <tr>\n",
              "      <th>917</th>\n",
              "      <td>918</td>\n",
              "      <td>-70.377223</td>\n",
              "      <td>-23.618249</td>\n",
              "      <td>1414228</td>\n",
              "      <td>2022</td>\n",
              "      <td>1</td>\n",
              "      <td>2022-01-10 00:00:00+00:00</td>\n",
              "      <td>2</td>\n",
              "      <td>REGION ANTOFAGASTA</td>\n",
              "      <td>2101</td>\n",
              "      <td>...</td>\n",
              "      <td>1</td>\n",
              "      <td>SECO</td>\n",
              "      <td>1</td>\n",
              "      <td>DESPEJADO</td>\n",
              "      <td>0</td>\n",
              "      <td>0</td>\n",
              "      <td>0</td>\n",
              "      <td>0</td>\n",
              "      <td>2</td>\n",
              "      <td>POINT (-70.37722 -23.61825)</td>\n",
              "    </tr>\n",
              "    <tr>\n",
              "      <th>688</th>\n",
              "      <td>689</td>\n",
              "      <td>-70.402262</td>\n",
              "      <td>-23.656366</td>\n",
              "      <td>1469073</td>\n",
              "      <td>2022</td>\n",
              "      <td>1</td>\n",
              "      <td>2022-08-18 00:00:00+00:00</td>\n",
              "      <td>2</td>\n",
              "      <td>REGION ANTOFAGASTA</td>\n",
              "      <td>2101</td>\n",
              "      <td>...</td>\n",
              "      <td>1</td>\n",
              "      <td>SECO</td>\n",
              "      <td>1</td>\n",
              "      <td>DESPEJADO</td>\n",
              "      <td>0</td>\n",
              "      <td>0</td>\n",
              "      <td>0</td>\n",
              "      <td>0</td>\n",
              "      <td>2</td>\n",
              "      <td>POINT (-70.40226 -23.65637)</td>\n",
              "    </tr>\n",
              "  </tbody>\n",
              "</table>\n",
              "<p>2 rows × 50 columns</p>\n",
              "</div>\n",
              "    <div class=\"colab-df-buttons\">\n",
              "\n",
              "  <div class=\"colab-df-container\">\n",
              "    <button class=\"colab-df-convert\" onclick=\"convertToInteractive('df-b6c83ff0-8224-41f3-a46f-b70e53c75e10')\"\n",
              "            title=\"Convert this dataframe to an interactive table.\"\n",
              "            style=\"display:none;\">\n",
              "\n",
              "  <svg xmlns=\"http://www.w3.org/2000/svg\" height=\"24px\" viewBox=\"0 -960 960 960\">\n",
              "    <path d=\"M120-120v-720h720v720H120Zm60-500h600v-160H180v160Zm220 220h160v-160H400v160Zm0 220h160v-160H400v160ZM180-400h160v-160H180v160Zm440 0h160v-160H620v160ZM180-180h160v-160H180v160Zm440 0h160v-160H620v160Z\"/>\n",
              "  </svg>\n",
              "    </button>\n",
              "\n",
              "  <style>\n",
              "    .colab-df-container {\n",
              "      display:flex;\n",
              "      gap: 12px;\n",
              "    }\n",
              "\n",
              "    .colab-df-convert {\n",
              "      background-color: #E8F0FE;\n",
              "      border: none;\n",
              "      border-radius: 50%;\n",
              "      cursor: pointer;\n",
              "      display: none;\n",
              "      fill: #1967D2;\n",
              "      height: 32px;\n",
              "      padding: 0 0 0 0;\n",
              "      width: 32px;\n",
              "    }\n",
              "\n",
              "    .colab-df-convert:hover {\n",
              "      background-color: #E2EBFA;\n",
              "      box-shadow: 0px 1px 2px rgba(60, 64, 67, 0.3), 0px 1px 3px 1px rgba(60, 64, 67, 0.15);\n",
              "      fill: #174EA6;\n",
              "    }\n",
              "\n",
              "    .colab-df-buttons div {\n",
              "      margin-bottom: 4px;\n",
              "    }\n",
              "\n",
              "    [theme=dark] .colab-df-convert {\n",
              "      background-color: #3B4455;\n",
              "      fill: #D2E3FC;\n",
              "    }\n",
              "\n",
              "    [theme=dark] .colab-df-convert:hover {\n",
              "      background-color: #434B5C;\n",
              "      box-shadow: 0px 1px 3px 1px rgba(0, 0, 0, 0.15);\n",
              "      filter: drop-shadow(0px 1px 2px rgba(0, 0, 0, 0.3));\n",
              "      fill: #FFFFFF;\n",
              "    }\n",
              "  </style>\n",
              "\n",
              "    <script>\n",
              "      const buttonEl =\n",
              "        document.querySelector('#df-b6c83ff0-8224-41f3-a46f-b70e53c75e10 button.colab-df-convert');\n",
              "      buttonEl.style.display =\n",
              "        google.colab.kernel.accessAllowed ? 'block' : 'none';\n",
              "\n",
              "      async function convertToInteractive(key) {\n",
              "        const element = document.querySelector('#df-b6c83ff0-8224-41f3-a46f-b70e53c75e10');\n",
              "        const dataTable =\n",
              "          await google.colab.kernel.invokeFunction('convertToInteractive',\n",
              "                                                    [key], {});\n",
              "        if (!dataTable) return;\n",
              "\n",
              "        const docLinkHtml = 'Like what you see? Visit the ' +\n",
              "          '<a target=\"_blank\" href=https://colab.research.google.com/notebooks/data_table.ipynb>data table notebook</a>'\n",
              "          + ' to learn more about interactive tables.';\n",
              "        element.innerHTML = '';\n",
              "        dataTable['output_type'] = 'display_data';\n",
              "        await google.colab.output.renderOutput(dataTable, element);\n",
              "        const docLink = document.createElement('div');\n",
              "        docLink.innerHTML = docLinkHtml;\n",
              "        element.appendChild(docLink);\n",
              "      }\n",
              "    </script>\n",
              "  </div>\n",
              "\n",
              "\n",
              "    <div id=\"df-0f6fa5ad-605c-40d5-babc-2468789710fa\">\n",
              "      <button class=\"colab-df-quickchart\" onclick=\"quickchart('df-0f6fa5ad-605c-40d5-babc-2468789710fa')\"\n",
              "                title=\"Suggest charts\"\n",
              "                style=\"display:none;\">\n",
              "\n",
              "<svg xmlns=\"http://www.w3.org/2000/svg\" height=\"24px\"viewBox=\"0 0 24 24\"\n",
              "     width=\"24px\">\n",
              "    <g>\n",
              "        <path d=\"M19 3H5c-1.1 0-2 .9-2 2v14c0 1.1.9 2 2 2h14c1.1 0 2-.9 2-2V5c0-1.1-.9-2-2-2zM9 17H7v-7h2v7zm4 0h-2V7h2v10zm4 0h-2v-4h2v4z\"/>\n",
              "    </g>\n",
              "</svg>\n",
              "      </button>\n",
              "\n",
              "<style>\n",
              "  .colab-df-quickchart {\n",
              "      --bg-color: #E8F0FE;\n",
              "      --fill-color: #1967D2;\n",
              "      --hover-bg-color: #E2EBFA;\n",
              "      --hover-fill-color: #174EA6;\n",
              "      --disabled-fill-color: #AAA;\n",
              "      --disabled-bg-color: #DDD;\n",
              "  }\n",
              "\n",
              "  [theme=dark] .colab-df-quickchart {\n",
              "      --bg-color: #3B4455;\n",
              "      --fill-color: #D2E3FC;\n",
              "      --hover-bg-color: #434B5C;\n",
              "      --hover-fill-color: #FFFFFF;\n",
              "      --disabled-bg-color: #3B4455;\n",
              "      --disabled-fill-color: #666;\n",
              "  }\n",
              "\n",
              "  .colab-df-quickchart {\n",
              "    background-color: var(--bg-color);\n",
              "    border: none;\n",
              "    border-radius: 50%;\n",
              "    cursor: pointer;\n",
              "    display: none;\n",
              "    fill: var(--fill-color);\n",
              "    height: 32px;\n",
              "    padding: 0;\n",
              "    width: 32px;\n",
              "  }\n",
              "\n",
              "  .colab-df-quickchart:hover {\n",
              "    background-color: var(--hover-bg-color);\n",
              "    box-shadow: 0 1px 2px rgba(60, 64, 67, 0.3), 0 1px 3px 1px rgba(60, 64, 67, 0.15);\n",
              "    fill: var(--button-hover-fill-color);\n",
              "  }\n",
              "\n",
              "  .colab-df-quickchart-complete:disabled,\n",
              "  .colab-df-quickchart-complete:disabled:hover {\n",
              "    background-color: var(--disabled-bg-color);\n",
              "    fill: var(--disabled-fill-color);\n",
              "    box-shadow: none;\n",
              "  }\n",
              "\n",
              "  .colab-df-spinner {\n",
              "    border: 2px solid var(--fill-color);\n",
              "    border-color: transparent;\n",
              "    border-bottom-color: var(--fill-color);\n",
              "    animation:\n",
              "      spin 1s steps(1) infinite;\n",
              "  }\n",
              "\n",
              "  @keyframes spin {\n",
              "    0% {\n",
              "      border-color: transparent;\n",
              "      border-bottom-color: var(--fill-color);\n",
              "      border-left-color: var(--fill-color);\n",
              "    }\n",
              "    20% {\n",
              "      border-color: transparent;\n",
              "      border-left-color: var(--fill-color);\n",
              "      border-top-color: var(--fill-color);\n",
              "    }\n",
              "    30% {\n",
              "      border-color: transparent;\n",
              "      border-left-color: var(--fill-color);\n",
              "      border-top-color: var(--fill-color);\n",
              "      border-right-color: var(--fill-color);\n",
              "    }\n",
              "    40% {\n",
              "      border-color: transparent;\n",
              "      border-right-color: var(--fill-color);\n",
              "      border-top-color: var(--fill-color);\n",
              "    }\n",
              "    60% {\n",
              "      border-color: transparent;\n",
              "      border-right-color: var(--fill-color);\n",
              "    }\n",
              "    80% {\n",
              "      border-color: transparent;\n",
              "      border-right-color: var(--fill-color);\n",
              "      border-bottom-color: var(--fill-color);\n",
              "    }\n",
              "    90% {\n",
              "      border-color: transparent;\n",
              "      border-bottom-color: var(--fill-color);\n",
              "    }\n",
              "  }\n",
              "</style>\n",
              "\n",
              "      <script>\n",
              "        async function quickchart(key) {\n",
              "          const quickchartButtonEl =\n",
              "            document.querySelector('#' + key + ' button');\n",
              "          quickchartButtonEl.disabled = true;  // To prevent multiple clicks.\n",
              "          quickchartButtonEl.classList.add('colab-df-spinner');\n",
              "          try {\n",
              "            const charts = await google.colab.kernel.invokeFunction(\n",
              "                'suggestCharts', [key], {});\n",
              "          } catch (error) {\n",
              "            console.error('Error during call to suggestCharts:', error);\n",
              "          }\n",
              "          quickchartButtonEl.classList.remove('colab-df-spinner');\n",
              "          quickchartButtonEl.classList.add('colab-df-quickchart-complete');\n",
              "        }\n",
              "        (() => {\n",
              "          let quickchartButtonEl =\n",
              "            document.querySelector('#df-0f6fa5ad-605c-40d5-babc-2468789710fa button');\n",
              "          quickchartButtonEl.style.display =\n",
              "            google.colab.kernel.accessAllowed ? 'block' : 'none';\n",
              "        })();\n",
              "      </script>\n",
              "    </div>\n",
              "\n",
              "    </div>\n",
              "  </div>\n"
            ],
            "application/vnd.google.colaboratory.intrinsic+json": {
              "type": "dataframe"
            }
          },
          "metadata": {},
          "execution_count": 14
        }
      ]
    },
    {
      "cell_type": "code",
      "source": [
        "gdfs_2022.info()  # ‘.info()’ is used to observe if there is null data in any variable,  by looking at the ‘Non-Null Count’ column."
      ],
      "metadata": {
        "id": "un55e4wzBHWv",
        "outputId": "8e2b7a92-a49a-43f1-bbcb-5cccb03e79a6",
        "colab": {
          "base_uri": "https://localhost:8080/"
        }
      },
      "id": "un55e4wzBHWv",
      "execution_count": null,
      "outputs": [
        {
          "output_type": "stream",
          "name": "stdout",
          "text": [
            "<class 'geopandas.geodataframe.GeoDataFrame'>\n",
            "RangeIndex: 2366 entries, 0 to 2365\n",
            "Data columns (total 50 columns):\n",
            " #   Column      Non-Null Count  Dtype              \n",
            "---  ------      --------------  -----              \n",
            " 0   FID         2366 non-null   int32              \n",
            " 1   POINT_X     2366 non-null   float64            \n",
            " 2   POINT_Y     2366 non-null   float64            \n",
            " 3   Idaccident  2366 non-null   int32              \n",
            " 4   Año         2366 non-null   int32              \n",
            " 5   Claseaccid  2366 non-null   int32              \n",
            " 6   Fecha       2366 non-null   datetime64[ms, UTC]\n",
            " 7   Cód_Regi    2366 non-null   int32              \n",
            " 8   Región      2366 non-null   object             \n",
            " 9   Cód_Comun   2366 non-null   int32              \n",
            " 10  Comuna      2366 non-null   object             \n",
            " 11  Cód_Tipo    2366 non-null   int32              \n",
            " 12  Tipo_Accid  2366 non-null   object             \n",
            " 13  Cód_Tip_1   2366 non-null   int32              \n",
            " 14  Tipo__CONA  2366 non-null   object             \n",
            " 15  Cód_Zona    2366 non-null   int32              \n",
            " 16  Zona        2366 non-null   object             \n",
            " 17  Cód_Ubica   2366 non-null   int32              \n",
            " 18  Ubicación   2366 non-null   object             \n",
            " 19  Cód_Causa   2366 non-null   int32              \n",
            " 20  Causa       2366 non-null   object             \n",
            " 21  Cód_Cau_1   2366 non-null   int32              \n",
            " 22  Causa__CON  2366 non-null   object             \n",
            " 23  Cód_Calle   2366 non-null   int32              \n",
            " 24  Calle_Uno   2366 non-null   object             \n",
            " 25  Cód_Cal_1   2366 non-null   int32              \n",
            " 26  Calle_Dos   2366 non-null   object             \n",
            " 27  Intersecci  2366 non-null   object             \n",
            " 28  Número      2366 non-null   int32              \n",
            " 29  Ruta        2366 non-null   int32              \n",
            " 30  Cód_Ruta    2366 non-null   int32              \n",
            " 31  Ubicaci_1   2366 non-null   int32              \n",
            " 32  Pistas_de   2366 non-null   int32              \n",
            " 33  Pistas_d_1  2366 non-null   int32              \n",
            " 34  Cód_Calza   2366 non-null   int32              \n",
            " 35  Calzada     2366 non-null   object             \n",
            " 36  Cód__Tipo   2366 non-null   int32              \n",
            " 37  Tipo_Calza  2366 non-null   object             \n",
            " 38  Cód_Estad   2366 non-null   int32              \n",
            " 39  Estado_Cal  2366 non-null   object             \n",
            " 40  Cód_Condi   2366 non-null   int32              \n",
            " 41  Condición   2366 non-null   object             \n",
            " 42  Cód_Est_1   2366 non-null   int32              \n",
            " 43  Estado_Atm  2366 non-null   object             \n",
            " 44  Fallecidos  2366 non-null   int32              \n",
            " 45  Graves      2366 non-null   int32              \n",
            " 46  Menos_Grav  2366 non-null   int32              \n",
            " 47  Leves       2366 non-null   int32              \n",
            " 48  Ilesos      2366 non-null   int32              \n",
            " 49  geometry    2366 non-null   geometry           \n",
            "dtypes: datetime64[ms, UTC](1), float64(2), geometry(1), int32(30), object(16)\n",
            "memory usage: 647.1+ KB\n"
          ]
        }
      ]
    },
    {
      "cell_type": "code",
      "source": [
        "# Se visualizan el nombre de todas las columnas, ya que en el codigo anetrior solo se puede ser una parte\n",
        "gdfs_2022.columns"
      ],
      "metadata": {
        "id": "lZumR9dDdxpT",
        "outputId": "30d3d7d2-b508-4cda-cefa-479a59988e6d",
        "colab": {
          "base_uri": "https://localhost:8080/"
        }
      },
      "id": "lZumR9dDdxpT",
      "execution_count": null,
      "outputs": [
        {
          "output_type": "execute_result",
          "data": {
            "text/plain": [
              "Index(['FID', 'POINT_X', 'POINT_Y', 'Idaccident', 'Año', 'Claseaccid', 'Fecha',\n",
              "       'Cód_Regi', 'Región', 'Cód_Comun', 'Comuna', 'Cód_Tipo', 'Tipo_Accid',\n",
              "       'Cód_Tip_1', 'Tipo__CONA', 'Cód_Zona', 'Zona', 'Cód_Ubica', 'Ubicación',\n",
              "       'Cód_Causa', 'Causa', 'Cód_Cau_1', 'Causa__CON', 'Cód_Calle',\n",
              "       'Calle_Uno', 'Cód_Cal_1', 'Calle_Dos', 'Intersecci', 'Número', 'Ruta',\n",
              "       'Cód_Ruta', 'Ubicaci_1', 'Pistas_de', 'Pistas_d_1', 'Cód_Calza',\n",
              "       'Calzada', 'Cód__Tipo', 'Tipo_Calza', 'Cód_Estad', 'Estado_Cal',\n",
              "       'Cód_Condi', 'Condición', 'Cód_Est_1', 'Estado_Atm', 'Fallecidos',\n",
              "       'Graves', 'Menos_Grav', 'Leves', 'Ilesos', 'geometry'],\n",
              "      dtype='object')"
            ]
          },
          "metadata": {},
          "execution_count": 16
        }
      ]
    },
    {
      "cell_type": "markdown",
      "source": [
        "Como en los geojson anteriores, los atributos son muy similares, en la mayoria de los casos, no mantienen el mismo nombre en sus columnas para representar lo mismo."
      ],
      "metadata": {
        "id": "wf5I-bPWeG42"
      },
      "id": "wf5I-bPWeG42"
    },
    {
      "cell_type": "markdown",
      "source": [
        "*Accidentes de transito del 2022*\n",
        "\n",
        "\n",
        "*   'FID': a unique ID for each accident\n",
        "*   'POINT_X': Longitude of the accident location\n",
        "*   'POINT_Y': Latitude of the accident location\n",
        "*   'Idaccident': Unique identifier for the accident\n",
        "*   'Año': Year when the accident occurred\n",
        "*   'Claseaccid': Class of the accident\n",
        "*   'Fecha': Date and time of the accident\n",
        "*   'Cód_Regi': Code of the region where the accident occurred\n",
        "*   'Región': Name of the region where the accident occurred\n",
        "*   'Cód_Comun': Code of the commune where the accident occurred\n",
        "*   'Comuna': Name of the commune where the accident occurred\n",
        "*   'Cód_Tipo': Code for the type of accident\n",
        "*   'Tipo_Accid': Type of accident\n",
        "*   'Cód_Tip_1': Code for a subtype of accident\n",
        "*   'Tipo__CONA': Subtype of accident according to CONASET classification\n",
        "*   'Cód_Zona': Code for the zone where the accident occurred\n",
        "*   'Zona': Zone where the accident occurred (urban/rural\n",
        "*   'Cód_Ubica': Code for the specific location within the zone\n",
        "*   'Ubicación': Specific location within the zone (e.g., intersection)\n",
        "*   'Cód_Causa': Code for the cause of the accident\n",
        "*   'Causa': Cause of the accident\n",
        "*   'Cód_Cau_1': Code for a secondary cause of the accident\n",
        "*   'Causa__CON': Secondary cause according to CONASET classification\n",
        "*   'Cód_Calle': Code for the first street involved in the accident\n",
        "*   'Calle_Uno': Name of the first street involved in the accident\n",
        "*   'Cód_Cal_1': Code for the second street involved in the accident\n",
        "*   'Calle_Dos': Name of the second street involved in the accident\n",
        "*   'Intersecci': Intersection where the accident occurred, if applicable\n",
        "*   'Número': Street number or route number where the accident occurred\n",
        "*   'Ruta': Route name or number where the accident occurred\n",
        "*   'Cód_Ruta': Code for route name or numbe\n",
        "*   'Ubicaci_1': Additional location informatio\n",
        "*   'Pistas_de': Number of lanes in one direction\n",
        "*   'Pistas_d_1': Number of lanes in another direction\n",
        "*   'Cód_Calza': Code for road surface type\n",
        "*   'Calzada': Type of road surface (e.g., asphalt)\n",
        "*   'Cód__Tipo': Code for road type\n",
        "*   'Tipo_Calza': Type of road (e.g., bidirectional)\n",
        "*   'Cód_Estad': Code for road condition\n",
        "*   'Estado_Cal': Condition of road surface (e.g., good)\n",
        "*   'Cód_Condi': Code for weather condition\n",
        "*   'Condición': Weather condition at time of accident (e.g., clear)\n",
        "*   'Cód_Est_1': Code for atmospheric condition\n",
        "*   'Estado_Atm': Atmospheric condition at time of accident (e.g., clear)\n",
        "*   'Fallecidos': Number of fatalities in the accident\n",
        "*   'Graves': Number of people with serious injuries\n",
        "*   'Menos_Grav': Number of people with less serious injuries\n",
        "*   'Leves': Number of people with minor injuries\n",
        "*   'Ilesos': Number of people without injuries\n",
        "*   'geometry': List the type of geometry, in this case POINT"
      ],
      "metadata": {
        "id": "bcrwL4e6eGTZ"
      },
      "id": "bcrwL4e6eGTZ"
    },
    {
      "cell_type": "markdown",
      "source": [
        "Como se puede ver en los cuatro geojson de los accidentes de transito, no existe un formato estandar para nombrar a los atributos"
      ],
      "metadata": {
        "id": "Net5HhsT2A7u"
      },
      "id": "Net5HhsT2A7u"
    },
    {
      "cell_type": "markdown",
      "source": [
        "*Coordinate Reference Systems (CRS)*\n",
        "\n",
        "Antes de visualizar las capas, es fundamental asegurarse de que todas utilicen el mismo sistema de coordenadas. Como se observó en todos los geojson, estos están con un EPSG:4326, lo que corresponde a coordenadas geográficas con un datum WGS 1984. Para el área de estudio emplearemos un sistema de coordenadas proyectadas, específicamente WGS 1984 UTM 19S,EPSG:32719, que permite realizar geoprocesamiento utilizando medidas en metros."
      ],
      "metadata": {
        "id": "9v48Tf__zXpq"
      },
      "id": "9v48Tf__zXpq"
    },
    {
      "cell_type": "code",
      "source": [
        "gdfs = [gdfs_2019, gdfs_2020, gdfs_2021, gdfs_2022] # se crea una lista para cada año"
      ],
      "metadata": {
        "id": "hZHlj2C0rrEs"
      },
      "id": "hZHlj2C0rrEs",
      "execution_count": null,
      "outputs": []
    },
    {
      "cell_type": "code",
      "source": [
        "gdfs_utm = [gdf.to_crs(epsg=32719) for gdf in gdfs] # se usa un ciclo for para realizar el cambio del CRS gdfs_2019_utm, gdfs_2020_utm,"
      ],
      "metadata": {
        "id": "YfoCS7ESrsfA"
      },
      "id": "YfoCS7ESrsfA",
      "execution_count": null,
      "outputs": []
    },
    {
      "cell_type": "code",
      "source": [
        "gdfs_2019_utm, gdfs_2020_utm, gdfs_2021_utm, gdfs_2022_utm = gdfs_utm # Se redefine gdfs_utm"
      ],
      "metadata": {
        "id": "Mi8qJVwcrxWP"
      },
      "id": "Mi8qJVwcrxWP",
      "execution_count": null,
      "outputs": []
    },
    {
      "cell_type": "code",
      "source": [
        "for gdf in gdfs_utm: print(gdf.crs) # Se imprime el resultado"
      ],
      "metadata": {
        "id": "zngtk3eBr6ay",
        "outputId": "e96f9886-4204-42c2-bea6-0d4aab3fc274",
        "colab": {
          "base_uri": "https://localhost:8080/"
        }
      },
      "id": "zngtk3eBr6ay",
      "execution_count": null,
      "outputs": [
        {
          "output_type": "stream",
          "name": "stdout",
          "text": [
            "EPSG:32719\n",
            "EPSG:32719\n",
            "EPSG:32719\n",
            "EPSG:32719\n"
          ]
        }
      ]
    },
    {
      "cell_type": "code",
      "source": [
        "# Using the crs method it is possible to visualise the coordinate reference system that the layer has.\n",
        "#gdfs_2019.crs"
      ],
      "metadata": {
        "id": "fGkvAsc22fY0"
      },
      "id": "fGkvAsc22fY0",
      "execution_count": null,
      "outputs": []
    },
    {
      "cell_type": "code",
      "source": [
        "#gdfs_2019_utm = gdfs_2019.to_crs(epsg=32719)\n",
        "#gdfs_2019_utm.crs # Check that the change has been made"
      ],
      "metadata": {
        "id": "wfgSFfgTy3HU"
      },
      "id": "wfgSFfgTy3HU",
      "execution_count": null,
      "outputs": []
    },
    {
      "cell_type": "code",
      "source": [
        "#gdfs_2020.crs"
      ],
      "metadata": {
        "id": "t-6-3hr73pAJ"
      },
      "id": "t-6-3hr73pAJ",
      "execution_count": null,
      "outputs": []
    },
    {
      "cell_type": "code",
      "source": [
        "#gdfs_2020_utm = gdfs_2020.to_crs(epsg=32719)\n",
        "#gdfs_2020_utm.crs # Check that the change has been made"
      ],
      "metadata": {
        "id": "BLYv8Men31ql"
      },
      "id": "BLYv8Men31ql",
      "execution_count": null,
      "outputs": []
    },
    {
      "cell_type": "code",
      "source": [
        "#gdfs_2021.crs"
      ],
      "metadata": {
        "id": "B5SugjHn6UOY"
      },
      "id": "B5SugjHn6UOY",
      "execution_count": null,
      "outputs": []
    },
    {
      "cell_type": "code",
      "source": [
        "#gdfs_2021_utm = gdfs_2021.to_crs(epsg=32719)\n",
        "#gdfs_2021_utm.crs # Check that the change has been made"
      ],
      "metadata": {
        "id": "XeSdJC6V6X4g"
      },
      "id": "XeSdJC6V6X4g",
      "execution_count": null,
      "outputs": []
    },
    {
      "cell_type": "code",
      "source": [
        "#gdfs_2022.crs"
      ],
      "metadata": {
        "id": "VRfqJtU26h23"
      },
      "id": "VRfqJtU26h23",
      "execution_count": null,
      "outputs": []
    },
    {
      "cell_type": "code",
      "source": [
        "#gdfs_2022_utm = gdfs_2022.to_crs(epsg=32719)\n",
        "#gdfs_2022_utm.crs # Check that the change has been made"
      ],
      "metadata": {
        "id": "PQGeios96mkw"
      },
      "id": "PQGeios96mkw",
      "execution_count": null,
      "outputs": []
    },
    {
      "cell_type": "code",
      "source": [],
      "metadata": {
        "id": "FfQ7WQQ3qrwp"
      },
      "id": "FfQ7WQQ3qrwp",
      "execution_count": null,
      "outputs": []
    },
    {
      "cell_type": "code",
      "source": [
        "# check the row and column of dataframe\n",
        "gdfs_2019_utm.shape"
      ],
      "metadata": {
        "colab": {
          "base_uri": "https://localhost:8080/"
        },
        "id": "oXcM7FCV962C",
        "outputId": "7059da70-1e7d-444d-a69b-92e034eab447"
      },
      "id": "oXcM7FCV962C",
      "execution_count": null,
      "outputs": [
        {
          "output_type": "execute_result",
          "data": {
            "text/plain": [
              "(2494, 44)"
            ]
          },
          "metadata": {},
          "execution_count": 29
        }
      ]
    },
    {
      "cell_type": "code",
      "source": [
        "# check the row and column of dataframe\n",
        "gdfs_2020_utm.shape"
      ],
      "metadata": {
        "colab": {
          "base_uri": "https://localhost:8080/"
        },
        "id": "AzBNM5Zv-Fbc",
        "outputId": "8f6446c7-53cc-4415-bda6-bbf5c3a64206"
      },
      "id": "AzBNM5Zv-Fbc",
      "execution_count": null,
      "outputs": [
        {
          "output_type": "execute_result",
          "data": {
            "text/plain": [
              "(1951, 26)"
            ]
          },
          "metadata": {},
          "execution_count": 30
        }
      ]
    },
    {
      "cell_type": "code",
      "source": [
        "# check the row and column of dataframe\n",
        "gdfs_2021_utm.shape"
      ],
      "metadata": {
        "colab": {
          "base_uri": "https://localhost:8080/"
        },
        "id": "RRAVtfIO-I57",
        "outputId": "3a32aa33-ad3f-4c63-deba-97f34cddeb3c"
      },
      "id": "RRAVtfIO-I57",
      "execution_count": null,
      "outputs": [
        {
          "output_type": "execute_result",
          "data": {
            "text/plain": [
              "(2416, 70)"
            ]
          },
          "metadata": {},
          "execution_count": 31
        }
      ]
    },
    {
      "cell_type": "code",
      "source": [
        "# check the row and column of dataframe\n",
        "gdfs_2022_utm.shape"
      ],
      "metadata": {
        "colab": {
          "base_uri": "https://localhost:8080/"
        },
        "id": "2CTf1HVp-L2B",
        "outputId": "af803d3a-2e4a-40cb-e0a8-b3417a88c364"
      },
      "id": "2CTf1HVp-L2B",
      "execution_count": null,
      "outputs": [
        {
          "output_type": "execute_result",
          "data": {
            "text/plain": [
              "(2366, 50)"
            ]
          },
          "metadata": {},
          "execution_count": 32
        }
      ]
    },
    {
      "cell_type": "markdown",
      "source": [
        "La cantidad de filas y columnas son distintos en todos los años."
      ],
      "metadata": {
        "id": "1mL9Inyo-X7D"
      },
      "id": "1mL9Inyo-X7D"
    },
    {
      "cell_type": "code",
      "source": [
        "# Summary statistics\n",
        "#gdfs_2019_utm.describe()  # using 'describe()' you get the descriptive statisticsfor all variables: count, mean, std, min, 25%, 50% 75%, max."
      ],
      "metadata": {
        "id": "QP4Wpv-j_Cbr"
      },
      "id": "QP4Wpv-j_Cbr",
      "execution_count": null,
      "outputs": []
    },
    {
      "cell_type": "code",
      "source": [
        "# Summary statistics\n",
        "#gdfs_2020_utm.describe()  # using 'describe()' you get the descriptive statisticsfor all variables: count, mean, std, min, 25%, 50% 75%, max."
      ],
      "metadata": {
        "id": "EvbXMnTe_SoX"
      },
      "id": "EvbXMnTe_SoX",
      "execution_count": null,
      "outputs": []
    },
    {
      "cell_type": "code",
      "source": [
        "# Summary statistics\n",
        "#gdfs_2021_utm.describe()  # using 'describe()' you get the descriptive statisticsfor all variables: count, mean, std, min, 25%, 50% 75%, max."
      ],
      "metadata": {
        "id": "OUFlAC6c_XH5"
      },
      "id": "OUFlAC6c_XH5",
      "execution_count": null,
      "outputs": []
    },
    {
      "cell_type": "code",
      "source": [
        "# Summary statistics\n",
        "#gdfs_2022_utm.describe()  # using 'describe()' you get the descriptive statisticsfor all variables: count, mean, std, min, 25%, 50% 75%, max."
      ],
      "metadata": {
        "id": "nRMjae5f_aVw"
      },
      "id": "nRMjae5f_aVw",
      "execution_count": null,
      "outputs": []
    },
    {
      "cell_type": "markdown",
      "source": [
        "## **Data cleaning**"
      ],
      "metadata": {
        "id": "amCcifD4KFEO"
      },
      "id": "amCcifD4KFEO"
    },
    {
      "cell_type": "markdown",
      "source": [
        "Se verifican las columnas en comun"
      ],
      "metadata": {
        "id": "sWFk8TQ1vV0A"
      },
      "id": "sWFk8TQ1vV0A"
    },
    {
      "cell_type": "markdown",
      "source": [
        "* Como se observó al cargar los datos, los DataFrame tienen diferentes columnas."
      ],
      "metadata": {
        "id": "0G0O1q-1vts7"
      },
      "id": "0G0O1q-1vts7"
    },
    {
      "cell_type": "code",
      "source": [
        "gdfs = [gdfs_2019_utm, gdfs_2020_utm, gdfs_2021_utm, gdfs_2022_utm] # creo una lista llamada gdfs que contiene los accidentes de transito de los cuatro años en estudio."
      ],
      "metadata": {
        "id": "77EdqSB4v7oY"
      },
      "id": "77EdqSB4v7oY",
      "execution_count": null,
      "outputs": []
    },
    {
      "cell_type": "code",
      "source": [
        "gdf_columns = [gdf.columns for gdf in gdfs] # se crea una lista llamada gdf_columns que tiene a todas las columnas de los GeoDataFrame en gdfs.\n",
        "gdf_columns_intersection = set.intersection(*map(set, gdf_columns)) # se convierte a cada lista de columnas en un conjunto para despues usar 'set.intersection' para encontrar las columnas comunes."
      ],
      "metadata": {
        "id": "nuMFM5Glv7XA"
      },
      "id": "nuMFM5Glv7XA",
      "execution_count": null,
      "outputs": []
    },
    {
      "cell_type": "code",
      "source": [
        "# Se identifican las columnas comunes entre todos los dataframe\n",
        "gdf_columns_intersection"
      ],
      "metadata": {
        "id": "6ffDI9-Dv7CO",
        "outputId": "de4df140-017f-437a-b253-dcd5fb1a072b",
        "colab": {
          "base_uri": "https://localhost:8080/"
        }
      },
      "id": "6ffDI9-Dv7CO",
      "execution_count": null,
      "outputs": [
        {
          "output_type": "execute_result",
          "data": {
            "text/plain": [
              "{'Causa',\n",
              " 'Causa__CON',\n",
              " 'FID',\n",
              " 'Fallecidos',\n",
              " 'Fecha',\n",
              " 'Graves',\n",
              " 'Leves',\n",
              " 'Menos_Grav',\n",
              " 'Tipo_Accid',\n",
              " 'Tipo__CONA',\n",
              " 'Zona',\n",
              " 'geometry'}"
            ]
          },
          "metadata": {},
          "execution_count": 39
        }
      ]
    },
    {
      "cell_type": "code",
      "source": [
        "# Se identifican las columnas diferentes entre los dataframe\n",
        "for cols in gdf_columns:\n",
        "  print([col for col in cols if col not in gdf_columns_intersection]) # imprime las columnas que no están en la intersección de columnas"
      ],
      "metadata": {
        "id": "1QcgSthMwRNZ",
        "outputId": "b0425ef0-2aa0-4b56-ccd2-86a4ae2bf875",
        "colab": {
          "base_uri": "https://localhost:8080/"
        }
      },
      "id": "1QcgSthMwRNZ",
      "execution_count": null,
      "outputs": [
        {
          "output_type": "stream",
          "name": "stdout",
          "text": [
            "['Ano', 'Idaccident', 'Codregion', 'Region', 'Comuna', 'Calle1', 'Calle2', 'Numero', 'lat', 'lng', 'Claseaccid', 'Cód_Comun', 'Cód_Tipo_', 'Cód_Tipo1', 'Cód_Zona', 'Zona_1', 'Cód_Ubica', 'Ubicación', 'Cód_Causa', 'Cód_Cau_1', 'Pistas_de_', 'Pistas_de1', 'Cód_Calza', 'Calzada', 'Cód__Tipo', 'Tipo_Calza', 'Cód_Estad', 'Estado_Cal', 'Cód_Condi', 'Condición', 'Cód_Est_1', 'Estado_Atm']\n",
            "['COD_REG', 'REGION', 'CUT', 'COMUNA', 'CALLE_UNO', 'CALLE_DOS', 'NUMERO', 'DIR_GEOCOD', 'LAT', 'LNG', 'VAL_COM', 'TIPO', 'Año', 'Idaccident']\n",
            "['FID_1', 'LABELID', 'POINT_X', 'POINT_Y', 'FID_2', 'COMUNAREAL', 'VAL_COM', 'OBJECTID', 'A_O', 'IDACCIDENT', 'REGION', 'COD_COMUN', 'COMUNA', 'CALLE_UNO', 'CALLE_DOS', 'NUMERO', 'DIR_GEOCOD', 'PAIS', 'TIPO', 'OBJECTID_1', 'Año', 'Idaccide_1', 'Claseaccid', 'Hora', 'Cód_Regi', 'Región', 'Cód_Comun', 'Comuna_1', 'Cód_Tipo_', 'Cód_Tipo1', 'Cód_Zona', 'Cód_Ubica', 'Ubicación', 'Cód_Causa', 'Cód_Cau_1', 'Cód_Calle', 'Calle_Un_1', 'Cód_Cal_1', 'Calle_Do_1', 'Intersecci', 'Número', 'Ruta', 'Cód_Ruta', 'Ubicaci_1', 'Km_Vía_Fe', 'Pistas_de_', 'Pistas_de1', 'Cód_Calza', 'Calzada', 'Cód__Tipo', 'Tipo_Calza', 'Cód_Estad', 'Estado_Cal', 'Cód_Condi', 'Condición', 'Cód_Est_1', 'Estado_Atm', 'Ilesos']\n",
            "['POINT_X', 'POINT_Y', 'Idaccident', 'Año', 'Claseaccid', 'Cód_Regi', 'Región', 'Cód_Comun', 'Comuna', 'Cód_Tipo', 'Cód_Tip_1', 'Cód_Zona', 'Cód_Ubica', 'Ubicación', 'Cód_Causa', 'Cód_Cau_1', 'Cód_Calle', 'Calle_Uno', 'Cód_Cal_1', 'Calle_Dos', 'Intersecci', 'Número', 'Ruta', 'Cód_Ruta', 'Ubicaci_1', 'Pistas_de', 'Pistas_d_1', 'Cód_Calza', 'Calzada', 'Cód__Tipo', 'Tipo_Calza', 'Cód_Estad', 'Estado_Cal', 'Cód_Condi', 'Condición', 'Cód_Est_1', 'Estado_Atm', 'Ilesos']\n"
          ]
        }
      ]
    },
    {
      "cell_type": "code",
      "source": [
        "# Se observan todos los nombres de las columnas que no son iguales entre los gdfs, y se renombran las columnas que se van a utilizar:\n",
        "renames = {\n",
        "  'Ano': 'Year',\n",
        "  'Año': 'Year',\n",
        "  'Region': 'Region',\n",
        "  'REGION': 'Region',\n",
        "  'Región': 'Region',\n",
        "  'COMUNA': 'Commune',\n",
        "  'Comuna': 'Commune',\n",
        "  'Fallecidos': 'Fatalities',\n",
        "  'Graves':'Serious',\n",
        "  'Menos_Grav': 'Less serious',\n",
        "  'Menos_grav': 'Less serious',\n",
        "  'Leves': 'Slight',\n",
        "  'Tipo__CONA': 'Type',\n",
        "  'Causa__CON': 'Cause',\n",
        "  'Fecha': 'Date'\n",
        "  }"
      ],
      "metadata": {
        "id": "Xpf9LDqswQ2D"
      },
      "id": "Xpf9LDqswQ2D",
      "execution_count": null,
      "outputs": []
    },
    {
      "cell_type": "code",
      "source": [
        "# Se seleccionan solo algunas columnas que se utilizaran posteriormente\n",
        "select = ['Year', 'Region', 'Commune', 'Date', 'Type', 'Cause', 'Fatalities', 'Serious', 'Less serious', 'Slight', 'geometry']"
      ],
      "metadata": {
        "id": "SiMcHFfowQoG"
      },
      "id": "SiMcHFfowQoG",
      "execution_count": null,
      "outputs": []
    },
    {
      "cell_type": "code",
      "source": [
        "gdfs = [gdf.rename(columns=renames)[select] for gdf in gdfs] # Se crea una lista de gdfs con las columnas ya renombradas y seleccionadas.\n",
        "gdfs_2019_utm, gdfs_2020_utm, gdfs_2021_utm, gdfs_2022_utm =gdfs # Se asigna cada gdfs en la lista a una variable especifica, que corresponde a cada ano."
      ],
      "metadata": {
        "id": "bAWa7nNkwQaM"
      },
      "id": "bAWa7nNkwQaM",
      "execution_count": null,
      "outputs": []
    },
    {
      "cell_type": "code",
      "source": [
        "gdfs_2019_utm.sample(3) # Se revisa si el código anterior se ejecutó correctamente"
      ],
      "metadata": {
        "id": "E3Ba32mhwllg",
        "outputId": "0153462a-9973-4280-a56e-e82277e48bd2",
        "colab": {
          "base_uri": "https://localhost:8080/",
          "height": 213
        }
      },
      "id": "E3Ba32mhwllg",
      "execution_count": null,
      "outputs": [
        {
          "output_type": "execute_result",
          "data": {
            "text/plain": [
              "      Year              Region      Commune                      Date  \\\n",
              "2116  2019  REGION ANTOFAGASTA       CALAMA 2019-03-12 00:00:00+00:00   \n",
              "962   2019  REGION ANTOFAGASTA  ANTOFAGASTA 2019-02-04 00:00:00+00:00   \n",
              "1720  2019  REGION ANTOFAGASTA  ANTOFAGASTA 2019-03-28 00:00:00+00:00   \n",
              "\n",
              "           Type                      Cause  Fatalities  Serious  Less serious  \\\n",
              "2116  OTRO TIPO               OTRAS CAUSAS           0        0             0   \n",
              "962    COLISION     CAUSAS NO DETERMINADAS           0        0             0   \n",
              "1720     CHOQUE  IMPRUDENCIA DEL CONDUCTOR           0        0             0   \n",
              "\n",
              "      Slight                        geometry  \n",
              "2116       1    POINT (507919.1 7515784.799)  \n",
              "962        0   POINT (358118.493 7389142.46)  \n",
              "1720       0  POINT (358021.529 7384626.815)  "
            ],
            "text/html": [
              "\n",
              "  <div id=\"df-4c336ca4-342e-43bf-82b9-50d2cfab9281\" class=\"colab-df-container\">\n",
              "    <div>\n",
              "<style scoped>\n",
              "    .dataframe tbody tr th:only-of-type {\n",
              "        vertical-align: middle;\n",
              "    }\n",
              "\n",
              "    .dataframe tbody tr th {\n",
              "        vertical-align: top;\n",
              "    }\n",
              "\n",
              "    .dataframe thead th {\n",
              "        text-align: right;\n",
              "    }\n",
              "</style>\n",
              "<table border=\"1\" class=\"dataframe\">\n",
              "  <thead>\n",
              "    <tr style=\"text-align: right;\">\n",
              "      <th></th>\n",
              "      <th>Year</th>\n",
              "      <th>Region</th>\n",
              "      <th>Commune</th>\n",
              "      <th>Date</th>\n",
              "      <th>Type</th>\n",
              "      <th>Cause</th>\n",
              "      <th>Fatalities</th>\n",
              "      <th>Serious</th>\n",
              "      <th>Less serious</th>\n",
              "      <th>Slight</th>\n",
              "      <th>geometry</th>\n",
              "    </tr>\n",
              "  </thead>\n",
              "  <tbody>\n",
              "    <tr>\n",
              "      <th>2116</th>\n",
              "      <td>2019</td>\n",
              "      <td>REGION ANTOFAGASTA</td>\n",
              "      <td>CALAMA</td>\n",
              "      <td>2019-03-12 00:00:00+00:00</td>\n",
              "      <td>OTRO TIPO</td>\n",
              "      <td>OTRAS CAUSAS</td>\n",
              "      <td>0</td>\n",
              "      <td>0</td>\n",
              "      <td>0</td>\n",
              "      <td>1</td>\n",
              "      <td>POINT (507919.1 7515784.799)</td>\n",
              "    </tr>\n",
              "    <tr>\n",
              "      <th>962</th>\n",
              "      <td>2019</td>\n",
              "      <td>REGION ANTOFAGASTA</td>\n",
              "      <td>ANTOFAGASTA</td>\n",
              "      <td>2019-02-04 00:00:00+00:00</td>\n",
              "      <td>COLISION</td>\n",
              "      <td>CAUSAS NO DETERMINADAS</td>\n",
              "      <td>0</td>\n",
              "      <td>0</td>\n",
              "      <td>0</td>\n",
              "      <td>0</td>\n",
              "      <td>POINT (358118.493 7389142.46)</td>\n",
              "    </tr>\n",
              "    <tr>\n",
              "      <th>1720</th>\n",
              "      <td>2019</td>\n",
              "      <td>REGION ANTOFAGASTA</td>\n",
              "      <td>ANTOFAGASTA</td>\n",
              "      <td>2019-03-28 00:00:00+00:00</td>\n",
              "      <td>CHOQUE</td>\n",
              "      <td>IMPRUDENCIA DEL CONDUCTOR</td>\n",
              "      <td>0</td>\n",
              "      <td>0</td>\n",
              "      <td>0</td>\n",
              "      <td>0</td>\n",
              "      <td>POINT (358021.529 7384626.815)</td>\n",
              "    </tr>\n",
              "  </tbody>\n",
              "</table>\n",
              "</div>\n",
              "    <div class=\"colab-df-buttons\">\n",
              "\n",
              "  <div class=\"colab-df-container\">\n",
              "    <button class=\"colab-df-convert\" onclick=\"convertToInteractive('df-4c336ca4-342e-43bf-82b9-50d2cfab9281')\"\n",
              "            title=\"Convert this dataframe to an interactive table.\"\n",
              "            style=\"display:none;\">\n",
              "\n",
              "  <svg xmlns=\"http://www.w3.org/2000/svg\" height=\"24px\" viewBox=\"0 -960 960 960\">\n",
              "    <path d=\"M120-120v-720h720v720H120Zm60-500h600v-160H180v160Zm220 220h160v-160H400v160Zm0 220h160v-160H400v160ZM180-400h160v-160H180v160Zm440 0h160v-160H620v160ZM180-180h160v-160H180v160Zm440 0h160v-160H620v160Z\"/>\n",
              "  </svg>\n",
              "    </button>\n",
              "\n",
              "  <style>\n",
              "    .colab-df-container {\n",
              "      display:flex;\n",
              "      gap: 12px;\n",
              "    }\n",
              "\n",
              "    .colab-df-convert {\n",
              "      background-color: #E8F0FE;\n",
              "      border: none;\n",
              "      border-radius: 50%;\n",
              "      cursor: pointer;\n",
              "      display: none;\n",
              "      fill: #1967D2;\n",
              "      height: 32px;\n",
              "      padding: 0 0 0 0;\n",
              "      width: 32px;\n",
              "    }\n",
              "\n",
              "    .colab-df-convert:hover {\n",
              "      background-color: #E2EBFA;\n",
              "      box-shadow: 0px 1px 2px rgba(60, 64, 67, 0.3), 0px 1px 3px 1px rgba(60, 64, 67, 0.15);\n",
              "      fill: #174EA6;\n",
              "    }\n",
              "\n",
              "    .colab-df-buttons div {\n",
              "      margin-bottom: 4px;\n",
              "    }\n",
              "\n",
              "    [theme=dark] .colab-df-convert {\n",
              "      background-color: #3B4455;\n",
              "      fill: #D2E3FC;\n",
              "    }\n",
              "\n",
              "    [theme=dark] .colab-df-convert:hover {\n",
              "      background-color: #434B5C;\n",
              "      box-shadow: 0px 1px 3px 1px rgba(0, 0, 0, 0.15);\n",
              "      filter: drop-shadow(0px 1px 2px rgba(0, 0, 0, 0.3));\n",
              "      fill: #FFFFFF;\n",
              "    }\n",
              "  </style>\n",
              "\n",
              "    <script>\n",
              "      const buttonEl =\n",
              "        document.querySelector('#df-4c336ca4-342e-43bf-82b9-50d2cfab9281 button.colab-df-convert');\n",
              "      buttonEl.style.display =\n",
              "        google.colab.kernel.accessAllowed ? 'block' : 'none';\n",
              "\n",
              "      async function convertToInteractive(key) {\n",
              "        const element = document.querySelector('#df-4c336ca4-342e-43bf-82b9-50d2cfab9281');\n",
              "        const dataTable =\n",
              "          await google.colab.kernel.invokeFunction('convertToInteractive',\n",
              "                                                    [key], {});\n",
              "        if (!dataTable) return;\n",
              "\n",
              "        const docLinkHtml = 'Like what you see? Visit the ' +\n",
              "          '<a target=\"_blank\" href=https://colab.research.google.com/notebooks/data_table.ipynb>data table notebook</a>'\n",
              "          + ' to learn more about interactive tables.';\n",
              "        element.innerHTML = '';\n",
              "        dataTable['output_type'] = 'display_data';\n",
              "        await google.colab.output.renderOutput(dataTable, element);\n",
              "        const docLink = document.createElement('div');\n",
              "        docLink.innerHTML = docLinkHtml;\n",
              "        element.appendChild(docLink);\n",
              "      }\n",
              "    </script>\n",
              "  </div>\n",
              "\n",
              "\n",
              "    <div id=\"df-6329df55-9bc4-4f03-8de4-27bfc1420e38\">\n",
              "      <button class=\"colab-df-quickchart\" onclick=\"quickchart('df-6329df55-9bc4-4f03-8de4-27bfc1420e38')\"\n",
              "                title=\"Suggest charts\"\n",
              "                style=\"display:none;\">\n",
              "\n",
              "<svg xmlns=\"http://www.w3.org/2000/svg\" height=\"24px\"viewBox=\"0 0 24 24\"\n",
              "     width=\"24px\">\n",
              "    <g>\n",
              "        <path d=\"M19 3H5c-1.1 0-2 .9-2 2v14c0 1.1.9 2 2 2h14c1.1 0 2-.9 2-2V5c0-1.1-.9-2-2-2zM9 17H7v-7h2v7zm4 0h-2V7h2v10zm4 0h-2v-4h2v4z\"/>\n",
              "    </g>\n",
              "</svg>\n",
              "      </button>\n",
              "\n",
              "<style>\n",
              "  .colab-df-quickchart {\n",
              "      --bg-color: #E8F0FE;\n",
              "      --fill-color: #1967D2;\n",
              "      --hover-bg-color: #E2EBFA;\n",
              "      --hover-fill-color: #174EA6;\n",
              "      --disabled-fill-color: #AAA;\n",
              "      --disabled-bg-color: #DDD;\n",
              "  }\n",
              "\n",
              "  [theme=dark] .colab-df-quickchart {\n",
              "      --bg-color: #3B4455;\n",
              "      --fill-color: #D2E3FC;\n",
              "      --hover-bg-color: #434B5C;\n",
              "      --hover-fill-color: #FFFFFF;\n",
              "      --disabled-bg-color: #3B4455;\n",
              "      --disabled-fill-color: #666;\n",
              "  }\n",
              "\n",
              "  .colab-df-quickchart {\n",
              "    background-color: var(--bg-color);\n",
              "    border: none;\n",
              "    border-radius: 50%;\n",
              "    cursor: pointer;\n",
              "    display: none;\n",
              "    fill: var(--fill-color);\n",
              "    height: 32px;\n",
              "    padding: 0;\n",
              "    width: 32px;\n",
              "  }\n",
              "\n",
              "  .colab-df-quickchart:hover {\n",
              "    background-color: var(--hover-bg-color);\n",
              "    box-shadow: 0 1px 2px rgba(60, 64, 67, 0.3), 0 1px 3px 1px rgba(60, 64, 67, 0.15);\n",
              "    fill: var(--button-hover-fill-color);\n",
              "  }\n",
              "\n",
              "  .colab-df-quickchart-complete:disabled,\n",
              "  .colab-df-quickchart-complete:disabled:hover {\n",
              "    background-color: var(--disabled-bg-color);\n",
              "    fill: var(--disabled-fill-color);\n",
              "    box-shadow: none;\n",
              "  }\n",
              "\n",
              "  .colab-df-spinner {\n",
              "    border: 2px solid var(--fill-color);\n",
              "    border-color: transparent;\n",
              "    border-bottom-color: var(--fill-color);\n",
              "    animation:\n",
              "      spin 1s steps(1) infinite;\n",
              "  }\n",
              "\n",
              "  @keyframes spin {\n",
              "    0% {\n",
              "      border-color: transparent;\n",
              "      border-bottom-color: var(--fill-color);\n",
              "      border-left-color: var(--fill-color);\n",
              "    }\n",
              "    20% {\n",
              "      border-color: transparent;\n",
              "      border-left-color: var(--fill-color);\n",
              "      border-top-color: var(--fill-color);\n",
              "    }\n",
              "    30% {\n",
              "      border-color: transparent;\n",
              "      border-left-color: var(--fill-color);\n",
              "      border-top-color: var(--fill-color);\n",
              "      border-right-color: var(--fill-color);\n",
              "    }\n",
              "    40% {\n",
              "      border-color: transparent;\n",
              "      border-right-color: var(--fill-color);\n",
              "      border-top-color: var(--fill-color);\n",
              "    }\n",
              "    60% {\n",
              "      border-color: transparent;\n",
              "      border-right-color: var(--fill-color);\n",
              "    }\n",
              "    80% {\n",
              "      border-color: transparent;\n",
              "      border-right-color: var(--fill-color);\n",
              "      border-bottom-color: var(--fill-color);\n",
              "    }\n",
              "    90% {\n",
              "      border-color: transparent;\n",
              "      border-bottom-color: var(--fill-color);\n",
              "    }\n",
              "  }\n",
              "</style>\n",
              "\n",
              "      <script>\n",
              "        async function quickchart(key) {\n",
              "          const quickchartButtonEl =\n",
              "            document.querySelector('#' + key + ' button');\n",
              "          quickchartButtonEl.disabled = true;  // To prevent multiple clicks.\n",
              "          quickchartButtonEl.classList.add('colab-df-spinner');\n",
              "          try {\n",
              "            const charts = await google.colab.kernel.invokeFunction(\n",
              "                'suggestCharts', [key], {});\n",
              "          } catch (error) {\n",
              "            console.error('Error during call to suggestCharts:', error);\n",
              "          }\n",
              "          quickchartButtonEl.classList.remove('colab-df-spinner');\n",
              "          quickchartButtonEl.classList.add('colab-df-quickchart-complete');\n",
              "        }\n",
              "        (() => {\n",
              "          let quickchartButtonEl =\n",
              "            document.querySelector('#df-6329df55-9bc4-4f03-8de4-27bfc1420e38 button');\n",
              "          quickchartButtonEl.style.display =\n",
              "            google.colab.kernel.accessAllowed ? 'block' : 'none';\n",
              "        })();\n",
              "      </script>\n",
              "    </div>\n",
              "\n",
              "    </div>\n",
              "  </div>\n"
            ],
            "application/vnd.google.colaboratory.intrinsic+json": {
              "type": "dataframe",
              "summary": "{\n  \"name\": \"gdfs_2019_utm\",\n  \"rows\": 3,\n  \"fields\": [\n    {\n      \"column\": \"Year\",\n      \"properties\": {\n        \"dtype\": \"int32\",\n        \"num_unique_values\": 1,\n        \"samples\": [\n          2019\n        ],\n        \"semantic_type\": \"\",\n        \"description\": \"\"\n      }\n    },\n    {\n      \"column\": \"Region\",\n      \"properties\": {\n        \"dtype\": \"category\",\n        \"num_unique_values\": 1,\n        \"samples\": [\n          \"REGION ANTOFAGASTA\"\n        ],\n        \"semantic_type\": \"\",\n        \"description\": \"\"\n      }\n    },\n    {\n      \"column\": \"Commune\",\n      \"properties\": {\n        \"dtype\": \"string\",\n        \"num_unique_values\": 2,\n        \"samples\": [\n          \"ANTOFAGASTA\"\n        ],\n        \"semantic_type\": \"\",\n        \"description\": \"\"\n      }\n    },\n    {\n      \"column\": \"Date\",\n      \"properties\": {\n        \"dtype\": \"date\",\n        \"min\": \"2019-02-04 00:00:00+00:00\",\n        \"max\": \"2019-03-28 00:00:00+00:00\",\n        \"num_unique_values\": 3,\n        \"samples\": [\n          \"2019-03-12 00:00:00+00:00\"\n        ],\n        \"semantic_type\": \"\",\n        \"description\": \"\"\n      }\n    },\n    {\n      \"column\": \"Type\",\n      \"properties\": {\n        \"dtype\": \"string\",\n        \"num_unique_values\": 3,\n        \"samples\": [\n          \"OTRO TIPO\"\n        ],\n        \"semantic_type\": \"\",\n        \"description\": \"\"\n      }\n    },\n    {\n      \"column\": \"Cause\",\n      \"properties\": {\n        \"dtype\": \"string\",\n        \"num_unique_values\": 3,\n        \"samples\": [\n          \"OTRAS CAUSAS\"\n        ],\n        \"semantic_type\": \"\",\n        \"description\": \"\"\n      }\n    },\n    {\n      \"column\": \"Fatalities\",\n      \"properties\": {\n        \"dtype\": \"int32\",\n        \"num_unique_values\": 1,\n        \"samples\": [\n          0\n        ],\n        \"semantic_type\": \"\",\n        \"description\": \"\"\n      }\n    },\n    {\n      \"column\": \"Serious\",\n      \"properties\": {\n        \"dtype\": \"int32\",\n        \"num_unique_values\": 1,\n        \"samples\": [\n          0\n        ],\n        \"semantic_type\": \"\",\n        \"description\": \"\"\n      }\n    },\n    {\n      \"column\": \"Less serious\",\n      \"properties\": {\n        \"dtype\": \"int32\",\n        \"num_unique_values\": 1,\n        \"samples\": [\n          0\n        ],\n        \"semantic_type\": \"\",\n        \"description\": \"\"\n      }\n    },\n    {\n      \"column\": \"Slight\",\n      \"properties\": {\n        \"dtype\": \"int32\",\n        \"num_unique_values\": 2,\n        \"samples\": [\n          0\n        ],\n        \"semantic_type\": \"\",\n        \"description\": \"\"\n      }\n    },\n    {\n      \"column\": \"geometry\",\n      \"properties\": {\n        \"dtype\": \"geometry\",\n        \"num_unique_values\": 3,\n        \"samples\": [\n          \"POINT (507919.1001844291 7515784.799130164)\"\n        ],\n        \"semantic_type\": \"\",\n        \"description\": \"\"\n      }\n    }\n  ]\n}"
            }
          },
          "metadata": {},
          "execution_count": 44
        }
      ]
    },
    {
      "cell_type": "markdown",
      "source": [
        "## Concatenación"
      ],
      "metadata": {
        "id": "62z75UL9xRWu"
      },
      "id": "62z75UL9xRWu"
    },
    {
      "cell_type": "markdown",
      "source": [
        "Ya hemos visualizado el contenido de los datos por separado, es decir por cada ano. Ahora vamos a unir los cuatro geojson en uno solo para poder visualizar la cantidad total de fallecidos, graves, menos graves y leves para cada año en una misma tabla."
      ],
      "metadata": {
        "id": "kvmiS2s0xmUR"
      },
      "id": "kvmiS2s0xmUR"
    },
    {
      "cell_type": "markdown",
      "source": [
        "Sin embargo existen columnas duplicadas en uno de los DataFrames, lo que puede haber ocurrido al moemnto de renombrarlas."
      ],
      "metadata": {
        "id": "E1Irljh4x6C2"
      },
      "id": "E1Irljh4x6C2"
    },
    {
      "cell_type": "code",
      "source": [
        "# Se visualizan (en orden, comenzando desde el 2019 al 2022) cada uno de los DatFrame y se observa que el\n",
        "# del año 2021 (el tercero) tiene la columna 'Region' repetida.\n",
        "for gdf in gdfs: # Se crea un bucle for para iterar cada elemento de la lista gdfs\n",
        "    print(gdf.columns)  # Se muestra el nombre de la columna"
      ],
      "metadata": {
        "id": "e8TLIch6x5Ob",
        "outputId": "eb547bb3-9b39-4af7-ebe2-589f60e43bbf",
        "colab": {
          "base_uri": "https://localhost:8080/"
        }
      },
      "id": "e8TLIch6x5Ob",
      "execution_count": null,
      "outputs": [
        {
          "output_type": "stream",
          "name": "stdout",
          "text": [
            "Index(['Year', 'Region', 'Commune', 'Date', 'Type', 'Cause', 'Fatalities',\n",
            "       'Serious', 'Less serious', 'Slight', 'geometry'],\n",
            "      dtype='object')\n",
            "Index(['Year', 'Region', 'Commune', 'Date', 'Type', 'Cause', 'Fatalities',\n",
            "       'Serious', 'Less serious', 'Slight', 'geometry'],\n",
            "      dtype='object')\n",
            "Index(['Year', 'Region', 'Region', 'Commune', 'Date', 'Type', 'Cause',\n",
            "       'Fatalities', 'Serious', 'Less serious', 'Slight', 'geometry'],\n",
            "      dtype='object')\n",
            "Index(['Year', 'Region', 'Commune', 'Date', 'Type', 'Cause', 'Fatalities',\n",
            "       'Serious', 'Less serious', 'Slight', 'geometry'],\n",
            "      dtype='object')\n"
          ]
        }
      ]
    },
    {
      "cell_type": "markdown",
      "source": [
        "Se identifica que habían columnas duplicadas en uno de los DataFrames (gdfs_2021), lo que es necesario corregir antes de concatenar todos los DataFrame en uno solo, sino arroja error."
      ],
      "metadata": {
        "id": "M7QrHC4kyY1H"
      },
      "id": "M7QrHC4kyY1H"
    },
    {
      "cell_type": "code",
      "source": [
        "# Se eliminan las columnas duplicadas. Se obtuvo de Stack Overflow: https://stackoverflow.com/questions/14984119/python-pandas-remove-duplicate-columns\n",
        "gdfs_2021_utm = gdfs_2021_utm.loc[:,~gdfs_2021_utm.columns.duplicated()].copy() # Con '.loc' se selecciona las columnas que no estan duplicadas."
      ],
      "metadata": {
        "id": "6LGwoOU6wlVo"
      },
      "id": "6LGwoOU6wlVo",
      "execution_count": null,
      "outputs": []
    },
    {
      "cell_type": "code",
      "source": [
        "# Se revisa y ya no aparece la columna duplicada\n",
        "gdfs_2021_utm.sample()"
      ],
      "metadata": {
        "id": "I8b-hQCNwlJ4",
        "outputId": "6d8e0c74-ed81-49c9-8161-b030df132244",
        "colab": {
          "base_uri": "https://localhost:8080/",
          "height": 115
        }
      },
      "id": "I8b-hQCNwlJ4",
      "execution_count": null,
      "outputs": [
        {
          "output_type": "execute_result",
          "data": {
            "text/plain": [
              "     Year              Region      Commune                      Date  \\\n",
              "958  2021  REGION ANTOFAGASTA  ANTOFAGASTA 2021-10-16 00:00:00+00:00   \n",
              "\n",
              "         Type                         Cause  Fatalities  Serious  \\\n",
              "958  COLISION  DESOBEDIENCIA A SEÑALIZACION           0        0   \n",
              "\n",
              "     Less serious  Slight                        geometry  \n",
              "958             0       0  POINT (357786.893 7386481.863)  "
            ],
            "text/html": [
              "\n",
              "  <div id=\"df-45993f42-0ebf-45f7-81d8-b2f83793744f\" class=\"colab-df-container\">\n",
              "    <div>\n",
              "<style scoped>\n",
              "    .dataframe tbody tr th:only-of-type {\n",
              "        vertical-align: middle;\n",
              "    }\n",
              "\n",
              "    .dataframe tbody tr th {\n",
              "        vertical-align: top;\n",
              "    }\n",
              "\n",
              "    .dataframe thead th {\n",
              "        text-align: right;\n",
              "    }\n",
              "</style>\n",
              "<table border=\"1\" class=\"dataframe\">\n",
              "  <thead>\n",
              "    <tr style=\"text-align: right;\">\n",
              "      <th></th>\n",
              "      <th>Year</th>\n",
              "      <th>Region</th>\n",
              "      <th>Commune</th>\n",
              "      <th>Date</th>\n",
              "      <th>Type</th>\n",
              "      <th>Cause</th>\n",
              "      <th>Fatalities</th>\n",
              "      <th>Serious</th>\n",
              "      <th>Less serious</th>\n",
              "      <th>Slight</th>\n",
              "      <th>geometry</th>\n",
              "    </tr>\n",
              "  </thead>\n",
              "  <tbody>\n",
              "    <tr>\n",
              "      <th>958</th>\n",
              "      <td>2021</td>\n",
              "      <td>REGION ANTOFAGASTA</td>\n",
              "      <td>ANTOFAGASTA</td>\n",
              "      <td>2021-10-16 00:00:00+00:00</td>\n",
              "      <td>COLISION</td>\n",
              "      <td>DESOBEDIENCIA A SEÑALIZACION</td>\n",
              "      <td>0</td>\n",
              "      <td>0</td>\n",
              "      <td>0</td>\n",
              "      <td>0</td>\n",
              "      <td>POINT (357786.893 7386481.863)</td>\n",
              "    </tr>\n",
              "  </tbody>\n",
              "</table>\n",
              "</div>\n",
              "    <div class=\"colab-df-buttons\">\n",
              "\n",
              "  <div class=\"colab-df-container\">\n",
              "    <button class=\"colab-df-convert\" onclick=\"convertToInteractive('df-45993f42-0ebf-45f7-81d8-b2f83793744f')\"\n",
              "            title=\"Convert this dataframe to an interactive table.\"\n",
              "            style=\"display:none;\">\n",
              "\n",
              "  <svg xmlns=\"http://www.w3.org/2000/svg\" height=\"24px\" viewBox=\"0 -960 960 960\">\n",
              "    <path d=\"M120-120v-720h720v720H120Zm60-500h600v-160H180v160Zm220 220h160v-160H400v160Zm0 220h160v-160H400v160ZM180-400h160v-160H180v160Zm440 0h160v-160H620v160ZM180-180h160v-160H180v160Zm440 0h160v-160H620v160Z\"/>\n",
              "  </svg>\n",
              "    </button>\n",
              "\n",
              "  <style>\n",
              "    .colab-df-container {\n",
              "      display:flex;\n",
              "      gap: 12px;\n",
              "    }\n",
              "\n",
              "    .colab-df-convert {\n",
              "      background-color: #E8F0FE;\n",
              "      border: none;\n",
              "      border-radius: 50%;\n",
              "      cursor: pointer;\n",
              "      display: none;\n",
              "      fill: #1967D2;\n",
              "      height: 32px;\n",
              "      padding: 0 0 0 0;\n",
              "      width: 32px;\n",
              "    }\n",
              "\n",
              "    .colab-df-convert:hover {\n",
              "      background-color: #E2EBFA;\n",
              "      box-shadow: 0px 1px 2px rgba(60, 64, 67, 0.3), 0px 1px 3px 1px rgba(60, 64, 67, 0.15);\n",
              "      fill: #174EA6;\n",
              "    }\n",
              "\n",
              "    .colab-df-buttons div {\n",
              "      margin-bottom: 4px;\n",
              "    }\n",
              "\n",
              "    [theme=dark] .colab-df-convert {\n",
              "      background-color: #3B4455;\n",
              "      fill: #D2E3FC;\n",
              "    }\n",
              "\n",
              "    [theme=dark] .colab-df-convert:hover {\n",
              "      background-color: #434B5C;\n",
              "      box-shadow: 0px 1px 3px 1px rgba(0, 0, 0, 0.15);\n",
              "      filter: drop-shadow(0px 1px 2px rgba(0, 0, 0, 0.3));\n",
              "      fill: #FFFFFF;\n",
              "    }\n",
              "  </style>\n",
              "\n",
              "    <script>\n",
              "      const buttonEl =\n",
              "        document.querySelector('#df-45993f42-0ebf-45f7-81d8-b2f83793744f button.colab-df-convert');\n",
              "      buttonEl.style.display =\n",
              "        google.colab.kernel.accessAllowed ? 'block' : 'none';\n",
              "\n",
              "      async function convertToInteractive(key) {\n",
              "        const element = document.querySelector('#df-45993f42-0ebf-45f7-81d8-b2f83793744f');\n",
              "        const dataTable =\n",
              "          await google.colab.kernel.invokeFunction('convertToInteractive',\n",
              "                                                    [key], {});\n",
              "        if (!dataTable) return;\n",
              "\n",
              "        const docLinkHtml = 'Like what you see? Visit the ' +\n",
              "          '<a target=\"_blank\" href=https://colab.research.google.com/notebooks/data_table.ipynb>data table notebook</a>'\n",
              "          + ' to learn more about interactive tables.';\n",
              "        element.innerHTML = '';\n",
              "        dataTable['output_type'] = 'display_data';\n",
              "        await google.colab.output.renderOutput(dataTable, element);\n",
              "        const docLink = document.createElement('div');\n",
              "        docLink.innerHTML = docLinkHtml;\n",
              "        element.appendChild(docLink);\n",
              "      }\n",
              "    </script>\n",
              "  </div>\n",
              "\n",
              "\n",
              "    </div>\n",
              "  </div>\n"
            ],
            "application/vnd.google.colaboratory.intrinsic+json": {
              "type": "dataframe",
              "summary": "{\n  \"name\": \"gdfs_2021_utm\",\n  \"rows\": 1,\n  \"fields\": [\n    {\n      \"column\": \"Year\",\n      \"properties\": {\n        \"dtype\": \"int32\",\n        \"num_unique_values\": 1,\n        \"samples\": [\n          2021\n        ],\n        \"semantic_type\": \"\",\n        \"description\": \"\"\n      }\n    },\n    {\n      \"column\": \"Region\",\n      \"properties\": {\n        \"dtype\": \"string\",\n        \"num_unique_values\": 1,\n        \"samples\": [\n          \"REGION ANTOFAGASTA\"\n        ],\n        \"semantic_type\": \"\",\n        \"description\": \"\"\n      }\n    },\n    {\n      \"column\": \"Commune\",\n      \"properties\": {\n        \"dtype\": \"string\",\n        \"num_unique_values\": 1,\n        \"samples\": [\n          \"ANTOFAGASTA\"\n        ],\n        \"semantic_type\": \"\",\n        \"description\": \"\"\n      }\n    },\n    {\n      \"column\": \"Date\",\n      \"properties\": {\n        \"dtype\": \"date\",\n        \"min\": \"2021-10-16 00:00:00+00:00\",\n        \"max\": \"2021-10-16 00:00:00+00:00\",\n        \"num_unique_values\": 1,\n        \"samples\": [\n          \"2021-10-16 00:00:00+00:00\"\n        ],\n        \"semantic_type\": \"\",\n        \"description\": \"\"\n      }\n    },\n    {\n      \"column\": \"Type\",\n      \"properties\": {\n        \"dtype\": \"string\",\n        \"num_unique_values\": 1,\n        \"samples\": [\n          \"COLISION\"\n        ],\n        \"semantic_type\": \"\",\n        \"description\": \"\"\n      }\n    },\n    {\n      \"column\": \"Cause\",\n      \"properties\": {\n        \"dtype\": \"string\",\n        \"num_unique_values\": 1,\n        \"samples\": [\n          \"DESOBEDIENCIA A SE\\u00d1ALIZACION\"\n        ],\n        \"semantic_type\": \"\",\n        \"description\": \"\"\n      }\n    },\n    {\n      \"column\": \"Fatalities\",\n      \"properties\": {\n        \"dtype\": \"int32\",\n        \"num_unique_values\": 1,\n        \"samples\": [\n          0\n        ],\n        \"semantic_type\": \"\",\n        \"description\": \"\"\n      }\n    },\n    {\n      \"column\": \"Serious\",\n      \"properties\": {\n        \"dtype\": \"int32\",\n        \"num_unique_values\": 1,\n        \"samples\": [\n          0\n        ],\n        \"semantic_type\": \"\",\n        \"description\": \"\"\n      }\n    },\n    {\n      \"column\": \"Less serious\",\n      \"properties\": {\n        \"dtype\": \"int32\",\n        \"num_unique_values\": 1,\n        \"samples\": [\n          0\n        ],\n        \"semantic_type\": \"\",\n        \"description\": \"\"\n      }\n    },\n    {\n      \"column\": \"Slight\",\n      \"properties\": {\n        \"dtype\": \"int32\",\n        \"num_unique_values\": 1,\n        \"samples\": [\n          0\n        ],\n        \"semantic_type\": \"\",\n        \"description\": \"\"\n      }\n    },\n    {\n      \"column\": \"geometry\",\n      \"properties\": {\n        \"dtype\": \"geometry\",\n        \"num_unique_values\": 1,\n        \"samples\": [\n          \"POINT (357786.89258786466 7386481.862831689)\"\n        ],\n        \"semantic_type\": \"\",\n        \"description\": \"\"\n      }\n    }\n  ]\n}"
            }
          },
          "metadata": {},
          "execution_count": 47
        }
      ]
    },
    {
      "cell_type": "code",
      "source": [
        "# Subsanando el error, ya no hay problemas con concatenar\n",
        "# By fixing the error there are no problems with concatenating\n",
        "gdfs_all = pd.concat([gdfs_2019_utm, gdfs_2020_utm, gdfs_2021_utm, gdfs_2022_utm], ignore_index=True)"
      ],
      "metadata": {
        "id": "KAvRZs1vxQip"
      },
      "id": "KAvRZs1vxQip",
      "execution_count": null,
      "outputs": []
    },
    {
      "cell_type": "code",
      "source": [
        "# Se revisa que se hayan integrado los datos de cada año\n",
        "gdfs_all.sample(5)"
      ],
      "metadata": {
        "id": "1Le5rPVWzeiQ",
        "outputId": "68946764-3d00-482c-a696-f2aac6699db9",
        "colab": {
          "base_uri": "https://localhost:8080/",
          "height": 310
        }
      },
      "id": "1Le5rPVWzeiQ",
      "execution_count": null,
      "outputs": [
        {
          "output_type": "execute_result",
          "data": {
            "text/plain": [
              "      Year              Region      Commune                      Date  \\\n",
              "7579  2022  REGION ANTOFAGASTA       CALAMA 2022-08-19 00:00:00+00:00   \n",
              "6731  2021  REGION ANTOFAGASTA    TOCOPILLA 2021-03-22 00:00:00+00:00   \n",
              "3732  2020  REGION ANTOFAGASTA  ANTOFAGASTA 2020-09-28 00:00:00+00:00   \n",
              "4712  2021  REGION ANTOFAGASTA  ANTOFAGASTA 2021-04-09 00:00:00+00:00   \n",
              "4811  2021  REGION ANTOFAGASTA  ANTOFAGASTA 2021-01-11 00:00:00+00:00   \n",
              "\n",
              "          Type                         Cause  Fatalities  Serious  \\\n",
              "7579    CHOQUE     IMPRUDENCIA DEL CONDUCTOR           0        0   \n",
              "6731  COLISION                  OTRAS CAUSAS           0        0   \n",
              "3732  COLISION  DESOBEDIENCIA A SEÑALIZACION           0        0   \n",
              "4712  COLISION     IMPRUDENCIA DEL CONDUCTOR           0        0   \n",
              "4811    CHOQUE     IMPRUDENCIA DEL CONDUCTOR           0        0   \n",
              "\n",
              "      Less serious  Slight                        geometry  \n",
              "7579             0       0  POINT (506685.861 7516265.057)  \n",
              "6731             0       0  POINT (376922.109 7557032.877)  \n",
              "3732             0       0  POINT (356910.868 7382426.508)  \n",
              "4712             0       1   POINT (357905.97 7384110.252)  \n",
              "4811             0       0  POINT (358228.437 7384967.444)  "
            ],
            "text/html": [
              "\n",
              "  <div id=\"df-4e5366c2-bcbe-482c-a1aa-fe58a00a9445\" class=\"colab-df-container\">\n",
              "    <div>\n",
              "<style scoped>\n",
              "    .dataframe tbody tr th:only-of-type {\n",
              "        vertical-align: middle;\n",
              "    }\n",
              "\n",
              "    .dataframe tbody tr th {\n",
              "        vertical-align: top;\n",
              "    }\n",
              "\n",
              "    .dataframe thead th {\n",
              "        text-align: right;\n",
              "    }\n",
              "</style>\n",
              "<table border=\"1\" class=\"dataframe\">\n",
              "  <thead>\n",
              "    <tr style=\"text-align: right;\">\n",
              "      <th></th>\n",
              "      <th>Year</th>\n",
              "      <th>Region</th>\n",
              "      <th>Commune</th>\n",
              "      <th>Date</th>\n",
              "      <th>Type</th>\n",
              "      <th>Cause</th>\n",
              "      <th>Fatalities</th>\n",
              "      <th>Serious</th>\n",
              "      <th>Less serious</th>\n",
              "      <th>Slight</th>\n",
              "      <th>geometry</th>\n",
              "    </tr>\n",
              "  </thead>\n",
              "  <tbody>\n",
              "    <tr>\n",
              "      <th>7579</th>\n",
              "      <td>2022</td>\n",
              "      <td>REGION ANTOFAGASTA</td>\n",
              "      <td>CALAMA</td>\n",
              "      <td>2022-08-19 00:00:00+00:00</td>\n",
              "      <td>CHOQUE</td>\n",
              "      <td>IMPRUDENCIA DEL CONDUCTOR</td>\n",
              "      <td>0</td>\n",
              "      <td>0</td>\n",
              "      <td>0</td>\n",
              "      <td>0</td>\n",
              "      <td>POINT (506685.861 7516265.057)</td>\n",
              "    </tr>\n",
              "    <tr>\n",
              "      <th>6731</th>\n",
              "      <td>2021</td>\n",
              "      <td>REGION ANTOFAGASTA</td>\n",
              "      <td>TOCOPILLA</td>\n",
              "      <td>2021-03-22 00:00:00+00:00</td>\n",
              "      <td>COLISION</td>\n",
              "      <td>OTRAS CAUSAS</td>\n",
              "      <td>0</td>\n",
              "      <td>0</td>\n",
              "      <td>0</td>\n",
              "      <td>0</td>\n",
              "      <td>POINT (376922.109 7557032.877)</td>\n",
              "    </tr>\n",
              "    <tr>\n",
              "      <th>3732</th>\n",
              "      <td>2020</td>\n",
              "      <td>REGION ANTOFAGASTA</td>\n",
              "      <td>ANTOFAGASTA</td>\n",
              "      <td>2020-09-28 00:00:00+00:00</td>\n",
              "      <td>COLISION</td>\n",
              "      <td>DESOBEDIENCIA A SEÑALIZACION</td>\n",
              "      <td>0</td>\n",
              "      <td>0</td>\n",
              "      <td>0</td>\n",
              "      <td>0</td>\n",
              "      <td>POINT (356910.868 7382426.508)</td>\n",
              "    </tr>\n",
              "    <tr>\n",
              "      <th>4712</th>\n",
              "      <td>2021</td>\n",
              "      <td>REGION ANTOFAGASTA</td>\n",
              "      <td>ANTOFAGASTA</td>\n",
              "      <td>2021-04-09 00:00:00+00:00</td>\n",
              "      <td>COLISION</td>\n",
              "      <td>IMPRUDENCIA DEL CONDUCTOR</td>\n",
              "      <td>0</td>\n",
              "      <td>0</td>\n",
              "      <td>0</td>\n",
              "      <td>1</td>\n",
              "      <td>POINT (357905.97 7384110.252)</td>\n",
              "    </tr>\n",
              "    <tr>\n",
              "      <th>4811</th>\n",
              "      <td>2021</td>\n",
              "      <td>REGION ANTOFAGASTA</td>\n",
              "      <td>ANTOFAGASTA</td>\n",
              "      <td>2021-01-11 00:00:00+00:00</td>\n",
              "      <td>CHOQUE</td>\n",
              "      <td>IMPRUDENCIA DEL CONDUCTOR</td>\n",
              "      <td>0</td>\n",
              "      <td>0</td>\n",
              "      <td>0</td>\n",
              "      <td>0</td>\n",
              "      <td>POINT (358228.437 7384967.444)</td>\n",
              "    </tr>\n",
              "  </tbody>\n",
              "</table>\n",
              "</div>\n",
              "    <div class=\"colab-df-buttons\">\n",
              "\n",
              "  <div class=\"colab-df-container\">\n",
              "    <button class=\"colab-df-convert\" onclick=\"convertToInteractive('df-4e5366c2-bcbe-482c-a1aa-fe58a00a9445')\"\n",
              "            title=\"Convert this dataframe to an interactive table.\"\n",
              "            style=\"display:none;\">\n",
              "\n",
              "  <svg xmlns=\"http://www.w3.org/2000/svg\" height=\"24px\" viewBox=\"0 -960 960 960\">\n",
              "    <path d=\"M120-120v-720h720v720H120Zm60-500h600v-160H180v160Zm220 220h160v-160H400v160Zm0 220h160v-160H400v160ZM180-400h160v-160H180v160Zm440 0h160v-160H620v160ZM180-180h160v-160H180v160Zm440 0h160v-160H620v160Z\"/>\n",
              "  </svg>\n",
              "    </button>\n",
              "\n",
              "  <style>\n",
              "    .colab-df-container {\n",
              "      display:flex;\n",
              "      gap: 12px;\n",
              "    }\n",
              "\n",
              "    .colab-df-convert {\n",
              "      background-color: #E8F0FE;\n",
              "      border: none;\n",
              "      border-radius: 50%;\n",
              "      cursor: pointer;\n",
              "      display: none;\n",
              "      fill: #1967D2;\n",
              "      height: 32px;\n",
              "      padding: 0 0 0 0;\n",
              "      width: 32px;\n",
              "    }\n",
              "\n",
              "    .colab-df-convert:hover {\n",
              "      background-color: #E2EBFA;\n",
              "      box-shadow: 0px 1px 2px rgba(60, 64, 67, 0.3), 0px 1px 3px 1px rgba(60, 64, 67, 0.15);\n",
              "      fill: #174EA6;\n",
              "    }\n",
              "\n",
              "    .colab-df-buttons div {\n",
              "      margin-bottom: 4px;\n",
              "    }\n",
              "\n",
              "    [theme=dark] .colab-df-convert {\n",
              "      background-color: #3B4455;\n",
              "      fill: #D2E3FC;\n",
              "    }\n",
              "\n",
              "    [theme=dark] .colab-df-convert:hover {\n",
              "      background-color: #434B5C;\n",
              "      box-shadow: 0px 1px 3px 1px rgba(0, 0, 0, 0.15);\n",
              "      filter: drop-shadow(0px 1px 2px rgba(0, 0, 0, 0.3));\n",
              "      fill: #FFFFFF;\n",
              "    }\n",
              "  </style>\n",
              "\n",
              "    <script>\n",
              "      const buttonEl =\n",
              "        document.querySelector('#df-4e5366c2-bcbe-482c-a1aa-fe58a00a9445 button.colab-df-convert');\n",
              "      buttonEl.style.display =\n",
              "        google.colab.kernel.accessAllowed ? 'block' : 'none';\n",
              "\n",
              "      async function convertToInteractive(key) {\n",
              "        const element = document.querySelector('#df-4e5366c2-bcbe-482c-a1aa-fe58a00a9445');\n",
              "        const dataTable =\n",
              "          await google.colab.kernel.invokeFunction('convertToInteractive',\n",
              "                                                    [key], {});\n",
              "        if (!dataTable) return;\n",
              "\n",
              "        const docLinkHtml = 'Like what you see? Visit the ' +\n",
              "          '<a target=\"_blank\" href=https://colab.research.google.com/notebooks/data_table.ipynb>data table notebook</a>'\n",
              "          + ' to learn more about interactive tables.';\n",
              "        element.innerHTML = '';\n",
              "        dataTable['output_type'] = 'display_data';\n",
              "        await google.colab.output.renderOutput(dataTable, element);\n",
              "        const docLink = document.createElement('div');\n",
              "        docLink.innerHTML = docLinkHtml;\n",
              "        element.appendChild(docLink);\n",
              "      }\n",
              "    </script>\n",
              "  </div>\n",
              "\n",
              "\n",
              "    <div id=\"df-f03ff7e7-555e-4f11-a4dc-5d28610b9dca\">\n",
              "      <button class=\"colab-df-quickchart\" onclick=\"quickchart('df-f03ff7e7-555e-4f11-a4dc-5d28610b9dca')\"\n",
              "                title=\"Suggest charts\"\n",
              "                style=\"display:none;\">\n",
              "\n",
              "<svg xmlns=\"http://www.w3.org/2000/svg\" height=\"24px\"viewBox=\"0 0 24 24\"\n",
              "     width=\"24px\">\n",
              "    <g>\n",
              "        <path d=\"M19 3H5c-1.1 0-2 .9-2 2v14c0 1.1.9 2 2 2h14c1.1 0 2-.9 2-2V5c0-1.1-.9-2-2-2zM9 17H7v-7h2v7zm4 0h-2V7h2v10zm4 0h-2v-4h2v4z\"/>\n",
              "    </g>\n",
              "</svg>\n",
              "      </button>\n",
              "\n",
              "<style>\n",
              "  .colab-df-quickchart {\n",
              "      --bg-color: #E8F0FE;\n",
              "      --fill-color: #1967D2;\n",
              "      --hover-bg-color: #E2EBFA;\n",
              "      --hover-fill-color: #174EA6;\n",
              "      --disabled-fill-color: #AAA;\n",
              "      --disabled-bg-color: #DDD;\n",
              "  }\n",
              "\n",
              "  [theme=dark] .colab-df-quickchart {\n",
              "      --bg-color: #3B4455;\n",
              "      --fill-color: #D2E3FC;\n",
              "      --hover-bg-color: #434B5C;\n",
              "      --hover-fill-color: #FFFFFF;\n",
              "      --disabled-bg-color: #3B4455;\n",
              "      --disabled-fill-color: #666;\n",
              "  }\n",
              "\n",
              "  .colab-df-quickchart {\n",
              "    background-color: var(--bg-color);\n",
              "    border: none;\n",
              "    border-radius: 50%;\n",
              "    cursor: pointer;\n",
              "    display: none;\n",
              "    fill: var(--fill-color);\n",
              "    height: 32px;\n",
              "    padding: 0;\n",
              "    width: 32px;\n",
              "  }\n",
              "\n",
              "  .colab-df-quickchart:hover {\n",
              "    background-color: var(--hover-bg-color);\n",
              "    box-shadow: 0 1px 2px rgba(60, 64, 67, 0.3), 0 1px 3px 1px rgba(60, 64, 67, 0.15);\n",
              "    fill: var(--button-hover-fill-color);\n",
              "  }\n",
              "\n",
              "  .colab-df-quickchart-complete:disabled,\n",
              "  .colab-df-quickchart-complete:disabled:hover {\n",
              "    background-color: var(--disabled-bg-color);\n",
              "    fill: var(--disabled-fill-color);\n",
              "    box-shadow: none;\n",
              "  }\n",
              "\n",
              "  .colab-df-spinner {\n",
              "    border: 2px solid var(--fill-color);\n",
              "    border-color: transparent;\n",
              "    border-bottom-color: var(--fill-color);\n",
              "    animation:\n",
              "      spin 1s steps(1) infinite;\n",
              "  }\n",
              "\n",
              "  @keyframes spin {\n",
              "    0% {\n",
              "      border-color: transparent;\n",
              "      border-bottom-color: var(--fill-color);\n",
              "      border-left-color: var(--fill-color);\n",
              "    }\n",
              "    20% {\n",
              "      border-color: transparent;\n",
              "      border-left-color: var(--fill-color);\n",
              "      border-top-color: var(--fill-color);\n",
              "    }\n",
              "    30% {\n",
              "      border-color: transparent;\n",
              "      border-left-color: var(--fill-color);\n",
              "      border-top-color: var(--fill-color);\n",
              "      border-right-color: var(--fill-color);\n",
              "    }\n",
              "    40% {\n",
              "      border-color: transparent;\n",
              "      border-right-color: var(--fill-color);\n",
              "      border-top-color: var(--fill-color);\n",
              "    }\n",
              "    60% {\n",
              "      border-color: transparent;\n",
              "      border-right-color: var(--fill-color);\n",
              "    }\n",
              "    80% {\n",
              "      border-color: transparent;\n",
              "      border-right-color: var(--fill-color);\n",
              "      border-bottom-color: var(--fill-color);\n",
              "    }\n",
              "    90% {\n",
              "      border-color: transparent;\n",
              "      border-bottom-color: var(--fill-color);\n",
              "    }\n",
              "  }\n",
              "</style>\n",
              "\n",
              "      <script>\n",
              "        async function quickchart(key) {\n",
              "          const quickchartButtonEl =\n",
              "            document.querySelector('#' + key + ' button');\n",
              "          quickchartButtonEl.disabled = true;  // To prevent multiple clicks.\n",
              "          quickchartButtonEl.classList.add('colab-df-spinner');\n",
              "          try {\n",
              "            const charts = await google.colab.kernel.invokeFunction(\n",
              "                'suggestCharts', [key], {});\n",
              "          } catch (error) {\n",
              "            console.error('Error during call to suggestCharts:', error);\n",
              "          }\n",
              "          quickchartButtonEl.classList.remove('colab-df-spinner');\n",
              "          quickchartButtonEl.classList.add('colab-df-quickchart-complete');\n",
              "        }\n",
              "        (() => {\n",
              "          let quickchartButtonEl =\n",
              "            document.querySelector('#df-f03ff7e7-555e-4f11-a4dc-5d28610b9dca button');\n",
              "          quickchartButtonEl.style.display =\n",
              "            google.colab.kernel.accessAllowed ? 'block' : 'none';\n",
              "        })();\n",
              "      </script>\n",
              "    </div>\n",
              "\n",
              "    </div>\n",
              "  </div>\n"
            ],
            "application/vnd.google.colaboratory.intrinsic+json": {
              "type": "dataframe",
              "summary": "{\n  \"name\": \"gdfs_all\",\n  \"rows\": 5,\n  \"fields\": [\n    {\n      \"column\": \"Year\",\n      \"properties\": {\n        \"dtype\": \"int32\",\n        \"num_unique_values\": 3,\n        \"samples\": [\n          2022,\n          2021,\n          2020\n        ],\n        \"semantic_type\": \"\",\n        \"description\": \"\"\n      }\n    },\n    {\n      \"column\": \"Region\",\n      \"properties\": {\n        \"dtype\": \"category\",\n        \"num_unique_values\": 1,\n        \"samples\": [\n          \"REGION ANTOFAGASTA\"\n        ],\n        \"semantic_type\": \"\",\n        \"description\": \"\"\n      }\n    },\n    {\n      \"column\": \"Commune\",\n      \"properties\": {\n        \"dtype\": \"string\",\n        \"num_unique_values\": 3,\n        \"samples\": [\n          \"CALAMA\"\n        ],\n        \"semantic_type\": \"\",\n        \"description\": \"\"\n      }\n    },\n    {\n      \"column\": \"Date\",\n      \"properties\": {\n        \"dtype\": \"date\",\n        \"min\": \"2020-09-28 00:00:00+00:00\",\n        \"max\": \"2022-08-19 00:00:00+00:00\",\n        \"num_unique_values\": 5,\n        \"samples\": [\n          \"2021-03-22 00:00:00+00:00\"\n        ],\n        \"semantic_type\": \"\",\n        \"description\": \"\"\n      }\n    },\n    {\n      \"column\": \"Type\",\n      \"properties\": {\n        \"dtype\": \"category\",\n        \"num_unique_values\": 2,\n        \"samples\": [\n          \"COLISION\"\n        ],\n        \"semantic_type\": \"\",\n        \"description\": \"\"\n      }\n    },\n    {\n      \"column\": \"Cause\",\n      \"properties\": {\n        \"dtype\": \"string\",\n        \"num_unique_values\": 3,\n        \"samples\": [\n          \"IMPRUDENCIA DEL CONDUCTOR\"\n        ],\n        \"semantic_type\": \"\",\n        \"description\": \"\"\n      }\n    },\n    {\n      \"column\": \"Fatalities\",\n      \"properties\": {\n        \"dtype\": \"int32\",\n        \"num_unique_values\": 1,\n        \"samples\": [\n          0\n        ],\n        \"semantic_type\": \"\",\n        \"description\": \"\"\n      }\n    },\n    {\n      \"column\": \"Serious\",\n      \"properties\": {\n        \"dtype\": \"int32\",\n        \"num_unique_values\": 1,\n        \"samples\": [\n          0\n        ],\n        \"semantic_type\": \"\",\n        \"description\": \"\"\n      }\n    },\n    {\n      \"column\": \"Less serious\",\n      \"properties\": {\n        \"dtype\": \"int32\",\n        \"num_unique_values\": 1,\n        \"samples\": [\n          0\n        ],\n        \"semantic_type\": \"\",\n        \"description\": \"\"\n      }\n    },\n    {\n      \"column\": \"Slight\",\n      \"properties\": {\n        \"dtype\": \"int32\",\n        \"num_unique_values\": 2,\n        \"samples\": [\n          1\n        ],\n        \"semantic_type\": \"\",\n        \"description\": \"\"\n      }\n    },\n    {\n      \"column\": \"geometry\",\n      \"properties\": {\n        \"dtype\": \"geometry\",\n        \"num_unique_values\": 5,\n        \"samples\": [\n          \"POINT (376922.1087232842 7557032.877210276)\"\n        ],\n        \"semantic_type\": \"\",\n        \"description\": \"\"\n      }\n    }\n  ]\n}"
            }
          },
          "metadata": {},
          "execution_count": 49
        }
      ]
    },
    {
      "cell_type": "markdown",
      "source": [
        "Se observa que en la columan 'Type' los nombres estan en mayuscula y en espanol, se decide cambiar al ingles."
      ],
      "metadata": {
        "id": "8jDDQDAu1pmE"
      },
      "id": "8jDDQDAu1pmE"
    },
    {
      "cell_type": "code",
      "source": [
        "# Renombrar los valores de la columna 'Type' con nombres en ingles\n",
        "gdfs_all.replace({'Colision': 'Collision',\n",
        "                  'Atropello': 'Hit-and-run',\n",
        "                  'Choque': 'Crash',\n",
        "                  'Volcamiento': 'Overturning',\n",
        "                  'Incendio': 'Fire',\n",
        "                  'Otro': 'Another'}, inplace=True)"
      ],
      "metadata": {
        "id": "iKQ0Mt7g4_VF"
      },
      "id": "iKQ0Mt7g4_VF",
      "execution_count": null,
      "outputs": []
    },
    {
      "cell_type": "code",
      "source": [
        "gdfs_all['Type'] = gdfs_all['Type'].replace(type_renaming)"
      ],
      "metadata": {
        "id": "CDz0SQns53oV",
        "outputId": "01f7d477-7b3e-44c1-c2da-d35d0f6b8be0",
        "colab": {
          "base_uri": "https://localhost:8080/",
          "height": 141
        }
      },
      "id": "CDz0SQns53oV",
      "execution_count": null,
      "outputs": [
        {
          "output_type": "error",
          "ename": "NameError",
          "evalue": "name 'type_renaming' is not defined",
          "traceback": [
            "\u001b[0;31m---------------------------------------------------------------------------\u001b[0m",
            "\u001b[0;31mNameError\u001b[0m                                 Traceback (most recent call last)",
            "\u001b[0;32m<ipython-input-51-8086c6e4de91>\u001b[0m in \u001b[0;36m<cell line: 0>\u001b[0;34m()\u001b[0m\n\u001b[0;32m----> 1\u001b[0;31m \u001b[0mgdfs_all\u001b[0m\u001b[0;34m[\u001b[0m\u001b[0;34m'Type'\u001b[0m\u001b[0;34m]\u001b[0m \u001b[0;34m=\u001b[0m \u001b[0mgdfs_all\u001b[0m\u001b[0;34m[\u001b[0m\u001b[0;34m'Type'\u001b[0m\u001b[0;34m]\u001b[0m\u001b[0;34m.\u001b[0m\u001b[0mreplace\u001b[0m\u001b[0;34m(\u001b[0m\u001b[0mtype_renaming\u001b[0m\u001b[0;34m)\u001b[0m\u001b[0;34m\u001b[0m\u001b[0;34m\u001b[0m\u001b[0m\n\u001b[0m",
            "\u001b[0;31mNameError\u001b[0m: name 'type_renaming' is not defined"
          ]
        }
      ]
    },
    {
      "cell_type": "markdown",
      "source": [
        "Lo siguiente es colocar correctamente el nombre de las comunas del gdfs_all"
      ],
      "metadata": {
        "id": "UIjMFwtI0rs9"
      },
      "id": "UIjMFwtI0rs9"
    },
    {
      "cell_type": "code",
      "source": [
        "#Identificar las comunas\n",
        "communes = np.sort(gdfs_all['Commune'].unique()) # Con 'np.sort' se ordenan las communes alfabeticamente, con .unique() se eliminan los duplicados, obteniendo la lista de las comunas.\n",
        "communes"
      ],
      "metadata": {
        "id": "sfMbmH0XzeOC",
        "outputId": "6afe449e-b0c0-498c-ce3c-21c30db008ac",
        "colab": {
          "base_uri": "https://localhost:8080/"
        }
      },
      "id": "sfMbmH0XzeOC",
      "execution_count": null,
      "outputs": [
        {
          "output_type": "execute_result",
          "data": {
            "text/plain": [
              "array(['ANTOFAGASTA', 'CALAMA', 'MARIA ELENA', 'MEJILLONES',\n",
              "       'SAN PEDRO AT', 'SAN PEDRO ATACAMA', 'SIERRA GORDA', 'TALTAL',\n",
              "       'TOCOPILLA'], dtype=object)"
            ]
          },
          "metadata": {},
          "execution_count": 52
        }
      ]
    },
    {
      "cell_type": "markdown",
      "source": [
        "Se observa que todos aparecen con mayuscula, por lo que se decide dejar con mayuscula solo la primera letra. Además uno de los nombres aparece cortado y repetido ('SAN PEDRO AT' y 'SAN PEDRO ATACAMA')"
      ],
      "metadata": {
        "id": "JEuu1JfY1HSS"
      },
      "id": "JEuu1JfY1HSS"
    },
    {
      "cell_type": "code",
      "source": [
        "# Se cambia de el nombre de las comunasv(de mayuscula a minuscula)\n",
        "gdfs_all.replace({'ANTOFAGASTA': 'Antofagasta',\n",
        "                  'CALAMA': 'Calama',\n",
        "                  'MARIA ELENA': 'Maria Elena',\n",
        "                  'MEJILLONES': 'Mejillones',\n",
        "                  'SAN PEDRO AT': 'San Pedro Atacama',\n",
        "                  'SAN PEDRO ATACAMA': 'San Pedro Atacama',\n",
        "                  'SIERRA GORDA': 'Sierra Gorda',\n",
        "                  'TALTAL':'Taltal',\n",
        "                  'TOCOPILLA':'Tocopilla'}, inplace=True)"
      ],
      "metadata": {
        "id": "QV7rKa6n1GsR"
      },
      "id": "QV7rKa6n1GsR",
      "execution_count": null,
      "outputs": []
    },
    {
      "cell_type": "code",
      "source": [
        "group = gdfs_all.groupby(['Commune', 'Year'])[['Fatalities',\n",
        "                                               'Serious',\n",
        "                                               'Less serious',\n",
        "                                               'Slight']].sum().unstack()  # Los datos se agrupan por 'Commune' y luego por 'year'. Se seleccionan las columnas Fatalities', 'Serious', 'Less serious', 'Slight'\n",
        "                                                                           # Luego se suman usando '.sum'\n",
        "                                                                           # con '.unstack()' convierte a 'Year' en columnas, ya que se trata del indice de nivel mas bajo.\n"
      ],
      "metadata": {
        "id": "wI3DYCr_1ATp"
      },
      "id": "wI3DYCr_1ATp",
      "execution_count": null,
      "outputs": []
    },
    {
      "cell_type": "code",
      "source": [
        "group"
      ],
      "metadata": {
        "id": "CfNpbAFj0__M",
        "outputId": "4d7d04ab-de74-42b5-98f7-932bef7c858f",
        "colab": {
          "base_uri": "https://localhost:8080/",
          "height": 363
        }
      },
      "id": "CfNpbAFj0__M",
      "execution_count": null,
      "outputs": [
        {
          "output_type": "execute_result",
          "data": {
            "text/plain": [
              "                  Fatalities                   Serious                    \\\n",
              "Year                    2019  2020  2021  2022    2019  2020  2021  2022   \n",
              "Commune                                                                    \n",
              "Antofagasta             14.0  11.0  15.0  13.0   107.0  78.0  99.0  96.0   \n",
              "Calama                   2.0   7.0   5.0  12.0    44.0  55.0  50.0  59.0   \n",
              "Maria Elena              NaN   NaN   NaN   1.0     NaN   NaN   NaN   0.0   \n",
              "Mejillones               0.0   1.0   0.0   0.0     1.0   0.0   0.0   1.0   \n",
              "San Pedro Atacama        0.0   0.0   0.0   0.0     1.0   1.0   0.0   0.0   \n",
              "Sierra Gorda             NaN   0.0   0.0   NaN     NaN   0.0   0.0   NaN   \n",
              "Taltal                   0.0   0.0   0.0   1.0     1.0   2.0   1.0   2.0   \n",
              "Tocopilla                0.0   0.0   0.0   1.0     3.0   6.0   6.0   6.0   \n",
              "\n",
              "                  Less serious                   Slight                       \n",
              "Year                      2019  2020  2021  2022   2019   2020   2021   2022  \n",
              "Commune                                                                       \n",
              "Antofagasta               40.0  47.0  55.0  41.0  706.0  604.0  688.0  516.0  \n",
              "Calama                    38.0  41.0  28.0  25.0  375.0  283.0  337.0  350.0  \n",
              "Maria Elena                NaN   NaN   NaN   3.0    NaN    NaN    NaN    2.0  \n",
              "Mejillones                 0.0   1.0   0.0   0.0    5.0    5.0    2.0    0.0  \n",
              "San Pedro Atacama          1.0   0.0   0.0   0.0    3.0    4.0    0.0    4.0  \n",
              "Sierra Gorda               NaN   0.0   0.0   NaN    NaN    0.0    2.0    NaN  \n",
              "Taltal                     0.0   1.0   0.0   2.0   14.0   15.0    5.0    4.0  \n",
              "Tocopilla                  3.0   2.0   1.0   4.0   33.0   42.0   55.0   37.0  "
            ],
            "text/html": [
              "\n",
              "  <div id=\"df-c5244822-5f4d-48e1-94c2-1348d00cbf95\" class=\"colab-df-container\">\n",
              "    <div>\n",
              "<style scoped>\n",
              "    .dataframe tbody tr th:only-of-type {\n",
              "        vertical-align: middle;\n",
              "    }\n",
              "\n",
              "    .dataframe tbody tr th {\n",
              "        vertical-align: top;\n",
              "    }\n",
              "\n",
              "    .dataframe thead tr th {\n",
              "        text-align: left;\n",
              "    }\n",
              "\n",
              "    .dataframe thead tr:last-of-type th {\n",
              "        text-align: right;\n",
              "    }\n",
              "</style>\n",
              "<table border=\"1\" class=\"dataframe\">\n",
              "  <thead>\n",
              "    <tr>\n",
              "      <th></th>\n",
              "      <th colspan=\"4\" halign=\"left\">Fatalities</th>\n",
              "      <th colspan=\"4\" halign=\"left\">Serious</th>\n",
              "      <th colspan=\"4\" halign=\"left\">Less serious</th>\n",
              "      <th colspan=\"4\" halign=\"left\">Slight</th>\n",
              "    </tr>\n",
              "    <tr>\n",
              "      <th>Year</th>\n",
              "      <th>2019</th>\n",
              "      <th>2020</th>\n",
              "      <th>2021</th>\n",
              "      <th>2022</th>\n",
              "      <th>2019</th>\n",
              "      <th>2020</th>\n",
              "      <th>2021</th>\n",
              "      <th>2022</th>\n",
              "      <th>2019</th>\n",
              "      <th>2020</th>\n",
              "      <th>2021</th>\n",
              "      <th>2022</th>\n",
              "      <th>2019</th>\n",
              "      <th>2020</th>\n",
              "      <th>2021</th>\n",
              "      <th>2022</th>\n",
              "    </tr>\n",
              "    <tr>\n",
              "      <th>Commune</th>\n",
              "      <th></th>\n",
              "      <th></th>\n",
              "      <th></th>\n",
              "      <th></th>\n",
              "      <th></th>\n",
              "      <th></th>\n",
              "      <th></th>\n",
              "      <th></th>\n",
              "      <th></th>\n",
              "      <th></th>\n",
              "      <th></th>\n",
              "      <th></th>\n",
              "      <th></th>\n",
              "      <th></th>\n",
              "      <th></th>\n",
              "      <th></th>\n",
              "    </tr>\n",
              "  </thead>\n",
              "  <tbody>\n",
              "    <tr>\n",
              "      <th>Antofagasta</th>\n",
              "      <td>14.0</td>\n",
              "      <td>11.0</td>\n",
              "      <td>15.0</td>\n",
              "      <td>13.0</td>\n",
              "      <td>107.0</td>\n",
              "      <td>78.0</td>\n",
              "      <td>99.0</td>\n",
              "      <td>96.0</td>\n",
              "      <td>40.0</td>\n",
              "      <td>47.0</td>\n",
              "      <td>55.0</td>\n",
              "      <td>41.0</td>\n",
              "      <td>706.0</td>\n",
              "      <td>604.0</td>\n",
              "      <td>688.0</td>\n",
              "      <td>516.0</td>\n",
              "    </tr>\n",
              "    <tr>\n",
              "      <th>Calama</th>\n",
              "      <td>2.0</td>\n",
              "      <td>7.0</td>\n",
              "      <td>5.0</td>\n",
              "      <td>12.0</td>\n",
              "      <td>44.0</td>\n",
              "      <td>55.0</td>\n",
              "      <td>50.0</td>\n",
              "      <td>59.0</td>\n",
              "      <td>38.0</td>\n",
              "      <td>41.0</td>\n",
              "      <td>28.0</td>\n",
              "      <td>25.0</td>\n",
              "      <td>375.0</td>\n",
              "      <td>283.0</td>\n",
              "      <td>337.0</td>\n",
              "      <td>350.0</td>\n",
              "    </tr>\n",
              "    <tr>\n",
              "      <th>Maria Elena</th>\n",
              "      <td>NaN</td>\n",
              "      <td>NaN</td>\n",
              "      <td>NaN</td>\n",
              "      <td>1.0</td>\n",
              "      <td>NaN</td>\n",
              "      <td>NaN</td>\n",
              "      <td>NaN</td>\n",
              "      <td>0.0</td>\n",
              "      <td>NaN</td>\n",
              "      <td>NaN</td>\n",
              "      <td>NaN</td>\n",
              "      <td>3.0</td>\n",
              "      <td>NaN</td>\n",
              "      <td>NaN</td>\n",
              "      <td>NaN</td>\n",
              "      <td>2.0</td>\n",
              "    </tr>\n",
              "    <tr>\n",
              "      <th>Mejillones</th>\n",
              "      <td>0.0</td>\n",
              "      <td>1.0</td>\n",
              "      <td>0.0</td>\n",
              "      <td>0.0</td>\n",
              "      <td>1.0</td>\n",
              "      <td>0.0</td>\n",
              "      <td>0.0</td>\n",
              "      <td>1.0</td>\n",
              "      <td>0.0</td>\n",
              "      <td>1.0</td>\n",
              "      <td>0.0</td>\n",
              "      <td>0.0</td>\n",
              "      <td>5.0</td>\n",
              "      <td>5.0</td>\n",
              "      <td>2.0</td>\n",
              "      <td>0.0</td>\n",
              "    </tr>\n",
              "    <tr>\n",
              "      <th>San Pedro Atacama</th>\n",
              "      <td>0.0</td>\n",
              "      <td>0.0</td>\n",
              "      <td>0.0</td>\n",
              "      <td>0.0</td>\n",
              "      <td>1.0</td>\n",
              "      <td>1.0</td>\n",
              "      <td>0.0</td>\n",
              "      <td>0.0</td>\n",
              "      <td>1.0</td>\n",
              "      <td>0.0</td>\n",
              "      <td>0.0</td>\n",
              "      <td>0.0</td>\n",
              "      <td>3.0</td>\n",
              "      <td>4.0</td>\n",
              "      <td>0.0</td>\n",
              "      <td>4.0</td>\n",
              "    </tr>\n",
              "    <tr>\n",
              "      <th>Sierra Gorda</th>\n",
              "      <td>NaN</td>\n",
              "      <td>0.0</td>\n",
              "      <td>0.0</td>\n",
              "      <td>NaN</td>\n",
              "      <td>NaN</td>\n",
              "      <td>0.0</td>\n",
              "      <td>0.0</td>\n",
              "      <td>NaN</td>\n",
              "      <td>NaN</td>\n",
              "      <td>0.0</td>\n",
              "      <td>0.0</td>\n",
              "      <td>NaN</td>\n",
              "      <td>NaN</td>\n",
              "      <td>0.0</td>\n",
              "      <td>2.0</td>\n",
              "      <td>NaN</td>\n",
              "    </tr>\n",
              "    <tr>\n",
              "      <th>Taltal</th>\n",
              "      <td>0.0</td>\n",
              "      <td>0.0</td>\n",
              "      <td>0.0</td>\n",
              "      <td>1.0</td>\n",
              "      <td>1.0</td>\n",
              "      <td>2.0</td>\n",
              "      <td>1.0</td>\n",
              "      <td>2.0</td>\n",
              "      <td>0.0</td>\n",
              "      <td>1.0</td>\n",
              "      <td>0.0</td>\n",
              "      <td>2.0</td>\n",
              "      <td>14.0</td>\n",
              "      <td>15.0</td>\n",
              "      <td>5.0</td>\n",
              "      <td>4.0</td>\n",
              "    </tr>\n",
              "    <tr>\n",
              "      <th>Tocopilla</th>\n",
              "      <td>0.0</td>\n",
              "      <td>0.0</td>\n",
              "      <td>0.0</td>\n",
              "      <td>1.0</td>\n",
              "      <td>3.0</td>\n",
              "      <td>6.0</td>\n",
              "      <td>6.0</td>\n",
              "      <td>6.0</td>\n",
              "      <td>3.0</td>\n",
              "      <td>2.0</td>\n",
              "      <td>1.0</td>\n",
              "      <td>4.0</td>\n",
              "      <td>33.0</td>\n",
              "      <td>42.0</td>\n",
              "      <td>55.0</td>\n",
              "      <td>37.0</td>\n",
              "    </tr>\n",
              "  </tbody>\n",
              "</table>\n",
              "</div>\n",
              "    <div class=\"colab-df-buttons\">\n",
              "\n",
              "  <div class=\"colab-df-container\">\n",
              "    <button class=\"colab-df-convert\" onclick=\"convertToInteractive('df-c5244822-5f4d-48e1-94c2-1348d00cbf95')\"\n",
              "            title=\"Convert this dataframe to an interactive table.\"\n",
              "            style=\"display:none;\">\n",
              "\n",
              "  <svg xmlns=\"http://www.w3.org/2000/svg\" height=\"24px\" viewBox=\"0 -960 960 960\">\n",
              "    <path d=\"M120-120v-720h720v720H120Zm60-500h600v-160H180v160Zm220 220h160v-160H400v160Zm0 220h160v-160H400v160ZM180-400h160v-160H180v160Zm440 0h160v-160H620v160ZM180-180h160v-160H180v160Zm440 0h160v-160H620v160Z\"/>\n",
              "  </svg>\n",
              "    </button>\n",
              "\n",
              "  <style>\n",
              "    .colab-df-container {\n",
              "      display:flex;\n",
              "      gap: 12px;\n",
              "    }\n",
              "\n",
              "    .colab-df-convert {\n",
              "      background-color: #E8F0FE;\n",
              "      border: none;\n",
              "      border-radius: 50%;\n",
              "      cursor: pointer;\n",
              "      display: none;\n",
              "      fill: #1967D2;\n",
              "      height: 32px;\n",
              "      padding: 0 0 0 0;\n",
              "      width: 32px;\n",
              "    }\n",
              "\n",
              "    .colab-df-convert:hover {\n",
              "      background-color: #E2EBFA;\n",
              "      box-shadow: 0px 1px 2px rgba(60, 64, 67, 0.3), 0px 1px 3px 1px rgba(60, 64, 67, 0.15);\n",
              "      fill: #174EA6;\n",
              "    }\n",
              "\n",
              "    .colab-df-buttons div {\n",
              "      margin-bottom: 4px;\n",
              "    }\n",
              "\n",
              "    [theme=dark] .colab-df-convert {\n",
              "      background-color: #3B4455;\n",
              "      fill: #D2E3FC;\n",
              "    }\n",
              "\n",
              "    [theme=dark] .colab-df-convert:hover {\n",
              "      background-color: #434B5C;\n",
              "      box-shadow: 0px 1px 3px 1px rgba(0, 0, 0, 0.15);\n",
              "      filter: drop-shadow(0px 1px 2px rgba(0, 0, 0, 0.3));\n",
              "      fill: #FFFFFF;\n",
              "    }\n",
              "  </style>\n",
              "\n",
              "    <script>\n",
              "      const buttonEl =\n",
              "        document.querySelector('#df-c5244822-5f4d-48e1-94c2-1348d00cbf95 button.colab-df-convert');\n",
              "      buttonEl.style.display =\n",
              "        google.colab.kernel.accessAllowed ? 'block' : 'none';\n",
              "\n",
              "      async function convertToInteractive(key) {\n",
              "        const element = document.querySelector('#df-c5244822-5f4d-48e1-94c2-1348d00cbf95');\n",
              "        const dataTable =\n",
              "          await google.colab.kernel.invokeFunction('convertToInteractive',\n",
              "                                                    [key], {});\n",
              "        if (!dataTable) return;\n",
              "\n",
              "        const docLinkHtml = 'Like what you see? Visit the ' +\n",
              "          '<a target=\"_blank\" href=https://colab.research.google.com/notebooks/data_table.ipynb>data table notebook</a>'\n",
              "          + ' to learn more about interactive tables.';\n",
              "        element.innerHTML = '';\n",
              "        dataTable['output_type'] = 'display_data';\n",
              "        await google.colab.output.renderOutput(dataTable, element);\n",
              "        const docLink = document.createElement('div');\n",
              "        docLink.innerHTML = docLinkHtml;\n",
              "        element.appendChild(docLink);\n",
              "      }\n",
              "    </script>\n",
              "  </div>\n",
              "\n",
              "\n",
              "    <div id=\"df-e66013a6-4d66-4c6e-853c-5ff22d26d9cc\">\n",
              "      <button class=\"colab-df-quickchart\" onclick=\"quickchart('df-e66013a6-4d66-4c6e-853c-5ff22d26d9cc')\"\n",
              "                title=\"Suggest charts\"\n",
              "                style=\"display:none;\">\n",
              "\n",
              "<svg xmlns=\"http://www.w3.org/2000/svg\" height=\"24px\"viewBox=\"0 0 24 24\"\n",
              "     width=\"24px\">\n",
              "    <g>\n",
              "        <path d=\"M19 3H5c-1.1 0-2 .9-2 2v14c0 1.1.9 2 2 2h14c1.1 0 2-.9 2-2V5c0-1.1-.9-2-2-2zM9 17H7v-7h2v7zm4 0h-2V7h2v10zm4 0h-2v-4h2v4z\"/>\n",
              "    </g>\n",
              "</svg>\n",
              "      </button>\n",
              "\n",
              "<style>\n",
              "  .colab-df-quickchart {\n",
              "      --bg-color: #E8F0FE;\n",
              "      --fill-color: #1967D2;\n",
              "      --hover-bg-color: #E2EBFA;\n",
              "      --hover-fill-color: #174EA6;\n",
              "      --disabled-fill-color: #AAA;\n",
              "      --disabled-bg-color: #DDD;\n",
              "  }\n",
              "\n",
              "  [theme=dark] .colab-df-quickchart {\n",
              "      --bg-color: #3B4455;\n",
              "      --fill-color: #D2E3FC;\n",
              "      --hover-bg-color: #434B5C;\n",
              "      --hover-fill-color: #FFFFFF;\n",
              "      --disabled-bg-color: #3B4455;\n",
              "      --disabled-fill-color: #666;\n",
              "  }\n",
              "\n",
              "  .colab-df-quickchart {\n",
              "    background-color: var(--bg-color);\n",
              "    border: none;\n",
              "    border-radius: 50%;\n",
              "    cursor: pointer;\n",
              "    display: none;\n",
              "    fill: var(--fill-color);\n",
              "    height: 32px;\n",
              "    padding: 0;\n",
              "    width: 32px;\n",
              "  }\n",
              "\n",
              "  .colab-df-quickchart:hover {\n",
              "    background-color: var(--hover-bg-color);\n",
              "    box-shadow: 0 1px 2px rgba(60, 64, 67, 0.3), 0 1px 3px 1px rgba(60, 64, 67, 0.15);\n",
              "    fill: var(--button-hover-fill-color);\n",
              "  }\n",
              "\n",
              "  .colab-df-quickchart-complete:disabled,\n",
              "  .colab-df-quickchart-complete:disabled:hover {\n",
              "    background-color: var(--disabled-bg-color);\n",
              "    fill: var(--disabled-fill-color);\n",
              "    box-shadow: none;\n",
              "  }\n",
              "\n",
              "  .colab-df-spinner {\n",
              "    border: 2px solid var(--fill-color);\n",
              "    border-color: transparent;\n",
              "    border-bottom-color: var(--fill-color);\n",
              "    animation:\n",
              "      spin 1s steps(1) infinite;\n",
              "  }\n",
              "\n",
              "  @keyframes spin {\n",
              "    0% {\n",
              "      border-color: transparent;\n",
              "      border-bottom-color: var(--fill-color);\n",
              "      border-left-color: var(--fill-color);\n",
              "    }\n",
              "    20% {\n",
              "      border-color: transparent;\n",
              "      border-left-color: var(--fill-color);\n",
              "      border-top-color: var(--fill-color);\n",
              "    }\n",
              "    30% {\n",
              "      border-color: transparent;\n",
              "      border-left-color: var(--fill-color);\n",
              "      border-top-color: var(--fill-color);\n",
              "      border-right-color: var(--fill-color);\n",
              "    }\n",
              "    40% {\n",
              "      border-color: transparent;\n",
              "      border-right-color: var(--fill-color);\n",
              "      border-top-color: var(--fill-color);\n",
              "    }\n",
              "    60% {\n",
              "      border-color: transparent;\n",
              "      border-right-color: var(--fill-color);\n",
              "    }\n",
              "    80% {\n",
              "      border-color: transparent;\n",
              "      border-right-color: var(--fill-color);\n",
              "      border-bottom-color: var(--fill-color);\n",
              "    }\n",
              "    90% {\n",
              "      border-color: transparent;\n",
              "      border-bottom-color: var(--fill-color);\n",
              "    }\n",
              "  }\n",
              "</style>\n",
              "\n",
              "      <script>\n",
              "        async function quickchart(key) {\n",
              "          const quickchartButtonEl =\n",
              "            document.querySelector('#' + key + ' button');\n",
              "          quickchartButtonEl.disabled = true;  // To prevent multiple clicks.\n",
              "          quickchartButtonEl.classList.add('colab-df-spinner');\n",
              "          try {\n",
              "            const charts = await google.colab.kernel.invokeFunction(\n",
              "                'suggestCharts', [key], {});\n",
              "          } catch (error) {\n",
              "            console.error('Error during call to suggestCharts:', error);\n",
              "          }\n",
              "          quickchartButtonEl.classList.remove('colab-df-spinner');\n",
              "          quickchartButtonEl.classList.add('colab-df-quickchart-complete');\n",
              "        }\n",
              "        (() => {\n",
              "          let quickchartButtonEl =\n",
              "            document.querySelector('#df-e66013a6-4d66-4c6e-853c-5ff22d26d9cc button');\n",
              "          quickchartButtonEl.style.display =\n",
              "            google.colab.kernel.accessAllowed ? 'block' : 'none';\n",
              "        })();\n",
              "      </script>\n",
              "    </div>\n",
              "\n",
              "  <div id=\"id_96362cb4-5d0e-43e4-a7fc-7cc2eb10e8d9\">\n",
              "    <style>\n",
              "      .colab-df-generate {\n",
              "        background-color: #E8F0FE;\n",
              "        border: none;\n",
              "        border-radius: 50%;\n",
              "        cursor: pointer;\n",
              "        display: none;\n",
              "        fill: #1967D2;\n",
              "        height: 32px;\n",
              "        padding: 0 0 0 0;\n",
              "        width: 32px;\n",
              "      }\n",
              "\n",
              "      .colab-df-generate:hover {\n",
              "        background-color: #E2EBFA;\n",
              "        box-shadow: 0px 1px 2px rgba(60, 64, 67, 0.3), 0px 1px 3px 1px rgba(60, 64, 67, 0.15);\n",
              "        fill: #174EA6;\n",
              "      }\n",
              "\n",
              "      [theme=dark] .colab-df-generate {\n",
              "        background-color: #3B4455;\n",
              "        fill: #D2E3FC;\n",
              "      }\n",
              "\n",
              "      [theme=dark] .colab-df-generate:hover {\n",
              "        background-color: #434B5C;\n",
              "        box-shadow: 0px 1px 3px 1px rgba(0, 0, 0, 0.15);\n",
              "        filter: drop-shadow(0px 1px 2px rgba(0, 0, 0, 0.3));\n",
              "        fill: #FFFFFF;\n",
              "      }\n",
              "    </style>\n",
              "    <button class=\"colab-df-generate\" onclick=\"generateWithVariable('group')\"\n",
              "            title=\"Generate code using this dataframe.\"\n",
              "            style=\"display:none;\">\n",
              "\n",
              "  <svg xmlns=\"http://www.w3.org/2000/svg\" height=\"24px\"viewBox=\"0 0 24 24\"\n",
              "       width=\"24px\">\n",
              "    <path d=\"M7,19H8.4L18.45,9,17,7.55,7,17.6ZM5,21V16.75L18.45,3.32a2,2,0,0,1,2.83,0l1.4,1.43a1.91,1.91,0,0,1,.58,1.4,1.91,1.91,0,0,1-.58,1.4L9.25,21ZM18.45,9,17,7.55Zm-12,3A5.31,5.31,0,0,0,4.9,8.1,5.31,5.31,0,0,0,1,6.5,5.31,5.31,0,0,0,4.9,4.9,5.31,5.31,0,0,0,6.5,1,5.31,5.31,0,0,0,8.1,4.9,5.31,5.31,0,0,0,12,6.5,5.46,5.46,0,0,0,6.5,12Z\"/>\n",
              "  </svg>\n",
              "    </button>\n",
              "    <script>\n",
              "      (() => {\n",
              "      const buttonEl =\n",
              "        document.querySelector('#id_96362cb4-5d0e-43e4-a7fc-7cc2eb10e8d9 button.colab-df-generate');\n",
              "      buttonEl.style.display =\n",
              "        google.colab.kernel.accessAllowed ? 'block' : 'none';\n",
              "\n",
              "      buttonEl.onclick = () => {\n",
              "        google.colab.notebook.generateWithVariable('group');\n",
              "      }\n",
              "      })();\n",
              "    </script>\n",
              "  </div>\n",
              "\n",
              "    </div>\n",
              "  </div>\n"
            ],
            "application/vnd.google.colaboratory.intrinsic+json": {
              "type": "dataframe",
              "variable_name": "group",
              "summary": "{\n  \"name\": \"group\",\n  \"rows\": 8,\n  \"fields\": [\n    {\n      \"column\": [\n        \"Commune\",\n        \"\"\n      ],\n      \"properties\": {\n        \"dtype\": \"string\",\n        \"num_unique_values\": 8,\n        \"samples\": [\n          \"Calama\",\n          \"Sierra Gorda\",\n          \"Antofagasta\"\n        ],\n        \"semantic_type\": \"\",\n        \"description\": \"\"\n      }\n    },\n    {\n      \"column\": [\n        \"Fatalities\",\n        2019\n      ],\n      \"properties\": {\n        \"dtype\": \"number\",\n        \"std\": 5.609515724790035,\n        \"min\": 0.0,\n        \"max\": 14.0,\n        \"num_unique_values\": 3,\n        \"samples\": [\n          14.0,\n          2.0,\n          0.0\n        ],\n        \"semantic_type\": \"\",\n        \"description\": \"\"\n      }\n    },\n    {\n      \"column\": [\n        \"Fatalities\",\n        2020\n      ],\n      \"properties\": {\n        \"dtype\": \"number\",\n        \"std\": 4.461475305855889,\n        \"min\": 0.0,\n        \"max\": 11.0,\n        \"num_unique_values\": 4,\n        \"samples\": [\n          7.0,\n          0.0,\n          11.0\n        ],\n        \"semantic_type\": \"\",\n        \"description\": \"\"\n      }\n    },\n    {\n      \"column\": [\n        \"Fatalities\",\n        2021\n      ],\n      \"properties\": {\n        \"dtype\": \"number\",\n        \"std\": 5.669467095138407,\n        \"min\": 0.0,\n        \"max\": 15.0,\n        \"num_unique_values\": 3,\n        \"samples\": [\n          15.0,\n          5.0,\n          0.0\n        ],\n        \"semantic_type\": \"\",\n        \"description\": \"\"\n      }\n    },\n    {\n      \"column\": [\n        \"Fatalities\",\n        2022\n      ],\n      \"properties\": {\n        \"dtype\": \"number\",\n        \"std\": 5.830951894845301,\n        \"min\": 0.0,\n        \"max\": 13.0,\n        \"num_unique_values\": 4,\n        \"samples\": [\n          12.0,\n          0.0,\n          13.0\n        ],\n        \"semantic_type\": \"\",\n        \"description\": \"\"\n      }\n    },\n    {\n      \"column\": [\n        \"Serious\",\n        2019\n      ],\n      \"properties\": {\n        \"dtype\": \"number\",\n        \"std\": 43.10181744041273,\n        \"min\": 1.0,\n        \"max\": 107.0,\n        \"num_unique_values\": 4,\n        \"samples\": [\n          44.0,\n          3.0,\n          107.0\n        ],\n        \"semantic_type\": \"\",\n        \"description\": \"\"\n      }\n    },\n    {\n      \"column\": [\n        \"Serious\",\n        2020\n      ],\n      \"properties\": {\n        \"dtype\": \"number\",\n        \"std\": 32.324986649722874,\n        \"min\": 0.0,\n        \"max\": 78.0,\n        \"num_unique_values\": 6,\n        \"samples\": [\n          78.0,\n          55.0,\n          6.0\n        ],\n        \"semantic_type\": \"\",\n        \"description\": \"\"\n      }\n    },\n    {\n      \"column\": [\n        \"Serious\",\n        2021\n      ],\n      \"properties\": {\n        \"dtype\": \"number\",\n        \"std\": 38.43051862653901,\n        \"min\": 0.0,\n        \"max\": 99.0,\n        \"num_unique_values\": 5,\n        \"samples\": [\n          50.0,\n          6.0,\n          0.0\n        ],\n        \"semantic_type\": \"\",\n        \"description\": \"\"\n      }\n    },\n    {\n      \"column\": [\n        \"Serious\",\n        2022\n      ],\n      \"properties\": {\n        \"dtype\": \"number\",\n        \"std\": 38.50479252793147,\n        \"min\": 0.0,\n        \"max\": 96.0,\n        \"num_unique_values\": 6,\n        \"samples\": [\n          96.0,\n          59.0,\n          6.0\n        ],\n        \"semantic_type\": \"\",\n        \"description\": \"\"\n      }\n    },\n    {\n      \"column\": [\n        \"Less serious\",\n        2019\n      ],\n      \"properties\": {\n        \"dtype\": \"number\",\n        \"std\": 19.6638416050035,\n        \"min\": 0.0,\n        \"max\": 40.0,\n        \"num_unique_values\": 5,\n        \"samples\": [\n          38.0,\n          3.0,\n          0.0\n        ],\n        \"semantic_type\": \"\",\n        \"description\": \"\"\n      }\n    },\n    {\n      \"column\": [\n        \"Less serious\",\n        2020\n      ],\n      \"properties\": {\n        \"dtype\": \"number\",\n        \"std\": 21.16151043308402,\n        \"min\": 0.0,\n        \"max\": 47.0,\n        \"num_unique_values\": 5,\n        \"samples\": [\n          41.0,\n          2.0,\n          1.0\n        ],\n        \"semantic_type\": \"\",\n        \"description\": \"\"\n      }\n    },\n    {\n      \"column\": [\n        \"Less serious\",\n        2021\n      ],\n      \"properties\": {\n        \"dtype\": \"number\",\n        \"std\": 21.61018278497431,\n        \"min\": 0.0,\n        \"max\": 55.0,\n        \"num_unique_values\": 4,\n        \"samples\": [\n          28.0,\n          1.0,\n          55.0\n        ],\n        \"semantic_type\": \"\",\n        \"description\": \"\"\n      }\n    },\n    {\n      \"column\": [\n        \"Less serious\",\n        2022\n      ],\n      \"properties\": {\n        \"dtype\": \"number\",\n        \"std\": 15.976172734359604,\n        \"min\": 0.0,\n        \"max\": 41.0,\n        \"num_unique_values\": 6,\n        \"samples\": [\n          41.0,\n          25.0,\n          4.0\n        ],\n        \"semantic_type\": \"\",\n        \"description\": \"\"\n      }\n    },\n    {\n      \"column\": [\n        \"Slight\",\n        2019\n      ],\n      \"properties\": {\n        \"dtype\": \"number\",\n        \"std\": 291.64956140317895,\n        \"min\": 3.0,\n        \"max\": 706.0,\n        \"num_unique_values\": 6,\n        \"samples\": [\n          706.0,\n          375.0,\n          33.0\n        ],\n        \"semantic_type\": \"\",\n        \"description\": \"\"\n      }\n    },\n    {\n      \"column\": [\n        \"Slight\",\n        2020\n      ],\n      \"properties\": {\n        \"dtype\": \"number\",\n        \"std\": 229.9242111156258,\n        \"min\": 0.0,\n        \"max\": 604.0,\n        \"num_unique_values\": 7,\n        \"samples\": [\n          604.0,\n          283.0,\n          15.0\n        ],\n        \"semantic_type\": \"\",\n        \"description\": \"\"\n      }\n    },\n    {\n      \"column\": [\n        \"Slight\",\n        2021\n      ],\n      \"properties\": {\n        \"dtype\": \"number\",\n        \"std\": 264.74947726914536,\n        \"min\": 0.0,\n        \"max\": 688.0,\n        \"num_unique_values\": 6,\n        \"samples\": [\n          688.0,\n          337.0,\n          55.0\n        ],\n        \"semantic_type\": \"\",\n        \"description\": \"\"\n      }\n    },\n    {\n      \"column\": [\n        \"Slight\",\n        2022\n      ],\n      \"properties\": {\n        \"dtype\": \"number\",\n        \"std\": 212.5557629916262,\n        \"min\": 0.0,\n        \"max\": 516.0,\n        \"num_unique_values\": 6,\n        \"samples\": [\n          516.0,\n          350.0,\n          37.0\n        ],\n        \"semantic_type\": \"\",\n        \"description\": \"\"\n      }\n    }\n  ]\n}"
            }
          },
          "metadata": {},
          "execution_count": 55
        }
      ]
    },
    {
      "cell_type": "code",
      "source": [
        "df_total = gdfs_all.groupby('Commune')[['Fatalities', 'Serious', 'Less serious', 'Slight']].sum().unstack().reset_index()"
      ],
      "metadata": {
        "id": "Gm6O8MZ0xQS3"
      },
      "id": "Gm6O8MZ0xQS3",
      "execution_count": null,
      "outputs": []
    },
    {
      "cell_type": "code",
      "source": [
        "df_total.rename(columns={'level_0': 'Type',\n",
        "                         0: 'Accidents'}, inplace=True)"
      ],
      "metadata": {
        "id": "wrqcvWCN4XJa"
      },
      "id": "wrqcvWCN4XJa",
      "execution_count": null,
      "outputs": []
    },
    {
      "cell_type": "code",
      "source": [
        "df_total.sample() # para ver si funciona, si se agregó 'Accidents' correctamente"
      ],
      "metadata": {
        "id": "mYhc9X9v4Wz4",
        "outputId": "dee287eb-3efc-4dc5-d912-b16f25a084ec",
        "colab": {
          "base_uri": "https://localhost:8080/",
          "height": 81
        }
      },
      "id": "mYhc9X9v4Wz4",
      "execution_count": null,
      "outputs": [
        {
          "output_type": "execute_result",
          "data": {
            "text/plain": [
              "         Type            Commune  Accidents\n",
              "4  Fatalities  San Pedro Atacama          0"
            ],
            "text/html": [
              "\n",
              "  <div id=\"df-368d2bac-8016-48e7-ad66-400d892eec41\" class=\"colab-df-container\">\n",
              "    <div>\n",
              "<style scoped>\n",
              "    .dataframe tbody tr th:only-of-type {\n",
              "        vertical-align: middle;\n",
              "    }\n",
              "\n",
              "    .dataframe tbody tr th {\n",
              "        vertical-align: top;\n",
              "    }\n",
              "\n",
              "    .dataframe thead th {\n",
              "        text-align: right;\n",
              "    }\n",
              "</style>\n",
              "<table border=\"1\" class=\"dataframe\">\n",
              "  <thead>\n",
              "    <tr style=\"text-align: right;\">\n",
              "      <th></th>\n",
              "      <th>Type</th>\n",
              "      <th>Commune</th>\n",
              "      <th>Accidents</th>\n",
              "    </tr>\n",
              "  </thead>\n",
              "  <tbody>\n",
              "    <tr>\n",
              "      <th>4</th>\n",
              "      <td>Fatalities</td>\n",
              "      <td>San Pedro Atacama</td>\n",
              "      <td>0</td>\n",
              "    </tr>\n",
              "  </tbody>\n",
              "</table>\n",
              "</div>\n",
              "    <div class=\"colab-df-buttons\">\n",
              "\n",
              "  <div class=\"colab-df-container\">\n",
              "    <button class=\"colab-df-convert\" onclick=\"convertToInteractive('df-368d2bac-8016-48e7-ad66-400d892eec41')\"\n",
              "            title=\"Convert this dataframe to an interactive table.\"\n",
              "            style=\"display:none;\">\n",
              "\n",
              "  <svg xmlns=\"http://www.w3.org/2000/svg\" height=\"24px\" viewBox=\"0 -960 960 960\">\n",
              "    <path d=\"M120-120v-720h720v720H120Zm60-500h600v-160H180v160Zm220 220h160v-160H400v160Zm0 220h160v-160H400v160ZM180-400h160v-160H180v160Zm440 0h160v-160H620v160ZM180-180h160v-160H180v160Zm440 0h160v-160H620v160Z\"/>\n",
              "  </svg>\n",
              "    </button>\n",
              "\n",
              "  <style>\n",
              "    .colab-df-container {\n",
              "      display:flex;\n",
              "      gap: 12px;\n",
              "    }\n",
              "\n",
              "    .colab-df-convert {\n",
              "      background-color: #E8F0FE;\n",
              "      border: none;\n",
              "      border-radius: 50%;\n",
              "      cursor: pointer;\n",
              "      display: none;\n",
              "      fill: #1967D2;\n",
              "      height: 32px;\n",
              "      padding: 0 0 0 0;\n",
              "      width: 32px;\n",
              "    }\n",
              "\n",
              "    .colab-df-convert:hover {\n",
              "      background-color: #E2EBFA;\n",
              "      box-shadow: 0px 1px 2px rgba(60, 64, 67, 0.3), 0px 1px 3px 1px rgba(60, 64, 67, 0.15);\n",
              "      fill: #174EA6;\n",
              "    }\n",
              "\n",
              "    .colab-df-buttons div {\n",
              "      margin-bottom: 4px;\n",
              "    }\n",
              "\n",
              "    [theme=dark] .colab-df-convert {\n",
              "      background-color: #3B4455;\n",
              "      fill: #D2E3FC;\n",
              "    }\n",
              "\n",
              "    [theme=dark] .colab-df-convert:hover {\n",
              "      background-color: #434B5C;\n",
              "      box-shadow: 0px 1px 3px 1px rgba(0, 0, 0, 0.15);\n",
              "      filter: drop-shadow(0px 1px 2px rgba(0, 0, 0, 0.3));\n",
              "      fill: #FFFFFF;\n",
              "    }\n",
              "  </style>\n",
              "\n",
              "    <script>\n",
              "      const buttonEl =\n",
              "        document.querySelector('#df-368d2bac-8016-48e7-ad66-400d892eec41 button.colab-df-convert');\n",
              "      buttonEl.style.display =\n",
              "        google.colab.kernel.accessAllowed ? 'block' : 'none';\n",
              "\n",
              "      async function convertToInteractive(key) {\n",
              "        const element = document.querySelector('#df-368d2bac-8016-48e7-ad66-400d892eec41');\n",
              "        const dataTable =\n",
              "          await google.colab.kernel.invokeFunction('convertToInteractive',\n",
              "                                                    [key], {});\n",
              "        if (!dataTable) return;\n",
              "\n",
              "        const docLinkHtml = 'Like what you see? Visit the ' +\n",
              "          '<a target=\"_blank\" href=https://colab.research.google.com/notebooks/data_table.ipynb>data table notebook</a>'\n",
              "          + ' to learn more about interactive tables.';\n",
              "        element.innerHTML = '';\n",
              "        dataTable['output_type'] = 'display_data';\n",
              "        await google.colab.output.renderOutput(dataTable, element);\n",
              "        const docLink = document.createElement('div');\n",
              "        docLink.innerHTML = docLinkHtml;\n",
              "        element.appendChild(docLink);\n",
              "      }\n",
              "    </script>\n",
              "  </div>\n",
              "\n",
              "\n",
              "    </div>\n",
              "  </div>\n"
            ],
            "application/vnd.google.colaboratory.intrinsic+json": {
              "type": "dataframe",
              "summary": "{\n  \"name\": \"df_total\",\n  \"rows\": 1,\n  \"fields\": [\n    {\n      \"column\": \"Type\",\n      \"properties\": {\n        \"dtype\": \"string\",\n        \"num_unique_values\": 1,\n        \"samples\": [\n          \"Fatalities\"\n        ],\n        \"semantic_type\": \"\",\n        \"description\": \"\"\n      }\n    },\n    {\n      \"column\": \"Commune\",\n      \"properties\": {\n        \"dtype\": \"string\",\n        \"num_unique_values\": 1,\n        \"samples\": [\n          \"San Pedro Atacama\"\n        ],\n        \"semantic_type\": \"\",\n        \"description\": \"\"\n      }\n    },\n    {\n      \"column\": \"Accidents\",\n      \"properties\": {\n        \"dtype\": \"int32\",\n        \"num_unique_values\": 1,\n        \"samples\": [\n          0\n        ],\n        \"semantic_type\": \"\",\n        \"description\": \"\"\n      }\n    }\n  ]\n}"
            }
          },
          "metadata": {},
          "execution_count": 83
        }
      ]
    },
    {
      "cell_type": "markdown",
      "source": [
        "##Exploratory Data Analysis"
      ],
      "metadata": {
        "id": "-X6WO60oAMD1"
      },
      "id": "-X6WO60oAMD1"
    },
    {
      "cell_type": "markdown",
      "source": [
        "Ya con los datos limpios se procede a revisar sus estadisticas y visualizarlos por medio de graficos (son visualizaciones intermedias, solo con el proposito de explorar)."
      ],
      "metadata": {
        "id": "xaDtnil3AUXL"
      },
      "id": "xaDtnil3AUXL"
    },
    {
      "cell_type": "code",
      "source": [
        "# Summary statistics\n",
        "gdfs_2019_utm.describe()  # using 'describe()' you get the descriptive statisticsfor all variables: count, mean, std, min, 25%, 50% 75%, max."
      ],
      "metadata": {
        "id": "CJDfn8r8A1u7",
        "outputId": "74b8f397-3ac0-4a2c-fc9d-34aab86a8f6a",
        "colab": {
          "base_uri": "https://localhost:8080/",
          "height": 300
        }
      },
      "id": "CJDfn8r8A1u7",
      "execution_count": null,
      "outputs": [
        {
          "output_type": "execute_result",
          "data": {
            "text/plain": [
              "         Year   Fatalities      Serious  Less serious       Slight\n",
              "count  2494.0  2494.000000  2494.000000   2494.000000  2494.000000\n",
              "mean   2019.0     0.006415     0.062951      0.032879     0.455493\n",
              "std       0.0     0.084729     0.255793      0.182798     0.865286\n",
              "min    2019.0     0.000000     0.000000      0.000000     0.000000\n",
              "25%    2019.0     0.000000     0.000000      0.000000     0.000000\n",
              "50%    2019.0     0.000000     0.000000      0.000000     0.000000\n",
              "75%    2019.0     0.000000     0.000000      0.000000     1.000000\n",
              "max    2019.0     2.000000     2.000000      2.000000    13.000000"
            ],
            "text/html": [
              "\n",
              "  <div id=\"df-c2c53fb7-6b4b-42ad-84b3-f9d7024e9f60\" class=\"colab-df-container\">\n",
              "    <div>\n",
              "<style scoped>\n",
              "    .dataframe tbody tr th:only-of-type {\n",
              "        vertical-align: middle;\n",
              "    }\n",
              "\n",
              "    .dataframe tbody tr th {\n",
              "        vertical-align: top;\n",
              "    }\n",
              "\n",
              "    .dataframe thead th {\n",
              "        text-align: right;\n",
              "    }\n",
              "</style>\n",
              "<table border=\"1\" class=\"dataframe\">\n",
              "  <thead>\n",
              "    <tr style=\"text-align: right;\">\n",
              "      <th></th>\n",
              "      <th>Year</th>\n",
              "      <th>Fatalities</th>\n",
              "      <th>Serious</th>\n",
              "      <th>Less serious</th>\n",
              "      <th>Slight</th>\n",
              "    </tr>\n",
              "  </thead>\n",
              "  <tbody>\n",
              "    <tr>\n",
              "      <th>count</th>\n",
              "      <td>2494.0</td>\n",
              "      <td>2494.000000</td>\n",
              "      <td>2494.000000</td>\n",
              "      <td>2494.000000</td>\n",
              "      <td>2494.000000</td>\n",
              "    </tr>\n",
              "    <tr>\n",
              "      <th>mean</th>\n",
              "      <td>2019.0</td>\n",
              "      <td>0.006415</td>\n",
              "      <td>0.062951</td>\n",
              "      <td>0.032879</td>\n",
              "      <td>0.455493</td>\n",
              "    </tr>\n",
              "    <tr>\n",
              "      <th>std</th>\n",
              "      <td>0.0</td>\n",
              "      <td>0.084729</td>\n",
              "      <td>0.255793</td>\n",
              "      <td>0.182798</td>\n",
              "      <td>0.865286</td>\n",
              "    </tr>\n",
              "    <tr>\n",
              "      <th>min</th>\n",
              "      <td>2019.0</td>\n",
              "      <td>0.000000</td>\n",
              "      <td>0.000000</td>\n",
              "      <td>0.000000</td>\n",
              "      <td>0.000000</td>\n",
              "    </tr>\n",
              "    <tr>\n",
              "      <th>25%</th>\n",
              "      <td>2019.0</td>\n",
              "      <td>0.000000</td>\n",
              "      <td>0.000000</td>\n",
              "      <td>0.000000</td>\n",
              "      <td>0.000000</td>\n",
              "    </tr>\n",
              "    <tr>\n",
              "      <th>50%</th>\n",
              "      <td>2019.0</td>\n",
              "      <td>0.000000</td>\n",
              "      <td>0.000000</td>\n",
              "      <td>0.000000</td>\n",
              "      <td>0.000000</td>\n",
              "    </tr>\n",
              "    <tr>\n",
              "      <th>75%</th>\n",
              "      <td>2019.0</td>\n",
              "      <td>0.000000</td>\n",
              "      <td>0.000000</td>\n",
              "      <td>0.000000</td>\n",
              "      <td>1.000000</td>\n",
              "    </tr>\n",
              "    <tr>\n",
              "      <th>max</th>\n",
              "      <td>2019.0</td>\n",
              "      <td>2.000000</td>\n",
              "      <td>2.000000</td>\n",
              "      <td>2.000000</td>\n",
              "      <td>13.000000</td>\n",
              "    </tr>\n",
              "  </tbody>\n",
              "</table>\n",
              "</div>\n",
              "    <div class=\"colab-df-buttons\">\n",
              "\n",
              "  <div class=\"colab-df-container\">\n",
              "    <button class=\"colab-df-convert\" onclick=\"convertToInteractive('df-c2c53fb7-6b4b-42ad-84b3-f9d7024e9f60')\"\n",
              "            title=\"Convert this dataframe to an interactive table.\"\n",
              "            style=\"display:none;\">\n",
              "\n",
              "  <svg xmlns=\"http://www.w3.org/2000/svg\" height=\"24px\" viewBox=\"0 -960 960 960\">\n",
              "    <path d=\"M120-120v-720h720v720H120Zm60-500h600v-160H180v160Zm220 220h160v-160H400v160Zm0 220h160v-160H400v160ZM180-400h160v-160H180v160Zm440 0h160v-160H620v160ZM180-180h160v-160H180v160Zm440 0h160v-160H620v160Z\"/>\n",
              "  </svg>\n",
              "    </button>\n",
              "\n",
              "  <style>\n",
              "    .colab-df-container {\n",
              "      display:flex;\n",
              "      gap: 12px;\n",
              "    }\n",
              "\n",
              "    .colab-df-convert {\n",
              "      background-color: #E8F0FE;\n",
              "      border: none;\n",
              "      border-radius: 50%;\n",
              "      cursor: pointer;\n",
              "      display: none;\n",
              "      fill: #1967D2;\n",
              "      height: 32px;\n",
              "      padding: 0 0 0 0;\n",
              "      width: 32px;\n",
              "    }\n",
              "\n",
              "    .colab-df-convert:hover {\n",
              "      background-color: #E2EBFA;\n",
              "      box-shadow: 0px 1px 2px rgba(60, 64, 67, 0.3), 0px 1px 3px 1px rgba(60, 64, 67, 0.15);\n",
              "      fill: #174EA6;\n",
              "    }\n",
              "\n",
              "    .colab-df-buttons div {\n",
              "      margin-bottom: 4px;\n",
              "    }\n",
              "\n",
              "    [theme=dark] .colab-df-convert {\n",
              "      background-color: #3B4455;\n",
              "      fill: #D2E3FC;\n",
              "    }\n",
              "\n",
              "    [theme=dark] .colab-df-convert:hover {\n",
              "      background-color: #434B5C;\n",
              "      box-shadow: 0px 1px 3px 1px rgba(0, 0, 0, 0.15);\n",
              "      filter: drop-shadow(0px 1px 2px rgba(0, 0, 0, 0.3));\n",
              "      fill: #FFFFFF;\n",
              "    }\n",
              "  </style>\n",
              "\n",
              "    <script>\n",
              "      const buttonEl =\n",
              "        document.querySelector('#df-c2c53fb7-6b4b-42ad-84b3-f9d7024e9f60 button.colab-df-convert');\n",
              "      buttonEl.style.display =\n",
              "        google.colab.kernel.accessAllowed ? 'block' : 'none';\n",
              "\n",
              "      async function convertToInteractive(key) {\n",
              "        const element = document.querySelector('#df-c2c53fb7-6b4b-42ad-84b3-f9d7024e9f60');\n",
              "        const dataTable =\n",
              "          await google.colab.kernel.invokeFunction('convertToInteractive',\n",
              "                                                    [key], {});\n",
              "        if (!dataTable) return;\n",
              "\n",
              "        const docLinkHtml = 'Like what you see? Visit the ' +\n",
              "          '<a target=\"_blank\" href=https://colab.research.google.com/notebooks/data_table.ipynb>data table notebook</a>'\n",
              "          + ' to learn more about interactive tables.';\n",
              "        element.innerHTML = '';\n",
              "        dataTable['output_type'] = 'display_data';\n",
              "        await google.colab.output.renderOutput(dataTable, element);\n",
              "        const docLink = document.createElement('div');\n",
              "        docLink.innerHTML = docLinkHtml;\n",
              "        element.appendChild(docLink);\n",
              "      }\n",
              "    </script>\n",
              "  </div>\n",
              "\n",
              "\n",
              "    <div id=\"df-b60059e8-9552-4492-b46b-20bb0bd6042c\">\n",
              "      <button class=\"colab-df-quickchart\" onclick=\"quickchart('df-b60059e8-9552-4492-b46b-20bb0bd6042c')\"\n",
              "                title=\"Suggest charts\"\n",
              "                style=\"display:none;\">\n",
              "\n",
              "<svg xmlns=\"http://www.w3.org/2000/svg\" height=\"24px\"viewBox=\"0 0 24 24\"\n",
              "     width=\"24px\">\n",
              "    <g>\n",
              "        <path d=\"M19 3H5c-1.1 0-2 .9-2 2v14c0 1.1.9 2 2 2h14c1.1 0 2-.9 2-2V5c0-1.1-.9-2-2-2zM9 17H7v-7h2v7zm4 0h-2V7h2v10zm4 0h-2v-4h2v4z\"/>\n",
              "    </g>\n",
              "</svg>\n",
              "      </button>\n",
              "\n",
              "<style>\n",
              "  .colab-df-quickchart {\n",
              "      --bg-color: #E8F0FE;\n",
              "      --fill-color: #1967D2;\n",
              "      --hover-bg-color: #E2EBFA;\n",
              "      --hover-fill-color: #174EA6;\n",
              "      --disabled-fill-color: #AAA;\n",
              "      --disabled-bg-color: #DDD;\n",
              "  }\n",
              "\n",
              "  [theme=dark] .colab-df-quickchart {\n",
              "      --bg-color: #3B4455;\n",
              "      --fill-color: #D2E3FC;\n",
              "      --hover-bg-color: #434B5C;\n",
              "      --hover-fill-color: #FFFFFF;\n",
              "      --disabled-bg-color: #3B4455;\n",
              "      --disabled-fill-color: #666;\n",
              "  }\n",
              "\n",
              "  .colab-df-quickchart {\n",
              "    background-color: var(--bg-color);\n",
              "    border: none;\n",
              "    border-radius: 50%;\n",
              "    cursor: pointer;\n",
              "    display: none;\n",
              "    fill: var(--fill-color);\n",
              "    height: 32px;\n",
              "    padding: 0;\n",
              "    width: 32px;\n",
              "  }\n",
              "\n",
              "  .colab-df-quickchart:hover {\n",
              "    background-color: var(--hover-bg-color);\n",
              "    box-shadow: 0 1px 2px rgba(60, 64, 67, 0.3), 0 1px 3px 1px rgba(60, 64, 67, 0.15);\n",
              "    fill: var(--button-hover-fill-color);\n",
              "  }\n",
              "\n",
              "  .colab-df-quickchart-complete:disabled,\n",
              "  .colab-df-quickchart-complete:disabled:hover {\n",
              "    background-color: var(--disabled-bg-color);\n",
              "    fill: var(--disabled-fill-color);\n",
              "    box-shadow: none;\n",
              "  }\n",
              "\n",
              "  .colab-df-spinner {\n",
              "    border: 2px solid var(--fill-color);\n",
              "    border-color: transparent;\n",
              "    border-bottom-color: var(--fill-color);\n",
              "    animation:\n",
              "      spin 1s steps(1) infinite;\n",
              "  }\n",
              "\n",
              "  @keyframes spin {\n",
              "    0% {\n",
              "      border-color: transparent;\n",
              "      border-bottom-color: var(--fill-color);\n",
              "      border-left-color: var(--fill-color);\n",
              "    }\n",
              "    20% {\n",
              "      border-color: transparent;\n",
              "      border-left-color: var(--fill-color);\n",
              "      border-top-color: var(--fill-color);\n",
              "    }\n",
              "    30% {\n",
              "      border-color: transparent;\n",
              "      border-left-color: var(--fill-color);\n",
              "      border-top-color: var(--fill-color);\n",
              "      border-right-color: var(--fill-color);\n",
              "    }\n",
              "    40% {\n",
              "      border-color: transparent;\n",
              "      border-right-color: var(--fill-color);\n",
              "      border-top-color: var(--fill-color);\n",
              "    }\n",
              "    60% {\n",
              "      border-color: transparent;\n",
              "      border-right-color: var(--fill-color);\n",
              "    }\n",
              "    80% {\n",
              "      border-color: transparent;\n",
              "      border-right-color: var(--fill-color);\n",
              "      border-bottom-color: var(--fill-color);\n",
              "    }\n",
              "    90% {\n",
              "      border-color: transparent;\n",
              "      border-bottom-color: var(--fill-color);\n",
              "    }\n",
              "  }\n",
              "</style>\n",
              "\n",
              "      <script>\n",
              "        async function quickchart(key) {\n",
              "          const quickchartButtonEl =\n",
              "            document.querySelector('#' + key + ' button');\n",
              "          quickchartButtonEl.disabled = true;  // To prevent multiple clicks.\n",
              "          quickchartButtonEl.classList.add('colab-df-spinner');\n",
              "          try {\n",
              "            const charts = await google.colab.kernel.invokeFunction(\n",
              "                'suggestCharts', [key], {});\n",
              "          } catch (error) {\n",
              "            console.error('Error during call to suggestCharts:', error);\n",
              "          }\n",
              "          quickchartButtonEl.classList.remove('colab-df-spinner');\n",
              "          quickchartButtonEl.classList.add('colab-df-quickchart-complete');\n",
              "        }\n",
              "        (() => {\n",
              "          let quickchartButtonEl =\n",
              "            document.querySelector('#df-b60059e8-9552-4492-b46b-20bb0bd6042c button');\n",
              "          quickchartButtonEl.style.display =\n",
              "            google.colab.kernel.accessAllowed ? 'block' : 'none';\n",
              "        })();\n",
              "      </script>\n",
              "    </div>\n",
              "\n",
              "    </div>\n",
              "  </div>\n"
            ],
            "application/vnd.google.colaboratory.intrinsic+json": {
              "type": "dataframe",
              "summary": "{\n  \"name\": \"gdfs_2019_utm\",\n  \"rows\": 8,\n  \"fields\": [\n    {\n      \"column\": \"Year\",\n      \"properties\": {\n        \"dtype\": \"number\",\n        \"std\": 756.3062493839006,\n        \"min\": 0.0,\n        \"max\": 2494.0,\n        \"num_unique_values\": 3,\n        \"samples\": [\n          2494.0,\n          2019.0,\n          0.0\n        ],\n        \"semantic_type\": \"\",\n        \"description\": \"\"\n      }\n    },\n    {\n      \"column\": \"Fatalities\",\n      \"properties\": {\n        \"dtype\": \"number\",\n        \"std\": 881.6568114256919,\n        \"min\": 0.0,\n        \"max\": 2494.0,\n        \"num_unique_values\": 5,\n        \"samples\": [\n          0.006415396952686447,\n          2.0,\n          0.08472923214148176\n        ],\n        \"semantic_type\": \"\",\n        \"description\": \"\"\n      }\n    },\n    {\n      \"column\": \"Serious\",\n      \"properties\": {\n        \"dtype\": \"number\",\n        \"std\": 881.6453093594721,\n        \"min\": 0.0,\n        \"max\": 2494.0,\n        \"num_unique_values\": 5,\n        \"samples\": [\n          0.06295108259823577,\n          2.0,\n          0.2557926419283578\n        ],\n        \"semantic_type\": \"\",\n        \"description\": \"\"\n      }\n    },\n    {\n      \"column\": \"Less serious\",\n      \"properties\": {\n        \"dtype\": \"number\",\n        \"std\": 881.650517596471,\n        \"min\": 0.0,\n        \"max\": 2494.0,\n        \"num_unique_values\": 5,\n        \"samples\": [\n          0.03287890938251804,\n          2.0,\n          0.18279806932204853\n        ],\n        \"semantic_type\": \"\",\n        \"description\": \"\"\n      }\n    },\n    {\n      \"column\": \"Slight\",\n      \"properties\": {\n        \"dtype\": \"number\",\n        \"std\": 880.9994818731245,\n        \"min\": 0.0,\n        \"max\": 2494.0,\n        \"num_unique_values\": 6,\n        \"samples\": [\n          2494.0,\n          0.45549318364073776,\n          13.0\n        ],\n        \"semantic_type\": \"\",\n        \"description\": \"\"\n      }\n    }\n  ]\n}"
            }
          },
          "metadata": {},
          "execution_count": 71
        }
      ]
    },
    {
      "cell_type": "code",
      "source": [
        "# Summary statistics\n",
        "gdfs_2020_utm.describe()  # using 'describe()' you get the descriptive statisticsfor all variables: count, mean, std, min, 25%, 50% 75%, max."
      ],
      "metadata": {
        "id": "yp4zeNayBGya",
        "outputId": "90ffab45-806e-461a-a680-a2c8f767c9ab",
        "colab": {
          "base_uri": "https://localhost:8080/",
          "height": 300
        }
      },
      "id": "yp4zeNayBGya",
      "execution_count": null,
      "outputs": [
        {
          "output_type": "execute_result",
          "data": {
            "text/plain": [
              "         Year   Fatalities      Serious  Less serious       Slight\n",
              "count  1951.0  1951.000000  1951.000000   1951.000000  1951.000000\n",
              "mean   2020.0     0.009739     0.072783      0.047155     0.488467\n",
              "std       0.0     0.103317     0.269534      0.239296     0.825084\n",
              "min    2020.0     0.000000     0.000000      0.000000     0.000000\n",
              "25%    2020.0     0.000000     0.000000      0.000000     0.000000\n",
              "50%    2020.0     0.000000     0.000000      0.000000     0.000000\n",
              "75%    2020.0     0.000000     0.000000      0.000000     1.000000\n",
              "max    2020.0     2.000000     2.000000      5.000000     6.000000"
            ],
            "text/html": [
              "\n",
              "  <div id=\"df-44545189-e049-4391-bd75-fa2e3e655019\" class=\"colab-df-container\">\n",
              "    <div>\n",
              "<style scoped>\n",
              "    .dataframe tbody tr th:only-of-type {\n",
              "        vertical-align: middle;\n",
              "    }\n",
              "\n",
              "    .dataframe tbody tr th {\n",
              "        vertical-align: top;\n",
              "    }\n",
              "\n",
              "    .dataframe thead th {\n",
              "        text-align: right;\n",
              "    }\n",
              "</style>\n",
              "<table border=\"1\" class=\"dataframe\">\n",
              "  <thead>\n",
              "    <tr style=\"text-align: right;\">\n",
              "      <th></th>\n",
              "      <th>Year</th>\n",
              "      <th>Fatalities</th>\n",
              "      <th>Serious</th>\n",
              "      <th>Less serious</th>\n",
              "      <th>Slight</th>\n",
              "    </tr>\n",
              "  </thead>\n",
              "  <tbody>\n",
              "    <tr>\n",
              "      <th>count</th>\n",
              "      <td>1951.0</td>\n",
              "      <td>1951.000000</td>\n",
              "      <td>1951.000000</td>\n",
              "      <td>1951.000000</td>\n",
              "      <td>1951.000000</td>\n",
              "    </tr>\n",
              "    <tr>\n",
              "      <th>mean</th>\n",
              "      <td>2020.0</td>\n",
              "      <td>0.009739</td>\n",
              "      <td>0.072783</td>\n",
              "      <td>0.047155</td>\n",
              "      <td>0.488467</td>\n",
              "    </tr>\n",
              "    <tr>\n",
              "      <th>std</th>\n",
              "      <td>0.0</td>\n",
              "      <td>0.103317</td>\n",
              "      <td>0.269534</td>\n",
              "      <td>0.239296</td>\n",
              "      <td>0.825084</td>\n",
              "    </tr>\n",
              "    <tr>\n",
              "      <th>min</th>\n",
              "      <td>2020.0</td>\n",
              "      <td>0.000000</td>\n",
              "      <td>0.000000</td>\n",
              "      <td>0.000000</td>\n",
              "      <td>0.000000</td>\n",
              "    </tr>\n",
              "    <tr>\n",
              "      <th>25%</th>\n",
              "      <td>2020.0</td>\n",
              "      <td>0.000000</td>\n",
              "      <td>0.000000</td>\n",
              "      <td>0.000000</td>\n",
              "      <td>0.000000</td>\n",
              "    </tr>\n",
              "    <tr>\n",
              "      <th>50%</th>\n",
              "      <td>2020.0</td>\n",
              "      <td>0.000000</td>\n",
              "      <td>0.000000</td>\n",
              "      <td>0.000000</td>\n",
              "      <td>0.000000</td>\n",
              "    </tr>\n",
              "    <tr>\n",
              "      <th>75%</th>\n",
              "      <td>2020.0</td>\n",
              "      <td>0.000000</td>\n",
              "      <td>0.000000</td>\n",
              "      <td>0.000000</td>\n",
              "      <td>1.000000</td>\n",
              "    </tr>\n",
              "    <tr>\n",
              "      <th>max</th>\n",
              "      <td>2020.0</td>\n",
              "      <td>2.000000</td>\n",
              "      <td>2.000000</td>\n",
              "      <td>5.000000</td>\n",
              "      <td>6.000000</td>\n",
              "    </tr>\n",
              "  </tbody>\n",
              "</table>\n",
              "</div>\n",
              "    <div class=\"colab-df-buttons\">\n",
              "\n",
              "  <div class=\"colab-df-container\">\n",
              "    <button class=\"colab-df-convert\" onclick=\"convertToInteractive('df-44545189-e049-4391-bd75-fa2e3e655019')\"\n",
              "            title=\"Convert this dataframe to an interactive table.\"\n",
              "            style=\"display:none;\">\n",
              "\n",
              "  <svg xmlns=\"http://www.w3.org/2000/svg\" height=\"24px\" viewBox=\"0 -960 960 960\">\n",
              "    <path d=\"M120-120v-720h720v720H120Zm60-500h600v-160H180v160Zm220 220h160v-160H400v160Zm0 220h160v-160H400v160ZM180-400h160v-160H180v160Zm440 0h160v-160H620v160ZM180-180h160v-160H180v160Zm440 0h160v-160H620v160Z\"/>\n",
              "  </svg>\n",
              "    </button>\n",
              "\n",
              "  <style>\n",
              "    .colab-df-container {\n",
              "      display:flex;\n",
              "      gap: 12px;\n",
              "    }\n",
              "\n",
              "    .colab-df-convert {\n",
              "      background-color: #E8F0FE;\n",
              "      border: none;\n",
              "      border-radius: 50%;\n",
              "      cursor: pointer;\n",
              "      display: none;\n",
              "      fill: #1967D2;\n",
              "      height: 32px;\n",
              "      padding: 0 0 0 0;\n",
              "      width: 32px;\n",
              "    }\n",
              "\n",
              "    .colab-df-convert:hover {\n",
              "      background-color: #E2EBFA;\n",
              "      box-shadow: 0px 1px 2px rgba(60, 64, 67, 0.3), 0px 1px 3px 1px rgba(60, 64, 67, 0.15);\n",
              "      fill: #174EA6;\n",
              "    }\n",
              "\n",
              "    .colab-df-buttons div {\n",
              "      margin-bottom: 4px;\n",
              "    }\n",
              "\n",
              "    [theme=dark] .colab-df-convert {\n",
              "      background-color: #3B4455;\n",
              "      fill: #D2E3FC;\n",
              "    }\n",
              "\n",
              "    [theme=dark] .colab-df-convert:hover {\n",
              "      background-color: #434B5C;\n",
              "      box-shadow: 0px 1px 3px 1px rgba(0, 0, 0, 0.15);\n",
              "      filter: drop-shadow(0px 1px 2px rgba(0, 0, 0, 0.3));\n",
              "      fill: #FFFFFF;\n",
              "    }\n",
              "  </style>\n",
              "\n",
              "    <script>\n",
              "      const buttonEl =\n",
              "        document.querySelector('#df-44545189-e049-4391-bd75-fa2e3e655019 button.colab-df-convert');\n",
              "      buttonEl.style.display =\n",
              "        google.colab.kernel.accessAllowed ? 'block' : 'none';\n",
              "\n",
              "      async function convertToInteractive(key) {\n",
              "        const element = document.querySelector('#df-44545189-e049-4391-bd75-fa2e3e655019');\n",
              "        const dataTable =\n",
              "          await google.colab.kernel.invokeFunction('convertToInteractive',\n",
              "                                                    [key], {});\n",
              "        if (!dataTable) return;\n",
              "\n",
              "        const docLinkHtml = 'Like what you see? Visit the ' +\n",
              "          '<a target=\"_blank\" href=https://colab.research.google.com/notebooks/data_table.ipynb>data table notebook</a>'\n",
              "          + ' to learn more about interactive tables.';\n",
              "        element.innerHTML = '';\n",
              "        dataTable['output_type'] = 'display_data';\n",
              "        await google.colab.output.renderOutput(dataTable, element);\n",
              "        const docLink = document.createElement('div');\n",
              "        docLink.innerHTML = docLinkHtml;\n",
              "        element.appendChild(docLink);\n",
              "      }\n",
              "    </script>\n",
              "  </div>\n",
              "\n",
              "\n",
              "    <div id=\"df-72e07b9f-b05c-4782-8503-8ea7e58c1cda\">\n",
              "      <button class=\"colab-df-quickchart\" onclick=\"quickchart('df-72e07b9f-b05c-4782-8503-8ea7e58c1cda')\"\n",
              "                title=\"Suggest charts\"\n",
              "                style=\"display:none;\">\n",
              "\n",
              "<svg xmlns=\"http://www.w3.org/2000/svg\" height=\"24px\"viewBox=\"0 0 24 24\"\n",
              "     width=\"24px\">\n",
              "    <g>\n",
              "        <path d=\"M19 3H5c-1.1 0-2 .9-2 2v14c0 1.1.9 2 2 2h14c1.1 0 2-.9 2-2V5c0-1.1-.9-2-2-2zM9 17H7v-7h2v7zm4 0h-2V7h2v10zm4 0h-2v-4h2v4z\"/>\n",
              "    </g>\n",
              "</svg>\n",
              "      </button>\n",
              "\n",
              "<style>\n",
              "  .colab-df-quickchart {\n",
              "      --bg-color: #E8F0FE;\n",
              "      --fill-color: #1967D2;\n",
              "      --hover-bg-color: #E2EBFA;\n",
              "      --hover-fill-color: #174EA6;\n",
              "      --disabled-fill-color: #AAA;\n",
              "      --disabled-bg-color: #DDD;\n",
              "  }\n",
              "\n",
              "  [theme=dark] .colab-df-quickchart {\n",
              "      --bg-color: #3B4455;\n",
              "      --fill-color: #D2E3FC;\n",
              "      --hover-bg-color: #434B5C;\n",
              "      --hover-fill-color: #FFFFFF;\n",
              "      --disabled-bg-color: #3B4455;\n",
              "      --disabled-fill-color: #666;\n",
              "  }\n",
              "\n",
              "  .colab-df-quickchart {\n",
              "    background-color: var(--bg-color);\n",
              "    border: none;\n",
              "    border-radius: 50%;\n",
              "    cursor: pointer;\n",
              "    display: none;\n",
              "    fill: var(--fill-color);\n",
              "    height: 32px;\n",
              "    padding: 0;\n",
              "    width: 32px;\n",
              "  }\n",
              "\n",
              "  .colab-df-quickchart:hover {\n",
              "    background-color: var(--hover-bg-color);\n",
              "    box-shadow: 0 1px 2px rgba(60, 64, 67, 0.3), 0 1px 3px 1px rgba(60, 64, 67, 0.15);\n",
              "    fill: var(--button-hover-fill-color);\n",
              "  }\n",
              "\n",
              "  .colab-df-quickchart-complete:disabled,\n",
              "  .colab-df-quickchart-complete:disabled:hover {\n",
              "    background-color: var(--disabled-bg-color);\n",
              "    fill: var(--disabled-fill-color);\n",
              "    box-shadow: none;\n",
              "  }\n",
              "\n",
              "  .colab-df-spinner {\n",
              "    border: 2px solid var(--fill-color);\n",
              "    border-color: transparent;\n",
              "    border-bottom-color: var(--fill-color);\n",
              "    animation:\n",
              "      spin 1s steps(1) infinite;\n",
              "  }\n",
              "\n",
              "  @keyframes spin {\n",
              "    0% {\n",
              "      border-color: transparent;\n",
              "      border-bottom-color: var(--fill-color);\n",
              "      border-left-color: var(--fill-color);\n",
              "    }\n",
              "    20% {\n",
              "      border-color: transparent;\n",
              "      border-left-color: var(--fill-color);\n",
              "      border-top-color: var(--fill-color);\n",
              "    }\n",
              "    30% {\n",
              "      border-color: transparent;\n",
              "      border-left-color: var(--fill-color);\n",
              "      border-top-color: var(--fill-color);\n",
              "      border-right-color: var(--fill-color);\n",
              "    }\n",
              "    40% {\n",
              "      border-color: transparent;\n",
              "      border-right-color: var(--fill-color);\n",
              "      border-top-color: var(--fill-color);\n",
              "    }\n",
              "    60% {\n",
              "      border-color: transparent;\n",
              "      border-right-color: var(--fill-color);\n",
              "    }\n",
              "    80% {\n",
              "      border-color: transparent;\n",
              "      border-right-color: var(--fill-color);\n",
              "      border-bottom-color: var(--fill-color);\n",
              "    }\n",
              "    90% {\n",
              "      border-color: transparent;\n",
              "      border-bottom-color: var(--fill-color);\n",
              "    }\n",
              "  }\n",
              "</style>\n",
              "\n",
              "      <script>\n",
              "        async function quickchart(key) {\n",
              "          const quickchartButtonEl =\n",
              "            document.querySelector('#' + key + ' button');\n",
              "          quickchartButtonEl.disabled = true;  // To prevent multiple clicks.\n",
              "          quickchartButtonEl.classList.add('colab-df-spinner');\n",
              "          try {\n",
              "            const charts = await google.colab.kernel.invokeFunction(\n",
              "                'suggestCharts', [key], {});\n",
              "          } catch (error) {\n",
              "            console.error('Error during call to suggestCharts:', error);\n",
              "          }\n",
              "          quickchartButtonEl.classList.remove('colab-df-spinner');\n",
              "          quickchartButtonEl.classList.add('colab-df-quickchart-complete');\n",
              "        }\n",
              "        (() => {\n",
              "          let quickchartButtonEl =\n",
              "            document.querySelector('#df-72e07b9f-b05c-4782-8503-8ea7e58c1cda button');\n",
              "          quickchartButtonEl.style.display =\n",
              "            google.colab.kernel.accessAllowed ? 'block' : 'none';\n",
              "        })();\n",
              "      </script>\n",
              "    </div>\n",
              "\n",
              "    </div>\n",
              "  </div>\n"
            ],
            "application/vnd.google.colaboratory.intrinsic+json": {
              "type": "dataframe",
              "summary": "{\n  \"name\": \"gdfs_2020_utm\",\n  \"rows\": 8,\n  \"fields\": [\n    {\n      \"column\": \"Year\",\n      \"properties\": {\n        \"dtype\": \"number\",\n        \"std\": 711.102853219661,\n        \"min\": 0.0,\n        \"max\": 2020.0,\n        \"num_unique_values\": 3,\n        \"samples\": [\n          1951.0,\n          2020.0,\n          0.0\n        ],\n        \"semantic_type\": \"\",\n        \"description\": \"\"\n      }\n    },\n    {\n      \"column\": \"Fatalities\",\n      \"properties\": {\n        \"dtype\": \"number\",\n        \"std\": 689.6762889646269,\n        \"min\": 0.0,\n        \"max\": 1951.0,\n        \"num_unique_values\": 5,\n        \"samples\": [\n          0.009738595592004101,\n          2.0,\n          0.10331670672792496\n        ],\n        \"semantic_type\": \"\",\n        \"description\": \"\"\n      }\n    },\n    {\n      \"column\": \"Serious\",\n      \"properties\": {\n        \"dtype\": \"number\",\n        \"std\": 689.6647013381161,\n        \"min\": 0.0,\n        \"max\": 1951.0,\n        \"num_unique_values\": 5,\n        \"samples\": [\n          0.07278318810866223,\n          2.0,\n          0.26953405882361897\n        ],\n        \"semantic_type\": \"\",\n        \"description\": \"\"\n      }\n    },\n    {\n      \"column\": \"Less serious\",\n      \"properties\": {\n        \"dtype\": \"number\",\n        \"std\": 689.5178413421363,\n        \"min\": 0.0,\n        \"max\": 1951.0,\n        \"num_unique_values\": 5,\n        \"samples\": [\n          0.04715530497180933,\n          5.0,\n          0.2392956672838397\n        ],\n        \"semantic_type\": \"\",\n        \"description\": \"\"\n      }\n    },\n    {\n      \"column\": \"Slight\",\n      \"properties\": {\n        \"dtype\": \"number\",\n        \"std\": 689.3656732331867,\n        \"min\": 0.0,\n        \"max\": 1951.0,\n        \"num_unique_values\": 6,\n        \"samples\": [\n          1951.0,\n          0.4884674525884162,\n          6.0\n        ],\n        \"semantic_type\": \"\",\n        \"description\": \"\"\n      }\n    }\n  ]\n}"
            }
          },
          "metadata": {},
          "execution_count": 63
        }
      ]
    },
    {
      "cell_type": "code",
      "source": [
        "# Summary statistics\n",
        "gdfs_2021_utm.describe()  # using 'describe()' you get the descriptive statisticsfor all variables: count, mean, std, min, 25%, 50% 75%, max."
      ],
      "metadata": {
        "id": "HFf7I2P1BKvp",
        "outputId": "a92b8712-e979-442a-8147-01f15029fae9",
        "colab": {
          "base_uri": "https://localhost:8080/",
          "height": 300
        }
      },
      "id": "HFf7I2P1BKvp",
      "execution_count": null,
      "outputs": [
        {
          "output_type": "execute_result",
          "data": {
            "text/plain": [
              "         Year   Fatalities      Serious  Less serious       Slight\n",
              "count  2416.0  2416.000000  2416.000000   2416.000000  2416.000000\n",
              "mean   2021.0     0.008278     0.064570      0.034768     0.450745\n",
              "std       0.0     0.090626     0.260535      0.194201     0.827113\n",
              "min    2021.0     0.000000     0.000000      0.000000     0.000000\n",
              "25%    2021.0     0.000000     0.000000      0.000000     0.000000\n",
              "50%    2021.0     0.000000     0.000000      0.000000     0.000000\n",
              "75%    2021.0     0.000000     0.000000      0.000000     1.000000\n",
              "max    2021.0     1.000000     3.000000      3.000000     8.000000"
            ],
            "text/html": [
              "\n",
              "  <div id=\"df-08880efb-b820-4a37-ba1d-a2853008b9f8\" class=\"colab-df-container\">\n",
              "    <div>\n",
              "<style scoped>\n",
              "    .dataframe tbody tr th:only-of-type {\n",
              "        vertical-align: middle;\n",
              "    }\n",
              "\n",
              "    .dataframe tbody tr th {\n",
              "        vertical-align: top;\n",
              "    }\n",
              "\n",
              "    .dataframe thead th {\n",
              "        text-align: right;\n",
              "    }\n",
              "</style>\n",
              "<table border=\"1\" class=\"dataframe\">\n",
              "  <thead>\n",
              "    <tr style=\"text-align: right;\">\n",
              "      <th></th>\n",
              "      <th>Year</th>\n",
              "      <th>Fatalities</th>\n",
              "      <th>Serious</th>\n",
              "      <th>Less serious</th>\n",
              "      <th>Slight</th>\n",
              "    </tr>\n",
              "  </thead>\n",
              "  <tbody>\n",
              "    <tr>\n",
              "      <th>count</th>\n",
              "      <td>2416.0</td>\n",
              "      <td>2416.000000</td>\n",
              "      <td>2416.000000</td>\n",
              "      <td>2416.000000</td>\n",
              "      <td>2416.000000</td>\n",
              "    </tr>\n",
              "    <tr>\n",
              "      <th>mean</th>\n",
              "      <td>2021.0</td>\n",
              "      <td>0.008278</td>\n",
              "      <td>0.064570</td>\n",
              "      <td>0.034768</td>\n",
              "      <td>0.450745</td>\n",
              "    </tr>\n",
              "    <tr>\n",
              "      <th>std</th>\n",
              "      <td>0.0</td>\n",
              "      <td>0.090626</td>\n",
              "      <td>0.260535</td>\n",
              "      <td>0.194201</td>\n",
              "      <td>0.827113</td>\n",
              "    </tr>\n",
              "    <tr>\n",
              "      <th>min</th>\n",
              "      <td>2021.0</td>\n",
              "      <td>0.000000</td>\n",
              "      <td>0.000000</td>\n",
              "      <td>0.000000</td>\n",
              "      <td>0.000000</td>\n",
              "    </tr>\n",
              "    <tr>\n",
              "      <th>25%</th>\n",
              "      <td>2021.0</td>\n",
              "      <td>0.000000</td>\n",
              "      <td>0.000000</td>\n",
              "      <td>0.000000</td>\n",
              "      <td>0.000000</td>\n",
              "    </tr>\n",
              "    <tr>\n",
              "      <th>50%</th>\n",
              "      <td>2021.0</td>\n",
              "      <td>0.000000</td>\n",
              "      <td>0.000000</td>\n",
              "      <td>0.000000</td>\n",
              "      <td>0.000000</td>\n",
              "    </tr>\n",
              "    <tr>\n",
              "      <th>75%</th>\n",
              "      <td>2021.0</td>\n",
              "      <td>0.000000</td>\n",
              "      <td>0.000000</td>\n",
              "      <td>0.000000</td>\n",
              "      <td>1.000000</td>\n",
              "    </tr>\n",
              "    <tr>\n",
              "      <th>max</th>\n",
              "      <td>2021.0</td>\n",
              "      <td>1.000000</td>\n",
              "      <td>3.000000</td>\n",
              "      <td>3.000000</td>\n",
              "      <td>8.000000</td>\n",
              "    </tr>\n",
              "  </tbody>\n",
              "</table>\n",
              "</div>\n",
              "    <div class=\"colab-df-buttons\">\n",
              "\n",
              "  <div class=\"colab-df-container\">\n",
              "    <button class=\"colab-df-convert\" onclick=\"convertToInteractive('df-08880efb-b820-4a37-ba1d-a2853008b9f8')\"\n",
              "            title=\"Convert this dataframe to an interactive table.\"\n",
              "            style=\"display:none;\">\n",
              "\n",
              "  <svg xmlns=\"http://www.w3.org/2000/svg\" height=\"24px\" viewBox=\"0 -960 960 960\">\n",
              "    <path d=\"M120-120v-720h720v720H120Zm60-500h600v-160H180v160Zm220 220h160v-160H400v160Zm0 220h160v-160H400v160ZM180-400h160v-160H180v160Zm440 0h160v-160H620v160ZM180-180h160v-160H180v160Zm440 0h160v-160H620v160Z\"/>\n",
              "  </svg>\n",
              "    </button>\n",
              "\n",
              "  <style>\n",
              "    .colab-df-container {\n",
              "      display:flex;\n",
              "      gap: 12px;\n",
              "    }\n",
              "\n",
              "    .colab-df-convert {\n",
              "      background-color: #E8F0FE;\n",
              "      border: none;\n",
              "      border-radius: 50%;\n",
              "      cursor: pointer;\n",
              "      display: none;\n",
              "      fill: #1967D2;\n",
              "      height: 32px;\n",
              "      padding: 0 0 0 0;\n",
              "      width: 32px;\n",
              "    }\n",
              "\n",
              "    .colab-df-convert:hover {\n",
              "      background-color: #E2EBFA;\n",
              "      box-shadow: 0px 1px 2px rgba(60, 64, 67, 0.3), 0px 1px 3px 1px rgba(60, 64, 67, 0.15);\n",
              "      fill: #174EA6;\n",
              "    }\n",
              "\n",
              "    .colab-df-buttons div {\n",
              "      margin-bottom: 4px;\n",
              "    }\n",
              "\n",
              "    [theme=dark] .colab-df-convert {\n",
              "      background-color: #3B4455;\n",
              "      fill: #D2E3FC;\n",
              "    }\n",
              "\n",
              "    [theme=dark] .colab-df-convert:hover {\n",
              "      background-color: #434B5C;\n",
              "      box-shadow: 0px 1px 3px 1px rgba(0, 0, 0, 0.15);\n",
              "      filter: drop-shadow(0px 1px 2px rgba(0, 0, 0, 0.3));\n",
              "      fill: #FFFFFF;\n",
              "    }\n",
              "  </style>\n",
              "\n",
              "    <script>\n",
              "      const buttonEl =\n",
              "        document.querySelector('#df-08880efb-b820-4a37-ba1d-a2853008b9f8 button.colab-df-convert');\n",
              "      buttonEl.style.display =\n",
              "        google.colab.kernel.accessAllowed ? 'block' : 'none';\n",
              "\n",
              "      async function convertToInteractive(key) {\n",
              "        const element = document.querySelector('#df-08880efb-b820-4a37-ba1d-a2853008b9f8');\n",
              "        const dataTable =\n",
              "          await google.colab.kernel.invokeFunction('convertToInteractive',\n",
              "                                                    [key], {});\n",
              "        if (!dataTable) return;\n",
              "\n",
              "        const docLinkHtml = 'Like what you see? Visit the ' +\n",
              "          '<a target=\"_blank\" href=https://colab.research.google.com/notebooks/data_table.ipynb>data table notebook</a>'\n",
              "          + ' to learn more about interactive tables.';\n",
              "        element.innerHTML = '';\n",
              "        dataTable['output_type'] = 'display_data';\n",
              "        await google.colab.output.renderOutput(dataTable, element);\n",
              "        const docLink = document.createElement('div');\n",
              "        docLink.innerHTML = docLinkHtml;\n",
              "        element.appendChild(docLink);\n",
              "      }\n",
              "    </script>\n",
              "  </div>\n",
              "\n",
              "\n",
              "    <div id=\"df-dfb46743-a41c-48db-9546-31b8beb11da9\">\n",
              "      <button class=\"colab-df-quickchart\" onclick=\"quickchart('df-dfb46743-a41c-48db-9546-31b8beb11da9')\"\n",
              "                title=\"Suggest charts\"\n",
              "                style=\"display:none;\">\n",
              "\n",
              "<svg xmlns=\"http://www.w3.org/2000/svg\" height=\"24px\"viewBox=\"0 0 24 24\"\n",
              "     width=\"24px\">\n",
              "    <g>\n",
              "        <path d=\"M19 3H5c-1.1 0-2 .9-2 2v14c0 1.1.9 2 2 2h14c1.1 0 2-.9 2-2V5c0-1.1-.9-2-2-2zM9 17H7v-7h2v7zm4 0h-2V7h2v10zm4 0h-2v-4h2v4z\"/>\n",
              "    </g>\n",
              "</svg>\n",
              "      </button>\n",
              "\n",
              "<style>\n",
              "  .colab-df-quickchart {\n",
              "      --bg-color: #E8F0FE;\n",
              "      --fill-color: #1967D2;\n",
              "      --hover-bg-color: #E2EBFA;\n",
              "      --hover-fill-color: #174EA6;\n",
              "      --disabled-fill-color: #AAA;\n",
              "      --disabled-bg-color: #DDD;\n",
              "  }\n",
              "\n",
              "  [theme=dark] .colab-df-quickchart {\n",
              "      --bg-color: #3B4455;\n",
              "      --fill-color: #D2E3FC;\n",
              "      --hover-bg-color: #434B5C;\n",
              "      --hover-fill-color: #FFFFFF;\n",
              "      --disabled-bg-color: #3B4455;\n",
              "      --disabled-fill-color: #666;\n",
              "  }\n",
              "\n",
              "  .colab-df-quickchart {\n",
              "    background-color: var(--bg-color);\n",
              "    border: none;\n",
              "    border-radius: 50%;\n",
              "    cursor: pointer;\n",
              "    display: none;\n",
              "    fill: var(--fill-color);\n",
              "    height: 32px;\n",
              "    padding: 0;\n",
              "    width: 32px;\n",
              "  }\n",
              "\n",
              "  .colab-df-quickchart:hover {\n",
              "    background-color: var(--hover-bg-color);\n",
              "    box-shadow: 0 1px 2px rgba(60, 64, 67, 0.3), 0 1px 3px 1px rgba(60, 64, 67, 0.15);\n",
              "    fill: var(--button-hover-fill-color);\n",
              "  }\n",
              "\n",
              "  .colab-df-quickchart-complete:disabled,\n",
              "  .colab-df-quickchart-complete:disabled:hover {\n",
              "    background-color: var(--disabled-bg-color);\n",
              "    fill: var(--disabled-fill-color);\n",
              "    box-shadow: none;\n",
              "  }\n",
              "\n",
              "  .colab-df-spinner {\n",
              "    border: 2px solid var(--fill-color);\n",
              "    border-color: transparent;\n",
              "    border-bottom-color: var(--fill-color);\n",
              "    animation:\n",
              "      spin 1s steps(1) infinite;\n",
              "  }\n",
              "\n",
              "  @keyframes spin {\n",
              "    0% {\n",
              "      border-color: transparent;\n",
              "      border-bottom-color: var(--fill-color);\n",
              "      border-left-color: var(--fill-color);\n",
              "    }\n",
              "    20% {\n",
              "      border-color: transparent;\n",
              "      border-left-color: var(--fill-color);\n",
              "      border-top-color: var(--fill-color);\n",
              "    }\n",
              "    30% {\n",
              "      border-color: transparent;\n",
              "      border-left-color: var(--fill-color);\n",
              "      border-top-color: var(--fill-color);\n",
              "      border-right-color: var(--fill-color);\n",
              "    }\n",
              "    40% {\n",
              "      border-color: transparent;\n",
              "      border-right-color: var(--fill-color);\n",
              "      border-top-color: var(--fill-color);\n",
              "    }\n",
              "    60% {\n",
              "      border-color: transparent;\n",
              "      border-right-color: var(--fill-color);\n",
              "    }\n",
              "    80% {\n",
              "      border-color: transparent;\n",
              "      border-right-color: var(--fill-color);\n",
              "      border-bottom-color: var(--fill-color);\n",
              "    }\n",
              "    90% {\n",
              "      border-color: transparent;\n",
              "      border-bottom-color: var(--fill-color);\n",
              "    }\n",
              "  }\n",
              "</style>\n",
              "\n",
              "      <script>\n",
              "        async function quickchart(key) {\n",
              "          const quickchartButtonEl =\n",
              "            document.querySelector('#' + key + ' button');\n",
              "          quickchartButtonEl.disabled = true;  // To prevent multiple clicks.\n",
              "          quickchartButtonEl.classList.add('colab-df-spinner');\n",
              "          try {\n",
              "            const charts = await google.colab.kernel.invokeFunction(\n",
              "                'suggestCharts', [key], {});\n",
              "          } catch (error) {\n",
              "            console.error('Error during call to suggestCharts:', error);\n",
              "          }\n",
              "          quickchartButtonEl.classList.remove('colab-df-spinner');\n",
              "          quickchartButtonEl.classList.add('colab-df-quickchart-complete');\n",
              "        }\n",
              "        (() => {\n",
              "          let quickchartButtonEl =\n",
              "            document.querySelector('#df-dfb46743-a41c-48db-9546-31b8beb11da9 button');\n",
              "          quickchartButtonEl.style.display =\n",
              "            google.colab.kernel.accessAllowed ? 'block' : 'none';\n",
              "        })();\n",
              "      </script>\n",
              "    </div>\n",
              "\n",
              "    </div>\n",
              "  </div>\n"
            ],
            "application/vnd.google.colaboratory.intrinsic+json": {
              "type": "dataframe",
              "summary": "{\n  \"name\": \"gdfs_2021_utm\",\n  \"rows\": 8,\n  \"fields\": [\n    {\n      \"column\": \"Year\",\n      \"properties\": {\n        \"dtype\": \"number\",\n        \"std\": 747.3745953096651,\n        \"min\": 0.0,\n        \"max\": 2416.0,\n        \"num_unique_values\": 3,\n        \"samples\": [\n          2416.0,\n          2021.0,\n          0.0\n        ],\n        \"semantic_type\": \"\",\n        \"description\": \"\"\n      }\n    },\n    {\n      \"column\": \"Fatalities\",\n      \"properties\": {\n        \"dtype\": \"number\",\n        \"std\": 854.1295585406803,\n        \"min\": 0.0,\n        \"max\": 2416.0,\n        \"num_unique_values\": 5,\n        \"samples\": [\n          0.008278145695364239,\n          1.0,\n          0.09062569959428582\n        ],\n        \"semantic_type\": \"\",\n        \"description\": \"\"\n      }\n    },\n    {\n      \"column\": \"Serious\",\n      \"properties\": {\n        \"dtype\": \"number\",\n        \"std\": 854.0176751747063,\n        \"min\": 0.0,\n        \"max\": 2416.0,\n        \"num_unique_values\": 5,\n        \"samples\": [\n          0.06456953642384106,\n          3.0,\n          0.2605354832260418\n        ],\n        \"semantic_type\": \"\",\n        \"description\": \"\"\n      }\n    },\n    {\n      \"column\": \"Less serious\",\n      \"properties\": {\n        \"dtype\": \"number\",\n        \"std\": 854.0225355156077,\n        \"min\": 0.0,\n        \"max\": 2416.0,\n        \"num_unique_values\": 5,\n        \"samples\": [\n          0.0347682119205298,\n          3.0,\n          0.1942010976664559\n        ],\n        \"semantic_type\": \"\",\n        \"description\": \"\"\n      }\n    },\n    {\n      \"column\": \"Slight\",\n      \"properties\": {\n        \"dtype\": \"number\",\n        \"std\": 853.6701317531745,\n        \"min\": 0.0,\n        \"max\": 2416.0,\n        \"num_unique_values\": 6,\n        \"samples\": [\n          2416.0,\n          0.4507450331125828,\n          8.0\n        ],\n        \"semantic_type\": \"\",\n        \"description\": \"\"\n      }\n    }\n  ]\n}"
            }
          },
          "metadata": {},
          "execution_count": 64
        }
      ]
    },
    {
      "cell_type": "code",
      "source": [
        "# Summary statistics\n",
        "gdfs_2022_utm.describe()  # using 'describe()' you get the descriptive statisticsfor all variables: count, mean, std, min, 25%, 50% 75%, max."
      ],
      "metadata": {
        "id": "Rez7NYAIBM79",
        "outputId": "e959805f-ff8e-46a8-fd62-676308e1699e",
        "colab": {
          "base_uri": "https://localhost:8080/",
          "height": 300
        }
      },
      "id": "Rez7NYAIBM79",
      "execution_count": null,
      "outputs": [
        {
          "output_type": "execute_result",
          "data": {
            "text/plain": [
              "         Year   Fatalities      Serious  Less serious       Slight\n",
              "count  2366.0  2366.000000  2366.000000   2366.000000  2366.000000\n",
              "mean   2022.0     0.011834     0.069315      0.031699     0.385883\n",
              "std       0.0     0.108163     0.291263      0.186911     0.757957\n",
              "min    2022.0     0.000000     0.000000      0.000000     0.000000\n",
              "25%    2022.0     0.000000     0.000000      0.000000     0.000000\n",
              "50%    2022.0     0.000000     0.000000      0.000000     0.000000\n",
              "75%    2022.0     0.000000     0.000000      0.000000     1.000000\n",
              "max    2022.0     1.000000     6.000000      2.000000     9.000000"
            ],
            "text/html": [
              "\n",
              "  <div id=\"df-4d81d7f8-d5ea-4ec3-bc22-1429665e103f\" class=\"colab-df-container\">\n",
              "    <div>\n",
              "<style scoped>\n",
              "    .dataframe tbody tr th:only-of-type {\n",
              "        vertical-align: middle;\n",
              "    }\n",
              "\n",
              "    .dataframe tbody tr th {\n",
              "        vertical-align: top;\n",
              "    }\n",
              "\n",
              "    .dataframe thead th {\n",
              "        text-align: right;\n",
              "    }\n",
              "</style>\n",
              "<table border=\"1\" class=\"dataframe\">\n",
              "  <thead>\n",
              "    <tr style=\"text-align: right;\">\n",
              "      <th></th>\n",
              "      <th>Year</th>\n",
              "      <th>Fatalities</th>\n",
              "      <th>Serious</th>\n",
              "      <th>Less serious</th>\n",
              "      <th>Slight</th>\n",
              "    </tr>\n",
              "  </thead>\n",
              "  <tbody>\n",
              "    <tr>\n",
              "      <th>count</th>\n",
              "      <td>2366.0</td>\n",
              "      <td>2366.000000</td>\n",
              "      <td>2366.000000</td>\n",
              "      <td>2366.000000</td>\n",
              "      <td>2366.000000</td>\n",
              "    </tr>\n",
              "    <tr>\n",
              "      <th>mean</th>\n",
              "      <td>2022.0</td>\n",
              "      <td>0.011834</td>\n",
              "      <td>0.069315</td>\n",
              "      <td>0.031699</td>\n",
              "      <td>0.385883</td>\n",
              "    </tr>\n",
              "    <tr>\n",
              "      <th>std</th>\n",
              "      <td>0.0</td>\n",
              "      <td>0.108163</td>\n",
              "      <td>0.291263</td>\n",
              "      <td>0.186911</td>\n",
              "      <td>0.757957</td>\n",
              "    </tr>\n",
              "    <tr>\n",
              "      <th>min</th>\n",
              "      <td>2022.0</td>\n",
              "      <td>0.000000</td>\n",
              "      <td>0.000000</td>\n",
              "      <td>0.000000</td>\n",
              "      <td>0.000000</td>\n",
              "    </tr>\n",
              "    <tr>\n",
              "      <th>25%</th>\n",
              "      <td>2022.0</td>\n",
              "      <td>0.000000</td>\n",
              "      <td>0.000000</td>\n",
              "      <td>0.000000</td>\n",
              "      <td>0.000000</td>\n",
              "    </tr>\n",
              "    <tr>\n",
              "      <th>50%</th>\n",
              "      <td>2022.0</td>\n",
              "      <td>0.000000</td>\n",
              "      <td>0.000000</td>\n",
              "      <td>0.000000</td>\n",
              "      <td>0.000000</td>\n",
              "    </tr>\n",
              "    <tr>\n",
              "      <th>75%</th>\n",
              "      <td>2022.0</td>\n",
              "      <td>0.000000</td>\n",
              "      <td>0.000000</td>\n",
              "      <td>0.000000</td>\n",
              "      <td>1.000000</td>\n",
              "    </tr>\n",
              "    <tr>\n",
              "      <th>max</th>\n",
              "      <td>2022.0</td>\n",
              "      <td>1.000000</td>\n",
              "      <td>6.000000</td>\n",
              "      <td>2.000000</td>\n",
              "      <td>9.000000</td>\n",
              "    </tr>\n",
              "  </tbody>\n",
              "</table>\n",
              "</div>\n",
              "    <div class=\"colab-df-buttons\">\n",
              "\n",
              "  <div class=\"colab-df-container\">\n",
              "    <button class=\"colab-df-convert\" onclick=\"convertToInteractive('df-4d81d7f8-d5ea-4ec3-bc22-1429665e103f')\"\n",
              "            title=\"Convert this dataframe to an interactive table.\"\n",
              "            style=\"display:none;\">\n",
              "\n",
              "  <svg xmlns=\"http://www.w3.org/2000/svg\" height=\"24px\" viewBox=\"0 -960 960 960\">\n",
              "    <path d=\"M120-120v-720h720v720H120Zm60-500h600v-160H180v160Zm220 220h160v-160H400v160Zm0 220h160v-160H400v160ZM180-400h160v-160H180v160Zm440 0h160v-160H620v160ZM180-180h160v-160H180v160Zm440 0h160v-160H620v160Z\"/>\n",
              "  </svg>\n",
              "    </button>\n",
              "\n",
              "  <style>\n",
              "    .colab-df-container {\n",
              "      display:flex;\n",
              "      gap: 12px;\n",
              "    }\n",
              "\n",
              "    .colab-df-convert {\n",
              "      background-color: #E8F0FE;\n",
              "      border: none;\n",
              "      border-radius: 50%;\n",
              "      cursor: pointer;\n",
              "      display: none;\n",
              "      fill: #1967D2;\n",
              "      height: 32px;\n",
              "      padding: 0 0 0 0;\n",
              "      width: 32px;\n",
              "    }\n",
              "\n",
              "    .colab-df-convert:hover {\n",
              "      background-color: #E2EBFA;\n",
              "      box-shadow: 0px 1px 2px rgba(60, 64, 67, 0.3), 0px 1px 3px 1px rgba(60, 64, 67, 0.15);\n",
              "      fill: #174EA6;\n",
              "    }\n",
              "\n",
              "    .colab-df-buttons div {\n",
              "      margin-bottom: 4px;\n",
              "    }\n",
              "\n",
              "    [theme=dark] .colab-df-convert {\n",
              "      background-color: #3B4455;\n",
              "      fill: #D2E3FC;\n",
              "    }\n",
              "\n",
              "    [theme=dark] .colab-df-convert:hover {\n",
              "      background-color: #434B5C;\n",
              "      box-shadow: 0px 1px 3px 1px rgba(0, 0, 0, 0.15);\n",
              "      filter: drop-shadow(0px 1px 2px rgba(0, 0, 0, 0.3));\n",
              "      fill: #FFFFFF;\n",
              "    }\n",
              "  </style>\n",
              "\n",
              "    <script>\n",
              "      const buttonEl =\n",
              "        document.querySelector('#df-4d81d7f8-d5ea-4ec3-bc22-1429665e103f button.colab-df-convert');\n",
              "      buttonEl.style.display =\n",
              "        google.colab.kernel.accessAllowed ? 'block' : 'none';\n",
              "\n",
              "      async function convertToInteractive(key) {\n",
              "        const element = document.querySelector('#df-4d81d7f8-d5ea-4ec3-bc22-1429665e103f');\n",
              "        const dataTable =\n",
              "          await google.colab.kernel.invokeFunction('convertToInteractive',\n",
              "                                                    [key], {});\n",
              "        if (!dataTable) return;\n",
              "\n",
              "        const docLinkHtml = 'Like what you see? Visit the ' +\n",
              "          '<a target=\"_blank\" href=https://colab.research.google.com/notebooks/data_table.ipynb>data table notebook</a>'\n",
              "          + ' to learn more about interactive tables.';\n",
              "        element.innerHTML = '';\n",
              "        dataTable['output_type'] = 'display_data';\n",
              "        await google.colab.output.renderOutput(dataTable, element);\n",
              "        const docLink = document.createElement('div');\n",
              "        docLink.innerHTML = docLinkHtml;\n",
              "        element.appendChild(docLink);\n",
              "      }\n",
              "    </script>\n",
              "  </div>\n",
              "\n",
              "\n",
              "    <div id=\"df-26fd477b-c7bc-4719-a203-3322307d6c17\">\n",
              "      <button class=\"colab-df-quickchart\" onclick=\"quickchart('df-26fd477b-c7bc-4719-a203-3322307d6c17')\"\n",
              "                title=\"Suggest charts\"\n",
              "                style=\"display:none;\">\n",
              "\n",
              "<svg xmlns=\"http://www.w3.org/2000/svg\" height=\"24px\"viewBox=\"0 0 24 24\"\n",
              "     width=\"24px\">\n",
              "    <g>\n",
              "        <path d=\"M19 3H5c-1.1 0-2 .9-2 2v14c0 1.1.9 2 2 2h14c1.1 0 2-.9 2-2V5c0-1.1-.9-2-2-2zM9 17H7v-7h2v7zm4 0h-2V7h2v10zm4 0h-2v-4h2v4z\"/>\n",
              "    </g>\n",
              "</svg>\n",
              "      </button>\n",
              "\n",
              "<style>\n",
              "  .colab-df-quickchart {\n",
              "      --bg-color: #E8F0FE;\n",
              "      --fill-color: #1967D2;\n",
              "      --hover-bg-color: #E2EBFA;\n",
              "      --hover-fill-color: #174EA6;\n",
              "      --disabled-fill-color: #AAA;\n",
              "      --disabled-bg-color: #DDD;\n",
              "  }\n",
              "\n",
              "  [theme=dark] .colab-df-quickchart {\n",
              "      --bg-color: #3B4455;\n",
              "      --fill-color: #D2E3FC;\n",
              "      --hover-bg-color: #434B5C;\n",
              "      --hover-fill-color: #FFFFFF;\n",
              "      --disabled-bg-color: #3B4455;\n",
              "      --disabled-fill-color: #666;\n",
              "  }\n",
              "\n",
              "  .colab-df-quickchart {\n",
              "    background-color: var(--bg-color);\n",
              "    border: none;\n",
              "    border-radius: 50%;\n",
              "    cursor: pointer;\n",
              "    display: none;\n",
              "    fill: var(--fill-color);\n",
              "    height: 32px;\n",
              "    padding: 0;\n",
              "    width: 32px;\n",
              "  }\n",
              "\n",
              "  .colab-df-quickchart:hover {\n",
              "    background-color: var(--hover-bg-color);\n",
              "    box-shadow: 0 1px 2px rgba(60, 64, 67, 0.3), 0 1px 3px 1px rgba(60, 64, 67, 0.15);\n",
              "    fill: var(--button-hover-fill-color);\n",
              "  }\n",
              "\n",
              "  .colab-df-quickchart-complete:disabled,\n",
              "  .colab-df-quickchart-complete:disabled:hover {\n",
              "    background-color: var(--disabled-bg-color);\n",
              "    fill: var(--disabled-fill-color);\n",
              "    box-shadow: none;\n",
              "  }\n",
              "\n",
              "  .colab-df-spinner {\n",
              "    border: 2px solid var(--fill-color);\n",
              "    border-color: transparent;\n",
              "    border-bottom-color: var(--fill-color);\n",
              "    animation:\n",
              "      spin 1s steps(1) infinite;\n",
              "  }\n",
              "\n",
              "  @keyframes spin {\n",
              "    0% {\n",
              "      border-color: transparent;\n",
              "      border-bottom-color: var(--fill-color);\n",
              "      border-left-color: var(--fill-color);\n",
              "    }\n",
              "    20% {\n",
              "      border-color: transparent;\n",
              "      border-left-color: var(--fill-color);\n",
              "      border-top-color: var(--fill-color);\n",
              "    }\n",
              "    30% {\n",
              "      border-color: transparent;\n",
              "      border-left-color: var(--fill-color);\n",
              "      border-top-color: var(--fill-color);\n",
              "      border-right-color: var(--fill-color);\n",
              "    }\n",
              "    40% {\n",
              "      border-color: transparent;\n",
              "      border-right-color: var(--fill-color);\n",
              "      border-top-color: var(--fill-color);\n",
              "    }\n",
              "    60% {\n",
              "      border-color: transparent;\n",
              "      border-right-color: var(--fill-color);\n",
              "    }\n",
              "    80% {\n",
              "      border-color: transparent;\n",
              "      border-right-color: var(--fill-color);\n",
              "      border-bottom-color: var(--fill-color);\n",
              "    }\n",
              "    90% {\n",
              "      border-color: transparent;\n",
              "      border-bottom-color: var(--fill-color);\n",
              "    }\n",
              "  }\n",
              "</style>\n",
              "\n",
              "      <script>\n",
              "        async function quickchart(key) {\n",
              "          const quickchartButtonEl =\n",
              "            document.querySelector('#' + key + ' button');\n",
              "          quickchartButtonEl.disabled = true;  // To prevent multiple clicks.\n",
              "          quickchartButtonEl.classList.add('colab-df-spinner');\n",
              "          try {\n",
              "            const charts = await google.colab.kernel.invokeFunction(\n",
              "                'suggestCharts', [key], {});\n",
              "          } catch (error) {\n",
              "            console.error('Error during call to suggestCharts:', error);\n",
              "          }\n",
              "          quickchartButtonEl.classList.remove('colab-df-spinner');\n",
              "          quickchartButtonEl.classList.add('colab-df-quickchart-complete');\n",
              "        }\n",
              "        (() => {\n",
              "          let quickchartButtonEl =\n",
              "            document.querySelector('#df-26fd477b-c7bc-4719-a203-3322307d6c17 button');\n",
              "          quickchartButtonEl.style.display =\n",
              "            google.colab.kernel.accessAllowed ? 'block' : 'none';\n",
              "        })();\n",
              "      </script>\n",
              "    </div>\n",
              "\n",
              "    </div>\n",
              "  </div>\n"
            ],
            "application/vnd.google.colaboratory.intrinsic+json": {
              "type": "dataframe",
              "summary": "{\n  \"name\": \"gdfs_2022_utm\",\n  \"rows\": 8,\n  \"fields\": [\n    {\n      \"column\": \"Year\",\n      \"properties\": {\n        \"dtype\": \"number\",\n        \"std\": 742.0877402879759,\n        \"min\": 0.0,\n        \"max\": 2366.0,\n        \"num_unique_values\": 3,\n        \"samples\": [\n          2366.0,\n          2022.0,\n          0.0\n        ],\n        \"semantic_type\": \"\",\n        \"description\": \"\"\n      }\n    },\n    {\n      \"column\": \"Fatalities\",\n      \"properties\": {\n        \"dtype\": \"number\",\n        \"std\": 836.4508248447435,\n        \"min\": 0.0,\n        \"max\": 2366.0,\n        \"num_unique_values\": 5,\n        \"samples\": [\n          0.011834319526627219,\n          1.0,\n          0.10816290089647448\n        ],\n        \"semantic_type\": \"\",\n        \"description\": \"\"\n      }\n    },\n    {\n      \"column\": \"Serious\",\n      \"properties\": {\n        \"dtype\": \"number\",\n        \"std\": 836.1886535810193,\n        \"min\": 0.0,\n        \"max\": 2366.0,\n        \"num_unique_values\": 5,\n        \"samples\": [\n          0.06931530008453085,\n          6.0,\n          0.2912626814276889\n        ],\n        \"semantic_type\": \"\",\n        \"description\": \"\"\n      }\n    },\n    {\n      \"column\": \"Less serious\",\n      \"properties\": {\n        \"dtype\": \"number\",\n        \"std\": 836.3955500565986,\n        \"min\": 0.0,\n        \"max\": 2366.0,\n        \"num_unique_values\": 5,\n        \"samples\": [\n          0.03169907016060862,\n          2.0,\n          0.18691053329844123\n        ],\n        \"semantic_type\": \"\",\n        \"description\": \"\"\n      }\n    },\n    {\n      \"column\": \"Slight\",\n      \"properties\": {\n        \"dtype\": \"number\",\n        \"std\": 835.9500257524771,\n        \"min\": 0.0,\n        \"max\": 2366.0,\n        \"num_unique_values\": 6,\n        \"samples\": [\n          2366.0,\n          0.38588334742180896,\n          9.0\n        ],\n        \"semantic_type\": \"\",\n        \"description\": \"\"\n      }\n    }\n  ]\n}"
            }
          },
          "metadata": {},
          "execution_count": 65
        }
      ]
    },
    {
      "cell_type": "markdown",
      "source": [
        "Respecto a las estadisticas descriptivas de los accidentes durante el periodo de estudio. Se observa que para todos los anos los heridos leves son los mas frecuentes. Por otro lado, respecto al promedio de fallecidos en general se mantiene bajo, pero hubo un leve aumento en el 2021 que se mantuvo durante el 2022. Mientras que los heridos graves y menos graves muestran una tendencia al descenso desde 2019. Cabe destacar que del 2019 al 2020 se aprecia una disminucion en todos los tipos de victimas, lo cual se puede atribibuir a las restricciones de movilidad que existieron durnate la pandemia. Se registro un aumento de fallecidos, con una disminucion en heridos leves y menos graves durante 2020 a 2021. Mientras que desde 2021 a 2022 no se observan cmabios significativos.\n",
        "\n",
        "Conclusion: se observa una evolucion positiva en cuanto a la reduccion de heridos, pero al mismo tiempo existe un aumento en la letalidad en los accidentes recientes. Esto destaca la importancia de fortalecer las politicas de seguridad vial, con foco en la prevencion de accidentes fatales."
      ],
      "metadata": {
        "id": "ygY4oa0HGXj5"
      },
      "id": "ygY4oa0HGXj5"
    },
    {
      "cell_type": "markdown",
      "source": [
        "*Grafico de barra horizontal (grafico intermedio, NO FINAL)*"
      ],
      "metadata": {
        "id": "Vv4DbtjxLRLa"
      },
      "id": "Vv4DbtjxLRLa"
    },
    {
      "cell_type": "markdown",
      "source": [
        "Segun Esselman (2021) es mejor usar un vertical chart cuando los datos que se quieren representar son ordinales, es decir en categorias, como es el caso las comunas (grafico a continuacion), type y cause (mas abajo).  https://www.storytellingwithdata.com/blog/2022/1/21/which-bar-orientation-should-i-use"
      ],
      "metadata": {
        "id": "D6Q1fwj-MhWM"
      },
      "id": "D6Q1fwj-MhWM"
    },
    {
      "cell_type": "markdown",
      "source": [
        "COMO MEJORAR O ENCHULAR ESTE GRAFICO??? INTENTE QUE APARECIERA EL NUMERO DE CANTIDAD DE ACCIDENTES EN CADA BARRA PERO NO FUNCIONO"
      ],
      "metadata": {
        "id": "VKvvv2v5hOhr"
      },
      "id": "VKvvv2v5hOhr"
    },
    {
      "cell_type": "code",
      "source": [
        "# A personalised colour palette is created, designed for people with colour blindness, for this purpose, the function sns.color_palette():\n",
        "\n",
        "#palet_colorblind = sns.color_palette('colorblind')\n",
        "\n",
        "# The choice of the palette was based on the documentation ‘Choosing colour palettes’ (https://seaborn.pydata.org/tutorial/color_palettes.html).\n",
        "sns.barplot(df_total, x='Accidents', y='Commune', hue='Type', palette= 'colorblind') # Crea un gráfico de barras con seaborn.\n",
        "                                                              # Se diferencian los tipos de accidentes ('Type') con diferentes colores usando 'hue'.\n",
        "\n",
        "plt.xlabel('Total accidents') # Designa la etiqueta del eje X como \"Total accidents\".\n",
        "plt.ylabel('Commune')  # Designa la etiqueta del eje Y como \"Commune\".\n",
        "plt.title('Accidents by commune', fontsize=14, fontweight='bold') # Asigna un título al gráfico, con tamano 14 y negrita"
      ],
      "metadata": {
        "id": "wcwRFQv-41Fb",
        "outputId": "64beecbe-7e0b-427f-9bf9-0b8dace8bb4b",
        "colab": {
          "base_uri": "https://localhost:8080/",
          "height": 498
        }
      },
      "id": "wcwRFQv-41Fb",
      "execution_count": 109,
      "outputs": [
        {
          "output_type": "execute_result",
          "data": {
            "text/plain": [
              "Text(0.5, 1.0, 'Accidents by commune')"
            ]
          },
          "metadata": {},
          "execution_count": 109
        },
        {
          "output_type": "display_data",
          "data": {
            "text/plain": [
              "<Figure size 640x480 with 1 Axes>"
            ],
            "image/png": "[encoded data removed]"
          },
          "metadata": {}
        }
      ]
    },
    {
      "cell_type": "code",
      "source": [
        "import seaborn as sns\n",
        "import matplotlib.pyplot as plt\n",
        "\n",
        "plt.figure(figsize=(12, 8))\n",
        "sns.set(style=\"whitegrid\")\n",
        "\n",
        "barplot = sns.barplot(data=df_total, x='Accidents', y='Commune', hue='Type', palette='colorblind')\n",
        "\n",
        "# Añadir etiquetas de datos\n",
        "for p in barplot.patches:\n",
        "    if p.get_width() > 0:  # Evita etiquetas en barras invisibles\n",
        "        barplot.annotate(f'{p.get_width():.0f}',\n",
        "                         (p.get_width(), p.get_y() + p.get_height() / 2),\n",
        "                         ha='left', va='center',\n",
        "                         fontsize=10, color='black',\n",
        "                         xytext=(5, 0), textcoords='offset points')\n",
        "\n",
        "plt.xlabel('Total accidents', fontsize=14)\n",
        "plt.ylabel('Commune', fontsize=14)\n",
        "plt.title('Accidents by commune', fontsize=16)\n",
        "plt.legend(title='Type of Accident', title_fontsize=13, fontsize=11)\n",
        "plt.tight_layout()\n",
        "plt.show()\n"
      ],
      "metadata": {
        "id": "zpdLL5PjfegO",
        "outputId": "8be66dec-aec5-4cfc-925a-9755df114bbb",
        "colab": {
          "base_uri": "https://localhost:8080/",
          "height": 801
        }
      },
      "id": "zpdLL5PjfegO",
      "execution_count": 91,
      "outputs": [
        {
          "output_type": "display_data",
          "data": {
            "text/plain": [
              "<Figure size 1200x800 with 1 Axes>"
            ],
            "image/png": "[encoded data removed]"
          },
          "metadata": {}
        }
      ]
    },
    {
      "cell_type": "markdown",
      "source": [
        "En el grafico anterior se peude observar que las comunas que concentran una mayor cantidad de accidentes de tránsito son Antofagasta (capital regional) y Calama, en ambas dominan los accidentes slight (más de 2500 en Antofagasta y más de 1300 en Calama) seguido por los de tipo serious (alredeor de 400 y 200 respectivamente). Por esta razón que se observará con un poco más de detalle como se componen los accidentes en estas dos comunas.\n",
        "\n",
        "\n",
        "\n"
      ],
      "metadata": {
        "id": "bKORMGTa6Dd3"
      },
      "id": "bKORMGTa6Dd3"
    },
    {
      "cell_type": "code",
      "source": [
        "\n",
        "\n",
        "\n",
        "# Crear el gráfico de cajas (boxplot) horizontal\n",
        "g = sns.catplot(\n",
        "    data=df_total,\n",
        "    x=\"Accidents\", y=\"Type\", row=\"Commune\",\n",
        "    kind=\"box\", orient=\"h\",\n",
        "    sharex=False, margin_titles=True,\n",
        "    height=2.0, aspect=4,\n",
        ")\n",
        "\n",
        "\n",
        "# Personalizar etiquetas y títulos\n",
        "g.set(xlabel=\"Total of Accidents\", ylabel=\"\")\n",
        "g.set_titles(row_template=\"{row_name}\")\n",
        "\n",
        "\n",
        "# Mostrar el gráfico\n",
        "plt.tight_layout()\n",
        "plt.show()\n",
        "\n",
        "\n",
        "# Formatear los valores del eje X como enteros\n",
        "#for ax in g.axes.flat:\n",
        "    #ax.xaxis.set_major_formatter('{x:.0f}')"
      ],
      "metadata": {
        "id": "OJ_pDLaeQLoQ",
        "outputId": "23e4b592-444d-4be5-f856-616843656aea",
        "colab": {
          "base_uri": "https://localhost:8080/",
          "height": 1000
        }
      },
      "id": "OJ_pDLaeQLoQ",
      "execution_count": null,
      "outputs": [
        {
          "output_type": "display_data",
          "data": {
            "text/plain": [
              "<Figure size 811.111x1600 with 8 Axes>"
            ],
            "image/png": "[encoded data removed]"
          },
          "metadata": {}
        }
      ]
    },
    {
      "cell_type": "markdown",
      "source": [
        "## Antofagasta"
      ],
      "metadata": {
        "id": "LF81-6CV5Uj7"
      },
      "id": "LF81-6CV5Uj7"
    },
    {
      "cell_type": "code",
      "source": [
        "gdf_anto = gdfs_all[gdfs_all['Commune']== 'Antofagasta']"
      ],
      "metadata": {
        "id": "4MBBTZwu5TgW"
      },
      "id": "4MBBTZwu5TgW",
      "execution_count": 96,
      "outputs": []
    },
    {
      "cell_type": "code",
      "source": [
        "df_total_anto = gdf_anto.groupby('Year')[['Fatalities', 'Serious', 'Less serious', 'Slight']].sum().unstack().reset_index()"
      ],
      "metadata": {
        "id": "sqRo6di95TLx"
      },
      "id": "sqRo6di95TLx",
      "execution_count": 97,
      "outputs": []
    },
    {
      "cell_type": "code",
      "source": [
        "df_total_anto.rename(columns={'level_0': 'Type',\n",
        "                              0: 'Accidents'}, inplace=True)"
      ],
      "metadata": {
        "id": "NOFpVc7a40x3"
      },
      "id": "NOFpVc7a40x3",
      "execution_count": 98,
      "outputs": []
    },
    {
      "cell_type": "code",
      "source": [
        "df_total_anto['Year'] = df_total_anto['Year'].astype(str)"
      ],
      "metadata": {
        "id": "F2AM0Mqi5kFK"
      },
      "id": "F2AM0Mqi5kFK",
      "execution_count": 99,
      "outputs": []
    },
    {
      "cell_type": "code",
      "source": [
        "# El siguiente es un grafico intermedio (solo exploratorio)\n",
        "# The choice of the palette was based on the documentation ‘Choosing colour palettes’ (https://seaborn.pydata.org/tutorial/color_palettes.html).\n",
        "sns.lineplot(df_total_anto, x='Year', y='Accidents', hue='Type', palette= 'colorblind')\n",
        "plt.xlabel('Year')\n",
        "plt.ylabel('Total')\n",
        "plt.title('Accidents Antofagasta')"
      ],
      "metadata": {
        "id": "exAg_GVv5jS4",
        "outputId": "6da31590-e69f-4724-f1d0-1ec66e84b61e",
        "colab": {
          "base_uri": "https://localhost:8080/",
          "height": 497
        }
      },
      "id": "exAg_GVv5jS4",
      "execution_count": 101,
      "outputs": [
        {
          "output_type": "execute_result",
          "data": {
            "text/plain": [
              "Text(0.5, 1.0, 'Accidents Antofagasta')"
            ]
          },
          "metadata": {},
          "execution_count": 101
        },
        {
          "output_type": "display_data",
          "data": {
            "text/plain": [
              "<Figure size 640x480 with 1 Axes>"
            ],
            "image/png": "[encoded data removed]"
          },
          "metadata": {}
        }
      ]
    },
    {
      "cell_type": "code",
      "source": [],
      "metadata": {
        "id": "omY4TerSluMW"
      },
      "id": "omY4TerSluMW",
      "execution_count": 106,
      "outputs": []
    },
    {
      "cell_type": "markdown",
      "source": [
        "JUSTIFICAR CON FUENTES POR QUE ELEGI ESTA REPRESENTACION DE GRAFICOS"
      ],
      "metadata": {
        "id": "wffP3tepwlOT"
      },
      "id": "wffP3tepwlOT"
    },
    {
      "cell_type": "code",
      "source": [
        "gdf_anto['Type']= gdf_anto['Type'].str.capitalize() # esta linea se genero con copilot 'crea un codigo en python para que en una columna el texto aparece con mayusculas, dejar\n",
        "                                                    # solo la primera letra en mayuscula y las demas en minusculas.' 14 de mayo"
      ],
      "metadata": {
        "id": "oLaICgCBzBC7"
      },
      "id": "oLaICgCBzBC7",
      "execution_count": null,
      "outputs": []
    },
    {
      "cell_type": "code",
      "source": [
        "# Fuente: https://stackoverflow.com/questions/25239933/how-to-add-a-title-to-each-subplot\n",
        "\n",
        "fig, axs = plt.subplots(1, 2, figsize=(10, 5), sharey=True)\n",
        "\n",
        "sns.countplot(gdf_anto, y='Type', ax=axs[0])\n",
        "axs[0].title.set_text('Total Accidents')\n",
        "\n",
        "sns.countplot(gdf_anto[gdf_anto['Fatalities'] > 0], y='Type', ax=axs[1])\n",
        "axs[1].title.set_text('Total Fatalities')\n",
        "\n",
        "\n",
        "plt.tight_layout()"
      ],
      "metadata": {
        "id": "7884_3tR5i0w"
      },
      "id": "7884_3tR5i0w",
      "execution_count": null,
      "outputs": []
    },
    {
      "cell_type": "code",
      "source": [
        "gdf_anto['Cause']= gdf_anto['Cause'].str.capitalize()\n",
        "# PERO EN RELAIDAD DEBO CAMBIAR EL NOMBRE DE LAS VARIABLES AL INGLES"
      ],
      "metadata": {
        "id": "75DjDuyX40d2"
      },
      "id": "75DjDuyX40d2",
      "execution_count": null,
      "outputs": []
    },
    {
      "cell_type": "code",
      "source": [
        "sns.countplot(gdf_anto, y='Cause')"
      ],
      "metadata": {
        "id": "bk9t73uaXnQX"
      },
      "id": "bk9t73uaXnQX",
      "execution_count": null,
      "outputs": []
    },
    {
      "cell_type": "code",
      "source": [],
      "metadata": {
        "id": "7PTp3lbnXm3d"
      },
      "id": "7PTp3lbnXm3d",
      "execution_count": null,
      "outputs": []
    },
    {
      "cell_type": "code",
      "source": [],
      "metadata": {
        "id": "d8R7GFt3XmeY"
      },
      "id": "d8R7GFt3XmeY",
      "execution_count": null,
      "outputs": []
    },
    {
      "cell_type": "code",
      "source": [],
      "metadata": {
        "id": "g08hvxiOXmEb"
      },
      "id": "g08hvxiOXmEb",
      "execution_count": null,
      "outputs": []
    },
    {
      "cell_type": "markdown",
      "source": [
        "##Exploratory Data Analysis"
      ],
      "metadata": {
        "id": "jzTOBmgZuKcA"
      },
      "id": "jzTOBmgZuKcA"
    },
    {
      "cell_type": "code",
      "source": [
        "# Summary statistics\n",
        "# gdfs_2019_utm.describe()  # using 'describe()' you get the descriptive statisticsfor all variables: count, mean, std, min, 25%, 50% 75%, max."
      ],
      "metadata": {
        "id": "uIRQgyisunec"
      },
      "id": "uIRQgyisunec",
      "execution_count": null,
      "outputs": []
    },
    {
      "cell_type": "code",
      "source": [
        "# Summary statistics\n",
        "#gdfs_2020_utm.describe()  # using 'describe()' you get the descriptive statisticsfor all variables: count, mean, std, min, 25%, 50% 75%, max."
      ],
      "metadata": {
        "id": "7guSLmJrupZK"
      },
      "id": "7guSLmJrupZK",
      "execution_count": null,
      "outputs": []
    },
    {
      "cell_type": "code",
      "source": [
        "# Summary statistics\n",
        "#gdfs_2021_utm.describe()  # using 'describe()' you get the descriptive statisticsfor all variables: count, mean, std, min, 25%, 50% 75%, max."
      ],
      "metadata": {
        "id": "GbHP-4lguwUB"
      },
      "id": "GbHP-4lguwUB",
      "execution_count": null,
      "outputs": []
    },
    {
      "cell_type": "code",
      "source": [
        "# Summary statistics\n",
        "#gdfs_2022_utm.describe()  # using 'describe()' you get the descriptive statisticsfor all variables: count, mean, std, min, 25%, 50% 75%, max."
      ],
      "metadata": {
        "id": "jpShBIYVuxs6"
      },
      "id": "jpShBIYVuxs6",
      "execution_count": null,
      "outputs": []
    },
    {
      "cell_type": "code",
      "source": [
        "#df_total = gdfs_all.groupby('Commune')[['Fatalities', 'Serious', 'Less serious', 'Slight']].sum().unstack().reset_index()"
      ],
      "metadata": {
        "id": "NuWVKa0ze8Ko"
      },
      "id": "NuWVKa0ze8Ko",
      "execution_count": null,
      "outputs": []
    },
    {
      "cell_type": "code",
      "source": [],
      "metadata": {
        "id": "D_Mq0k5xg4JE"
      },
      "id": "D_Mq0k5xg4JE",
      "execution_count": null,
      "outputs": []
    },
    {
      "cell_type": "code",
      "source": [],
      "metadata": {
        "id": "pyDVuKnihjeB"
      },
      "id": "pyDVuKnihjeB",
      "execution_count": null,
      "outputs": []
    },
    {
      "cell_type": "code",
      "source": [],
      "metadata": {
        "id": "9_AjXGkqg36O"
      },
      "id": "9_AjXGkqg36O",
      "execution_count": null,
      "outputs": []
    },
    {
      "cell_type": "code",
      "source": [],
      "metadata": {
        "id": "A1pPOAiwe74O"
      },
      "id": "A1pPOAiwe74O",
      "execution_count": null,
      "outputs": []
    },
    {
      "cell_type": "markdown",
      "source": [
        "## Analizando los datos se observa que la comuna de Antofagasta (capital regional) es la que concentra la mayor parte de los accidentes (indicar el nummero) , seguida por Calama (numero) y luego Tocopilla (numero)"
      ],
      "metadata": {
        "id": "qIPvx2MZGywU"
      },
      "id": "qIPvx2MZGywU"
    },
    {
      "cell_type": "code",
      "source": [
        "#gdfs_all.groupby(['Commune', 'Year'])['Accidents'].sum().unstack().style.background_gradient()  # INDICAR DE DONDE SAQUÉ EL CODIGO"
      ],
      "metadata": {
        "id": "gzWGGLuDGtmF"
      },
      "id": "gzWGGLuDGtmF",
      "execution_count": null,
      "outputs": []
    },
    {
      "cell_type": "markdown",
      "source": [
        "### Desagregando los accidentes por año, en el 2019 la mayoría se concentraron en la comuna de Puente Alto (812), seguido por Maipú (732). En el 2020, la cantidad de accidentes disminuyó a más de la mitad, siendo la comuna de Santiago la que concentró una mayor cantidad (384), en este año evidentemente la disminución se debe al efecto de la pandemia en la movildiad de las personas. En el año 2021, Santiago vuelve a tener el mayor registro de accidentes (497), seguido por Puente Alto (475). Mientras que en el año 2022, Puente Alto concentró la mayor cifra de accidentes (446), seguido por Providencia (318)."
      ],
      "metadata": {
        "id": "iTY1hJZFHdpd"
      },
      "id": "iTY1hJZFHdpd"
    },
    {
      "cell_type": "markdown",
      "source": [
        "#Antofagasta"
      ],
      "metadata": {
        "id": "zcrezts-h-BH"
      },
      "id": "zcrezts-h-BH"
    },
    {
      "cell_type": "code",
      "source": [
        "gdf_anto = gdfs_all[gdfs_all['Commune']== 'Antofagasta']"
      ],
      "metadata": {
        "id": "b7OSH-mBiDxW"
      },
      "id": "b7OSH-mBiDxW",
      "execution_count": null,
      "outputs": []
    },
    {
      "cell_type": "code",
      "source": [
        "df_total_anto = gdf_anto.groupby('Year')[['Fatalities', 'Serious', 'Less serious', 'Slight']].sum().unstack().reset_index()"
      ],
      "metadata": {
        "id": "qf0OCoXTiDqb"
      },
      "id": "qf0OCoXTiDqb",
      "execution_count": null,
      "outputs": []
    },
    {
      "cell_type": "code",
      "source": [
        "df_total_anto.rename(columns={'level_0': 'Type',\n",
        "                              0: 'Accidents'}, inplace=True)"
      ],
      "metadata": {
        "id": "fNqGV1xsiDix"
      },
      "id": "fNqGV1xsiDix",
      "execution_count": null,
      "outputs": []
    },
    {
      "cell_type": "code",
      "source": [
        "df_total_anto['Year'] = df_total_anto['Year'].astype(str)"
      ],
      "metadata": {
        "id": "5Jm30nLOjWH1"
      },
      "id": "5Jm30nLOjWH1",
      "execution_count": null,
      "outputs": []
    },
    {
      "cell_type": "code",
      "source": [
        "sns.lineplot(df_total_anto, x='Year', y='Accidents', hue='Type')\n",
        "plt.xlabel('Year')\n",
        "plt.ylabel('Total')\n",
        "plt.title('Accidents Antofagasta')"
      ],
      "metadata": {
        "id": "qiUxF26OjWAK"
      },
      "id": "qiUxF26OjWAK",
      "execution_count": null,
      "outputs": []
    },
    {
      "cell_type": "markdown",
      "source": [
        "#Calama"
      ],
      "metadata": {
        "id": "XwY6cr4ckawq"
      },
      "id": "XwY6cr4ckawq"
    },
    {
      "cell_type": "code",
      "source": [
        "gdf_calama = gdfs_all[gdfs_all['Commune']== 'Calama']"
      ],
      "metadata": {
        "id": "S93BieijjV3-"
      },
      "id": "S93BieijjV3-",
      "execution_count": null,
      "outputs": []
    },
    {
      "cell_type": "code",
      "source": [
        "df_total_calama = gdf_calama.groupby('Year')[['Fatalities', 'Serious', 'Less serious', 'Slight']].sum().unstack().reset_index()"
      ],
      "metadata": {
        "id": "R2TBR91Ikeso"
      },
      "id": "R2TBR91Ikeso",
      "execution_count": null,
      "outputs": []
    },
    {
      "cell_type": "code",
      "source": [
        "df_total_calama.rename(columns={'level_0': 'Type',\n",
        "                              0: 'Accidents'}, inplace=True)"
      ],
      "metadata": {
        "id": "JhylVtxpkeYq"
      },
      "id": "JhylVtxpkeYq",
      "execution_count": null,
      "outputs": []
    },
    {
      "cell_type": "code",
      "source": [
        "df_total_calama['Year'] = df_total_calama['Year'].astype(str)"
      ],
      "metadata": {
        "id": "lzumjpduks8S"
      },
      "id": "lzumjpduks8S",
      "execution_count": null,
      "outputs": []
    },
    {
      "cell_type": "code",
      "source": [
        "sns.lineplot(df_total_calama, x='Year', y='Accidents', hue='Type')\n",
        "plt.xlabel('Year')\n",
        "plt.ylabel('Total')\n",
        "plt.title('Accidents Calama')"
      ],
      "metadata": {
        "id": "GS40Yz3qksyW"
      },
      "id": "GS40Yz3qksyW",
      "execution_count": null,
      "outputs": []
    },
    {
      "cell_type": "markdown",
      "source": [
        "Health facilities\n",
        "- Se revisa el geojson con la información de los hospitales del pais.\n"
      ],
      "metadata": {
        "id": "dWlYxoavyPAr"
      },
      "id": "dWlYxoavyPAr"
    },
    {
      "cell_type": "code",
      "source": [
        "health_facilities = gpd.read_file('https://github.com/rociovald/GEOG5990M_Final/raw/refs/heads/main/Data/health_facilities_2024.geojson')"
      ],
      "metadata": {
        "id": "qCtlCz0UyOV_"
      },
      "id": "qCtlCz0UyOV_",
      "execution_count": null,
      "outputs": []
    },
    {
      "cell_type": "code",
      "source": [
        "health_facilities.crs # Se revisa su sistema de cordenadas proyectadas"
      ],
      "metadata": {
        "id": "hOM0Sq_3zaPF"
      },
      "id": "hOM0Sq_3zaPF",
      "execution_count": null,
      "outputs": []
    },
    {
      "cell_type": "code",
      "source": [
        "health_facilities = health_facilities.to_crs(epsg=32719) # Se cambia a UTM 19 sur"
      ],
      "metadata": {
        "id": "lF0RTwPQzaGl"
      },
      "id": "lF0RTwPQzaGl",
      "execution_count": null,
      "outputs": []
    },
    {
      "cell_type": "code",
      "source": [
        "health_facilities.info()"
      ],
      "metadata": {
        "id": "dAqb3w00zZp2"
      },
      "id": "dAqb3w00zZp2",
      "execution_count": null,
      "outputs": []
    },
    {
      "cell_type": "code",
      "source": [
        "# Se renombran los nombres de las columnas que se van a seleccionar\n",
        "renames = {\n",
        "    'TIPO': 'Type',\n",
        "    'NOMBRE': 'Name',\n",
        "    'URGENCIA': 'Urgency',\n",
        "    'REGION': 'Region',\n",
        "    'PROVINCIA': 'Province',\n",
        "    'COMUNA': 'Commune'\n",
        "}"
      ],
      "metadata": {
        "id": "tCaGebcx1VPa"
      },
      "id": "tCaGebcx1VPa",
      "execution_count": null,
      "outputs": []
    },
    {
      "cell_type": "code",
      "source": [
        "health_facilities.rename(columns=renames, inplace=True)"
      ],
      "metadata": {
        "id": "Pml99t07665z"
      },
      "id": "Pml99t07665z",
      "execution_count": null,
      "outputs": []
    },
    {
      "cell_type": "code",
      "source": [
        "# Se verifican los cambios\n",
        "print(health_facilities.columns)"
      ],
      "metadata": {
        "id": "tWQGqHmG7IHm"
      },
      "id": "tWQGqHmG7IHm",
      "execution_count": null,
      "outputs": []
    },
    {
      "cell_type": "code",
      "source": [
        "# Se filtran por la región 'ANTOFAGASTA'\n",
        "health_facilities_anto=health_facilities[(health_facilities['Region']== 'ANTOFAGASTA') & (health_facilities['Urgency'] == 'SI')]"
      ],
      "metadata": {
        "id": "AZNf1fr-_9HD"
      },
      "id": "AZNf1fr-_9HD",
      "execution_count": null,
      "outputs": []
    },
    {
      "cell_type": "code",
      "source": [
        "# Se crea un nuevo DataFrame seleccionando solo las columnas renombradas\n",
        "select = ['Type', 'Name', 'Urgency', 'Region', 'Province', 'Commune', 'geometry']\n"
      ],
      "metadata": {
        "id": "yJKSM0PW7Z2k"
      },
      "id": "yJKSM0PW7Z2k",
      "execution_count": null,
      "outputs": []
    },
    {
      "cell_type": "code",
      "source": [
        "gdf_health_anto = health_facilities_anto[select]\n",
        "gdf_health_anto"
      ],
      "metadata": {
        "id": "UuSclHeZ_iUW"
      },
      "id": "UuSclHeZ_iUW",
      "execution_count": null,
      "outputs": []
    },
    {
      "cell_type": "code",
      "source": [],
      "metadata": {
        "id": "Zv96QbBP8c9X"
      },
      "id": "Zv96QbBP8c9X",
      "execution_count": null,
      "outputs": []
    },
    {
      "cell_type": "code",
      "source": [],
      "metadata": {
        "id": "1Q0sCb8U8cyR"
      },
      "id": "1Q0sCb8U8cyR",
      "execution_count": null,
      "outputs": []
    },
    {
      "cell_type": "markdown",
      "source": [
        "Primero se visualiza la ubicacion de los  centros de salud que atienden urgencias"
      ],
      "metadata": {
        "id": "4RGLssvVBkdV"
      },
      "id": "4RGLssvVBkdV"
    },
    {
      "cell_type": "code",
      "source": [
        "# In order to visualise that the content ‘battlefields_utm’ is correct, i.e. that it includes the number of monuments per battlefield, the following dynamic visualisation is generated.\n",
        "# The following code is based on the geopandas documentation obtained from this website: https://geopandas.org/en/stable/docs/user_guide/interactive_mapping.html\n",
        "\n",
        "gdf_health_anto.explore(column ='Urgency',   # Creates a choropleth map based on the column ‘monuments-count’\n",
        "                         tooltip= ('Name','Commune'),  # Displays the ‘Name’ and ‘monuments_count’ on mouse-over\n",
        "                         popup=True,   # Displays a pop-up window with the tooltip display\n",
        "                         cmap='plasma',  # Uses the plasma colour palette (it is purposely used to represent the smaller values with a darker colour, as most of the polygons concentrate\n",
        "                                         # less than 3 monuments, so that they can be visualised more easily).\n",
        "                         wmin=0,  # This parameter starts the legend with zero\n",
        "                         style_kwds=dict(color='black'))  # with this parameter you define that the colour of the line of each polygon is black."
      ],
      "metadata": {
        "id": "d0gxZjF0Bqz6"
      },
      "id": "d0gxZjF0Bqz6",
      "execution_count": null,
      "outputs": []
    },
    {
      "cell_type": "code",
      "source": [],
      "metadata": {
        "id": "ACUH2m-CBqtC"
      },
      "id": "ACUH2m-CBqtC",
      "execution_count": null,
      "outputs": []
    },
    {
      "cell_type": "code",
      "source": [],
      "metadata": {
        "id": "z5kFaDgfBql6"
      },
      "id": "z5kFaDgfBql6",
      "execution_count": null,
      "outputs": []
    },
    {
      "cell_type": "markdown",
      "source": [
        "Spatial Exploration\n",
        "\n",
        "* Gran parte del codigo (casi completo) fue sacado de Medium: https://medium.com/@jesse.b.nestler/how-to-convert-h3-cell-boundaries-to-shapely-polygons-in-python-f7558add2f63"
      ],
      "metadata": {
        "id": "hQ1xifXQAumW"
      },
      "id": "hQ1xifXQAumW"
    },
    {
      "cell_type": "code",
      "source": [
        "xmin, ymin, xmax, ymax = [352600, 7372800, 360700, 7400700]\n",
        "gdf_anto_subset = gdf_anto.cx[xmin:xmax, ymin:ymax].copy()"
      ],
      "metadata": {
        "id": "i_iMpI7YASRj"
      },
      "id": "i_iMpI7YASRj",
      "execution_count": null,
      "outputs": []
    },
    {
      "cell_type": "code",
      "source": [
        "gdf_anto_subset.explore('Fatalities', cmap='autumn_r')"
      ],
      "metadata": {
        "id": "wNXOCjfNkslI"
      },
      "id": "wNXOCjfNkslI",
      "execution_count": null,
      "outputs": []
    },
    {
      "cell_type": "markdown",
      "source": [
        "H3\n",
        "\n",
        "* Es necesario convertir a coordenadas geograficas para asignar"
      ],
      "metadata": {
        "id": "hFRLbAFXA8SE"
      },
      "id": "hFRLbAFXA8SE"
    },
    {
      "cell_type": "code",
      "source": [
        "gdf_anto_subset = gdf_anto_subset.to_crs(epsg=4326)"
      ],
      "metadata": {
        "id": "loSGvJGfAMqJ"
      },
      "id": "loSGvJGfAMqJ",
      "execution_count": null,
      "outputs": []
    },
    {
      "cell_type": "code",
      "source": [
        "# x =long, y = lat\n",
        "res = 9\n",
        "col = f\"H3_{res}\"\n",
        "gdf_anto_subset[col] = gdf_anto_subset.apply(lambda row: str(h3.latlng_to_cell(row.geometry.y, row.geometry.x, res)), axis=1) # aqui originalmente era \"h3.geo_to_h3\", pero por la version se actualizó a \"h3.latlng_to_cell\", https://github.com/uber/h3-py/issues/100"
      ],
      "metadata": {
        "id": "htN5maK-AMnH"
      },
      "id": "htN5maK-AMnH",
      "execution_count": null,
      "outputs": []
    },
    {
      "cell_type": "code",
      "source": [
        "gdf_anto_subset.sample(3)"
      ],
      "metadata": {
        "id": "syeNiBwSAMiz"
      },
      "id": "syeNiBwSAMiz",
      "execution_count": null,
      "outputs": []
    },
    {
      "cell_type": "code",
      "source": [
        "h3_df = gdf_anto_subset.groupby(col)[['Fatalities', 'Serious', 'Less serious', 'Slight']].sum().reset_index()"
      ],
      "metadata": {
        "id": "G54cyEWhAMfr"
      },
      "id": "G54cyEWhAMfr",
      "execution_count": null,
      "outputs": []
    },
    {
      "cell_type": "code",
      "source": [
        "h3_df['Total'] = h3_df['Fatalities'] + h3_df['Serious'] + h3_df['Less serious'] + h3_df['Slight']\n",
        "h3_df"
      ],
      "metadata": {
        "id": "v0i4AEPGAMcx"
      },
      "id": "v0i4AEPGAMcx",
      "execution_count": null,
      "outputs": []
    },
    {
      "cell_type": "markdown",
      "source": [
        "Convert to Shapely Polygon"
      ],
      "metadata": {
        "id": "pg8aB1FoGEIr"
      },
      "id": "pg8aB1FoGEIr"
    },
    {
      "cell_type": "code",
      "source": [
        "def cell_to_shapely(cell):\n",
        "    coords = h3.cell_to_boundary(cell) # H3 library’s h3_to_geo_boundary function (renamed cell_to_boundary in v4.0.0)\n",
        "    flipped = tuple(coord[::-1] for coord in coords)\n",
        "    return Polygon(flipped)"
      ],
      "metadata": {
        "id": "vrQtpO1hAMZk"
      },
      "id": "vrQtpO1hAMZk",
      "execution_count": null,
      "outputs": []
    },
    {
      "cell_type": "code",
      "source": [
        "h3_geoms = h3_df[col].apply(lambda x: cell_to_shapely(x))\n",
        "h3_gdf = gpd.GeoDataFrame(data=h3_df, geometry=h3_geoms, crs=4326)"
      ],
      "metadata": {
        "id": "o8T3hMB3AMWU"
      },
      "id": "o8T3hMB3AMWU",
      "execution_count": null,
      "outputs": []
    },
    {
      "cell_type": "code",
      "source": [
        "h3_gdf.head()"
      ],
      "metadata": {
        "id": "QAtLoKtRAMSB"
      },
      "id": "QAtLoKtRAMSB",
      "execution_count": null,
      "outputs": []
    },
    {
      "cell_type": "code",
      "source": [],
      "metadata": {
        "id": "FH3gI8zRwc4W"
      },
      "id": "FH3gI8zRwc4W",
      "execution_count": null,
      "outputs": []
    },
    {
      "cell_type": "code",
      "source": [],
      "metadata": {
        "id": "SR4Tvj4Vwch1"
      },
      "id": "SR4Tvj4Vwch1",
      "execution_count": null,
      "outputs": []
    },
    {
      "cell_type": "code",
      "source": [],
      "metadata": {
        "id": "7FYQ48rDwcRd"
      },
      "id": "7FYQ48rDwcRd",
      "execution_count": null,
      "outputs": []
    },
    {
      "cell_type": "markdown",
      "source": [
        "## Visualization\n",
        "- Para la visualización, se vuelven a transformar las coordenadas.\n",
        "- La cartografía busca identificar las zonas con más accidentes, y contrastarlas con los accidentes que registraron muertes.\n",
        "- Se agrega el gdf_dpa de Antofagasta.\n"
      ],
      "metadata": {
        "id": "ZXVX2R11Ka9p"
      },
      "id": "ZXVX2R11Ka9p"
    },
    {
      "cell_type": "code",
      "source": [
        "gdf_dpa = gpd.read_file('https://github.com/rociovald/GEOG5990M_Final/raw/refs/heads/main/Data/2.geojson')"
      ],
      "metadata": {
        "id": "v-XRmiD0cyDr"
      },
      "id": "v-XRmiD0cyDr",
      "execution_count": null,
      "outputs": []
    },
    {
      "cell_type": "code",
      "source": [
        "gdf_dpa = gdf_dpa.to_crs(epsg=32719)"
      ],
      "metadata": {
        "id": "FphUOT3Jd3Dw"
      },
      "id": "FphUOT3Jd3Dw",
      "execution_count": null,
      "outputs": []
    },
    {
      "cell_type": "code",
      "source": [
        "h3_gdf = h3_gdf.to_crs(epsg=32719)\n",
        "gdf_anto_subset = gdf_anto_subset.to_crs(epsg=32719)"
      ],
      "metadata": {
        "id": "hw_M-1YgKZol"
      },
      "id": "hw_M-1YgKZol",
      "execution_count": null,
      "outputs": []
    },
    {
      "cell_type": "code",
      "source": [
        "gdf_anto_subset_fatal = gdf_anto_subset[gdf_anto_subset['Fatalities'] > 0]"
      ],
      "metadata": {
        "id": "xvJENOEzKcHI"
      },
      "id": "xvJENOEzKcHI",
      "execution_count": null,
      "outputs": []
    },
    {
      "cell_type": "code",
      "source": [
        "gdf_anto_subset_fatal.sample()"
      ],
      "metadata": {
        "id": "v7W2Dky3eOBJ"
      },
      "id": "v7W2Dky3eOBJ",
      "execution_count": null,
      "outputs": []
    },
    {
      "cell_type": "code",
      "source": [
        "base = gdf_dpa.plot(color='lightgrey', # The fill colour is chosen\n",
        "                    edgecolor='black', # The colour of the contour line of the regions is chosen\n",
        "                    linewidth=0.5,\n",
        "                    figsize=(10, 15))\n",
        "\n",
        "h3_gdf.plot(ax=base,\n",
        "            column='Total',\n",
        "            cmap='Blues',\n",
        "            legend=True,\n",
        "            legend_kwds={'label': 'Total accidents by area'})\n",
        "\n",
        "gdf_anto_subset_fatal.plot('Commune', # Es necesario agregar una columna para mostrar la legenda\n",
        "                             ax=base,\n",
        "                             marker='.',\n",
        "                             cmap='autumn', # Se asigna un cmap, ya que, al ingresar el parámetro color se pierde la legenda\n",
        "                             legend=True,\n",
        "                             legend_kwds={'labels': ['fatal accidents']}) # se renombra la legenda\n",
        "\n",
        "base.tick_params(axis='both',  # specifies that the changes will be applied to both axis\n",
        "                 which='major',  # indicates that the changes will be applied to the major ticks\n",
        "                 labelsize=8,  # the font size of the mark labels\n",
        "                 colors='grey')\n",
        "\n",
        "base.set_xlim((xmin, xmax))\n",
        "base.set_ylim((ymin, ymax))\n",
        "\n",
        "base.ticklabel_format(style='plain') # eliminates scientific coordinate notation\n",
        "\n",
        "# The following code follows the model of class 6 of this course, in ‘Week_6_Python_as_a_GIS.ipynb’.\n",
        "# add a North arrow (look at the documentation here: https://github.com/pmdscully/geo_northarrow)\n",
        "add_north_arrow(ax=base,\n",
        "                scale=.30, # a value of 0.55 means that the arrow will be reduced to 55% of its original size\n",
        "                xlim_pos=0.1, # it the horizontal position of the north arrow on the chart\n",
        "                ylim_pos=.95, # is the vertical position of the north arrow on the chart\n",
        "                color='#000', # the colour of the arrow is set, #000’ is the hex code for the colour black\n",
        "                text_scaler=2, # doubles the size of the text (=2)\n",
        "                text_yT=-1.45) # is the vertical position of the text\n",
        "\n",
        "# The following line of code was obtained from the following source, modifying the xy parameters for its position: https://medium.com/@alex_44314/use-python-geopandas-to-make-a-us-map-with-alaska-and-hawaii-39a9f5c222c6\n",
        "base.annotate('''\n",
        "Data Source: Office for National Statistics (2023),\n",
        "Heritage List for England (2025).\n",
        "Projection: British National Grid.''',\n",
        "              xy=(0.3, 0.01),  # The xy parameter is manually modified to adjust its position.\n",
        "              xycoords='axes fraction', # Is linked to the xy position\n",
        "              fontsize=8) # The font size is adjusted\n",
        "\n",
        "plt.tight_layout()\n",
        "\n",
        "\n"
      ],
      "metadata": {
        "id": "9CD1gDu5ceGM"
      },
      "id": "9CD1gDu5ceGM",
      "execution_count": null,
      "outputs": []
    },
    {
      "cell_type": "code",
      "source": [
        "#base = h3_gdf.plot('Total', cmap='Blues', figsize=(10, 15))\n",
        "#gdf_anto_subset_fatal.plot(ax=base, marker='.', c='r')\n",
        "#plt.title('Total accidents versus fatalities')"
      ],
      "metadata": {
        "id": "ANpalQQsAMG-"
      },
      "id": "ANpalQQsAMG-",
      "execution_count": null,
      "outputs": []
    },
    {
      "cell_type": "markdown",
      "source": [
        "## Misma cartografía anterior mediante `pd.explore`\n",
        "- Fuente: https://stackoverflow.com/questions/73767559/geopandas-explore-how-to-plot-more-than-one-layer"
      ],
      "metadata": {
        "id": "3FlbK84Fu3Y8"
      },
      "id": "3FlbK84Fu3Y8"
    },
    {
      "cell_type": "code",
      "source": [
        "m = h3_gdf.explore('Total', cmap='Blues', name='Total accidents')\n",
        "m = gdf_anto_subset_fatal.explore(m=m, name='Fatal accidents', color='red')\n",
        "folium.LayerControl().add_to(m)\n",
        "m"
      ],
      "metadata": {
        "id": "lMH4D3tmKX8K"
      },
      "id": "lMH4D3tmKX8K",
      "execution_count": null,
      "outputs": []
    },
    {
      "cell_type": "code",
      "source": [],
      "metadata": {
        "id": "a_AgH7bjKX23"
      },
      "id": "a_AgH7bjKX23",
      "execution_count": null,
      "outputs": []
    },
    {
      "cell_type": "code",
      "source": [],
      "metadata": {
        "id": "CGRbcvKvM9ab"
      },
      "id": "CGRbcvKvM9ab",
      "execution_count": null,
      "outputs": []
    },
    {
      "cell_type": "code",
      "source": [],
      "metadata": {
        "id": "ve2prc4jM9T7"
      },
      "id": "ve2prc4jM9T7",
      "execution_count": null,
      "outputs": []
    },
    {
      "cell_type": "code",
      "source": [],
      "metadata": {
        "id": "WBP14fveM9NN"
      },
      "id": "WBP14fveM9NN",
      "execution_count": null,
      "outputs": []
    },
    {
      "cell_type": "code",
      "source": [],
      "metadata": {
        "id": "1ylPXfOzjVu2"
      },
      "id": "1ylPXfOzjVu2",
      "execution_count": null,
      "outputs": []
    },
    {
      "cell_type": "code",
      "source": [
        "# creación de clusters\n",
        "years = [2019, 2020, 2021, 2022]\n",
        "gdfs_all = [gdfs_all[gdfs_all['Year'] == y] for y in years]\n",
        "gdf_2019, gdf_2020, gdf_2021, gdf_2022 = gdfs_all"
      ],
      "metadata": {
        "id": "Bt-rjuiVFuzx"
      },
      "id": "Bt-rjuiVFuzx",
      "execution_count": null,
      "outputs": []
    },
    {
      "cell_type": "code",
      "source": [],
      "metadata": {
        "id": "z9MaVwKteO0A"
      },
      "id": "z9MaVwKteO0A",
      "execution_count": null,
      "outputs": []
    },
    {
      "cell_type": "code",
      "source": [
        "# Ensure that the indices are unique before concatenating\n",
        "#for gdf in [gdfs_2019_utm, gdfs_2020_utm, gdfs_2021_utm, gdfs_2022_utm]:\n",
        "    #gdf.reset_index(drop=True, inplace=True)"
      ],
      "metadata": {
        "id": "vRpv78H-LYnL"
      },
      "id": "vRpv78H-LYnL",
      "execution_count": null,
      "outputs": []
    },
    {
      "cell_type": "code",
      "source": [
        "# Concatenate the GeoDataFrames into a single GeoDataFrame\n",
        "#gdf_combined = gpd.GeoDataFrame(pd.concat([gdfs_2019_utm, gdfs_2020_utm, gdfs_2021_utm, gdfs_2022_utm], ignore_index=True))\n",
        "\n",
        "# Print the resulting GeoDataFrame\n",
        "#print(gdf_combined)"
      ],
      "metadata": {
        "id": "ujiE6S4aLyfv"
      },
      "execution_count": null,
      "outputs": [],
      "id": "ujiE6S4aLyfv"
    },
    {
      "cell_type": "code",
      "source": [
        "# Verificar y renombrar columnas, seleccionar columnas específicas para cada GeoDataFrame\n",
        "#gdfs_renamed = []\n",
        "#for gdf in gdfs:\n",
        "    # Verificar si las columnas a renombrar existen en el GeoDataFrame\n",
        "    #missing_columns = [col for col in renames.keys() if col not in gdf.columns]\n",
        "    #if missing_columns:\n",
        "        #print(f\"Columnas faltantes en el GeoDataFrame: {missing_columns}\")\n",
        "    #else:\n",
        "        #gdf_renamed = gdf.rename(columns=renames)\n",
        "        # Verificar si las columnas seleccionadas existen después de renombrar\n",
        "        #missing_select_columns = [col for col in select if col not in gdf_renamed.columns]\n",
        "        #if missing_select_columns:\n",
        "            #print(f\"Columnas seleccionadas faltantes después de renombrar: {missing_select_columns}\")\n",
        "        #else:\n",
        "            #gdfs_renamed.append(gdf_renamed[select])\n"
      ],
      "metadata": {
        "id": "iDKo50ignfwi"
      },
      "id": "iDKo50ignfwi",
      "execution_count": null,
      "outputs": []
    },
    {
      "cell_type": "code",
      "source": [
        "# Asegurarse de que los índices sean únicos antes de concatenar\n",
        "#for gdf in gdfs_renamed:\n",
        "    #gdf.reset_index(drop=True, inplace=True)\n"
      ],
      "metadata": {
        "id": "8G0VVG8Yn0Ds"
      },
      "id": "8G0VVG8Yn0Ds",
      "execution_count": null,
      "outputs": []
    },
    {
      "cell_type": "code",
      "source": [
        "#gdfs_2022_utm.dtypes"
      ],
      "metadata": {
        "id": "wyp6pJRuqEUF"
      },
      "id": "wyp6pJRuqEUF",
      "execution_count": null,
      "outputs": []
    },
    {
      "cell_type": "code",
      "source": [
        "#gdfs_2019_utm.sample()"
      ],
      "metadata": {
        "id": "b5tFS5wOqKpD"
      },
      "id": "b5tFS5wOqKpD",
      "execution_count": null,
      "outputs": []
    },
    {
      "cell_type": "code",
      "source": [
        "#gdfs_2019_utm.info()"
      ],
      "metadata": {
        "id": "5a-qnOY4s55F"
      },
      "id": "5a-qnOY4s55F",
      "execution_count": null,
      "outputs": []
    },
    {
      "cell_type": "code",
      "source": [
        "# Concatenar los GeoDataFrames en un solo GeoDataFrame\n",
        "#gdf = gpd.GeoDataFrame(pd.concat(gdfs_renamed, ignore_index=True))"
      ],
      "metadata": {
        "id": "tBJVSeVtvuqq"
      },
      "id": "tBJVSeVtvuqq",
      "execution_count": null,
      "outputs": []
    },
    {
      "cell_type": "code",
      "source": [],
      "metadata": {
        "id": "yB6u_2b6vTXk"
      },
      "id": "yB6u_2b6vTXk",
      "execution_count": null,
      "outputs": []
    },
    {
      "cell_type": "markdown",
      "source": [
        "## De aquí para abajo es el codigo de la clase 41 del diplomado (quiero replicar este análisis con los datos de Antofagasta)"
      ],
      "metadata": {
        "id": "uzN954-wMYoC"
      },
      "id": "uzN954-wMYoC"
    },
    {
      "cell_type": "code",
      "execution_count": null,
      "id": "bab3c8c4",
      "metadata": {
        "id": "bab3c8c4"
      },
      "outputs": [],
      "source": [
        "gdf.sample(12)"
      ]
    },
    {
      "cell_type": "code",
      "execution_count": null,
      "id": "6c1638e6",
      "metadata": {
        "id": "6c1638e6"
      },
      "outputs": [],
      "source": [
        "#Identificar las comunas\n",
        "comunas = np.sort(gdf['Comuna'].unique())\n",
        "comunas"
      ]
    },
    {
      "cell_type": "code",
      "execution_count": null,
      "id": "02c4af80",
      "metadata": {
        "id": "02c4af80"
      },
      "outputs": [],
      "source": [
        "# cambio de nombre columnas\n",
        "df.replace({'PEÃ‘ALOLEN': 'PEÑALOLEN',\n",
        "             'PENALOLEN': 'PEÑALOLEN',\n",
        "             'PENAFLOR': 'PEÑAFLOR',\n",
        "             'QUINTA NORMA': 'QUINTA NORMAL',\n",
        "             'Ã‘UÃ‘OA': 'ÑUÑOA'}, inplace=True)"
      ]
    },
    {
      "cell_type": "code",
      "execution_count": null,
      "id": "16b2fb39",
      "metadata": {
        "id": "16b2fb39"
      },
      "outputs": [],
      "source": [
        "# Calcular accidentes por año\n",
        "accidentes_por_año = gdf.groupby('Año')['Accidentes'].sum().reset_index()\n",
        "\n",
        "# Gráfico con la cantidad de accidentes en los años 2019, 2020, 2021 y 2022\n",
        "plt.figure(figsize=(10, 5))  # Ajustar el tamaño del gráfico si es necesario\n",
        "sns.lineplot(x='Año', y='Accidentes', data=accidentes_por_año, marker='o')\n",
        "plt.xlabel('Año')\n",
        "plt.ylabel('Número de Accidentes')\n",
        "plt.title('Accidentes por Año')\n",
        "plt.show()"
      ]
    },
    {
      "cell_type": "code",
      "execution_count": null,
      "id": "97f928e3",
      "metadata": {
        "id": "97f928e3"
      },
      "outputs": [],
      "source": [
        "gdf.groupby('Año')[['Fallecidos', 'Graves', 'Menos_Grav', 'Leves']].sum()"
      ]
    },
    {
      "cell_type": "code",
      "execution_count": null,
      "id": "b8632e8d",
      "metadata": {
        "id": "b8632e8d"
      },
      "outputs": [],
      "source": [
        "acc_comunas = gdf.groupby('Comuna')['Accidentes'].sum()\n",
        "acc_comunas"
      ]
    },
    {
      "cell_type": "code",
      "execution_count": null,
      "id": "52523273",
      "metadata": {
        "scrolled": true,
        "id": "52523273"
      },
      "outputs": [],
      "source": [
        "# se crea un gráfico con las comunas y la cantidad de accidentes\n",
        "plt.figure(figsize=(20, 10))\n",
        "sns.barplot(x=acc_comunas.sort_values().values, y=acc_comunas.sort_values().index, orient='h')\n",
        "plt.xlabel('Número de Accidentes')\n",
        "plt.ylabel('Comuna')\n",
        "plt.title('Accidentes por Comuna')\n",
        "plt.show()"
      ]
    },
    {
      "cell_type": "markdown",
      "id": "c912fdc2",
      "metadata": {
        "id": "c912fdc2"
      },
      "source": [
        "### Analizando la totalidad de los datos, las comunas de Punete Alto, Santiago y Providencia son las que registran la mayor cantidad de accidentes."
      ]
    },
    {
      "cell_type": "code",
      "execution_count": null,
      "id": "56a96f4d",
      "metadata": {
        "scrolled": true,
        "id": "56a96f4d"
      },
      "outputs": [],
      "source": [
        "gdf.groupby(['Comuna', 'Año'])['Accidentes'].sum().unstack().style.background_gradient()"
      ]
    },
    {
      "cell_type": "markdown",
      "id": "45199877",
      "metadata": {
        "id": "45199877"
      },
      "source": [
        "### Desagregando los accidentes por año, en el 2019 la mayoría se concentraron en la comuna de Puente Alto (812), seguido por Maipú (732). En el 2020, la cantidad de accidentes disminuyó a más de la mitad, siendo la comuna de Santiago la que concentró una mayor cantidad (384), en este año evidentemente la disminución se debe al efecto de la pandemia en la movildiad de las personas. En el año 2021, Santiago vuelve a tener el mayor registro de accidentes (497), seguido por Puente Alto (475). Mientras que en el año 2022, Puente Alto concentró la mayor cifra de accidentes (446), seguido por Providencia (318)."
      ]
    },
    {
      "cell_type": "code",
      "execution_count": null,
      "id": "da4c3350",
      "metadata": {
        "id": "da4c3350"
      },
      "outputs": [],
      "source": [
        "# creación de clusters\n",
        "years = [2019, 2020, 2021, 2022]\n",
        "gdfs = [gdf[gdf['Año'] == y] for y in years]\n",
        "gdf_2019, gdf_2020, gdf_2021, gdf_2022 = gdfs"
      ]
    },
    {
      "cell_type": "code",
      "execution_count": null,
      "id": "ac0b5974",
      "metadata": {
        "id": "ac0b5974"
      },
      "outputs": [],
      "source": [
        "# Se aplica el método del codo para definir el número óptimo de clusters para cada año. Para los cuatro años\n",
        "# el número de clusters es 4.\n",
        "\n",
        "fig, axs = plt.subplots(2, 2, figsize=(10, 10))\n",
        "axs = axs.flatten()\n",
        "for i, gdf in enumerate(gdfs):\n",
        "    x = gdf.get_coordinates()\n",
        "\n",
        "    range_n_clusters = range(1, 15)\n",
        "    inertias = []\n",
        "\n",
        "    for n_clusters in range_n_clusters:\n",
        "        modelo_kmeans = KMeans(\n",
        "                            n_clusters   = n_clusters,\n",
        "                            n_init       = 20,\n",
        "                            random_state = 123\n",
        "                        )\n",
        "        modelo_kmeans.fit(x)\n",
        "        inertias.append(modelo_kmeans.inertia_)\n",
        "\n",
        "    axs[i].plot(range_n_clusters, inertias, marker='o')\n",
        "    axs[i].set_title(years[i])\n",
        "    axs[i].set_xlabel('Número clusters')\n",
        "    axs[i].set_ylabel('Score')\n",
        "    axs[i].axvline(4, color='k', ls=\"dotted\");\n"
      ]
    },
    {
      "cell_type": "code",
      "execution_count": null,
      "id": "a3b136ab",
      "metadata": {
        "id": "a3b136ab"
      },
      "outputs": [],
      "source": [
        "# Se calcula el modelo K-means, integrando lo obtenido al aplicar el método del codo (4 clusters)\n",
        "clusters = []\n",
        "for i, gdf in enumerate(gdfs):\n",
        "    x = gdf.get_coordinates()\n",
        "\n",
        "    modelo = KMeans(n_clusters=4)\n",
        "    y_kmeans = modelo.fit_predict(x)\n",
        "\n",
        "    clusters.append(y_kmeans)\n",
        "    print(len(y_kmeans))"
      ]
    },
    {
      "cell_type": "markdown",
      "source": [
        "## References\n",
        "<p><a href=\"https://mapas-conaset.opendata.arcgis.com/datasets/50c493754b5d434c8a1c44b96a6e6e44_0/explore?location=-23.708570%2C-69.342709%2C7.95\">[1]</a>Comision Nacional de Seguridad de Transito [CONASET]. 2021. Siniestros de tránsito, región de Antofagasta, Chile, 2019. [Online]. [Accessed 5 May 2025].</p>\n",
        "<p><a href=\"https://github.com/FrancescaPontin/GEOG5990\">[2]</a>GEOG5990M course materials</p>\n",
        "<p><a href=\"add_url_here\">[3]</a>Citation 3</p>"
      ],
      "metadata": {
        "id": "O_aLyoSCf50l"
      },
      "id": "O_aLyoSCf50l"
    }
  ],
  "metadata": {
    "kernelspec": {
      "display_name": "Python 3 (ipykernel)",
      "language": "python",
      "name": "python3"
    },
    "language_info": {
      "codemirror_mode": {
        "name": "ipython",
        "version": 3
      },
      "file_extension": ".py",
      "mimetype": "text/x-python",
      "name": "python",
      "nbconvert_exporter": "python",
      "pygments_lexer": "ipython3",
      "version": "3.11.0"
    },
    "colab": {
      "provenance": [],
      "include_colab_link": true
    }
  },
  "nbformat": 4,
  "nbformat_minor": 5
}